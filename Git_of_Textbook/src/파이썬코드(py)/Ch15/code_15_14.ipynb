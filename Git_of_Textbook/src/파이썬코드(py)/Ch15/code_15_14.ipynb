{
  "nbformat": 4,
  "nbformat_minor": 0,
  "metadata": {
    "colab": {
      "name": "Untitled1.ipynb",
      "provenance": [],
      "collapsed_sections": []
    },
    "kernelspec": {
      "name": "python3",
      "display_name": "Python 3"
    }
  },
  "cells": [
    {
      "cell_type": "markdown",
      "metadata": {
        "id": "gKd983NKamf-"
      },
      "source": [
        "# 따라하며 배우는 파이썬과 데이터과학(생능출판사 2020)\r\n",
        "## 15.14 이미지를 모델에 입력으로 제공해 인식을 시도하자, 415쪽\r\n"
      ]
    },
    {
      "cell_type": "markdown",
      "metadata": {
        "id": "gXzqgZTczI4A"
      },
      "source": [
        "tensorflow와 tf.keras를 임포트를 하고 학습을 마쳤으면 아래의 코드를 작성할 필요는 없다."
      ]
    },
    {
      "cell_type": "code",
      "metadata": {
        "id": "SriFGPkCyHqa"
      },
      "source": [
        "import tensorflow as tf\r\n",
        "from tensorflow import keras\r\n",
        "import numpy as np\r\n",
        "import matplotlib.pyplot as plt\r\n",
        "# 패션 MNIST 데이터는 keras의 데이터셋에 있는데 이를 읽어와서 학습용, 테스트 데이터로 구분\r\n",
        "fashion_mnist = keras.datasets.fashion_mnist\r\n",
        "(train_images, train_labels), (test_images, test_labels) = fashion_mnist.load_data()"
      ],
      "execution_count": null,
      "outputs": []
    },
    {
      "cell_type": "code",
      "metadata": {
        "id": "hMlIBA21yNNA"
      },
      "source": [
        "model = keras.Sequential([\r\n",
        " keras.layers.Flatten(input_shape=(28, 28)),\r\n",
        " keras.layers.Dense(128, activation='relu'),\r\n",
        " keras.layers.Dense(10, activation='softmax')\r\n",
        "])"
      ],
      "execution_count": 12,
      "outputs": []
    },
    {
      "cell_type": "code",
      "metadata": {
        "id": "6SAq7Y4LyZNR"
      },
      "source": [
        "model.compile(optimizer='adam',\r\n",
        " loss='sparse_categorical_crossentropy',\r\n",
        " metrics=['accuracy'])"
      ],
      "execution_count": 17,
      "outputs": []
    },
    {
      "cell_type": "code",
      "metadata": {
        "id": "d9N2QL3Hybmw"
      },
      "source": [
        "model.fit(train_images, train_labels, epochs=5)"
      ],
      "execution_count": null,
      "outputs": []
    },
    {
      "cell_type": "code",
      "metadata": {
        "id": "EDUWASUUwUUc"
      },
      "source": [
        "from google.colab import drive\r\n",
        "drive.mount('/content/drive')"
      ],
      "execution_count": null,
      "outputs": []
    },
    {
      "cell_type": "code",
      "metadata": {
        "id": "6Iibwn-LwslX"
      },
      "source": [
        "import cv2\r\n",
        "img = cv2.imread('./drive/My Drive/myData.png', cv2.IMREAD_GRAYSCALE)\r\n",
        "img = cv2.resize(img, (28, 28) )"
      ],
      "execution_count": null,
      "outputs": []
    },
    {
      "cell_type": "markdown",
      "metadata": {
        "id": "XN5suBHYzZab"
      },
      "source": [
        "아래부터 교재의 코드"
      ]
    },
    {
      "cell_type": "code",
      "metadata": {
        "id": "XJJoFws3xGrP"
      },
      "source": [
        "import numpy as np\r\n",
        "input_data = img[np.newaxis, :, :]\r\n",
        "input_data.shape"
      ],
      "execution_count": null,
      "outputs": []
    },
    {
      "cell_type": "code",
      "metadata": {
        "id": "VBK5ANMhxRG4"
      },
      "source": [
        "class_names = ['T-shirt/top', 'Trouser', 'Pullover', 'Dress', 'Coat',\r\n",
        " 'Sandal', 'Shirt', 'Sneaker', 'Bag', 'Ankle boot']\r\n",
        "yhat = np.argmax( model.predict( input_data ) )\r\n",
        "print(class_names[yhat])"
      ],
      "execution_count": null,
      "outputs": []
    },
    {
      "cell_type": "code",
      "metadata": {
        "id": "UaFsitRNy6la"
      },
      "source": [
        "input_mirror = input_data[:, :, ::-1]\r\n",
        "plt.imshow(input_mirror[0])"
      ],
      "execution_count": null,
      "outputs": []
    },
    {
      "cell_type": "code",
      "metadata": {
        "id": "aHOpQY0Iy9Tw"
      },
      "source": [
        "class_names = ['T-shirt/top', 'Trouser', 'Pullover', 'Dress', 'Coat',\r\n",
        " 'Sandal', 'Shirt', 'Sneaker', 'Bag', 'Ankle boot']\r\n",
        "yhat = np.argmax( model.predict( input_mirror ) )\r\n",
        "print(class_names[yhat])"
      ],
      "execution_count": null,
      "outputs": []
    }
  ]
}