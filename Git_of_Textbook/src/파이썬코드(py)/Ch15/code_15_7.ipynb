{
  "nbformat": 4,
  "nbformat_minor": 0,
  "metadata": {
    "colab": {
      "name": "Untitled1.ipynb",
      "provenance": [],
      "collapsed_sections": []
    },
    "kernelspec": {
      "name": "python3",
      "display_name": "Python 3"
    }
  },
  "cells": [
    {
      "cell_type": "markdown",
      "metadata": {
        "id": "gKd983NKamf-"
      },
      "source": [
        "# 따라하며 배우는 파이썬과 데이터과학(생능출판사 2020)\r\n",
        "## 15.7 딥러닝? 인공 신경망을 구축해 보자, 408쪽\r\n"
      ]
    },
    {
      "cell_type": "code",
      "metadata": {
        "id": "OTMbXYrK7mfH"
      },
      "source": [
        "# tensorflow와 tf.keras를 임포트\r\n",
        "import tensorflow as tf\r\n",
        "from tensorflow import keras\r\n",
        "import numpy as np\r\n",
        "import matplotlib.pyplot as plt\r\n",
        "# 패션 MNIST 데이터는 keras의 데이터셋에 있는데 이를 읽어와서 학습용, 테스트 데이터로 구분\r\n",
        "fashion_mnist = keras.datasets.fashion_mnist\r\n",
        "(train_images, train_labels), (test_images, test_labels) = fashion_mnist.load_data()"
      ],
      "execution_count": null,
      "outputs": []
    },
    {
      "cell_type": "code",
      "metadata": {
        "id": "RouxGtaLaUP_"
      },
      "source": [
        "model = keras.Sequential([\r\n",
        " keras.layers.Flatten(input_shape=(28, 28)),\r\n",
        " keras.layers.Dense(128, activation='relu'),\r\n",
        " keras.layers.Dense(10, activation='softmax')\r\n",
        "])"
      ],
      "execution_count": 24,
      "outputs": []
    }
  ]
}