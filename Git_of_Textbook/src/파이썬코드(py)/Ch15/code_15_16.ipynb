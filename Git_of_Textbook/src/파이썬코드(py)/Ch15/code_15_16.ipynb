{
  "nbformat": 4,
  "nbformat_minor": 0,
  "metadata": {
    "colab": {
      "name": "Untitled1.ipynb",
      "provenance": [],
      "collapsed_sections": []
    },
    "kernelspec": {
      "name": "python3",
      "display_name": "Python 3"
    }
  },
  "cells": [
    {
      "cell_type": "markdown",
      "metadata": {
        "id": "gKd983NKamf-"
      },
      "source": [
        "# 따라하며 배우는 파이썬과 데이터과학(생능출판사 2020)\r\n",
        "## 15.16 인공지능? 딥러닝이라는 것은 무엇인가, 417쪽\r\n"
      ]
    },
    {
      "cell_type": "code",
      "metadata": {
        "id": "SriFGPkCyHqa"
      },
      "source": [
        "import tensorflow as tf\r\n",
        "from tensorflow import keras\r\n",
        "import numpy as np\r\n",
        "import matplotlib.pyplot as plt\r\n",
        "# 패션 MNIST 데이터는 keras의 데이터셋에 있는데 이를 읽어와서 학습용, 테스트 데이터로 구분\r\n",
        "fashion_mnist = keras.datasets.fashion_mnist\r\n",
        "(train_images, train_labels), (test_images, test_labels) = fashion_mnist.load_data()"
      ],
      "execution_count": null,
      "outputs": []
    },
    {
      "cell_type": "code",
      "metadata": {
        "id": "uk1-Prco0A_a"
      },
      "source": [
        "model2 = keras.Sequential([\r\n",
        " keras.layers.Flatten(input_shape=(28, 28)),\r\n",
        " keras.layers.Dense(128, activation='relu'),\r\n",
        " keras.layers.Dense(64, activation='relu'),\r\n",
        " keras.layers.Dense(32, activation='relu'),\r\n",
        " keras.layers.Dense(10, activation='softmax')\r\n",
        "])\r\n",
        "model2.compile(optimizer='adam',\r\n",
        " loss='sparse_categorical_crossentropy',\r\n",
        " metrics=['accuracy'])\r\n",
        "model2.fit(train_images, train_labels, epochs = 5)"
      ],
      "execution_count": null,
      "outputs": []
    }
  ]
}