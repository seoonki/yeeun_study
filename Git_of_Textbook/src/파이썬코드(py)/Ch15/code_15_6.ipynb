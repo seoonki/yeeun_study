{
  "nbformat": 4,
  "nbformat_minor": 0,
  "metadata": {
    "colab": {
      "name": "Untitled1.ipynb",
      "provenance": [],
      "collapsed_sections": []
    },
    "kernelspec": {
      "name": "python3",
      "display_name": "Python 3"
    }
  },
  "cells": [
    {
      "cell_type": "markdown",
      "metadata": {
        "id": "gKd983NKamf-"
      },
      "source": [
        "# 따라하며 배우는 파이썬과 데이터과학(생능출판사 2020)\r\n",
        "## 15.6 패션 MNIST는 레이블이 있는 이미지 데이터이다, 407쪽\r\n"
      ]
    },
    {
      "cell_type": "code",
      "metadata": {
        "id": "OTMbXYrK7mfH"
      },
      "source": [
        "# tensorflow와 tf.keras를 임포트\r\n",
        "import tensorflow as tf\r\n",
        "from tensorflow import keras\r\n",
        "import numpy as np\r\n",
        "import matplotlib.pyplot as plt\r\n",
        "# 패션 MNIST 데이터는 keras의 데이터셋에 있는데 이를 읽어와서 학습용, 테스트 데이터로 구분\r\n",
        "fashion_mnist = keras.datasets.fashion_mnist\r\n",
        "(train_images, train_labels), (test_images, test_labels) = fashion_mnist.load_data()"
      ],
      "execution_count": null,
      "outputs": []
    },
    {
      "cell_type": "code",
      "metadata": {
        "id": "RouxGtaLaUP_"
      },
      "source": [
        "fig = plt.figure()\r\n",
        "ax1 = fig.add_subplot(1, 3, 1)\r\n",
        "ax2 = fig.add_subplot(1, 3, 2)\r\n",
        "ax3 = fig.add_subplot(1, 3, 3)\r\n",
        "\r\n",
        "ax1.imshow(train_images[0])       # 첫 번째 훈련용 데이터\r\n",
        "ax2.imshow(train_images[1])       # 두 번째 훈련용 데이터\r\n",
        "ax3.imshow(train_images[2])       # 세 번째 훈련용 데이터\r\n",
        "plt.show()"
      ],
      "execution_count": null,
      "outputs": []
    },
    {
      "cell_type": "code",
      "metadata": {
        "id": "5x02JYBtbjp3"
      },
      "source": [
        "print(train_labels[:3])     # 첫 세 개의 레이블을 출력해 본다"
      ],
      "execution_count": null,
      "outputs": []
    }
  ]
}