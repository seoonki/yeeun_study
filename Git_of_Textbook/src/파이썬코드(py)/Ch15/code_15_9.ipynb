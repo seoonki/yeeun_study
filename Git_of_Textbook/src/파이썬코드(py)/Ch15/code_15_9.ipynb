{
  "nbformat": 4,
  "nbformat_minor": 0,
  "metadata": {
    "colab": {
      "name": "Untitled1.ipynb",
      "provenance": [],
      "collapsed_sections": []
    },
    "kernelspec": {
      "name": "python3",
      "display_name": "Python 3"
    }
  },
  "cells": [
    {
      "cell_type": "markdown",
      "metadata": {
        "id": "gKd983NKamf-"
      },
      "source": [
        "# 따라하며 배우는 파이썬과 데이터과학(생능출판사 2020)\r\n",
        "## 15.9 학습된 신경망을 새 이미지에 적용해 보자, 410쪽\r\n"
      ]
    },
    {
      "cell_type": "code",
      "metadata": {
        "id": "OTMbXYrK7mfH"
      },
      "source": [
        "# tensorflow와 tf.keras를 임포트\r\n",
        "import tensorflow as tf\r\n",
        "from tensorflow import keras\r\n",
        "import numpy as np\r\n",
        "import matplotlib.pyplot as plt\r\n",
        "# 패션 MNIST 데이터는 keras의 데이터셋에 있는데 이를 읽어와서 학습용, 테스트 데이터로 구분\r\n",
        "fashion_mnist = keras.datasets.fashion_mnist\r\n",
        "(train_images, train_labels), (test_images, test_labels) = fashion_mnist.load_data()"
      ],
      "execution_count": null,
      "outputs": []
    },
    {
      "cell_type": "code",
      "metadata": {
        "id": "yNhYVzUcccxw"
      },
      "source": [
        "test_images.shape"
      ],
      "execution_count": 3,
      "outputs": []
    },
    {
      "cell_type": "code",
      "metadata": {
        "id": "RouxGtaLaUP_"
      },
      "source": [
        "import numpy as np\r\n",
        "randIdx = np.random.randint(0, 1000)\r\n",
        "plt.imshow(test_images[randIdx])"
      ],
      "execution_count": null,
      "outputs": []
    },
    {
      "cell_type": "code",
      "metadata": {
        "id": "yJCwpqG6chIA"
      },
      "source": [
        "yhat = model.predict(test_images[randIdx])"
      ],
      "execution_count": null,
      "outputs": []
    },
    {
      "cell_type": "code",
      "metadata": {
        "id": "1sxuZuk9c9qI"
      },
      "source": [
        "yhat = model.predict( test_images[randIdx][np.newaxis, :, :])\r\n",
        "yhat"
      ],
      "execution_count": null,
      "outputs": []
    }
  ]
}