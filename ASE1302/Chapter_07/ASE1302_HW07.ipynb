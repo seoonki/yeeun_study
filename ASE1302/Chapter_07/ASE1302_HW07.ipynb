{
  "nbformat": 4,
  "nbformat_minor": 0,
  "metadata": {
    "colab": {
      "name": "ASE1302_HW07.ipynb",
      "provenance": []
    },
    "kernelspec": {
      "name": "python3",
      "display_name": "Python 3"
    },
    "language_info": {
      "name": "python"
    }
  },
  "cells": [
    {
      "cell_type": "markdown",
      "metadata": {
        "id": "59dEBDMCzdhA"
      },
      "source": [
        "# ASE1302 - Assignment \\#07"
      ]
    },
    {
      "cell_type": "markdown",
      "metadata": {
        "id": "wfe0BM9_ze1W"
      },
      "source": [
        "__<div style=\"text-align: right\"> ASE1302: Computer programming, Inha University. </div>__\n",
        "_<div style=\"text-align: right\"> Jong-Han Kim (jonghank@inha.ac.kr) </div>_\n",
        "_<div style=\"text-align: right\"> Gyubin Park (gyubin@inha.edu) </div>_\n"
      ]
    },
    {
      "cell_type": "markdown",
      "metadata": {
        "id": "NuUEthxbzrj-"
      },
      "source": [
        "<br>\n",
        "\n",
        "---\n",
        "**7.1 다음과 같이 파이썬 프로그램을 실행할 때, 각 결과를 예측한 후 실행하여 예측한 답이 맞는지 확인하시오.**"
      ]
    },
    {
      "cell_type": "code",
      "metadata": {
        "id": "hX0xS3e7ddRO"
      },
      "source": [
        "num_list = [100, 200, 300, 400, 500, 600, 700, 800]\n",
        "high = 3\n",
        "low = 3"
      ],
      "execution_count": null,
      "outputs": []
    },
    {
      "cell_type": "code",
      "metadata": {
        "id": "ej72VN2uzsZK"
      },
      "source": [
        "# 7.1.1\n",
        "num_list[high]"
      ],
      "execution_count": null,
      "outputs": []
    },
    {
      "cell_type": "code",
      "metadata": {
        "id": "ti_7VzPYelnR"
      },
      "source": [
        "# 7.1.2\n",
        "num_list[high - 2]"
      ],
      "execution_count": null,
      "outputs": []
    },
    {
      "cell_type": "code",
      "metadata": {
        "id": "iUGXlS8AenEJ"
      },
      "source": [
        "# 7.1.3\n",
        "num_list[high - low]"
      ],
      "execution_count": null,
      "outputs": []
    },
    {
      "cell_type": "code",
      "metadata": {
        "id": "dAR-IWbaeoFO"
      },
      "source": [
        "# 7.1.4\n",
        "num_list[low - high]"
      ],
      "execution_count": null,
      "outputs": []
    },
    {
      "cell_type": "code",
      "metadata": {
        "id": "80FFYvU8ex3r"
      },
      "source": [
        "# 7.1.5\n",
        "num_list[-1]"
      ],
      "execution_count": null,
      "outputs": []
    },
    {
      "cell_type": "code",
      "metadata": {
        "id": "jCt5EsrSe0ri"
      },
      "source": [
        "# 7.1.6\n",
        "num_list[-low]"
      ],
      "execution_count": null,
      "outputs": []
    },
    {
      "cell_type": "code",
      "metadata": {
        "id": "iGYCU4bne_PR"
      },
      "source": [
        "# 7.1.7\n",
        "num_list[2 * 3]"
      ],
      "execution_count": null,
      "outputs": []
    },
    {
      "cell_type": "code",
      "metadata": {
        "id": "psj60Y1mfCAE"
      },
      "source": [
        "# 7.1.8\n",
        "num_list[2] * 3"
      ],
      "execution_count": null,
      "outputs": []
    },
    {
      "cell_type": "code",
      "metadata": {
        "id": "hgyC_IeyfEHD"
      },
      "source": [
        "# 7.1.9\n",
        "num_list[5 % 4]"
      ],
      "execution_count": null,
      "outputs": []
    },
    {
      "cell_type": "code",
      "metadata": {
        "id": "JE8_H8ThfGbA"
      },
      "source": [
        "# 7.1.10\n",
        "len(num_list)"
      ],
      "execution_count": null,
      "outputs": []
    },
    {
      "cell_type": "code",
      "metadata": {
        "id": "V_dcCQcwfItv"
      },
      "source": [
        "# 7.1.11\n",
        "min(num_list)"
      ],
      "execution_count": null,
      "outputs": []
    },
    {
      "cell_type": "code",
      "metadata": {
        "id": "SHIBmCTffK_D"
      },
      "source": [
        "# 7.1.12\n",
        "max(num_list)"
      ],
      "execution_count": null,
      "outputs": []
    },
    {
      "cell_type": "code",
      "metadata": {
        "id": "ducZHzKTfNQq"
      },
      "source": [
        "# 7.1.13\n",
        "num_list[:3]"
      ],
      "execution_count": null,
      "outputs": []
    },
    {
      "cell_type": "code",
      "metadata": {
        "id": "-w3ygxMQfQDi"
      },
      "source": [
        "# 7.1.14\n",
        "num_list[1:5]"
      ],
      "execution_count": null,
      "outputs": []
    },
    {
      "cell_type": "code",
      "metadata": {
        "id": "CEh16MWOfR6F"
      },
      "source": [
        "# 7.1.15\n",
        "num_list[-1:-5:-1]"
      ],
      "execution_count": null,
      "outputs": []
    },
    {
      "cell_type": "code",
      "metadata": {
        "id": "ASD41ch2fUAo"
      },
      "source": [
        "# 7.1.16\n",
        "num_list[-5:-1:1]"
      ],
      "execution_count": null,
      "outputs": []
    },
    {
      "cell_type": "markdown",
      "metadata": {
        "id": "L8VjaD_81Wyp"
      },
      "source": [
        "<br>\n",
        "\n",
        "---\n",
        "**7.2 다음과 같은 list1, list2가 있을 경우 이중 for 루프를 사용하여 list1과 list2의 각 원소를 곱한 후 원소의 곱셈을 아래와 같이 출력하시오.**"
      ]
    },
    {
      "cell_type": "code",
      "metadata": {
        "id": "DAt0Xr99f4_F"
      },
      "source": [
        "##### Don't modify this cell #####\n",
        "\n",
        "list1 = [3, 5, 7]\n",
        "list2 = [2, 3, 4, 5, 6]"
      ],
      "execution_count": null,
      "outputs": []
    },
    {
      "cell_type": "markdown",
      "metadata": {
        "id": "qII1mwCpf68u"
      },
      "source": [
        " ~~~\n",
        "3 * 2 = 6\n",
        "3 * 3 = 9\n",
        "3 * 4 = 12\n",
        "3 * 5 = 15\n",
        "3 * 6 = 18\n",
        "...\n",
        " ~~~"
      ]
    },
    {
      "cell_type": "code",
      "metadata": {
        "id": "txd2NLzY1YOi"
      },
      "source": [
        "# your code here\n"
      ],
      "execution_count": null,
      "outputs": []
    },
    {
      "cell_type": "markdown",
      "metadata": {
        "id": "0p-vuFrE30ty"
      },
      "source": [
        "<br>\n",
        "\n",
        "---\n",
        "**7.3 다음과 같은 문자열을 가진 두 개의 리스트 list1, list2가 있을 경우 list1과 list2의 모든 조합을 생성하여 다음과 같이 출력하시오.**"
      ]
    },
    {
      "cell_type": "code",
      "metadata": {
        "id": "VUD8zvCAjG1H"
      },
      "source": [
        "list1 = ['I like', 'I love']\n",
        "list2 = ['pancakes.', 'kiwi juice.', 'espresso.']"
      ],
      "execution_count": null,
      "outputs": []
    },
    {
      "cell_type": "markdown",
      "metadata": {
        "id": "v8wVPFcsjV55"
      },
      "source": [
        "~~~\n",
        "I like pancakes.\n",
        "I like kiwi juice.\n",
        "I like espresso.\n",
        "I love pancakes.\n",
        "I love kiwi juice.\n",
        "I love espresso.\n",
        "~~~"
      ]
    },
    {
      "cell_type": "code",
      "metadata": {
        "id": "0q7SyuSl4PsJ"
      },
      "source": [
        "# your code here\n"
      ],
      "execution_count": null,
      "outputs": []
    },
    {
      "cell_type": "markdown",
      "metadata": {
        "id": "omjl88JH4vpQ"
      },
      "source": [
        "<br>\n",
        "\n",
        "---\n",
        "**7.4 다음 코드에서 잘못된 부분을 찾아 설명하시오.**"
      ]
    },
    {
      "cell_type": "code",
      "metadata": {
        "id": "9bwEcU1246hK"
      },
      "source": [
        "# 7.4.1\n",
        "\n",
        "t = (10, 20, 30, 40)\n",
        "t.append(50)\n",
        "\n",
        "# 7.4.2\n",
        "t = (10, 20, 30, 40)\n",
        "t.remove(50)\n",
        "\n",
        "# 7.4.3\n",
        "t = (10, 20, 30, 40)\n",
        "t[0] = 0\n"
      ],
      "execution_count": null,
      "outputs": []
    },
    {
      "cell_type": "markdown",
      "metadata": {
        "id": "iWAO1K5-7A_e"
      },
      "source": [
        "<br>\n",
        "\n",
        "---\n",
        "**7.5 ('A', 'B', 'C') 튜플과 ('1', '2')을 조합하여 다음과 같은 공연장의 좌석번호를 생성하는 프로그램을 작성하여라.**\n",
        "\n",
        "~~~\n",
        "['A1', 'A2', 'B1', 'B2', 'C1', 'C2']\n",
        "~~~"
      ]
    },
    {
      "cell_type": "code",
      "metadata": {
        "id": "vPeXvhtZ7CDE"
      },
      "source": [
        "# your code here\n"
      ],
      "execution_count": null,
      "outputs": []
    },
    {
      "cell_type": "markdown",
      "metadata": {
        "id": "ksAWhLQaACRE"
      },
      "source": [
        "<br>\n",
        "\n",
        "---\n",
        "**7.6 사용자로부터 임의의 문자열을 입력으로 받은 후 이 문자열에 대하여 다음과 같은 피라미드 패턴을 만들어 출력하는 프로그램을 작성하여라. 이때 파이썬의 문자열 슬라이싱 기능을 사용하도록 하여라.**\n",
        "\n",
        "~~~\n",
        "문자열을 입력하세요 : python\n",
        "p\n",
        "py\n",
        "pyt\n",
        "pyth\n",
        "pytho\n",
        "python\n",
        "pytho\n",
        "pyth\n",
        "pyt\n",
        "py\n",
        "p\n",
        "~~~"
      ]
    },
    {
      "cell_type": "code",
      "metadata": {
        "id": "dtnV92UlATg0"
      },
      "source": [
        "# your code here\n"
      ],
      "execution_count": null,
      "outputs": []
    },
    {
      "cell_type": "markdown",
      "metadata": {
        "id": "36kvLHyjBMvA"
      },
      "source": [
        "<br>\n",
        "\n",
        "---\n",
        "**7.7 fruit_list = ['banana', 'orange', 'kiwi', 'aapple', 'melon'] 의 리스트가 존재한다.**\n",
        "\n",
        "**1) 이 fruit_list에서 가장 길이가 긴 문자열을 찾아서 출력하고 이 리스트에서 삭제하라. 이때 동일한 길이의 문자열이 있을 경우 이들을 모두 삭제하라.**\n",
        "\n",
        "~~~\n",
        "가장 길이가 긴 문자열 : ['banana', 'orange']\n",
        "fruit_list = ['kiwi', 'apple', 'melon']\n",
        "~~~"
      ]
    },
    {
      "cell_type": "code",
      "metadata": {
        "id": "SISkvhuBBYK-"
      },
      "source": [
        "# your code here\n"
      ],
      "execution_count": null,
      "outputs": []
    },
    {
      "cell_type": "markdown",
      "metadata": {
        "id": "etzeur4hdZsl"
      },
      "source": [
        "**2) 이 fruit_list와 for 반복문을 이용하여 다음과 같은 문장을 출력하여라.**\n",
        "\n",
        "~~~\n",
        "banana : 문자열의 길이 6\n",
        "orange : 문자열의 길이 6\n",
        "kiwi : 문자열의 길이 4\n",
        "apple : 문자열의 길이 5\n",
        "melon : 문자열의 길이 5\n",
        "~~~"
      ]
    },
    {
      "cell_type": "code",
      "metadata": {
        "id": "VWc1OTkReEHC"
      },
      "source": [
        "# your code here\n"
      ],
      "execution_count": null,
      "outputs": []
    },
    {
      "cell_type": "markdown",
      "metadata": {
        "id": "nZggQj3ODbK6"
      },
      "source": [
        "<br>\n",
        "\n",
        "---\n",
        "**7.8 사용자로부터 숫자 1보다 크고 10보다 작은 값 n을 입력으로 받아서 다음과 같이 뱀의 몸통처럼 증가하는 이차원 배열을 출력하는 뱀행렬을 생성하여라. 이 행렬의 특징은 n이 5일 때 5x5 크기의 2차원 배열을 생성하는데, 이때 홀수 번째 행이 숫자가 증가하는 방향이 될 경우 짝수 번째 행은 숫자가 감소하는 형태를 가지는 특정이 있다.**\n",
        "\n",
        "~~~\n",
        "n을 입력하시오 : 5\n",
        "1 2 3 4 5\n",
        "10 9 8 7 6\n",
        "11 12 13 14 15\n",
        "20 19 18 17 16\n",
        "21 22 23 24 25\n",
        "~~~"
      ]
    },
    {
      "cell_type": "code",
      "metadata": {
        "id": "G5T5kDcOD3Rl"
      },
      "source": [
        "# your code here\n"
      ],
      "execution_count": null,
      "outputs": []
    },
    {
      "cell_type": "markdown",
      "metadata": {
        "id": "AiNxknxlAlSO"
      },
      "source": [
        "<br>\n",
        "\n",
        "---\n",
        "**7.9 사용자로부터 두 문자열 A, B를 입력으로 받도록 하자. 그리고 A의 뒷부분과 B의 앞부분을 가장 길게 일치시켜 둘을 겹치게 만든 새로운 문자열 C를 만드는 프로그램을 작성하시오. 만약 A의 뒷부분과 B의 앞부분이 다르면 B를 A 뒤에 바로 붙여야 한다. 다음 예시를 참고하여라. 이를 위하여 C = overlap(A, B)와 같이 A, B를 인자로 받아 C를 반환하는 함수 overlap()을 구현하여라.**\n",
        "\n",
        "| 문자열 A | 문자열 B | 출력된 문자열 C |\n",
        "| ---------|     :-----------:      | ----- |\n",
        "| commu | mummy | commummy |\n",
        "| boxok | xbox | boxokxbox |\n",
        "|   deter   | detery | detery |\n",
        "|    waycom    |  ycomget | waycomget |\n",
        "|  tttttt  | tttttt | tttttt |"
      ]
    },
    {
      "cell_type": "code",
      "metadata": {
        "id": "jIeVniVgBN1k"
      },
      "source": [
        "# your code here\n"
      ],
      "execution_count": null,
      "outputs": []
    },
    {
      "cell_type": "markdown",
      "metadata": {
        "id": "iPJEvvDs40l9"
      },
      "source": [
        "<br>\n",
        "\n",
        "---\n",
        "**7.10 $Matrix~Multiplication$**\n",
        "\n",
        "**$3\\text{x}3$ 행렬 $A$, $B$을 입력받아 $A$와 $B$의 행렬곱을 출력하는 함수 mtx_mult(A, B)을 구현하시오(matmul 등의 함수 사용 금지).**\n",
        "\n",
        "$$\n",
        "A = \\begin{bmatrix}A_{11} & A_{12} & A_{13} \\\\\n",
        "\\hline A_{21} & A_{22} & A_{23} \\\\ \\hline A_{31} & A_{32} & A_{33}\\end{bmatrix},\n",
        "~B=\\begin{bmatrix}\\begin{array}{c|c} \n",
        "  \\begin{matrix}B_{11}\\\\B_{21}\\\\B_{31}\\end{matrix} &\n",
        "  \\begin{matrix}B_{12}\\\\B_{22}\\\\B_{32}\\end{matrix} &\n",
        "  \\begin{matrix}B_{13}\\\\B_{23}\\\\B_{33}\\end{matrix}\n",
        "\\end{array}\\end{bmatrix},\n",
        "$$\n",
        " \n",
        "$$\n",
        "AB = \\begin{bmatrix}A_{11}B_{11}+A_{12}B_{21}+A_{13}B_{31} & A_{11}B_{12}+A_{12}B_{22}+A_{13}B_{32} & A_{11}B_{13}+A_{12}B_{23}+A_{13}B_{33} \\\\\n",
        "A_{21}B_{11}+A_{22}B_{21}+A_{23}B_{31} & A_{21}B_{12}+A_{22}B_{22}+A_{23}B_{32} & A_{11}B_{13}+A_{12}B_{23}+A_{13}B_{33}\\\\\n",
        "A_{31}B_{11}+A_{32}B_{21}+A_{33}B_{31} & A_{31}B_{12}+A_{32}B_{22}+A_{33}B_{32} & A_{31}B_{13}+A_{32}B_{23}+A_{33}B_{33}\\end{bmatrix}\n",
        "$$"
      ]
    },
    {
      "cell_type": "code",
      "metadata": {
        "id": "VB3Z5QkpKAxs"
      },
      "source": [
        "def mtx_mult(A, B):\n",
        "  C = []\n",
        "  \n",
        "  # your code here\n",
        "\n",
        "  return C"
      ],
      "execution_count": null,
      "outputs": []
    },
    {
      "cell_type": "markdown",
      "metadata": {
        "id": "IcJxi7hz4Py6"
      },
      "source": [
        "**아래 코드는 Euler Angle, 즉 Roll($\\phi$), Pitch($\\theta$), Yaw($\\psi$)을 입력받아 항공기의 자세를 시각화하는 코드이다. 임의의 Euler Angle을 입력한 뒤 두 셀을 차례로 실행해 함수 mtx_mult가 정상적으로 작동하는지 검증하시오.**"
      ]
    },
    {
      "cell_type": "code",
      "metadata": {
        "id": "i855LS_UJiZk"
      },
      "source": [
        "# your Euler angle(in degree)\n",
        "\n",
        "phi = 10\n",
        "theta = 20\n",
        "psi = -60"
      ],
      "execution_count": null,
      "outputs": []
    },
    {
      "cell_type": "code",
      "metadata": {
        "colab": {
          "base_uri": "https://localhost:8080/",
          "height": 575
        },
        "id": "johoDfAG44__",
        "outputId": "208bfc6b-3a66-4b2d-d161-d7088c8cdef8"
      },
      "source": [
        "##### Don't modify this cell #####\n",
        "\n",
        "import numpy as np\n",
        "import matplotlib.pyplot as plt\n",
        "from mpl_toolkits.mplot3d import Axes3D\n",
        "\n",
        "# Creating DCM\n",
        "\n",
        "D2R = np.pi/180\n",
        "R_phi = [[1, 0, 0], [0, np.cos(phi*D2R), np.sin(phi*D2R)], [0, -np.sin(phi*D2R), np.cos(phi*D2R)]]\n",
        "R_theta = [[np.cos(theta*D2R), 0, -np.sin(theta*D2R)], [0, 1, 0], [np.sin(theta*D2R), 0, np.cos(theta*D2R)]]\n",
        "R_psi = [[np.cos(psi*D2R), np.sin(psi*D2R), 0], [-np.sin(psi*D2R), np.cos(psi*D2R), 0], [0, 0, 1]]\n",
        "\n",
        "NED2Euler = np.array(mtx_mult(mtx_mult(R_phi, R_theta), R_psi))\n",
        "Euler2NED = NED2Euler.T\n",
        "\n",
        "# Visualization\n",
        "\n",
        "a = 1.5\n",
        "b = 1\n",
        "c = 0.3\n",
        "d = 2\n",
        "\n",
        "Euler_1 = [a*2/3, 0, 0]\n",
        "Euler_2 = [-a/3, b/2, 0]\n",
        "Euler_3 = [-a/3, -b/2, 0]\n",
        "Euler_4 = [-a/3, 0, 0]\n",
        "Euler_5 = [-a/3, 0, -c]\n",
        "\n",
        "ax_Euler_1 = [d, 0, 0]\n",
        "ax_Euler_2 = [0, d, 0]\n",
        "ax_Euler_3 = [0, 0, d]\n",
        "\n",
        "NED_1 = Euler2NED@Euler_1\n",
        "NED_2 = Euler2NED@Euler_2\n",
        "NED_3 = Euler2NED@Euler_3\n",
        "NED_4 = Euler2NED@Euler_4\n",
        "NED_5 = Euler2NED@Euler_5\n",
        "\n",
        "ax_NED_1 = Euler2NED@ax_Euler_1\n",
        "ax_NED_2 = Euler2NED@ax_Euler_2\n",
        "ax_NED_3 = Euler2NED@ax_Euler_3\n",
        "\n",
        "fig = plt.figure(figsize=(10, 10))\n",
        "plot_plane = fig.add_subplot(111,projection='3d')\n",
        "plot_plane.plot([0, 0], [0, d], [0, 0], 'r:', label = 'N')\n",
        "plot_plane.plot([0, d], [0, 0], [0, 0], 'g:', label = 'E')\n",
        "plot_plane.plot([0, 0], [0, 0], [0, -d], 'b:', label = 'D')\n",
        "plot_plane.scatter(0, -d, 0, alpha = 0)\n",
        "plot_plane.scatter(-d, 0, 0, alpha = 0)\n",
        "plot_plane.scatter(0, 0, d, alpha = 0)\n",
        "plot_plane.plot([NED_1[1], NED_2[1]], [NED_1[0], NED_2[0]], [-NED_1[2], -NED_2[2]], 'k')\n",
        "plot_plane.plot([NED_1[1], NED_3[1]], [NED_1[0], NED_3[0]], [-NED_1[2], -NED_3[2]], 'k')\n",
        "plot_plane.plot([NED_1[1], NED_4[1]], [NED_1[0], NED_4[0]], [-NED_1[2], -NED_4[2]], 'k')\n",
        "plot_plane.plot([NED_1[1], NED_5[1]], [NED_1[0], NED_5[0]], [-NED_1[2], -NED_5[2]], 'k')\n",
        "plot_plane.plot([NED_2[1], NED_3[1]], [NED_2[0], NED_3[0]], [-NED_2[2], -NED_3[2]], 'k')\n",
        "plot_plane.plot([NED_4[1], NED_5[1]], [NED_4[0], NED_5[0]], [-NED_4[2], -NED_5[2]], 'k')\n",
        "plot_plane.plot([0, ax_NED_1[1]], [0, ax_NED_1[0]], [0, -ax_NED_1[2]], 'r', label = 'x')\n",
        "plot_plane.plot([0, ax_NED_2[1]], [0, ax_NED_2[0]], [0, -ax_NED_2[2]], 'g', label = 'y')\n",
        "plot_plane.plot([0, ax_NED_3[1]], [0, ax_NED_3[0]], [0, -ax_NED_3[2]], 'b', label = 'z')\n",
        "plot_plane.set_xlabel('East')\n",
        "plot_plane.set_ylabel('North')\n",
        "plot_plane.set_zlabel('Up')\n",
        "plot_plane.legend()\n",
        "plt.show()"
      ],
      "execution_count": null,
      "outputs": [
        {
          "output_type": "display_data",
          "data": {
            "image/png": "[encoded data removed]",
            "text/plain": [
              "<Figure size 720x720 with 1 Axes>"
            ]
          },
          "metadata": {
            "needs_background": "light"
          }
        }
      ]
    }
  ]
}