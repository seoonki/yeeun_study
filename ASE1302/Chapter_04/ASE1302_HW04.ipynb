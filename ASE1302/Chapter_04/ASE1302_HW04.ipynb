{
  "nbformat": 4,
  "nbformat_minor": 0,
  "metadata": {
    "colab": {
      "name": "ASE1302_HW04.ipynb",
      "provenance": []
    },
    "kernelspec": {
      "name": "python3",
      "display_name": "Python 3"
    },
    "language_info": {
      "name": "python"
    }
  },
  "cells": [
    {
      "cell_type": "markdown",
      "metadata": {
        "id": "59dEBDMCzdhA"
      },
      "source": [
        "# ASE1302 - Assignment \\#04"
      ]
    },
    {
      "cell_type": "markdown",
      "metadata": {
        "id": "wfe0BM9_ze1W"
      },
      "source": [
        "__<div style=\"text-align: right\"> ASE1302: Computer programming, Inha University. </div>__\n",
        "_<div style=\"text-align: right\"> Jong-Han Kim (jonghank@inha.ac.kr) </div>_\n",
        "_<div style=\"text-align: right\"> Ho-Young Jeon (hy13776@inha.edu) </div>_\n"
      ]
    },
    {
      "cell_type": "markdown",
      "metadata": {
        "id": "NuUEthxbzrj-"
      },
      "source": [
        "<br>\n",
        "\n",
        "---\n",
        "**4.1 사용자로부터 a에서 z까지의 알파벳 문자 하나를 입력 받아서 a, e, i, o, u일 경우 다음과 같이 '모음입니다.'를 출력하고, 이외의 문자일 경우 '자음입니다.'를 출력하시오.**"
      ]
    },
    {
      "cell_type": "code",
      "metadata": {
        "colab": {
          "base_uri": "https://localhost:8080/"
        },
        "id": "ej72VN2uzsZK",
        "outputId": "5c063ac3-ede8-4830-b242-70f55c2c5d68"
      },
      "source": [
        "# your code here"
      ],
      "execution_count": null,
      "outputs": [
        {
          "output_type": "stream",
          "name": "stdout",
          "text": [
            "알파벳을 입력하시오 : u\n",
            "u (은)는 모음입니다.\n"
          ]
        }
      ]
    },
    {
      "cell_type": "markdown",
      "metadata": {
        "id": "L8VjaD_81Wyp"
      },
      "source": [
        "<br>\n",
        "\n",
        "---\n",
        "**4.2 다음과 같이 사용자로부터 임의의 정수 3개를 입력으로 받아서 가장 큰 수부터 작은 수까지 나열하는 프로그램을 if-else 문을 사용하여 작성하시오(힌트: 공백 단위로 구분되어 입력받은 숫자를 분리할 때 split()메소드를 사용하여라)**"
      ]
    },
    {
      "cell_type": "code",
      "metadata": {
        "colab": {
          "base_uri": "https://localhost:8080/"
        },
        "id": "txd2NLzY1YOi",
        "outputId": "224b8152-0b3a-4cf8-fa8c-53ca4739a143"
      },
      "source": [
        "# your code here"
      ],
      "execution_count": null,
      "outputs": [
        {
          "output_type": "stream",
          "name": "stdout",
          "text": [
            "세 정수를 입력하시오 : 34 5251 4\n",
            "5251 34 4\n"
          ]
        }
      ]
    },
    {
      "cell_type": "markdown",
      "metadata": {
        "id": "0p-vuFrE30ty"
      },
      "source": [
        "<br>\n",
        "\n",
        "---\n",
        "**4.3 다음과 같이 사용자로부터 나이를 입력받아 20살 이상이면 \"Adult\", 10살 이상 20살 미만이면 \"Youth\", 10살 미만이면 \"Kid\"를 출력하는 프로그램을 if-elif-else 문을 사용하여 작성하시오.**"
      ]
    },
    {
      "cell_type": "code",
      "metadata": {
        "colab": {
          "base_uri": "https://localhost:8080/"
        },
        "id": "0q7SyuSl4PsJ",
        "outputId": "554dc79c-522b-4d5e-ccf7-e9935935ef10"
      },
      "source": [
        "# your code here"
      ],
      "execution_count": null,
      "outputs": [
        {
          "output_type": "stream",
          "name": "stdout",
          "text": [
            "나이를 입력하시오 : 13\n",
            "Youth\n"
          ]
        }
      ]
    },
    {
      "cell_type": "markdown",
      "metadata": {
        "id": "omjl88JH4vpQ"
      },
      "source": [
        "<br>\n",
        "\n",
        "---\n",
        "**4.4 하나의 정수를 입력으로 받아서 이 정수가 2로 나누어지는지, 3으로 나누어지는지, 혹은 두 정수 모두로도 나누어지는 알려주는 프로그램을 다음과 같이 작성하시오. 예를들어 15와 같은 수가 입력되면 다음 출력 결과와 같은 화면이 나타나면 된다.**"
      ]
    },
    {
      "cell_type": "code",
      "metadata": {
        "colab": {
          "base_uri": "https://localhost:8080/"
        },
        "id": "9bwEcU1246hK",
        "outputId": "ac73055e-e82a-4285-e1f6-278bcd389d8b"
      },
      "source": [
        "# your code here"
      ],
      "execution_count": null,
      "outputs": [
        {
          "output_type": "stream",
          "name": "stdout",
          "text": [
            "정수를 입력하시오 : 2314\n",
            "2314는(은) 2로 나누어 집니다..\n"
          ]
        }
      ]
    },
    {
      "cell_type": "markdown",
      "metadata": {
        "id": "iWAO1K5-7A_e"
      },
      "source": [
        "<br>\n",
        "\n",
        "---\n",
        "**4.5 random.randint(0, 9)를 사용하여 0에서 9사이의 복권번호 3개를 생성하도록 하자. 이들 중에서 3개의 숫자를 모두 맞히면 '1억원', 2개를 맞히면 '1천만원', 1개를 맞히면 '1만원', 모두 틀리면 '다음 기회에...'을 출력하는 복권 시스템이 있다고 가정하자. 사용자로부터 3개의 정수를 받은 다음 상금을 알려주는 프로그램을 다음과 같이 작성하시오.**"
      ]
    },
    {
      "cell_type": "code",
      "metadata": {
        "id": "vPeXvhtZ7CDE",
        "colab": {
          "base_uri": "https://localhost:8080/"
        },
        "outputId": "7ea0af81-1984-4bc7-b41f-dfa79f2eb12f"
      },
      "source": [
        "# your code here"
      ],
      "execution_count": null,
      "outputs": [
        {
          "output_type": "stream",
          "name": "stdout",
          "text": [
            "세 복권번호를 입력하시오 : 1 3 4\n",
            "상금 1천만원\n",
            "당첨번호 : [1, 5, 3]\n"
          ]
        }
      ]
    },
    {
      "cell_type": "markdown",
      "metadata": {
        "id": "ksAWhLQaACRE"
      },
      "source": [
        "<br>\n",
        "\n",
        "---\n",
        "**4.6 철수는 최근 식당을 오픈하여 자신의 식당 메뉴 주문 프로그램을 직접 개발하고자 한다. 이를 위하여 사용자에게 다음과 같은 메뉴를 보여주고 알파벳 b, c, p 중에서 하나를 선택하도록 하자. 이때 메뉴에 없는 알파벳이 입력되면 \"선택한 메뉴가 없습니다\"가 출력되도록 하여라.**"
      ]
    },
    {
      "cell_type": "code",
      "metadata": {
        "id": "dtnV92UlATg0",
        "colab": {
          "base_uri": "https://localhost:8080/"
        },
        "outputId": "275a3b30-31cc-468e-9389-80ca72634364"
      },
      "source": [
        "# your code here"
      ],
      "execution_count": null,
      "outputs": [
        {
          "output_type": "stream",
          "name": "stdout",
          "text": [
            "우리식당에 오신것을 환영합니다. 메뉴는 다음과 같습니다.\n",
            "- 햄버거(입력 b)\n",
            "-치킨(입력 c)\n",
            "-피자(입력 p)\n",
            "\n",
            "메뉴를 선택하세요(알파벳 b, c, p 입력) : b\n",
            "햄버거를 선택하였습니다.\n"
          ]
        }
      ]
    },
    {
      "cell_type": "markdown",
      "metadata": {
        "id": "36kvLHyjBMvA"
      },
      "source": [
        "<br>\n",
        "\n",
        "---\n",
        "**4.7 파이썬의 random.randint(1,100)을 이용하여 1에서 100 사이의 임의의 난수 2개를 생성하여라. 다음으로 두 수의 합을 묻는 질문을 사용자에게 던지도록 하자. 만일 사용자가 두 수의 합을 맞추면'잘했어요!!'를 출력하여라. 만일 틀릴 경우 '정답은 000입니다.'를 출력하여라.**"
      ]
    },
    {
      "cell_type": "code",
      "metadata": {
        "id": "SISkvhuBBYK-",
        "colab": {
          "base_uri": "https://localhost:8080/"
        },
        "outputId": "36947950-75a9-4a57-af82-010df5b8671d"
      },
      "source": [
        "# your code here"
      ],
      "execution_count": null,
      "outputs": [
        {
          "output_type": "stream",
          "name": "stdout",
          "text": [
            "num1 : 1, num2 : 57\n",
            "두 수의 합은 ? : 21\n",
            "틀렸습니다! 정답은 1 + 57 = 58 입니다.\n"
          ]
        }
      ]
    },
    {
      "cell_type": "markdown",
      "metadata": {
        "id": "nZggQj3ODbK6"
      },
      "source": [
        "<br>\n",
        "\n",
        "---\n",
        "**4.8 덧셈, 뺄셈, 곱셈, 나눗셈을 수행해주는 프로그램을 작성하려 한다. 원하는 연산의 번호(1:덧셈, 2:뺄셈, 3: 곱셈, 4:나눗셈)을 입력후, 두 개의 양의 정수를 입력하면 연산 결과를 출력해준다. 이때 연산의 번호에서 1,2,3,4가 아닌 다른 값이 입력되면 '잘못 입력하였습니다.'를 출력한다. 또한, 각 연산에 배정된 숫자가 아닌, 다른 숫자를 입력하면 잘못 입력하였다는 정보를 출력하여야 한다.**"
      ]
    },
    {
      "cell_type": "code",
      "metadata": {
        "id": "G5T5kDcOD3Rl",
        "colab": {
          "base_uri": "https://localhost:8080/"
        },
        "outputId": "ee55cd79-9fe8-40d8-dd0b-3a5d60f5029f"
      },
      "source": [
        "# your code here"
      ],
      "execution_count": null,
      "outputs": [
        {
          "output_type": "stream",
          "name": "stdout",
          "text": [
            "1) 덧셈 2)뺄셈 3)곱셈 4)나눗셈\n",
            "어떤 연산을 원하는지 번호를 입력하세요: 1\n",
            "연산을 원하는 숫자 두개를 입력하세요 : 3 4\n",
            "3 + 4 = 7\n"
          ]
        }
      ]
    },
    {
      "cell_type": "code",
      "metadata": {
        "id": "b9Wb83RYAzqh"
      },
      "source": [],
      "execution_count": null,
      "outputs": []
    }
  ]
}