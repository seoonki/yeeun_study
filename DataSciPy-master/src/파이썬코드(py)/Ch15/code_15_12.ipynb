{
  "nbformat": 4,
  "nbformat_minor": 0,
  "metadata": {
    "colab": {
      "name": "Untitled1.ipynb",
      "provenance": [],
      "collapsed_sections": []
    },
    "kernelspec": {
      "name": "python3",
      "display_name": "Python 3"
    }
  },
  "cells": [
    {
      "cell_type": "markdown",
      "metadata": {
        "id": "gKd983NKamf-"
      },
      "source": [
        "# 따라하며 배우는 파이썬과 데이터과학(생능출판사 2020)\r\n",
        "## 15.12 구글 클라우드의 자료를 코랩에서 사용하기, 413쪽\r\n"
      ]
    },
    {
      "cell_type": "code",
      "metadata": {
        "id": "EDUWASUUwUUc"
      },
      "source": [
        "from google.colab import drive\r\n",
        "drive.mount('/content/drive')"
      ],
      "execution_count": null,
      "outputs": []
    },
    {
      "cell_type": "code",
      "metadata": {
        "id": "OTMbXYrK7mfH"
      },
      "source": [
        "!ls ./drive/'My Drive' -la"
      ],
      "execution_count": null,
      "outputs": []
    }
  ]
}