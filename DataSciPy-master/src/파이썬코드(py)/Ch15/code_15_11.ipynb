{
  "nbformat": 4,
  "nbformat_minor": 0,
  "metadata": {
    "colab": {
      "name": "Untitled1.ipynb",
      "provenance": [],
      "collapsed_sections": []
    },
    "kernelspec": {
      "name": "python3",
      "display_name": "Python 3"
    }
  },
  "cells": [
    {
      "cell_type": "markdown",
      "metadata": {
        "id": "gKd983NKamf-"
      },
      "source": [
        "# 따라하며 배우는 파이썬과 데이터과학(생능출판사 2020)\r\n",
        "## 15.11 나만의 데이터 이용법 : 드라이브에 올린 파일 접근하기, 412쪽\r\n"
      ]
    },
    {
      "cell_type": "code",
      "metadata": {
        "id": "OTMbXYrK7mfH"
      },
      "source": [
        "from google.colab import drive\r\n",
        "drive.mount('/content/drive')"
      ],
      "execution_count": null,
      "outputs": []
    },
    {
      "cell_type": "code",
      "metadata": {
        "id": "RouxGtaLaUP_"
      },
      "source": [
        "!pwd"
      ],
      "execution_count": null,
      "outputs": []
    }
  ]
}