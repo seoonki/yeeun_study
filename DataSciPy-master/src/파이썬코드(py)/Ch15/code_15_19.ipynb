{
  "nbformat": 4,
  "nbformat_minor": 0,
  "metadata": {
    "colab": {
      "name": "Untitled1.ipynb",
      "provenance": [],
      "collapsed_sections": []
    },
    "kernelspec": {
      "name": "python3",
      "display_name": "Python 3"
    }
  },
  "cells": [
    {
      "cell_type": "markdown",
      "metadata": {
        "id": "gKd983NKamf-"
      },
      "source": [
        "# 따라하며 배우는 파이썬과 데이터과학(생능출판사 2020)\r\n",
        "## 15.17 층을 쌓아 얼마나 좋아졌는지 눈으로 확인해 보자, 418쪽\r\n"
      ]
    },
    {
      "cell_type": "code",
      "metadata": {
        "id": "SriFGPkCyHqa"
      },
      "source": [
        "import tensorflow as tf\r\n",
        "from tensorflow import keras\r\n",
        "import numpy as np\r\n",
        "import matplotlib.pyplot as plt\r\n",
        "# 패션 MNIST 데이터는 keras의 데이터셋에 있는데 이를 읽어와서 학습용, 테스트 데이터로 구분\r\n",
        "fashion_mnist = keras.datasets.fashion_mnist\r\n",
        "(train_images, train_labels), (test_images, test_labels) = fashion_mnist.load_data()"
      ],
      "execution_count": null,
      "outputs": []
    },
    {
      "cell_type": "code",
      "metadata": {
        "id": "kx2UamQu0hKx"
      },
      "source": [
        "model = keras.Sequential([\r\n",
        "    keras.layers.Flatten(input_shape=(28, 28)),\r\n",
        "    keras.layers.Dense(128, activation='relu'),\r\n",
        "    keras.layers.Dense(10, activation='softmax')\r\n",
        "])\r\n",
        "model.compile(optimizer='adam',\r\n",
        "              loss='sparse_categorical_crossentropy',\r\n",
        "              metrics=['accuracy'])\r\n",
        "model.fit(train_images, train_labels, epochs=5)"
      ],
      "execution_count": null,
      "outputs": []
    },
    {
      "cell_type": "code",
      "metadata": {
        "id": "uk1-Prco0A_a"
      },
      "source": [
        "model2 = keras.Sequential([\r\n",
        " keras.layers.Flatten(input_shape=(28, 28)),\r\n",
        " keras.layers.Dense(128, activation='relu'),\r\n",
        " keras.layers.Dense(64, activation='relu'),\r\n",
        " keras.layers.Dense(32, activation='relu'),\r\n",
        " keras.layers.Dense(10, activation='softmax')\r\n",
        "])\r\n",
        "model2.compile(optimizer='adam',\r\n",
        " loss='sparse_categorical_crossentropy',\r\n",
        " metrics=['accuracy'])\r\n",
        "model2.fit(train_images, train_labels, epochs = 5)"
      ],
      "execution_count": null,
      "outputs": []
    },
    {
      "cell_type": "code",
      "metadata": {
        "id": "eoy_zeDz0Ym5"
      },
      "source": [
        "pred_1 = model.predict(test_images)\r\n",
        "pred_2 = model2.predict(test_images)\r\n",
        "pred_1, pred_2"
      ],
      "execution_count": null,
      "outputs": []
    },
    {
      "cell_type": "code",
      "metadata": {
        "colab": {
          "base_uri": "https://localhost:8080/"
        },
        "id": "lbuyjF9l1AFR",
        "outputId": "bf6a8a9c-7697-4e96-85be-8eff600824f7"
      },
      "source": [
        "y_hat1 = np.argmax( pred_1, axis = 1)\r\n",
        "y_hat2 = np.argmax( pred_2, axis = 1)\r\n",
        "y_hat1, y_hat2"
      ],
      "execution_count": 24,
      "outputs": [
        {
          "output_type": "execute_result",
          "data": {
            "text/plain": [
              "(array([9, 2, 1, ..., 8, 1, 5]), array([9, 2, 1, ..., 8, 1, 5]))"
            ]
          },
          "metadata": {
            "tags": []
          },
          "execution_count": 24
        }
      ]
    },
    {
      "cell_type": "code",
      "metadata": {
        "id": "qMtfxRCn1CWy"
      },
      "source": [
        "from sklearn.metrics import confusion_matrix\r\n",
        "conf_mat1 = confusion_matrix(test_labels, y_hat1)\r\n",
        "conf_mat2 = confusion_matrix(test_labels, y_hat2)\r\n",
        "plt.matshow(conf_mat1)\r\n",
        "plt.matshow(conf_mat2)"
      ],
      "execution_count": null,
      "outputs": []
    }
  ]
}