{
  "nbformat": 4,
  "nbformat_minor": 0,
  "metadata": {
    "colab": {
      "name": "ASE1302_HW01_sol.ipynb",
      "provenance": []
    },
    "kernelspec": {
      "name": "python3",
      "display_name": "Python 3"
    }
  },
  "cells": [
    {
      "cell_type": "markdown",
      "metadata": {
        "id": "UMoPtR9aM6m0"
      },
      "source": [
        "# ASE1302 - Assignment \\#01\n",
        "$$\n",
        "\\newcommand{\\eg}{{\\it e.g.}}\n",
        "\\newcommand{\\ie}{{\\it i.e.}}\n",
        "\\newcommand{\\argmin}{\\operatornamewithlimits{argmin}}\n",
        "\\newcommand{\\mc}{\\mathcal}\n",
        "\\newcommand{\\mb}{\\mathbb}\n",
        "\\newcommand{\\mf}{\\mathbf}\n",
        "\\newcommand{\\minimize}{{\\text{minimize}}}\n",
        "\\newcommand{\\diag}{{\\text{diag}}}\n",
        "\\newcommand{\\cond}{{\\text{cond}}}\n",
        "\\newcommand{\\rank}{{\\text{rank }}}\n",
        "\\newcommand{\\range}{{\\mathcal{R}}}\n",
        "\\newcommand{\\null}{{\\mathcal{N}}}\n",
        "\\newcommand{\\tr}{{\\text{trace}}}\n",
        "\\newcommand{\\dom}{{\\text{dom}}}\n",
        "\\newcommand{\\dist}{{\\text{dist}}}\n",
        "\\newcommand{\\R}{\\mathbf{R}}\n",
        "\\newcommand{\\Z}{\\mathbf{Z}}\n",
        "\\newcommand{\\SM}{\\mathbf{S}}\n",
        "\\newcommand{\\ball}{\\mathcal{B}}\n",
        "\\newcommand{\\bmat}[1]{\\begin{bmatrix}#1\\end{bmatrix}}\n",
        "$$"
      ]
    },
    {
      "cell_type": "markdown",
      "metadata": {
        "id": "tKj0O6MKNGXz"
      },
      "source": [
        "__<div style=\"text-align: right\"> ASE1302: Computer programming, Inha University. </div>__\n",
        "_<div style=\"text-align: right\"> Jong-Han Kim (jonghank@inha.ac.kr) </div>_"
      ]
    },
    {
      "cell_type": "markdown",
      "metadata": {
        "id": "33mcja5FNGMP"
      },
      "source": [
        "<br>\n",
        "\n",
        "---\n",
        "**1.1. 다음 파이썬 코드의 출력결과는 무엇인가? 우선 결과를 생각해 보고 직접 코드를 수행한 후 그 결과를 제출하시오. 예상결과와 실제결과가 같은지 살펴보시오.**\n",
        "~~~\n",
        "1) print(100)\n",
        "2) print(100 + 200)\n",
        "3) print('100 + 200')\n",
        "4) print(100, 200)\n",
        "5) print('100', '200')\n",
        "6) print('100''200')\n",
        "7) print('Hello Python!')\n",
        "8) print('Hello', 'Python', '!')\n",
        "9) print('Hello' + 'Python' + '!')\n",
        "10) print('Hello''Python''!')\n",
        "11) print('********************')\n",
        "12) print('*' * 20)\n",
        "~~~"
      ]
    },
    {
      "cell_type": "code",
      "metadata": {
        "id": "Ed1gxHkMNgDu",
        "colab": {
          "base_uri": "https://localhost:8080/"
        },
        "outputId": "0ccf09f0-a008-4aa1-a8e1-1150a0a12d20"
      },
      "source": [
        "# your code here\n",
        "\n",
        "print(100)\n",
        "print(100 + 200)\n",
        "print('100 + 200')\n",
        "print(100, 200)\n",
        "print('100', '200')\n",
        "print('100''200')\n",
        "print('Hello Python!')\n",
        "print('Hello', 'Python', '!')\n",
        "print('Hello' + 'Python' + '!')\n",
        "print('Hello''Python''!')\n",
        "print('********************')\n",
        "print('*' * 20)"
      ],
      "execution_count": null,
      "outputs": [
        {
          "output_type": "stream",
          "name": "stdout",
          "text": [
            "100\n",
            "300\n",
            "100 + 200\n",
            "100 200\n",
            "100 200\n",
            "100200\n",
            "Hello Python!\n",
            "Hello Python !\n",
            "HelloPython!\n",
            "HelloPython!\n",
            "********************\n",
            "********************\n"
          ]
        }
      ]
    },
    {
      "cell_type": "markdown",
      "metadata": {
        "id": "ScVzCFiNNGDC"
      },
      "source": [
        "<br>\n",
        "\n",
        "---\n",
        "**1.2. 다음 코드들은 어떤 오류를 출력하는가? 실행 시 나타나는 오류를 적고 이 오류를 수정한 후 수행해 보시오.**\n",
        "~~~\n",
        "1) print('Hello Python!\")\n",
        "2) print('*' 20)\n",
        "3) print(Life is short learn Python!)\n",
        "4) print(100 + '200')      # 숫자 100과 200의 합 300을 출력하라\n",
        "~~~"
      ]
    },
    {
      "cell_type": "code",
      "metadata": {
        "id": "Ciaz9TyGPY7O",
        "colab": {
          "base_uri": "https://localhost:8080/"
        },
        "outputId": "6682b0d4-b724-47a9-e6f3-a3a83fa8f419"
      },
      "source": [
        "# your code here\n",
        "\n",
        "print('Hello Python!')\n",
        "print('*'*20)\n",
        "print('Life is short learn Python!')\n",
        "print(100 + 200)      # 숫자 100과 200의 합 300을 출력하라"
      ],
      "execution_count": null,
      "outputs": [
        {
          "output_type": "stream",
          "name": "stdout",
          "text": [
            "Hello Python!\n",
            "********************\n",
            "Life is short learn Python!\n",
            "300\n"
          ]
        }
      ]
    },
    {
      "cell_type": "markdown",
      "metadata": {
        "id": "yf5lP6VtPb2O"
      },
      "source": [
        "<br>\n",
        "\n",
        "---\n",
        "**1.3. 'I love Python!'을 5줄에 걸쳐 모두 5번 출력하는 코드를 작성해 보시오.**\n"
      ]
    },
    {
      "cell_type": "code",
      "metadata": {
        "id": "KCAvH8kDPzik",
        "colab": {
          "base_uri": "https://localhost:8080/"
        },
        "outputId": "a8c6073c-e9aa-4aec-9346-7defc7de51c6"
      },
      "source": [
        "# your code here\n",
        "\n",
        "print('I love Python!')\n",
        "print('I love Python!')\n",
        "print('I love Python!')\n",
        "print('I love Python!')\n",
        "print('I love Python!')"
      ],
      "execution_count": null,
      "outputs": [
        {
          "output_type": "stream",
          "name": "stdout",
          "text": [
            "I love Python!\n",
            "I love Python!\n",
            "I love Python!\n",
            "I love Python!\n",
            "I love Python!\n"
          ]
        }
      ]
    },
    {
      "cell_type": "markdown",
      "metadata": {
        "id": "mqfSPaMeP1Do"
      },
      "source": [
        "<br>\n",
        "\n",
        "---\n",
        "**1.4. 다음과 같은 출력물을 만드는 코드를 작성해보시오.**\n",
        "~~~\n",
        "*\n",
        "**\n",
        "***\n",
        "****\n",
        "*****\n",
        "~~~"
      ]
    },
    {
      "cell_type": "code",
      "metadata": {
        "id": "2F04x07bRYjf",
        "colab": {
          "base_uri": "https://localhost:8080/"
        },
        "outputId": "60197163-c1a0-4247-c4ff-13bccf9bb850"
      },
      "source": [
        "# your code here\n",
        "\n",
        "print('*')\n",
        "print('**')\n",
        "print('***')\n",
        "print('****')\n",
        "print('*****')"
      ],
      "execution_count": null,
      "outputs": [
        {
          "output_type": "stream",
          "name": "stdout",
          "text": [
            "*\n",
            "**\n",
            "***\n",
            "****\n",
            "*****\n"
          ]
        }
      ]
    },
    {
      "cell_type": "markdown",
      "metadata": {
        "id": "6bFpIf54Re-Z"
      },
      "source": [
        "<br>\n",
        "\n",
        "---\n",
        "**1.5. 다음과 같은 수식 계산을 해 보도록 하자. 이 계산의 결과 값은 무엇인가?**\n",
        "~~~\n",
        "1) 400 - 200 + 100\n",
        "2) 400 * 200 - 100\n",
        "3) 6 * 3 / 9\n",
        "4) 9 ** 3\n",
        "5) 9 / 3\n",
        "6) 9 // 3\n",
        "~~~"
      ]
    },
    {
      "cell_type": "code",
      "metadata": {
        "id": "PoIraHg1RwJ2",
        "colab": {
          "base_uri": "https://localhost:8080/"
        },
        "outputId": "773b3a6d-f971-46f1-88d2-018d778253ca"
      },
      "source": [
        "# your code here\n",
        "\n",
        "print(400 - 200 + 100)\n",
        "print(400 * 200 - 100)\n",
        "print(6 * 3 / 9)\n",
        "print(9 ** 3)\n",
        "print(9 / 3)\n",
        "print(9 // 3)"
      ],
      "execution_count": null,
      "outputs": [
        {
          "output_type": "stream",
          "name": "stdout",
          "text": [
            "300\n",
            "79900\n",
            "2.0\n",
            "729\n",
            "3.0\n",
            "3\n"
          ]
        }
      ]
    },
    {
      "cell_type": "markdown",
      "metadata": {
        "id": "zpFHw_hpRzI8"
      },
      "source": [
        "<br>\n",
        "\n",
        "---\n",
        "**1.6. 다음과 같은 수식 계산을 해 보자. 원주율 $\\pi$는 3.14로 가정한다.**\n",
        "~~~\n",
        "1) 1에서 10까지 정수의 합\n",
        "2) 반지름의 길이가 5인 원의 둘레 \n",
        "3) 한 변의 길이가 20인 정사각형의 둘레\n",
        "4) 한 변의 길이가 20인 정사각형의 면적\n",
        "5) 높이가 10이고 밑변이 30인 직사각형의 둘레\n",
        "6) 높이가 10이고 밑변이 30인 직사각형의 면적\n",
        "~~~"
      ]
    },
    {
      "cell_type": "code",
      "metadata": {
        "id": "4jDDcM34SR-t",
        "colab": {
          "base_uri": "https://localhost:8080/"
        },
        "outputId": "3d020f90-08ce-4a41-cb4b-5353b9c7647d"
      },
      "source": [
        "# your code here\n",
        "print(1+2+3+4+5+6+7+8+9+10)\n",
        "print(5*2*3.14)\n",
        "print(20*4)\n",
        "print(20*20)\n",
        "print(2*(10+30))\n",
        "print(10*30)"
      ],
      "execution_count": null,
      "outputs": [
        {
          "output_type": "stream",
          "name": "stdout",
          "text": [
            "55\n",
            "31.400000000000002\n",
            "80\n",
            "400\n",
            "80\n",
            "300\n"
          ]
        }
      ]
    },
    {
      "cell_type": "markdown",
      "metadata": {
        "id": "AsIkFa24STo5"
      },
      "source": [
        "<br>\n",
        "\n",
        "---\n",
        "**1.7. 정수 30의 팩토리얼(=$30!$)을 구하여 출력해 보시오.**\n"
      ]
    },
    {
      "cell_type": "code",
      "metadata": {
        "id": "KUls6zmRS8si",
        "colab": {
          "base_uri": "https://localhost:8080/"
        },
        "outputId": "6df48920-b90f-4b8e-a055-dc00e1d25c06"
      },
      "source": [
        "# your code here\n",
        "print( \\\n",
        "      30*29*28*27*26*25*24*23*22*21* \\\n",
        "      20*19*18*17*16*15*14*13*12*11* \\\n",
        "      10* 9* 8* 7* 6* 5* 4* 3* 2)"
      ],
      "execution_count": null,
      "outputs": [
        {
          "output_type": "stream",
          "name": "stdout",
          "text": [
            "265252859812191058636308480000000\n"
          ]
        }
      ]
    },
    {
      "cell_type": "markdown",
      "metadata": {
        "id": "AXZSjbxbY_oN"
      },
      "source": [
        "<br>\n",
        "\n",
        "---\n",
        "**1.8. 다음의 대기 모델을 사용하여, 해발고도와 고도 1km, 2km, 3km에서의 공기밀도를 계산하시오.**\n",
        "\n",
        "$${\\displaystyle \\rho ={\\frac {pM}{RT}}={\\frac {pM}{RT_{0}\\left(1-{\\frac {Lh}{T_{0}}}\\right)}}={\\frac {p_{0}M}{RT_{0}}}\\left(1-{\\frac {Lh}{T_{0}}}\\right)^{{\\frac {gM}{RL}}-1}}\n",
        "$$\n",
        "\n",
        "위의 관계식에서 고도 $h$의 단위는 $m$이며, 그외 사용되는 파라미터들은 다음과 같다. 참고: https://en.wikipedia.org/wiki/Density_of_air\n",
        "\n",
        "- $p_{0}$, sea level standard atmospheric pressure, 101325 Pa\n",
        "- $T_{0}$, sea level standard temperature, 288.15 K\n",
        "- $g$, earth-surface gravitational acceleration, 9.80665 m/s/s\n",
        "- $L$, temperature lapse rate, 0.0065 K/m\n",
        "- $R$, ideal (universal) gas constant, 8.31446 J/(mol·K)\n",
        "- $M$, molar mass of dry air, 0.0289652 kg/mol"
      ]
    },
    {
      "cell_type": "code",
      "metadata": {
        "id": "v8uneiurZrgc",
        "colab": {
          "base_uri": "https://localhost:8080/"
        },
        "outputId": "2902aade-7b47-4576-f0f3-31c2bbde2aca"
      },
      "source": [
        "# your code here\n",
        "\n",
        "# h = 1000m\n",
        "print('rho at 1km : ', 101325*0.0289652/8.31446/288.15 \\\n",
        "      * (1-0.0065*1000/288.15)**(9.80665*0.0289652/8.31446/0.0065-1) )\n",
        "\n",
        "# h = 2000m\n",
        "print('rho at 2km : ', 101325*0.0289652/8.31446/288.15 \\\n",
        "      * (1-0.0065*2000/288.15)**(9.80665*0.0289652/8.31446/0.0065-1) )\n",
        "\n",
        "# h = 3000m\n",
        "print('rho at 3km : ', 101325*0.0289652/8.31446/288.15 \\\n",
        "      * (1-0.0065*3000/288.15)**(9.80665*0.0289652/8.31446/0.0065-1) )"
      ],
      "execution_count": null,
      "outputs": [
        {
          "output_type": "stream",
          "name": "stdout",
          "text": [
            "rho at 1km :  1.111652359613188\n",
            "rho at 2km :  1.0064977794117342\n",
            "rho at 3km :  0.9091276488017072\n"
          ]
        }
      ]
    },
    {
      "cell_type": "code",
      "metadata": {
        "id": "sEqfoKNqi2ZX"
      },
      "source": [],
      "execution_count": null,
      "outputs": []
    }
  ]
}