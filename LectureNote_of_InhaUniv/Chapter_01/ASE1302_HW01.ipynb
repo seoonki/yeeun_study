{
  "nbformat": 4,
  "nbformat_minor": 0,
  "metadata": {
    "colab": {
      "name": "ASE1302-HW01.ipynb",
      "provenance": []
    },
    "kernelspec": {
      "name": "python3",
      "display_name": "Python 3"
    }
  },
  "cells": [
    {
      "cell_type": "markdown",
      "metadata": {
        "id": "UMoPtR9aM6m0"
      },
      "source": [
        "# ASE1302 - Assignment \\#01\n",
        "$$\n",
        "\\newcommand{\\eg}{{\\it e.g.}}\n",
        "\\newcommand{\\ie}{{\\it i.e.}}\n",
        "\\newcommand{\\argmin}{\\operatornamewithlimits{argmin}}\n",
        "\\newcommand{\\mc}{\\mathcal}\n",
        "\\newcommand{\\mb}{\\mathbb}\n",
        "\\newcommand{\\mf}{\\mathbf}\n",
        "\\newcommand{\\minimize}{{\\text{minimize}}}\n",
        "\\newcommand{\\diag}{{\\text{diag}}}\n",
        "\\newcommand{\\cond}{{\\text{cond}}}\n",
        "\\newcommand{\\rank}{{\\text{rank }}}\n",
        "\\newcommand{\\range}{{\\mathcal{R}}}\n",
        "\\newcommand{\\null}{{\\mathcal{N}}}\n",
        "\\newcommand{\\tr}{{\\text{trace}}}\n",
        "\\newcommand{\\dom}{{\\text{dom}}}\n",
        "\\newcommand{\\dist}{{\\text{dist}}}\n",
        "\\newcommand{\\R}{\\mathbf{R}}\n",
        "\\newcommand{\\Z}{\\mathbf{Z}}\n",
        "\\newcommand{\\SM}{\\mathbf{S}}\n",
        "\\newcommand{\\ball}{\\mathcal{B}}\n",
        "\\newcommand{\\bmat}[1]{\\begin{bmatrix}#1\\end{bmatrix}}\n",
        "$$"
      ]
    },
    {
      "cell_type": "markdown",
      "metadata": {
        "id": "tKj0O6MKNGXz"
      },
      "source": [
        "__<div style=\"text-align: right\"> ASE1302: Computer programming, Inha University. </div>__\n",
        "_<div style=\"text-align: right\"> Jong-Han Kim (jonghank@inha.ac.kr) </div>_"
      ]
    },
    {
      "cell_type": "markdown",
      "metadata": {
        "id": "33mcja5FNGMP"
      },
      "source": [
        "<br>\n",
        "\n",
        "---\n",
        "**1.1. 다음 파이썬 코드의 출력결과는 무엇인가? 우선 결과를 생각해 보고 직접 코드를 수행한 후 그 결과를 제출하시오. 예상결과와 실제결과가 같은지 살펴보시오.**\n",
        "~~~\n",
        "1) print(100)\n",
        "2) print(100 + 200)\n",
        "3) print('100 + 200')\n",
        "4) print(100, 200)\n",
        "5) print('100', '200')\n",
        "6) print('100''200')\n",
        "7) print('Hello Python!')\n",
        "8) print('Hello', 'Python', '!')\n",
        "9) print('Hello' + 'Python' + '!')\n",
        "10) print('Hello''Python''!')\n",
        "11) print('********************')\n",
        "12) print('*' * 20)\n",
        "~~~"
      ]
    },
    {
      "cell_type": "code",
      "metadata": {
        "id": "Ed1gxHkMNgDu"
      },
      "source": [
        "# your code here\n"
      ],
      "execution_count": null,
      "outputs": []
    },
    {
      "cell_type": "markdown",
      "metadata": {
        "id": "ScVzCFiNNGDC"
      },
      "source": [
        "<br>\n",
        "\n",
        "---\n",
        "**1.2. 다음 코드들은 어떤 오류를 출력하는가? 실행 시 나타나는 오류를 적고 이 오류를 수정한 후 수행해 보시오.**\n",
        "~~~\n",
        "1) print('Hello Python!\")\n",
        "2) print('*' 20)\n",
        "3) print(Life is short learn Python!)\n",
        "4) print(100 + '200')      # 숫자 100과 200의 합 300을 출력하라\n",
        "~~~"
      ]
    },
    {
      "cell_type": "code",
      "metadata": {
        "id": "Ciaz9TyGPY7O"
      },
      "source": [
        "# your code here\n"
      ],
      "execution_count": null,
      "outputs": []
    },
    {
      "cell_type": "markdown",
      "metadata": {
        "id": "yf5lP6VtPb2O"
      },
      "source": [
        "<br>\n",
        "\n",
        "---\n",
        "**1.3. 'I love Python!'을 5줄에 걸쳐 모두 5번 출력하는 코드를 작성해 보시오.**\n"
      ]
    },
    {
      "cell_type": "code",
      "metadata": {
        "id": "KCAvH8kDPzik"
      },
      "source": [
        "# your code here\n"
      ],
      "execution_count": null,
      "outputs": []
    },
    {
      "cell_type": "markdown",
      "metadata": {
        "id": "mqfSPaMeP1Do"
      },
      "source": [
        "<br>\n",
        "\n",
        "---\n",
        "**1.4. 다음과 같은 출력물을 만드는 코드를 작성해보시오.**\n",
        "~~~\n",
        "*\n",
        "**\n",
        "***\n",
        "****\n",
        "*****\n",
        "~~~"
      ]
    },
    {
      "cell_type": "code",
      "metadata": {
        "id": "2F04x07bRYjf"
      },
      "source": [
        "# your code here\n"
      ],
      "execution_count": null,
      "outputs": []
    },
    {
      "cell_type": "markdown",
      "metadata": {
        "id": "6bFpIf54Re-Z"
      },
      "source": [
        "<br>\n",
        "\n",
        "---\n",
        "**1.5. 다음과 같은 수식 계산을 해 보도록 하자. 이 계산의 결과 값은 무엇인가?**\n",
        "~~~\n",
        "1) 400 - 200 + 100\n",
        "2) 400 * 200 - 100\n",
        "3) 6 * 3 / 9\n",
        "4) 9 ** 3\n",
        "5) 9 / 3\n",
        "6) 9 // 3\n",
        "~~~"
      ]
    },
    {
      "cell_type": "code",
      "metadata": {
        "id": "PoIraHg1RwJ2"
      },
      "source": [
        "# your code here\n"
      ],
      "execution_count": null,
      "outputs": []
    },
    {
      "cell_type": "markdown",
      "metadata": {
        "id": "zpFHw_hpRzI8"
      },
      "source": [
        "<br>\n",
        "\n",
        "---\n",
        "**1.6. 다음과 같은 수식 계산을 해 보자. 원주율 $\\pi$는 3.14로 가정한다.**\n",
        "~~~\n",
        "1) 1에서 10까지 정수의 합\n",
        "2) 반지름의 길이가 5인 원의 둘레 \n",
        "3) 한 변의 길이가 20인 정사각형의 둘레\n",
        "4) 한 변의 길이가 20인 정사각형의 면적\n",
        "5) 높이가 10이고 밑변이 30인 직사각형의 둘레\n",
        "6) 높이가 10이고 밑변이 30인 직사각형의 면적\n",
        "~~~"
      ]
    },
    {
      "cell_type": "code",
      "metadata": {
        "id": "4jDDcM34SR-t"
      },
      "source": [
        "# your code here\n"
      ],
      "execution_count": null,
      "outputs": []
    },
    {
      "cell_type": "markdown",
      "metadata": {
        "id": "AsIkFa24STo5"
      },
      "source": [
        "<br>\n",
        "\n",
        "---\n",
        "**1.7. 정수 30의 팩토리얼(=$30!$)을 구하여 출력해 보시오.**\n"
      ]
    },
    {
      "cell_type": "code",
      "metadata": {
        "id": "KUls6zmRS8si"
      },
      "source": [
        "# your code here\n"
      ],
      "execution_count": null,
      "outputs": []
    },
    {
      "cell_type": "markdown",
      "metadata": {
        "id": "AXZSjbxbY_oN"
      },
      "source": [
        "<br>\n",
        "\n",
        "---\n",
        "**1.8. 다음의 대기 모델을 사용하여, 해발고도와 고도 1km, 2km, 3km에서의 공기밀도를 계산하시오.**\n",
        "\n",
        "$${\\displaystyle \\rho ={\\frac {pM}{RT}}={\\frac {pM}{RT_{0}\\left(1-{\\frac {Lh}{T_{0}}}\\right)}}={\\frac {p_{0}M}{RT_{0}}}\\left(1-{\\frac {Lh}{T_{0}}}\\right)^{{\\frac {gM}{RL}}-1}}\n",
        "$$\n",
        "\n",
        "위의 관계식에서 고도 $h$의 단위는 $m$이며, 그외 사용되는 파라미터들은 다음과 같다. 참고: https://en.wikipedia.org/wiki/Density_of_air\n",
        "\n",
        "- $p_{0}$, sea level standard atmospheric pressure, 101325 Pa\n",
        "- $T_{0}$, sea level standard temperature, 288.15 K\n",
        "- $g$, earth-surface gravitational acceleration, 9.80665 m/s/s\n",
        "- $L$, temperature lapse rate, 0.0065 K/m\n",
        "- $R$, ideal (universal) gas constant, 8.31446 J/(mol·K)\n",
        "- $M$, molar mass of dry air, 0.0289652 kg/mol"
      ]
    },
    {
      "cell_type": "code",
      "metadata": {
        "id": "v8uneiurZrgc"
      },
      "source": [
        "# your code here\n"
      ],
      "execution_count": null,
      "outputs": []
    }
  ]
}