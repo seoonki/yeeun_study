{
  "nbformat": 4,
  "nbformat_minor": 0,
  "metadata": {
    "colab": {
      "name": "ASE1302_HW04_sol.ipynb",
      "provenance": []
    },
    "kernelspec": {
      "name": "python3",
      "display_name": "Python 3"
    },
    "language_info": {
      "name": "python"
    }
  },
  "cells": [
    {
      "cell_type": "markdown",
      "metadata": {
        "id": "59dEBDMCzdhA"
      },
      "source": [
        "# ASE1302 - Assignment \\#04"
      ]
    },
    {
      "cell_type": "markdown",
      "metadata": {
        "id": "wfe0BM9_ze1W"
      },
      "source": [
        "__<div style=\"text-align: right\"> ASE1302: Computer programming, Inha University. </div>__\n",
        "_<div style=\"text-align: right\"> Jong-Han Kim (jonghank@inha.ac.kr) </div>_\n",
        "_<div style=\"text-align: right\"> Ho-Young Jeon (hy13776@inha.edu) </div>_\n"
      ]
    },
    {
      "cell_type": "markdown",
      "metadata": {
        "id": "NuUEthxbzrj-"
      },
      "source": [
        "<br>\n",
        "\n",
        "---\n",
        "**4.1 사용자로부터 a에서 z까지의 알파벳 문자 하나를 입력 받아서 a, e, i, o, u일 경우 다음과 같이 '모음입니다.'를 출력하고, 이외의 문자일 경우 '자음입니다.'를 출력하시오.**"
      ]
    },
    {
      "cell_type": "code",
      "metadata": {
        "colab": {
          "base_uri": "https://localhost:8080/"
        },
        "id": "ej72VN2uzsZK",
        "outputId": "1e8f5266-55ad-4ec2-ff00-9c3380cbd015"
      },
      "source": [
        "input_str = str(input(\"알파벳을 입력하시오 : \"))\n",
        "if input_str==\"a\" or input_str==\"e\" or input_str==\"i\" or input_str==\"o\" or input_str==\"u\":\n",
        "  print(f\"{input_str} (은)는 모음입니다.\")\n",
        "else:\n",
        "  print(f\"{input_str} (은)는 자음입니다.\")\n"
      ],
      "execution_count": null,
      "outputs": [
        {
          "output_type": "stream",
          "name": "stdout",
          "text": [
            "알파벳을 입력하시오 : i\n",
            "i (은)는 모음입니다.\n"
          ]
        }
      ]
    },
    {
      "cell_type": "markdown",
      "metadata": {
        "id": "L8VjaD_81Wyp"
      },
      "source": [
        "<br>\n",
        "\n",
        "---\n",
        "**4.2 다음과 같이 사용자로부터 임의의 정수 3개를 입력으로 받아서 가장 큰 수부터 작은 수까지 나열하는 프로그램을 if-else 문을 사용하여 작성하시오(힌트: 공백 단위로 구분되어 입력받은 숫자를 분리할 때 split()메소드를 사용하여라)**"
      ]
    },
    {
      "cell_type": "code",
      "metadata": {
        "colab": {
          "base_uri": "https://localhost:8080/"
        },
        "id": "txd2NLzY1YOi",
        "outputId": "ad303afb-2acc-48cf-c8b0-8f87ec32b1c2"
      },
      "source": [
        "input1, input2, input3 = input(\"세 정수를 입력하시오 : \").split()\n",
        "input1, input2, input3 = int(input1), int(input2), int(input3)\n",
        "if input1>input2 and input1>input3:\n",
        "  if input2>input3:\n",
        "    print(input1, input2, input3)\n",
        "  else:\n",
        "    print(input1, input3, input2)\n",
        "elif input2>input3 and input2>input1:\n",
        "  if input1>input3:\n",
        "    print(input2, input1, input3)\n",
        "  else:\n",
        "    print(input2, input3, input1)\n",
        "elif input3>input1 and input3>input2:\n",
        "  if input1>input2:\n",
        "    print(input3, input1, input2)\n",
        "  else:\n",
        "    print(input3, input2, input1)"
      ],
      "execution_count": null,
      "outputs": [
        {
          "output_type": "stream",
          "name": "stdout",
          "text": [
            "세 정수를 입력하시오 : 1234 34 22\n",
            "1234 34 22\n"
          ]
        }
      ]
    },
    {
      "cell_type": "markdown",
      "metadata": {
        "id": "0p-vuFrE30ty"
      },
      "source": [
        "<br>\n",
        "\n",
        "---\n",
        "**4.3 다음과 같이 사용자로부터 나이를 입력받아 20살 이상이면 \"Adult\", 10살 이상 20살 미만이면 \"Youth\", 10살 미만이면 \"Kid\"를 출력하는 프로그램을 if-elif-else 문을 사용하여 작성하시오.**"
      ]
    },
    {
      "cell_type": "code",
      "metadata": {
        "colab": {
          "base_uri": "https://localhost:8080/"
        },
        "id": "0q7SyuSl4PsJ",
        "outputId": "c8afe3e4-5ade-46bf-f18d-93383dd4530b"
      },
      "source": [
        "age_input = int(input(\"나이를 입력하시오 : \"))\n",
        "if age_input>=20:\n",
        "  print(\"Adult\")\n",
        "elif 10<=age_input<20:\n",
        "  print(\"Youth\")\n",
        "else:\n",
        "  print(\"Kid\")"
      ],
      "execution_count": null,
      "outputs": [
        {
          "output_type": "stream",
          "name": "stdout",
          "text": [
            "나이를 입력하시오 : 23\n",
            "Adult\n"
          ]
        }
      ]
    },
    {
      "cell_type": "markdown",
      "metadata": {
        "id": "omjl88JH4vpQ"
      },
      "source": [
        "<br>\n",
        "\n",
        "---\n",
        "**4.4 하나의 정수를 입력으로 받아서 이 정수가 2로 나누어지는지, 3으로 나누어지는지, 혹은 두 정수 모두로도 나누어지는 알려주는 프로그램을 다음과 같이 작성하시오. 예를들어 15와 같은 수가 입력되면 다음 출력 결과와 같은 화면이 나타나면 된다.**"
      ]
    },
    {
      "cell_type": "code",
      "metadata": {
        "colab": {
          "base_uri": "https://localhost:8080/"
        },
        "id": "9bwEcU1246hK",
        "outputId": "c547fe8b-57aa-4f43-ad81-3aa843c5c471"
      },
      "source": [
        "input_num = int(input(\"정수를 입력하시오 : \"))\n",
        "if input_num%3==0 and input_num%2==0:\n",
        "  print(f\"{input_num}는(은) 2와 3 모두 나누어 집니다.\")\n",
        "elif input_num%3==0 or input_num%2==0:\n",
        "  if input_num%3==0:\n",
        "    print(f\"{input_num}는(은) 3으로 나누어 집니다.\")\n",
        "  else:\n",
        "    print(f\"{input_num}는(은) 2로 나누어 집니다..\")\n",
        "else:\n",
        "  print(f\"{input_num}는(은) 2와 3 모두로 나누어지지 않습니다.\")"
      ],
      "execution_count": null,
      "outputs": [
        {
          "output_type": "stream",
          "name": "stdout",
          "text": [
            "정수를 입력하시오 : 223\n",
            "223는(은) 2와 3 모두로 나누어지지 않습니다.\n"
          ]
        }
      ]
    },
    {
      "cell_type": "markdown",
      "metadata": {
        "id": "iWAO1K5-7A_e"
      },
      "source": [
        "<br>\n",
        "\n",
        "---\n",
        "**4.5 random.randint(0, 9)를 사용하여 0에서 9사이의 복권번호 3개를 생성하도록 하자. 이들 중에서 3개의 숫자를 모두 맞히면 '1억원', 2개를 맞히면 '1천만원', 1개를 맞히면 '1만원', 모두 틀리면 '다음 기회에...'을 출력하는 복권 시스템이 있다고 가정하자. 사용자로부터 3개의 정수를 받은 다음 상금을 알려주는 프로그램을 다음과 같이 작성하시오.**"
      ]
    },
    {
      "cell_type": "code",
      "metadata": {
        "id": "vPeXvhtZ7CDE",
        "colab": {
          "base_uri": "https://localhost:8080/"
        },
        "outputId": "b91807e2-8b9a-4a44-a762-00a71c2872e8"
      },
      "source": [
        "from random import sample\n",
        "\n",
        "winning_nums = sample(range(0, 9), 3)\n",
        "input1, input2, input3 = input(\"세 복권번호를 입력하시오 : \").split()\n",
        "\n",
        "winning = 0\n",
        "winning += winning_nums.count(int(input1))\n",
        "winning += winning_nums.count(int(input2))\n",
        "winning += winning_nums.count(int(input3))\n",
        "\n",
        "if winning==0:\n",
        "  print(\"다음 기회에...\")\n",
        "elif winning==1:\n",
        "  print(\"상금 1만원\")\n",
        "elif winning==2:\n",
        "  print(\"상금 1천만원\")\n",
        "elif winning==3:\n",
        "  print(\"상금 1억원\")\n",
        "\n",
        "\n",
        "print(f\"당첨번호 : {winning_nums}\")\n",
        "\n"
      ],
      "execution_count": null,
      "outputs": [
        {
          "output_type": "stream",
          "name": "stdout",
          "text": [
            "세 복권번호를 입력하시오 : 3 1 2\n",
            "상금 1만원\n",
            "당첨번호 : [0, 6, 2]\n"
          ]
        }
      ]
    },
    {
      "cell_type": "markdown",
      "metadata": {
        "id": "ksAWhLQaACRE"
      },
      "source": [
        "<br>\n",
        "\n",
        "---\n",
        "**4.6 철수는 최근 식당을 오픈하여 자신의 식당 메뉴 주문 프로그램을 직접 개발하고자 한다. 이를 위하여 사용자에게 다음과 같은 메뉴를 보여주고 알파벳 b, c, p 중에서 하나를 선택하도록 하자. 이때 메뉴에 없는 알파벳이 입력되면 \"선택한 메뉴가 없습니다\"가 출력되도록 하여라.**"
      ]
    },
    {
      "cell_type": "code",
      "metadata": {
        "id": "dtnV92UlATg0",
        "colab": {
          "base_uri": "https://localhost:8080/"
        },
        "outputId": "e4d488c4-5768-4fe8-da92-5edda092a766"
      },
      "source": [
        "print(\"우리식당에 오신것을 환영합니다. 메뉴는 다음과 같습니다.\\n- 햄버거(입력 b)\\n-치킨(입력 c)\\n-피자(입력 p)\\n\")\n",
        "input_alpahbet = input(\"메뉴를 선택하세요(알파벳 b, c, p 입력) : \")\n",
        "\n",
        "if input_alpahbet == \"b\":\n",
        "  print(\"햄버거를 선택하였습니다.\")\n",
        "elif input_alpahbet == \"c\":\n",
        "  print(\"치킨을 선택하였습니다.\")\n",
        "elif input_alpahbet == \"p\":\n",
        "  print(\"피자를 선택하였습니다.\")\n",
        "else:\n",
        "  print(\"다시 입력하세요 !\")"
      ],
      "execution_count": null,
      "outputs": [
        {
          "output_type": "stream",
          "name": "stdout",
          "text": [
            "우리식당에 오신것을 환영합니다. 메뉴는 다음과 같습니다.\n",
            "- 햄버거(입력 b)\n",
            "-치킨(입력 c)\n",
            "-피자(입력 p)\n",
            "\n",
            "메뉴를 선택하세요(알파벳 b, c, p 입력) : b\n",
            "햄버거를 선택하였습니다.\n"
          ]
        }
      ]
    },
    {
      "cell_type": "markdown",
      "metadata": {
        "id": "36kvLHyjBMvA"
      },
      "source": [
        "<br>\n",
        "\n",
        "---\n",
        "**4.7 파이썬의 random.randint(1,100)을 이용하여 1에서 100 사이의 임의의 난수 2개를 생성하여라. 다음으로 두 수의 합을 묻는 질문을 사용자에게 던지도록 하자. 만일 사용자가 두 수의 합을 맞추면'잘했어요!!'를 출력하여라. 만일 틀릴 경우 '정답은 000입니다.'를 출력하여라.**"
      ]
    },
    {
      "cell_type": "code",
      "metadata": {
        "id": "SISkvhuBBYK-",
        "colab": {
          "base_uri": "https://localhost:8080/"
        },
        "outputId": "5cdfcfc2-9a0d-4d21-d513-5a02fa6583c5"
      },
      "source": [
        "from random import sample\n",
        "\n",
        "nums = sample(range(1, 100), 2)\n",
        "nums_add = nums[0] + nums[1]\n",
        "print(f\"num1 : {nums[0]}, num2 : {nums[1]}\")\n",
        "input_num = int(input(\"두 수의 합은 ? : \"))\n",
        "\n",
        "if input_num == nums_add:\n",
        "  print(\"잘했어요!!\")\n",
        "else:\n",
        "  print(f\"틀렸습니다! 정답은 {nums[0]} + {nums[1]} = {nums_add} 입니다.\")"
      ],
      "execution_count": null,
      "outputs": [
        {
          "output_type": "stream",
          "name": "stdout",
          "text": [
            "num1 : 52, num2 : 27\n",
            "두 수의 합은 ? : 79\n",
            "잘했어요!!\n"
          ]
        }
      ]
    },
    {
      "cell_type": "markdown",
      "metadata": {
        "id": "nZggQj3ODbK6"
      },
      "source": [
        "<br>\n",
        "\n",
        "---\n",
        "**4.8 덧셈, 뺄셈, 곱셈, 나눗셈을 수행해주는 프로그램을 작성하려 한다. 원하는 연산의 번호(1:덧셈, 2:뺄셈, 3: 곱셈, 4:나눗셈)을 입력후, 두 개의 양의 정수를 입력하면 연산 결과를 출력해준다. 이때 연산의 번호에서 1,2,3,4가 아닌 다른 값이 입력되면 '잘못 입력하였습니다.'를 출력한다. 또한, 각 연산에 배정된 숫자가 아닌, 다른 숫자를 입력하면 잘못 입력하였다는 정보를 출력하여야 한다.**"
      ]
    },
    {
      "cell_type": "code",
      "metadata": {
        "id": "G5T5kDcOD3Rl",
        "colab": {
          "base_uri": "https://localhost:8080/"
        },
        "outputId": "bdc78608-278a-4b70-d032-944be94abd02"
      },
      "source": [
        "print(\"1) 덧셈 2)뺄셈 3)곱셈 4)나눗셈\")\n",
        "operator = int(input(\"어떤 연산을 원하는지 번호를 입력하세요: \"))\n",
        "input1, input2 = input(\"연산을 원하는 숫자 두개를 입력하세요 : \").split()\n",
        "input1, input2 = int(input1), int(input2)\n",
        "if operator==1:\n",
        "  print(f\"{input1} + {input2} = {input1 + input2}\")\n",
        "elif operator==2:\n",
        "  print(f\"{input1} - {input2} = {input1 - input2}\")\n",
        "elif operator==3:\n",
        "  print(f\"{input1} * {input2} = {input1*input2}\")\n",
        "elif operator==4:\n",
        "  print(f\"{input1} / {input2} = {input1/input2}\")\n"
      ],
      "execution_count": null,
      "outputs": [
        {
          "output_type": "stream",
          "name": "stdout",
          "text": [
            "1) 덧셈 2)뺄셈 3)곱셈 4)나눗셈\n",
            "어떤 연산을 원하는지 번호를 입력하세요: 3\n",
            "연산을 원하는 숫자 두개를 입력하세요 : 2 4\n",
            "2 * 4 = 8\n"
          ]
        }
      ]
    },
    {
      "cell_type": "code",
      "metadata": {
        "id": "b9Wb83RYAzqh"
      },
      "source": [],
      "execution_count": null,
      "outputs": []
    }
  ]
}