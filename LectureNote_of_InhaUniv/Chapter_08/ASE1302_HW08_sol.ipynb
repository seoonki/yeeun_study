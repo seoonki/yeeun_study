{
  "nbformat": 4,
  "nbformat_minor": 0,
  "metadata": {
    "colab": {
      "name": "ASE1302_HW08_sol.ipynb",
      "provenance": []
    },
    "kernelspec": {
      "name": "python3",
      "display_name": "Python 3"
    },
    "language_info": {
      "name": "python"
    }
  },
  "cells": [
    {
      "cell_type": "markdown",
      "metadata": {
        "id": "dERL9SWxBngM"
      },
      "source": [
        "# ASE1302 - Assignment \\#08"
      ]
    },
    {
      "cell_type": "markdown",
      "metadata": {
        "id": "8jA1FtcbBszP"
      },
      "source": [
        "__<div style=\"text-align: right\"> ASE1302: Computer programming, Inha University. </div>__\n",
        "_<div style=\"text-align: right\"> Jong-Han Kim (jonghank@inha.ac.kr) </div>_\n",
        "_<div style=\"text-align: right\"> Ho-Young Jeon (hy13776@inha.edu) </div>_\n"
      ]
    },
    {
      "cell_type": "markdown",
      "metadata": {
        "id": "Ig4zSkS_Bt7t"
      },
      "source": [
        "<br>\n",
        "\n",
        "---\n",
        "**8.1 철수네 과일가게는 \"사과\", \"배\", \"수박\", \"귤\", \"포도\"를 판매하는 중이다. 매일 매일 입고되는 가격에 따라서 가격이 결정되므로 아침마다 각 과일의 가격을 입력하는 기능을 만들어서 입력하면 이를 출력하여 다음과 같이 표시하고자 한다. 이와 같은 기능을 수행하는 파이썬 프로그램을 작성하여라. 이때 {'사과' : 3000}과 같이 입력된 값을 키-값의 쌍으로 된 fruits_price 딕셔너리에 추가한 후 for 문과 items()를 사용하여 출력하도록 하여라.**"
      ]
    },
    {
      "cell_type": "code",
      "metadata": {
        "colab": {
          "base_uri": "https://localhost:8080/"
        },
        "id": "oDJoKht_Bv6y",
        "outputId": "cc820437-b0d2-4b84-cb1f-5c500d85c41a"
      },
      "source": [
        "fruits_dic = {'사과': 0, '배': 0, '수박': 0, '귤': 0,'포도': 0}\n",
        "apple, pear, watermelon, mandarin, grape = input(\"사과, 배, 수박, 귤, 포도 가격을 공백으로 구분하여 입력: \").split()\n",
        "\n",
        "fruits_dic['사과'] = apple\n",
        "fruits_dic['배'] = pear\n",
        "fruits_dic['수박'] = watermelon\n",
        "fruits_dic['귤'] = mandarin\n",
        "fruits_dic['포도'] = grape\n",
        "\n",
        "print(\"-----------------오늘의 과일 가격 ------------\")\n",
        "for fruit, price in fruits_dic.items():\n",
        "  print(f\"{fruit}: {price}원\")\n"
      ],
      "execution_count": null,
      "outputs": [
        {
          "output_type": "stream",
          "name": "stdout",
          "text": [
            "사과, 배, 수박, 귤, 포도 가격을 공백으로 구분하여 입력: 3000 4500 6000 2400 3400\n",
            "-----------------오늘의 과일 가격 ------------\n",
            "사과: 3000원\n",
            "배: 4500원\n",
            "수박: 6000원\n",
            "귤: 2400원\n",
            "포도: 3400원\n"
          ]
        }
      ]
    },
    {
      "cell_type": "markdown",
      "metadata": {
        "id": "qWezK2kRP0HN"
      },
      "source": [
        "**8.2 8.1번 문제에서 입력받은 fruits_price 딕셔너리의 가격정보를 사용하여 고객이 과일의 이름을 알려주는 다음과 같은 프로그램을 작성하여라.**"
      ]
    },
    {
      "cell_type": "code",
      "metadata": {
        "colab": {
          "base_uri": "https://localhost:8080/"
        },
        "id": "-MW9C_Z8P9EE",
        "outputId": "4bcfd2a8-e707-4c56-c232-8d33369ef328"
      },
      "source": [
        "fruit = input(\"구매를 원하는 과일의 이름을 입력하시오 : \")\n",
        "\n",
        "print(f\"오늘의 {fruit} 가격은 {fruits_dic[fruit]} 원 입니다.\")"
      ],
      "execution_count": null,
      "outputs": [
        {
          "output_type": "stream",
          "name": "stdout",
          "text": [
            "구매를 원하는 과일의 이름을 입력하시오 : 포도\n",
            "오늘의 포도 가격은 3400 원 입니다.\n"
          ]
        }
      ]
    },
    {
      "cell_type": "markdown",
      "metadata": {
        "id": "3spOHLuBQayy"
      },
      "source": [
        "<br>\n",
        "\n",
        "---\n",
        "**8.3 학번, 이름, 전화번호의 3쌍의 요소를 가지는 student_tup라는 튜플이 다음과 같이 존재한다.**  "
      ]
    },
    {
      "cell_type": "code",
      "metadata": {
        "id": "xGb4JBR2QNPm"
      },
      "source": [
        "##### Don't modify this cell #####\n",
        "student_tup = (('21101', '최성훈', '010-1234-4500'), ('21102', '김은지', '010-2230-6540'), ('21103', '이세은', '010-3232-7788'))"
      ],
      "execution_count": null,
      "outputs": []
    },
    {
      "cell_type": "markdown",
      "metadata": {
        "id": "TLXeOsOPRO6x"
      },
      "source": [
        "**8.3.1 이 튜블을 수정하여 {학번 : [이름, 전화번호]}의 쌍으로 이루어진 딕셔너리를 만들어서 출력하여라.**"
      ]
    },
    {
      "cell_type": "code",
      "metadata": {
        "colab": {
          "base_uri": "https://localhost:8080/"
        },
        "id": "LxAO3iUcRPTN",
        "outputId": "941068ed-e698-470d-8af1-3dada3a95b2e"
      },
      "source": [
        "student_dic = {}\n",
        "\n",
        "for i in range(len(student_tup)):\n",
        "  student_dic[student_tup[i][0]] = [student_tup[i][1], student_tup[i][2]]\n",
        "\n",
        "print(\"학생의 정보목록\")\n",
        "print(student_dic)"
      ],
      "execution_count": null,
      "outputs": [
        {
          "output_type": "stream",
          "name": "stdout",
          "text": [
            "학생의 정보목록\n",
            "{'21101': ['최성훈', '010-1234-4500'], '21102': ['김은지', '010-2230-6540'], '21103': ['이세은', '010-3232-7788']}\n"
          ]
        }
      ]
    },
    {
      "cell_type": "markdown",
      "metadata": {
        "id": "rgxPXyXYRSEI"
      },
      "source": [
        "**8.3.2 이 정보를 이용하여 학생의 학번을 입력으로 받아서 이름과 전화번호를 출력하는 학사 정보 프로그램을 작성하여라.**"
      ]
    },
    {
      "cell_type": "code",
      "metadata": {
        "colab": {
          "base_uri": "https://localhost:8080/"
        },
        "id": "ZxHtHbx6S0P_",
        "outputId": "ef834e38-afca-4bc6-cbde-978926a91344"
      },
      "source": [
        "student_ID = input(\"학번을 입력하시오 : \")\n",
        "\n",
        "print(f\"이름 : {student_dic[student_ID][0]}\")\n",
        "print(f\"연락처 : {student_dic[student_ID][1]}\")"
      ],
      "execution_count": null,
      "outputs": [
        {
          "output_type": "stream",
          "name": "stdout",
          "text": [
            "학번을 입력하시오 : 21103\n",
            "이름 : 이세은\n",
            "연락처 : 010-3232-7788\n"
          ]
        }
      ]
    },
    {
      "cell_type": "markdown",
      "metadata": {
        "id": "ErangxxiUdLO"
      },
      "source": [
        "**8.3.3 student_tup의 마지막 항목으로 직전학기의 학점을 추가하여라. 세 학생의 학점은 각각 4.3, 3.9, 4.25이다. 이 정보를 바탕으로 다음과 같은 딕셔너리를 만들어서 학생 정보를 출력하여라.**"
      ]
    },
    {
      "cell_type": "code",
      "metadata": {
        "id": "oEMoYqp0UoPL",
        "colab": {
          "base_uri": "https://localhost:8080/"
        },
        "outputId": "77a4f57f-e05e-4c4c-9031-a0c72f9d880f"
      },
      "source": [
        "student_dic[\"21101\"].append(4.3)\n",
        "student_dic[\"21102\"].append(3.9)\n",
        "student_dic[\"21103\"].append(4.25)\n",
        "\n",
        "\n",
        "print(\"학생의 정보 목록\")\n",
        "print(student_dic)"
      ],
      "execution_count": null,
      "outputs": [
        {
          "output_type": "stream",
          "name": "stdout",
          "text": [
            "학생의 정보 목록\n",
            "{'21101': ['최성훈', '010-1234-4500', 4.3], '21102': ['김은지', '010-2230-6540', 3.9], '21103': ['이세은', '010-3232-7788', 4.25]}\n"
          ]
        }
      ]
    },
    {
      "cell_type": "markdown",
      "metadata": {
        "id": "-2ldr0L-JPQc"
      },
      "source": [
        "**8.3.4 문제 8.3.3의 정보를 이용하여 for 반목문과 인덱싱을 통해서 세 학생의 학점의 평균값을 다음과 같이 출력하여라.**"
      ]
    },
    {
      "cell_type": "code",
      "metadata": {
        "id": "nclDMCZMI4zH"
      },
      "source": [
        "grade_avg = 0\n",
        "\n",
        "for value in student_dic.values():\n",
        "  grade_avg += value[2]\n",
        "\n",
        "grade_avg /= len(student_dic)\n",
        "print(f\"전체 학생의 학점 평균 : {grade_avg}\")"
      ],
      "execution_count": null,
      "outputs": []
    },
    {
      "cell_type": "markdown",
      "metadata": {
        "id": "WfY1rn0GR8kt"
      },
      "source": [
        "<br>\n",
        "\n",
        "---\n",
        "**8.4 다음과 같은 리스트 데이터가 있다. 이 데이터에서 중복되는 원소는 10, 20, 30 이며 각각 2회, 3회, 4회 나타난다. 중복되는 원소를 한 번씩만 출력하도록 프로그램을 작성하여라.**  "
      ]
    },
    {
      "cell_type": "code",
      "metadata": {
        "id": "4-_sJAJSSFL2"
      },
      "source": [
        "##### Don't modify this cell #####\n",
        "lst = [10, 30, 40, 50, 30, 30, 20, 20, 20, 10, 30]"
      ],
      "execution_count": null,
      "outputs": []
    },
    {
      "cell_type": "code",
      "metadata": {
        "colab": {
          "base_uri": "https://localhost:8080/"
        },
        "id": "zg0a1cEBSSvv",
        "outputId": "9a1d5f20-de39-4803-d7f7-b6c21b808ebb"
      },
      "source": [
        "lst_set = set(lst)\n",
        "print(lst_set)"
      ],
      "execution_count": null,
      "outputs": [
        {
          "output_type": "stream",
          "name": "stdout",
          "text": [
            "{40, 10, 50, 20, 30}\n"
          ]
        }
      ]
    },
    {
      "cell_type": "markdown",
      "metadata": {
        "id": "xUS05d_aIF2k"
      },
      "source": [
        "<br>\n",
        "\n",
        "---\n",
        "**Colab notebook에서 파일 불러오는 방법**"
      ]
    },
    {
      "cell_type": "code",
      "metadata": {
        "id": "gK2uctGYIWzI"
      },
      "source": [
        "import os\n",
        "from google.colab import drive\n",
        "drive.mount('/content/drive')\n",
        "os.chdir('/content/drive/MyDrive/Colab Notebooks')"
      ],
      "execution_count": null,
      "outputs": []
    },
    {
      "cell_type": "markdown",
      "metadata": {
        "id": "eGrmfZ0PSZBX"
      },
      "source": [
        "<br>\n",
        "\n",
        "---\n",
        "**8.5 triangles.txt에는 서로 다른 세 개의 점이 직교 좌표계에 표현되어 삼각형을 이룬다. 다음과 같이 두개의 삼각형을 가정해보자.**  \n",
        "$$\n",
        "A_1(-300, 400), B_1(-140, -800), C_1(835, 847)\n",
        "$$\n",
        "$$\n",
        "A_2(-170, 40), B_2(-400, -720), C_2(570, -650)\n",
        "$$\n",
        "\n",
        "**다음 그림과 같이 삼각형 $A_1B_1C_1$은 원점을 포함하지만, $A_2B_2C_2$는 원점을 포함하지 않는다. traingles.txt에는 천개의 삼각형의 데이터가 존재한다. 천개의 삼각형 중 원점을 포함하는 삼각형의 갯수를 구하여라.**"
      ]
    },
    {
      "cell_type": "code",
      "metadata": {
        "colab": {
          "base_uri": "https://localhost:8080/",
          "height": 909
        },
        "id": "29hnpmI47CFb",
        "outputId": "e9771a80-1916-4324-b68e-ed321653b831"
      },
      "source": [
        "##### Don't modify this cell #####\n",
        "import matplotlib.pyplot as plt\n",
        "\n",
        "def plot_tri(XYZ):\n",
        "  XYZ.append(XYZ[0])\n",
        "  xs, ys = zip(*XYZ)\n",
        "  plt.figure(figsize=(5,5), dpi=100)\n",
        "  plt.plot(xs,ys, color='b')\n",
        "  plt.scatter(0, 0, color='k', label=\"origin\")\n",
        "  plt.xlabel(\"x-axis\")\n",
        "  plt.ylabel(\"y-axis\")\n",
        "  plt.legend()\n",
        "  plt.xlim(-1000, 1000)\n",
        "  plt.ylim(-1000, 1000)\n",
        "  plt.grid()\n",
        "  plt.show()\n",
        "\n",
        "ABC_1 = [[-300, 400], [-140, -800], [835, 847]]\n",
        "ABC_2 = [[-170,40], [-400, -720], [570, -650]]\n",
        "\n",
        "plot_tri(ABC_1)\n",
        "plot_tri(ABC_2)"
      ],
      "execution_count": null,
      "outputs": [
        {
          "output_type": "display_data",
          "data": {
            "image/png": "[encoded data removed]",
            "text/plain": [
              "<Figure size 500x500 with 1 Axes>"
            ]
          },
          "metadata": {
            "needs_background": "light"
          }
        },
        {
          "output_type": "display_data",
          "data": {
            "image/png": "[encoded data removed]",
            "text/plain": [
              "<Figure size 500x500 with 1 Axes>"
            ]
          },
          "metadata": {
            "needs_background": "light"
          }
        }
      ]
    },
    {
      "cell_type": "markdown",
      "metadata": {
        "id": "fBL4f4wPmNtF"
      },
      "source": [
        "**Hint1. 삼각형 ABC가 원점을 포함할 경우, 세개의 삼각형 ABO, AOC, OBC의 넓이의 합이 ABC의 넓이와 동일하다.**\n",
        "\n",
        "**Hint2. 직교 좌표계에서 세 개의 점으로 이루어진 삼각형 넓이를 구하는 공식은 다음과 같다.**\n",
        "\n",
        "\n",
        "$$\n",
        "A = (x_A, y_A), B = (x_B, y_B), C = (x_C, y_C)\n",
        "$$\n",
        "$$\n",
        "Area = \\frac{1}{2}\\left| (x_A-x_C)(y_B-y_A)-(x_A-x_B)(y_C-y_A) \\right|\n",
        "$$\n",
        "\n",
        "**Hint3. readlines() 함수는 한 번에 모든 줄을 읽고, 한줄로 된 문자열 리스트를 반환한다.**"
      ]
    },
    {
      "cell_type": "code",
      "metadata": {
        "colab": {
          "base_uri": "https://localhost:8080/",
          "height": 463
        },
        "id": "VDKK6rWyegar",
        "outputId": "2507177b-a64a-49c0-9316-87327fee25bd"
      },
      "source": [
        "##### Don't modify this cell #####\n",
        "ABC = [[-300, 400], [-140, -800], [835, 847]]\n",
        "ABC.append(ABC[0])\n",
        "xs, ys = zip(*ABC)\n",
        "ABO = [ABC[0], ABC[1], [0,0]]\n",
        "ABO.append(ABO[0])\n",
        "xs1, ys1 = zip(*ABO)\n",
        "AOC = [ABC[0], [0,0], ABC[2]]\n",
        "AOC.append(AOC[0])\n",
        "xs2, ys2 = zip(*AOC)\n",
        "OBC = [[0,0 ], ABC[1], ABC[2]]\n",
        "OBC.append(OBC[0])\n",
        "xs3, ys3 = zip(*OBC)\n",
        "\n",
        "\n",
        "plt.figure(figsize=(5,5), dpi=100)\n",
        "plt.plot(xs,ys, color='k')\n",
        "plt.plot(xs1,ys1, color='b', linestyle=':', alpha=0.3)\n",
        "plt.plot(xs2,ys2, color='b', linestyle=':', alpha=0.3)\n",
        "plt.plot(xs3,ys3, color='b', linestyle=':', alpha=0.3)\n",
        "plt.scatter(0, 0, color='k', label=\"origin\")\n",
        "plt.xlabel(\"x-axis\")\n",
        "plt.ylabel(\"y-axis\")\n",
        "plt.legend()\n",
        "plt.xlim(-1000, 1000)\n",
        "plt.ylim(-1000, 1000)\n",
        "plt.grid()\n",
        "plt.show()\n"
      ],
      "execution_count": null,
      "outputs": [
        {
          "output_type": "display_data",
          "data": {
            "image/png": "[encoded data removed]",
            "text/plain": [
              "<Figure size 500x500 with 1 Axes>"
            ]
          },
          "metadata": {
            "needs_background": "light"
          }
        }
      ]
    },
    {
      "cell_type": "code",
      "metadata": {
        "colab": {
          "base_uri": "https://localhost:8080/"
        },
        "id": "r1nRUBHTjz-s",
        "outputId": "ccab12a3-944b-4d6c-8094-d612b05a7b0a"
      },
      "source": [
        "def calculate_area (A, B, C):\n",
        "\treturn 0.5*abs((A[0] - C[0])*(B[1] - A[1]) - (A[0] - B[0])*(C[1] - A[1]))\n",
        "\n",
        "def contains_O (AOB, BOC, AOC, ABC):\n",
        "\treturn ABC == (AOB + BOC + AOC)\n",
        "\n",
        "def calc_tri_contains0():\n",
        "\tfile = open('triangles.txt', 'r').readlines()\n",
        "\torigin = [0, 0]\n",
        "\tcontained = 0\n",
        "\tfor line in file:\n",
        "\t\tline = line.strip('\\n').split(',')\n",
        "\t\tline = [int(i) for i in line]\n",
        "\t\tarea_ABC = calculate_area(line[0:2], line[2:4], line[4:6])\n",
        "\t\tarea_AOB = calculate_area(line[0:2], origin, line[2:4])\n",
        "\t\tarea_AOC = calculate_area(line[0:2], origin, line[4:6])\n",
        "\t\tarea_BOC = calculate_area(line[2:4], origin, line[4:6])\n",
        "\t\tif contains_O(area_AOB, area_BOC, area_AOC, area_ABC):\n",
        "\t\t\tcontained = contained + 1\n",
        "\n",
        "\tprint(f\"원점을 포함하는 삼각형의 갯수 : {contained}\")\n",
        "\n",
        "calc_tri_contains0()"
      ],
      "execution_count": null,
      "outputs": [
        {
          "output_type": "stream",
          "name": "stdout",
          "text": [
            "원점을 포함하는 삼각형의 갯수 : 228\n"
          ]
        }
      ]
    }
  ]
}