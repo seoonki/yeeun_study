{
  "nbformat": 4,
  "nbformat_minor": 5,
  "metadata": {
    "hide_input": false,
    "kernelspec": {
      "display_name": "Python 3",
      "language": "python",
      "name": "python3"
    },
    "language_info": {
      "codemirror_mode": {
        "name": "ipython",
        "version": 3
      },
      "file_extension": ".py",
      "mimetype": "text/x-python",
      "name": "python",
      "nbconvert_exporter": "python",
      "pygments_lexer": "ipython3",
      "version": "3.7.3"
    },
    "latex_envs": {
      "LaTeX_envs_menu_present": true,
      "autoclose": true,
      "autocomplete": true,
      "bibliofile": "biblio.bib",
      "cite_by": "apalike",
      "current_citInitial": 1,
      "eqLabelWithNumbers": true,
      "eqNumInitial": 1,
      "hotkeys": {
        "equation": "Ctrl-E",
        "itemize": "Ctrl-I"
      },
      "labels_anchors": false,
      "latex_user_defs": false,
      "report_style_numbering": false,
      "user_envs_cfg": false
    },
    "toc": {
      "base_numbering": 1,
      "nav_menu": {},
      "number_sections": true,
      "sideBar": true,
      "skip_h1_title": false,
      "title_cell": "Table of Contents",
      "title_sidebar": "Contents",
      "toc_cell": false,
      "toc_position": {},
      "toc_section_display": true,
      "toc_window_display": true
    },
    "varInspector": {
      "cols": {
        "lenName": 16,
        "lenType": 16,
        "lenVar": 40
      },
      "kernels_config": {
        "python": {
          "delete_cmd_postfix": "",
          "delete_cmd_prefix": "del ",
          "library": "var_list.py",
          "varRefreshCmd": "print(var_dic_list())"
        },
        "r": {
          "delete_cmd_postfix": ") ",
          "delete_cmd_prefix": "rm(",
          "library": "var_list.r",
          "varRefreshCmd": "cat(var_dic_list()) "
        }
      },
      "types_to_exclude": [
        "module",
        "function",
        "builtin_function_or_method",
        "instance",
        "_Feature"
      ],
      "window_display": false
    },
    "colab": {
      "name": "ASE1302_HW03_sol.ipynb",
      "provenance": []
    }
  },
  "cells": [
    {
      "cell_type": "markdown",
      "metadata": {
        "id": "figured-terrorist"
      },
      "source": [
        "# ASE1302 - Assignment \\#03"
      ],
      "id": "figured-terrorist"
    },
    {
      "cell_type": "markdown",
      "metadata": {
        "id": "28spi2TbEnmZ"
      },
      "source": [
        "__<div style=\"text-align: right\"> ASE1302: Computer programming, Inha University. </div>__\n",
        "_<div style=\"text-align: right\"> Jong-Han Kim (jonghank@inha.ac.kr) </div>_\n",
        "_<div style=\"text-align: right\"> Gyubin Park (gyubin@inha.edu) </div>_\n",
        "\n"
      ],
      "id": "28spi2TbEnmZ"
    },
    {
      "cell_type": "markdown",
      "metadata": {
        "id": "valued-holly"
      },
      "source": [
        "<br>\n",
        "\n",
        "---\n",
        "**3.1 다음과 같이 2에서 6까지의 제곱 값을 표로 출력하는 프로그램 square_table.py를 작성하시오. 아래 결과와 같이 a는 2에서 6까지 증가되는 수가 있으며, n은 2의 값을 가진다. 그리고 a \\*\\* n에 해당하는 부분은 실제 값을 넣어서 2 \\*\\* 2와 같은 수식의 결과가 출력되도록 하시오.**\n",
        "\n",
        "(힌트 : a와 n에 각각 2를 할당한 후 print(a, '$\\quad$', n, '$\\quad$', a \\*\\* n)을 출력해 보고, 무엇을 바꾸면 될지 생각해 보자)\n",
        " ~~~\n",
        "a    n    a ** n\n",
        "2    2    4\n",
        "3    2    9\n",
        "4    2    16\n",
        "5    2    25\n",
        "6    2    36\n",
        " ~~~"
      ],
      "id": "valued-holly"
    },
    {
      "cell_type": "code",
      "metadata": {
        "id": "B1xQviKlHi90",
        "colab": {
          "base_uri": "https://localhost:8080/"
        },
        "outputId": "6e04e52b-1a26-447a-b44e-f47a6ed3a2d0"
      },
      "source": [
        "# 3.1 solution\n",
        "\n",
        "n = 2\n",
        "a = 2\n",
        "print('a      n      a ** n')\n",
        "print(a, '    ', n, '    ', a**n)\n",
        "a +=1\n",
        "print(a, '    ', n, '    ', a**n)\n",
        "a +=1\n",
        "print(a, '    ', n, '    ', a**n)\n",
        "a +=1\n",
        "print(a, '    ', n, '    ', a**n)\n",
        "a +=1\n",
        "print(a, '    ', n, '    ', a**n)"
      ],
      "id": "B1xQviKlHi90",
      "execution_count": null,
      "outputs": [
        {
          "output_type": "stream",
          "name": "stdout",
          "text": [
            "a      n      a ** n\n",
            "2      2      4\n",
            "3      2      9\n",
            "4      2      16\n",
            "5      2      25\n",
            "6      2      36\n"
          ]
        }
      ]
    },
    {
      "cell_type": "markdown",
      "metadata": {
        "id": "blond-tourist"
      },
      "source": [
        "<br>\n",
        "\n",
        "---\n",
        "**3.2 거듭제곱 연산자( \\*\\* )을 이용하여 어떤 수의 제곱근을 구할 수 있다. 1부터 10까지 수의 제곱근을 구해서 다음과 같이 출력하는 sqrt_table.py라는 프로그램을 작성하시오.**\n",
        "\n",
        "(힌트 : 2의 제곱근은 2 \\*\\* 0.5 로 구할 수 있다)\n",
        " ~~~\n",
        " 2의 제곱근 = 1.4142135623730951\n",
        " 3의 제곱근 = 1.7320508075688772\n",
        " 4의 제곱근 = 2.0\n",
        " 5의 제곱근 = 2.23606797749979\n",
        " 6의 제곱근 = 2.449489742783178\n",
        " 7의 제곱근 = 2.6457513110645907\n",
        " 8의 제곱근 = 2.8284271247461903\n",
        " 9의 제곱근 = 3.0\n",
        " 10의 제곱근 = 3.1622776601683795\n",
        " ~~~"
      ],
      "id": "blond-tourist"
    },
    {
      "cell_type": "code",
      "metadata": {
        "id": "accessible-uganda",
        "colab": {
          "base_uri": "https://localhost:8080/"
        },
        "outputId": "56174cad-1a4a-4ade-f372-c47e13811a3c"
      },
      "source": [
        "# 3.2 solution\n",
        "\n",
        "print('2의 제곱근 =', 2**0.5)\n",
        "print('3의 제곱근 =', 3**0.5)\n",
        "print('4의 제곱근 =', 4**0.5)\n",
        "print('5의 제곱근 =', 5**0.5)\n",
        "print('6의 제곱근 =', 6**0.5)\n",
        "print('7의 제곱근 =', 7**0.5)\n",
        "print('8의 제곱근 =', 8**0.5)\n",
        "print('9의 제곱근 =', 9**0.5)\n",
        "print('10의 제곱근 =', 10**0.5)"
      ],
      "id": "accessible-uganda",
      "execution_count": null,
      "outputs": [
        {
          "output_type": "stream",
          "name": "stdout",
          "text": [
            "2의 제곱근 = 1.4142135623730951\n",
            "3의 제곱근 = 1.7320508075688772\n",
            "4의 제곱근 = 2.0\n",
            "5의 제곱근 = 2.23606797749979\n",
            "6의 제곱근 = 2.449489742783178\n",
            "7의 제곱근 = 2.6457513110645907\n",
            "8의 제곱근 = 2.8284271247461903\n",
            "9의 제곱근 = 3.0\n",
            "10의 제곱근 = 3.1622776601683795\n"
          ]
        }
      ]
    },
    {
      "cell_type": "markdown",
      "metadata": {
        "id": "accessory-ordinary"
      },
      "source": [
        "<br>\n",
        "\n",
        "---\n",
        "**3.3 비트 이동 연산자를 이용하여 2의 거듭제곱 수 10개를 다음과 같이 표시하시오.**\n",
        "\n",
        "(힌트 : 2 << 1 의 결과는 4이다)\n",
        " ~~~\n",
        " 2 4 8 16 32 64 128 256 512 1024\n",
        " ~~~"
      ],
      "id": "accessory-ordinary"
    },
    {
      "cell_type": "code",
      "metadata": {
        "id": "extensive-blast",
        "colab": {
          "base_uri": "https://localhost:8080/"
        },
        "outputId": "ee97f5a4-8169-49f8-ff14-eb6495bad035"
      },
      "source": [
        "# 3.3 solution\n",
        "\n",
        "print(2 << 0, 2 << 1, 2 << 2, 2 << 3, 2 << 4, 2 << 5, 2 << 6, 2 << 7, 2 << 8, 2 << 9)"
      ],
      "id": "extensive-blast",
      "execution_count": null,
      "outputs": [
        {
          "output_type": "stream",
          "name": "stdout",
          "text": [
            "2 4 8 16 32 64 128 256 512 1024\n"
          ]
        }
      ]
    },
    {
      "cell_type": "markdown",
      "metadata": {
        "id": "operating-interest"
      },
      "source": [
        "<br>\n",
        "\n",
        "---\n",
        "**3.4 사용자부터 입력받은 정수 값 n이 0에서 100의 범위 안에 있는 짝수인지 그렇지 않은지를 판단하는 코드를 작성하여 다음과 같은 결과가 나타나도록 하시오.**\n",
        "~~~\n",
        "정수를 입력하세요 : 120\n",
        "입력된 정수는 0에서 100의 범위 안에 있는 짝수인가요? False\n",
        "정수를 입력하세요 : 88\n",
        "입력된 정수는 0에서 100의 범위 안에 있는 짝수인가요? True\n",
        "~~~"
      ],
      "id": "operating-interest"
    },
    {
      "cell_type": "code",
      "metadata": {
        "id": "distributed-travel",
        "colab": {
          "base_uri": "https://localhost:8080/"
        },
        "outputId": "765343e2-a2f7-4ac5-e0d5-45392584eb0b"
      },
      "source": [
        "# 3.4 solution\n",
        "\n",
        "num = input('정수를 입력하세요 : ')\n",
        "n = int(num)\n",
        "print('입력된 정수는 0에서 100의 범위 안에 있는 짝수인가요?', (n%2 == 0) and (n >= 0) and (n <= 100))"
      ],
      "id": "distributed-travel",
      "execution_count": null,
      "outputs": [
        {
          "output_type": "stream",
          "name": "stdout",
          "text": [
            "정수를 입력하세요 : 88\n",
            "입력된 정수는 0에서 100의 범위 안에 있는 짝수인가요? True\n"
          ]
        }
      ]
    },
    {
      "cell_type": "markdown",
      "metadata": {
        "id": "graduate-surgeon"
      },
      "source": [
        "<br>\n",
        "\n",
        "---\n",
        "**3.5 정수 5를 이진수로 표현하면 0b101이며 6은 0b110이며 이 값은 다음과 같이 출력할 수 있다.**  \n",
        "~~~\n",
        ">>> print(bin(5))\n",
        "0b101\n",
        ">>> print(bin(6))\n",
        "0b110\n",
        "~~~\n",
        "**이 두 정수의 비트 단위 AND, OR, XOR 연산을 수행한 후 다음과 같이 결과를 출력하시오.**\n",
        "~~~\n",
        "0b101 & 0b110 = 0b100\n",
        "0b101 | 0b110 = 0b111\n",
        "0b101 ^ 0b110 = 0b11\n",
        "~~~"
      ],
      "id": "graduate-surgeon"
    },
    {
      "cell_type": "code",
      "metadata": {
        "id": "present-parker",
        "colab": {
          "base_uri": "https://localhost:8080/",
          "height": 262
        },
        "outputId": "5a36ded1-742a-46a6-800b-19d13ef6d8b1"
      },
      "source": [
        "# 3.5 solution\n",
        "\n",
        "print(bin(5), '&', bin(6), '=', bin(5&6))\n",
        "print(bin(5), '|', bin(6), '=', bin(5|6))\n",
        "print(bin(5), '^', bin(6), '=', bin(5^6))\n",
        "\n",
        "\n",
        "a = bin(5)\n",
        "b = bin(6)\n",
        "\n",
        "print(f\"{a} & {b} = {a & b}\")  \n"
      ],
      "id": "present-parker",
      "execution_count": null,
      "outputs": [
        {
          "output_type": "stream",
          "name": "stdout",
          "text": [
            "0b101 & 0b110 = 0b100\n",
            "0b101 | 0b110 = 0b111\n",
            "0b101 ^ 0b110 = 0b11\n"
          ]
        },
        {
          "output_type": "error",
          "ename": "TypeError",
          "evalue": "ignored",
          "traceback": [
            "\u001b[0;31m---------------------------------------------------------------------------\u001b[0m",
            "\u001b[0;31mTypeError\u001b[0m                                 Traceback (most recent call last)",
            "\u001b[0;32m<ipython-input-5-7b5e27e8712e>\u001b[0m in \u001b[0;36m<module>\u001b[0;34m()\u001b[0m\n\u001b[1;32m      9\u001b[0m \u001b[0mb\u001b[0m \u001b[0;34m=\u001b[0m \u001b[0mbin\u001b[0m\u001b[0;34m(\u001b[0m\u001b[0;36m6\u001b[0m\u001b[0;34m)\u001b[0m\u001b[0;34m\u001b[0m\u001b[0;34m\u001b[0m\u001b[0m\n\u001b[1;32m     10\u001b[0m \u001b[0;34m\u001b[0m\u001b[0m\n\u001b[0;32m---> 11\u001b[0;31m \u001b[0mprint\u001b[0m\u001b[0;34m(\u001b[0m\u001b[0;34mf\"{a} & {b} = {a & b}\"\u001b[0m\u001b[0;34m)\u001b[0m\u001b[0;34m\u001b[0m\u001b[0;34m\u001b[0m\u001b[0m\n\u001b[0m",
            "\u001b[0;31mTypeError\u001b[0m: unsupported operand type(s) for &: 'str' and 'str'"
          ]
        }
      ]
    },
    {
      "cell_type": "markdown",
      "metadata": {
        "id": "further-poverty"
      },
      "source": [
        "<br>\n",
        "\n",
        "---\n",
        "**3.6 사용자로부터 2개의 정수 a와 b를 입력으로 받은 다음 a를 b로 나눈 몫과 나머지를 다음과 같이 출력하시오.**\n",
        "~~~\n",
        "정수 a를 입력하시오 : 202\n",
        "정수 b를 입력하시오 : 50\n",
        "a / b의 몫 : 4\n",
        "a / b의 나머지 : 2\n",
        "~~~"
      ],
      "id": "further-poverty"
    },
    {
      "cell_type": "code",
      "metadata": {
        "id": "offensive-fields",
        "colab": {
          "base_uri": "https://localhost:8080/"
        },
        "outputId": "a80aa5f3-fc24-4eea-899a-7869ae0a5967"
      },
      "source": [
        "# 3.6 solution\n",
        "\n",
        "str_a = input('정수 a를 입력하시오 : ')\n",
        "str_b = input('정수 b를 입력하시오 : ')\n",
        "print('a / b의 몫 :', int(str_a)//int(str_b))\n",
        "print('a / b의 나머지 :', int(str_a)%int(str_b))"
      ],
      "id": "offensive-fields",
      "execution_count": null,
      "outputs": [
        {
          "output_type": "stream",
          "name": "stdout",
          "text": [
            "정수 a를 입력하시오 : 202\n",
            "정수 b를 입력하시오 : 50\n",
            "a / b의 몫 : 4\n",
            "a / b의 나머지 : 2\n"
          ]
        }
      ]
    },
    {
      "cell_type": "markdown",
      "metadata": {
        "id": "instructional-celebration"
      },
      "source": [
        "<br>\n",
        "\n",
        "---\n",
        "**3.7 사용자로부터 세 자리 정수를 입력으로 받으시오. 이때 입력받은 정수 n에 대한 백의 자리, 십의 자리, 일의 자리 십진수 값을 다음과 같이 출력하시오.**\n",
        "\n",
        "(힌트 : // 연산자와 % 연산자를 사용하시오. 예를 들어 백의 자리는 n // 100 을 통해서 구할 수 있다)\n",
        "~~~\n",
        "세 자리 정수를 입력하시오 : 349\n",
        "백의 자리 : 3\n",
        "십의 자리 : 4\n",
        "일의 자리 : 9\n",
        "~~~"
      ],
      "id": "instructional-celebration"
    },
    {
      "cell_type": "code",
      "metadata": {
        "id": "closing-drawing",
        "colab": {
          "base_uri": "https://localhost:8080/"
        },
        "outputId": "0632f4cd-d0a7-4a78-b6a2-0c50811e6ed6"
      },
      "source": [
        "# 3.7 solution\n",
        "\n",
        "n = int(input('세 자리 정수를 입력하시오 : '))\n",
        "print('백의 자리 :', n//100)\n",
        "print('십의 자리 :', ((n - (n//100)*100))//10)\n",
        "print('일의 자리 :', (n - (n//10)*10)//1)"
      ],
      "id": "closing-drawing",
      "execution_count": null,
      "outputs": [
        {
          "output_type": "stream",
          "name": "stdout",
          "text": [
            "세 자리 정수를 입력하시오 : 349\n",
            "백의 자리 : 3\n",
            "십의 자리 : 4\n",
            "일의 자리 : 9\n"
          ]
        }
      ]
    },
    {
      "cell_type": "markdown",
      "metadata": {
        "id": "secondary-performer"
      },
      "source": [
        "<br>\n",
        "\n",
        "---\n",
        "**3.8\n",
        "$$$$\n",
        "1) 사용자로부터 세 자리 정수를 입력으로 받으시오. 이때 입력받은 정수를 다음과 같이 역순으로 출력하시오.**\n",
        "\n",
        "(힌트 : // 연산자와 % 연산자를 사용하시오)\n",
        "~~~\n",
        "세 자리 정수를 입력하시오 : 349\n",
        "9\n",
        "4\n",
        "3\n",
        "~~~\n",
        "**2) 문제 1)의 결과를 참고하여 사용자로부터 입력받은 3자리 숫자를 거꾸로 만든 3자리 숫자를 출력하시오.**\n",
        "~~~\n",
        "세 자리 정수를 입력하시오 : 349\n",
        "943\n",
        "~~~"
      ],
      "id": "secondary-performer"
    },
    {
      "cell_type": "code",
      "metadata": {
        "id": "spcqZrreiczP",
        "colab": {
          "base_uri": "https://localhost:8080/"
        },
        "outputId": "b4faa1ce-1071-4d84-9c52-cb3b03a8c693"
      },
      "source": [
        "# 3.8-1 solution\n",
        "\n",
        "n = int(input('세 자리 정수를 입력하시오 : '))\n",
        "n_100 = n//100\n",
        "n_10 = n%(100)//10\n",
        "n_1 = n%(10)\n",
        "print(n_100)\n",
        "print(n_10)\n",
        "print(n_1)\n",
        "\n",
        "# 3.8-2 solution\n",
        "\n",
        "n = int(input('세 자리 정수를 입력하시오 : '))\n",
        "n_100 = n//100\n",
        "n_10 = n%(100)//10\n",
        "n_1 = n%(10)\n",
        "print(n_1*100 + n_10*10 + n_100)"
      ],
      "id": "spcqZrreiczP",
      "execution_count": null,
      "outputs": [
        {
          "output_type": "stream",
          "name": "stdout",
          "text": [
            "세 자리 정수를 입력하시오 : 349\n",
            "3\n",
            "4\n",
            "9\n",
            "세 자리 정수를 입력하시오 : 349\n",
            "943\n"
          ]
        }
      ]
    },
    {
      "cell_type": "markdown",
      "metadata": {
        "id": "elLdvG1ULr9F"
      },
      "source": [
        "<br>\n",
        "\n",
        "---\n",
        "**3.9 이동 거리 구하기 : 평균 시속과 이동 시간을 입력으로 받아 다음과 같이 이 이동 시간을 시간, 분, 초 단위로 출력하고, 이동한 거리를 계산하여 출력하시오.**\n",
        "~~~\n",
        "평균 시속(km/h)을 입력하세요 : 46.5\n",
        "이동 시간(h)을 입력하세요 : 12.342\n",
        "평균 시속 : 46.5 km/h\n",
        "이동 시간 : 12시간 20분 31초\n",
        "이동 거리 : 573.903 km\n",
        "~~~"
      ],
      "id": "elLdvG1ULr9F"
    },
    {
      "cell_type": "code",
      "metadata": {
        "id": "pgsbReFMMTF1",
        "colab": {
          "base_uri": "https://localhost:8080/"
        },
        "outputId": "b918bf5b-4a48-4870-b2e3-bf59f454a530"
      },
      "source": [
        "# 3.9 solution\n",
        "\n",
        "vel = float(input('평균 시속(km/h)을 입력하세요 : '))\n",
        "time = float(input('이동 시간(h)을 입력하세요 : '))\n",
        "print('평균 시속 :', vel, 'km/h')\n",
        "hour = int(time//1)\n",
        "min = int((time%1)*60//1)\n",
        "sec = int(((time%1)*60%1)*60)\n",
        "print('이동 시간 :', hour, '시간', min, '분', sec, '초')\n",
        "print('이동 거리 :', vel*time, 'km')"
      ],
      "id": "pgsbReFMMTF1",
      "execution_count": null,
      "outputs": [
        {
          "output_type": "stream",
          "name": "stdout",
          "text": [
            "평균 시속(km/h)을 입력하세요 : 46.5\n",
            "이동 시간(h)을 입력하세요 : 12.342\n",
            "평균 시속 : 46.5 km/h\n",
            "이동 시간 : 12 시간 20 분 31 초\n",
            "이동 거리 : 573.903 km\n"
          ]
        }
      ]
    },
    {
      "cell_type": "markdown",
      "metadata": {
        "id": "rEBMbL-gMUh-"
      },
      "source": [
        "<br>\n",
        "\n",
        "---\n",
        "\n",
        "**3.10 다음과 같이 사용자로부터 두 점의 좌표 (x1, y1), (x2, y2)를 입력받아 두 점 사이의 거리를 출력하시오.**\n",
        "~~~\n",
        "x1 좌표를 입력하시오 : 0\n",
        "y1 좌표를 입력하시오 : 0\n",
        "x2 좌표를 입력하시오 : 3\n",
        "y2 좌표를 입력하시오 : 4\n",
        "두 점의 거리: 5.0\n",
        "~~~"
      ],
      "id": "rEBMbL-gMUh-"
    },
    {
      "cell_type": "code",
      "metadata": {
        "id": "mihH2uNPVcoZ",
        "colab": {
          "base_uri": "https://localhost:8080/"
        },
        "outputId": "088d6380-7560-4382-9c22-29aa5dbbb3df"
      },
      "source": [
        "# 3.10 solution\n",
        "\n",
        "x1 = int(input('x1 좌표를 입력하시오 : '))\n",
        "y1 = int(input('y1 좌표를 입력하시오 : '))\n",
        "x2 = int(input('x2 좌표를 입력하시오 : '))\n",
        "y2 = int(input('y2 좌표를 입력하시오 : '))\n",
        "print('두 점의 거리 :', ((x2 - x1)**2 + (y2 - y1)**2)**0.5)"
      ],
      "id": "mihH2uNPVcoZ",
      "execution_count": null,
      "outputs": [
        {
          "output_type": "stream",
          "name": "stdout",
          "text": [
            "x1 좌표를 입력하시오 : 0\n",
            "y1 좌표를 입력하시오 : 0\n",
            "x2 좌표를 입력하시오 : 3\n",
            "y2 좌표를 입력하시오 : 4\n",
            "두 점의 거리 : 5.0\n"
          ]
        }
      ]
    },
    {
      "cell_type": "markdown",
      "metadata": {
        "id": "IA4mGNvgg4NB"
      },
      "source": [
        "<br>\n",
        "\n",
        "---\n",
        "**3.11 3.10의 일부 코드를 참고하여 직각삼각형의 빗변을 이루는 선분의 양 끝점을 나타내는 두 좌표 (x1, y1), (x2, y2)를 입력받아 직각삼각형의 면적을 구하는 프로그램을 작성하시오(참고 : 직각삼각형의 면적은 (밑변x높이)/2 로 구할 수 있다. 입력되는 좌표는 x2가 x1보다 크고, y2가 y1보다 크다). 위 문제의 결과는 다음과 같이 나타난다.**\n",
        "~~~\n",
        "x1 좌표를 입력하시오 : 0\n",
        "y1 좌표를 입력하시오 : 0\n",
        "x2 좌표를 입력하시오 : 3\n",
        "y2 좌표를 입력하시오 : 4\n",
        "직각삼각형의 면적은 : 6.0\n",
        "~~~"
      ],
      "id": "IA4mGNvgg4NB"
    },
    {
      "cell_type": "code",
      "metadata": {
        "id": "v2ccj6dYhqmf",
        "colab": {
          "base_uri": "https://localhost:8080/"
        },
        "outputId": "046b0b07-e1cd-44cb-aa36-0e881a92613e"
      },
      "source": [
        "# 3.11 solution\n",
        "\n",
        "x1 = int(input('x1 좌표를 입력하시오 : '))\n",
        "y1 = int(input('y1 좌표를 입력하시오 : '))\n",
        "x2 = int(input('x2 좌표를 입력하시오 : '))\n",
        "y2 = int(input('y2 좌표를 입력하시오 : '))\n",
        "print('두 점의 거리 :', (x2 - x1)*(y2 - y1)*0.5)"
      ],
      "id": "v2ccj6dYhqmf",
      "execution_count": null,
      "outputs": [
        {
          "output_type": "stream",
          "name": "stdout",
          "text": [
            "x1 좌표를 입력하시오 : 0\n",
            "y1 좌표를 입력하시오 : 0\n",
            "x2 좌표를 입력하시오 : 3\n",
            "y2 좌표를 입력하시오 : 4\n",
            "두 점의 거리 : 6.0\n"
          ]
        }
      ]
    },
    {
      "cell_type": "markdown",
      "metadata": {
        "id": "A0gdoaXy8hV0"
      },
      "source": [
        "<br>\n",
        "\n",
        "---\n",
        "**3.12 다음과 같은 공식을 참고하여 입체도형의 부피를 구하는 함수를 만드시오. 원주율 $\\pi$는 3.14로 두고 원뿔, 구, 원기둥 부피의 근사값을 구하시오.**\n",
        "\n",
        "| 입체도형 |    입체도형의 부피     | 입력 값 |\n",
        "| ---------|     :-----------:      | ----- |\n",
        "| 정육면체 |         $s^3$          | $s$ : 모서리의 길이 |\n",
        "| 직육면체 |         $lwh$          | $w$ : 가로, $h$ : 세로, $l$ : 깊이 |\n",
        "|   원뿔   | $\\frac{1}{3}{\\pi}r^2h$ | $r$ : 원뿔의 반지름, $h$ : 원뿔의 높이 |\n",
        "|    구    |  $\\frac{4}{3}{\\pi}r^3$ | $r$ : 구의 반지름 |\n",
        "|  원기둥  |      ${\\pi}r^2h$       | $r$ : 원기둥의 반지름, $h$ : 원기둥의 높이 |\n",
        "\n",
        "~~~\n",
        "(1) 모서리의 길이가 13인 정육면체\n",
        "(2) 모서리의 길이가 22인 정육면체\n",
        "(3) 가로, 세로 길이가 각각 17, 25, 16인 직육면체\n",
        "(4) 반지름과 높이가 각각 10, 15인 원뿔\n",
        "(5) 반지름이 25인 구\n",
        "(6) 반지름과 높이가 각각 10, 15인 원기둥\n",
        "(7) import math를 이용하여 math.pi 값을 가져와서 (4), (5), (6)번 문제를 다시 풀어보아라.\n",
        "~~~"
      ],
      "id": "A0gdoaXy8hV0"
    },
    {
      "cell_type": "code",
      "metadata": {
        "id": "wH0IvmIFAfdZ",
        "colab": {
          "base_uri": "https://localhost:8080/"
        },
        "outputId": "02654fb9-e0c9-4d07-a75d-3399a53af8e8"
      },
      "source": [
        "# 3.12 solution\n",
        "\n",
        "pi = 3.14\n",
        "print('(1) 모서리의 길이가 13인 정육면체의 부피 :', 13**3)\n",
        "print('(2) 모서리의 길이가 22인 정육면체의 부피 :', 22**3)\n",
        "print('(3) 가로, 세로 길이가 각각 17, 25, 16인 직육면체의 부피 :', 17*25*16)\n",
        "print('(4) 반지름과 높이가 각각 10, 15인 원뿔의 부피 :', pi*10**2*15/3)\n",
        "print('(5) 반지름이 25인 구의 부피 :', 4*pi*25**3/3)\n",
        "print('(6) 반지름과 높이가 각각 10, 15인 원기둥의 부피 :', pi*10**2*15)\n",
        "import math\n",
        "print('(7) import math를 이용하여 math.pi 값을 가져와서 (4), (5), (6)번 문제를 다시 풀어보아라. :', math.pi*10**2*15/3, ',', 4*math.pi*25**3/3, ',', math.pi*10**2*15)"
      ],
      "id": "wH0IvmIFAfdZ",
      "execution_count": null,
      "outputs": [
        {
          "output_type": "stream",
          "name": "stdout",
          "text": [
            "(1) 모서리의 길이가 13인 정육면체의 부피 : 2197\n",
            "(2) 모서리의 길이가 22인 정육면체의 부피 : 10648\n",
            "(3) 가로, 세로 길이가 각각 17, 25, 16인 직육면체의 부피 : 6800\n",
            "(4) 반지름과 높이가 각각 10, 15인 원뿔의 부피 : 1570.0\n",
            "(5) 반지름이 25인 구의 부피 : 65416.666666666664\n",
            "(6) 반지름과 높이가 각각 10, 15인 원기둥의 부피 : 4710.0\n",
            "(7) import math를 이용하여 math.pi 값을 가져와서 (4), (5), (6)번 문제를 다시 풀어보아라. : 1570.7963267948965 , 65449.84694978735 , 4712.38898038469\n"
          ]
        }
      ]
    },
    {
      "cell_type": "markdown",
      "metadata": {
        "id": "MhnjwkUDunHM"
      },
      "source": [
        "<br>\n",
        "\n",
        "---\n",
        "**3.13 $Binary~Decimal~Conversion,~Full~Adder.$\n",
        "$$$$\n",
        "1) 익히 알려진 대로, 컴퓨터는 2진법을 이용해 모든 정보를 처리한다. 그 중 덧셈 연산은 사용자로부터 입력받은 두 개의 피연산자(operand)를 2진수로 변환한 뒤 전가산기(full adder)에 집어넣어 수행할 수 있다. 본 문제에서는 3비트 컴퓨터를 고려하여, 사용자로부터 0과 7 사이의 정수 두 개를 입력받을 것이다. 먼저 사용자가 입력한 2개의 10진수 정수를 2진수로 변환하는 프로그램을 작성하시오.**\n",
        "\n",
        "![001.PNG](data:image/png;base64,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)\n",
        "\n",
        "~~~\n",
        "0과 7 사이의 정수 a를 입력하시오 : 6\n",
        "0과 7 사이의 정수 b를 입력하시오 : 7\n",
        "\n",
        "a를 2진수로 변환하면 : 1 1 0\n",
        "b를 2진수로 변환하면 : 1 1 1\n",
        "~~~"
      ],
      "id": "MhnjwkUDunHM"
    },
    {
      "cell_type": "code",
      "metadata": {
        "colab": {
          "base_uri": "https://localhost:8080/"
        },
        "id": "LIfW1ovG48IA",
        "outputId": "2f612033-734e-4892-f7d9-a5331b329919"
      },
      "source": [
        "# 3.13-1 solution\n",
        "\n",
        "a = int(input('0과 7 사이의 정수 a를 입력하시오 : '))\n",
        "b = int(input('0과 7 사이의 정수 b를 입력하시오 : '))\n",
        "\n",
        "a3 = a % 2\n",
        "a2 = (a // 2) % 2\n",
        "a1 = (a // 2) // 2\n",
        "\n",
        "b3 = b % 2\n",
        "b2 = (b // 2) % 2\n",
        "b1 = (b // 2) // 2\n",
        "\n",
        "print('\\na를 2진수로 변환하면 :', a1, a2, a3)\n",
        "print('b를 2진수로 변환하면 :', b1, b2, b3)"
      ],
      "id": "LIfW1ovG48IA",
      "execution_count": null,
      "outputs": [
        {
          "output_type": "stream",
          "name": "stdout",
          "text": [
            "0과 7 사이의 정수 a를 입력하시오 : 6\n",
            "0과 7 사이의 정수 b를 입력하시오 : 7\n",
            "\n",
            "a를 2진수로 변환하면 : 1 1 0\n",
            "b를 2진수로 변환하면 : 1 1 1\n"
          ]
        }
      ]
    },
    {
      "cell_type": "markdown",
      "metadata": {
        "id": "-zVb_5dMOmcj"
      },
      "source": [
        "**2) 2진수로 변환된 두 개의 숫자는 전가산기에 가수(addend)와 피가수(augend)로 입력되어, 합(sum)과 올림수(carry)를 출력한다. 전가산기의 구조를 참고하여, 2진수의 덧셈을 수행하는 프로그램을 작성하고 그 결과를 올림수를 포함해 나타내시오(4비트).** \n",
        "\n",
        "![002.PNG](data:image/png;base64,iVBORw0KGgoAAAANSUhEUgAABjQAAAIKCAYAAACEIqZcAAAAAXNSR0IArs4c6QAAAARnQU1BAACxjwv8YQUAAAAJcEhZcwAADsMAAA7DAcdvqGQAAOQgSURBVHhe7P0P7Fxpftd7otBinMgZ7FyHaxHvMMSWMFlrY5QmskYWaQWLcaJWxgFL7rAtEpjeYG/6apykw1iWpU5ohNUyjINMbptpQifqJIZ4g5U1xpp4yOim2W1Cc7FR68YJjpkshvgGNxhwwHvTgdr9HNf310+d/j6nzqnfqfN8T9X7JX1l/86pP089dapO1fOp55zfMwEAAAAAAAAAAAiOQAMAAAAAAAAAAIRHoAEAAAAAAAAAAMIj0AAAAAAAAAAAAOERaAAAAAAAAAAAgPAINAAAAAAAAAAAQHgEGgAAAAAAAAAAIDwCDQAAAAAAAAAAEB6BBgAAAAAAAAAACI9AAwAAAAAAAAAAhEegAQAAAAAAAAAAwiPQAAAAAAAAAAAA4RFoAAAAAAAAAACA8Ag0AAAAAAAAAABAeAQaAAAAAAAAAAAgPAINAAAAAAAAAAAQHoEGAAAAAAAAAAAIj0ADAAAAAAAAAACER6ABAAAAAAAAAADCI9AAAAAAAAAAAADhEWgAAAAAAAAAAIDwCDQAAAAAAAAAAEB4BBoAAAAAAAAAACA8Ag0AAAAAAAAAABAegQYAAAAAAAAAAAiPQAMAAKyUl19+efLxj398cujQocn58+cn9+7d21j+e37P76nqq7/6qye7du2qLqfau3fv5Jlnntmo7/me75kcP368uo5u44033phcv3598qUvfWny5S9/efLo0aPqNgEAAAAAwHAINAAAwEpJgwvVU089VQUUP/iDPzizfLO1bdu2yf79+yfPPvvs5MUXX5ycO3ducunSpcnbb789efDgwbQ1AAAAAACgLwQaAABg5WgWxZUrVybPP//8ZMuWLVUAsXXr1slP/MRPVMv/zJ/5M5OPfOQj1fKv+qqvmnz+85+vZl+obty4Uc3IuHDhQhWOKKxQIKIZHwcPHqxmdNhtNtWOHTuq2R66vm5Lt03QAQAAAADA4gg0AADASrtz587k8OHDVcig2RqvvfZa4/K2FE7cvHlzcvXq1eq6Z86cqYIPhRg7d+6cCTfSUtChcOTUqVNVuHL//v3pLQIAAAAAgCYEGgAAYC3YoagUXuh8GCa3fLMePnxYHX5KYYdmaSjoUJiRhhtWmvVx9OjR6nwdus7jx4+ntwIAAAAAAAyBBgAAWBtnz56tAgQdfur27dvTpfnly6CZHZrVoSBFM0R0Lo403FDpkFZap0NVaSYJAAAAAAAg0AAAAGtGh4VSaKBZEenhnnLLh/Duu+9OXn/99cnx48erE42n4YZqz5491SwPzSBh9gYAAAAAYF0RaAAAgLXy/vvvVyf3VlCgWRAmt7wEBSpvvvlmdVLz+vk4NItEy3X+DcINAAAAAMA6IdAAAABrR4d9sqBAwYDJLS/tnXfeqQ6LpfNw6FwfFm7ocFUvvPDC5MaNG1UgAwAAAADAKiPQAAAAa0mHeFIosHfv3pkwILc8CoUuOtG4zSax0gnHdViqZZ8DBAAAAACAUgg0AADAWlJYodBCYYBCDJNbHtG9e/cm58+f/9B5Nw4dOjS5fPkyszYAAAAAACuFQAMAAKwtHVZKAYAOM/Xo0aPp0vzyyDQz4+TJk9VhqCzY2LVr1+SVV14Z/CTnAAAAAAAsA4EGAABYazovhQb/NfCfyi2PTgGMDkm1b9++jWBjy5YtVdhBsAEAAAAAGDMCDQAAsNZ0Qm0N+n/84x+fLnkit3xM9BiOHDlCsAEAAAAAWAkEGgCAIu7evTs5ffr0ZPfu3RuDrU8//XS17Nq1a9XyixcvTi8NLNeePXuqbVABQCq3fGxu3rxJsAEAAAAAGD0CDQDA4BRYbN++vapLly5N3nvvvWr5W2+9tTHgqtLlgCGcPXu22uaef/756ZIncsvHygs29Bg5eTgAAAAAYAwINAAAg1JIoYFUhRm3bt2aLv3AJz/5yY3BVgs6gGW7d+/e5KmnnqoG+B8+fDhdml8+dvVgQ+fbePvtt6drAQAAAACIiUADADAYBRQKMjSAqpkZHgs0dPgpYEjPPvtste3phNqp3PJVcP369Y3DaqmOHz++UsENAAAAAGC1EGgAAAZz4sSJatBU58fIsXNq6FwaKEsD2y+99FIVLm3btq36V3+v6oD35cuXq23v4MGD0yVP5JavisePH09efvnlahaKHueuXbuqw78BAAAAABANgQYAYBDp7Izcyb51Ga1Xcf6MsjSgrYFtez7SWtUBbw3sa1Bfh5h69OjRdGl++aq5c+fO5JlnnqmeYz1WnVsDAAAAAIBICDQAAIOwc2eovHNnSHoZzp9RjmZg5MIMK61fxZkaNqCvQzGlcstXjU4OrtkaCjT0eA8fPjx58ODBdC0AAAAAAGURaAAABvHqq69uDIbnHDt2rFrP+TPK0mGl7LlqKl1u1WgwX4/t1KlT0yVP5JavKgU3O3bsqB6zwitOGA4AAAAAiIBAAwAwCDvZt8qjQxjZ+iHOn2H3RVFd6mu/9munW9Dqu3fvXhUu6nFv3bqV82oAAAAAAIoj0AAADKIp0NDhpTRwaufYyJ0/Q7M87KTh+r/R/+26OvF4G9YWiupSX/EVX7HS59Go0yGojh49Wj12hRpf+tKXpmsAAAAAABgegQYAYBB2OClVnUKI9JBU9ktwnWtDQYjoXwsxLNRQEKLldnn7NfmlS5eqv7EY68d5taqHBlv382jUpaGGzq1x+fLl6RoAAAAAAIZFoAEAGMTFixc3BsItmLh7924VdCiUUHhh6zVDQ39r1oUdfio9SbgFGgpC0hOM67Lp7WMx63wODeE8Gh+mUOPFF1+sHr9CDQ4/BQAAAAAogUADADAIBRJ2WKi09Ct/Cyvq673DR+mytr4+E8MOa8UMjc15+PBhdSJo62evtF6XW0VXr16tHuORI0emS57ILV8nx48fr/pg586dk/v370+XAgAAAAAwDAINAMBgNJvCDmek8EIzKdKZFwoitNzWeezk4ZqlUaflqnTWBhajfs6FGlq+yr/Qv337dvU49+3bN13yRG75OtFMDTv01qFDh6q/AQAAAAAYCoEGAGBUFHRoMNUORWUs6FAYgn5oBoYOK5WeU0N/r+rMDKNBej3WLVu2TJc8kVu+bjQzQzM01BfrePgtAAAAAEA5BBoAgFGxk4vXDytlQYedRBz9Ut+q1sWePXuqx3vv3r3pkidyy9fN22+/XZ1LQ33xzjvvTJcCAAAAALBcBBoAgFGx82zohOIpO38GJwRfDvWtal0cPny4erz1Q2vllq8jO0n6gQMHpksAAAAAAFguAg0AwGgoxNAAqndYKZ1TIx1oTs/Ngc1T36rWxYsvvlg93tdff3265InccqMT2VtfpVWfUaS/65fxzgtjtD0rrEsP/6VSkKfl87Z3e300lW5b7W8b1jx69Gjj0FNvvvnmdCkAAAAAAMtDoAEAGA0bBPYOK2UDvRqMVWkAl5OD98cGvdfF+fPnq8dbP0dEbnmqHmpcu3ZtumaWHSZNpevk2Mny7XK6PW3jFy9e3AgqtL4emtTZ4drsduy1Ur8tlS7bxhtvvFFdXieKf/z48XQpAAAAAADLQaABABgNnQhcg6feYaU0yKtBXZUGa+uHpMLm2ED3urhy5Ur1eL/ne75nuuSJ3PK6dCZFLmhQiKD1umxOOpNDwUOdZmak95ULT0TXt8vlDs2Whh65y6R0ovT9+/dXl2eWBgAAAABg2Qg0AADAXDbIvS6+9KUvVY/36NGj0yVP5JbXpeFBLrCwGRG5mUR2iDVVU7igUMNmcOjf3OGn2gQa6X3qttqwWStHjhyZLgEAAAAAYDkINAAAwFw2yL0uLLh45plnpkueyC33pIeeqs/SUKCg5U1BRXr9eefIsNlLTbfZJtAQC0dUbdy7d6+67JYtW6rzagAAAAAAsCydRib+3J/7c5M9e/ZMnnvuuepQCxRFtS+9bvT6sfrEJz7hXo6irL71W7+12laaDiEDDKXLAPcqeOedd6rHWw8ucss9uZkTmgWhv5sONaXLWp+3OZ+FZnnY5XO32zbQ0Dlq7HJtHTx4sLr80Iedevjw4eSll16qHvO2bduqf/W3lgMAAAAAVk+nkQkNrNkXXIqiKGqY0uFcgNJse1wXX/7yl6vHu2/fvumSJ3LLc+w8GSrNohALDJpOWp+eO6MpfEjZ5VXejI62gYZdRofEauvcuXPVdY4fPz5dsnx6PDoZubU3LS3XegAAAADAauk0MqFfDOtL4i/+4i9Ofu3Xfo2iqA6l10062PKn//Sfdi9HUVYvvvhita3oEDdAafbetS4suPj4xz8+XfJEbnmTdMaDggT7t4ldTpU7qXhdej/eYH6bQKNt6FF3/fr16jpDnUdDMzByYYaV1jNTAwAAAABWC4EGRQ1UBBpU1yLQQCT23rUu7LwQ9eAit7xJejgolWY+zDsnxrxwwrPZQENt0iGbtL7pcFgeOxTXgQMHpkuWS4eVssfSVLocAAAAAGB1EGhQ1EBFoEF1LQINRGLvXetEj/epp56a/vWB3PImbU7anVp2oKETjutvK7XPzveh/88LXOos6KE+XD/4gz84efvtt6c9hUXo/Cg6zNvzzz8/uXLlyuTx48fV8m/5lm+p+vgrvuIrJl/zNV9TzcpR2KhSuKZz3aiOHj1afY85c+bM5JVXXpm88cYbk8uXL1f713fffXdy//796vYAAAAAxEegQVEDFYEG1bUINBCJvXetk9xjXqQv0nNppCcIz1l2oOGVZo40nddjHu82qSelAEwD6e+///60t9BFvT937tw5ef311yd/4k/8iQ+tW7T0HOl8gQpA9J3n5ZdfroKPGzduTO7cuTNtCQAAAIDSCDQoaqAi0KC6FoEGIrH3rnWix9vHDI27d+9WIYYCA+tHzZBosuxAI50louU2O0P/LhJq6Bfuur5+IT8EOzTWvOp66Ky+PXr0aOPzs0qzBnQeFnSjfrx9+/bk/Pnzk/3798/05z/9p/908rM/+7PV+Vs+8pGPVMu/6qu+qrqs9p8qnYdG4YRCilOnTlXPiS6v8GLv3r2THTt2bNxmrrZs2VLd93PPPTc5e/ZsNVNEbQIAAAAwLAINihqoCDSorrXKgcaxY8dmXg8a6EVs9lytiz7PoWHbu4KNtkGFAg+7nGZ3tJHethdK5AINSdctEgLcvHlz4esuYmzn0NDhjWzQfOvWrdXsAixOAYWdFF6zNSxY0EyKw4cPV8sVOr722mvV8jZ0GCtdX/tchR+aUXP8+PHJs88+Wx3uSrdn21VaFnTosrqeDmEFAAAAYHkINChqoCLQoLrWqs/QSAdQ5/1aHeXZc7Uu9Ct6Pd56cJFbnnPt2rXq8hYgKNSwvmwa/Nfl7XI6p0Ub6SwLT1OgIWnQ2DZEMdevX6+up8HfITx8+HBjQDtXWq/LRaEwzAbbVZoh8ODBg+ladKVZQYcOHar6UqFGeh4MzcTQcoUQ2jb7oMOFKaxQOKVZHnr+dIgqez7T0jk/9FyrHbr/SNshAAAAMHYEGhQ1UBFoUF1rHQ45Za+HroOnGJ49V+vCggv9MjuVW+7ReTLsUFPpOTPSsCK37WuGhV2mzayHNChRMOGZF2ikt6F2dzkx+IULF6rrvfDCC9Mly6fHkws1tFzrI9KhkPSrfmtnXwPu60ghgw4bpb7ULAkdmsrosFBarhkxyzw0lO7znXfeqZ5XHY5KYadth2np8FgKODhBPAAAALA5BBoUNVARaFBda9UDjXTAdjMnIsYw7LlaFxqg1OPVYGkqt9xjh43SLI2UggI7n0ZTcJCec0NhQ5P0pOO5gfx5gYakh7rKXcZjv5R/8803p0uGoV++67BSCn2s3fo7+i/i9Uv/9FwQer/XIY/QnZ5rnQdD/ahZEemJ1+27i0KGdAbHsum+dI4NbYsHDx7cCLCsdPix559/vnq9MEsHAAAA6IZAg6IGKgINqmuteqBhA7C5w+MgFnvvWhd63enx1oOL3PI6Cw90XguPzgFgfZqbUZFepumwbGlAkrs/aRNoLDJLQwOyOrSPBm3TX8gPzdo9Fhp4T88FokF5nYsE3encFzrslPrx5MmT06VP+liBgpYr7ChFr4urV69W+/X6Yar02lEgqPOqEG4AAAAA8xFoUNRARaBBda1VDzTsl+C5wVzEYu9d68KCi6NHj06XPJFbnlIIoDBAl6vPzkilMzByl0tP9K2Aw2OvJd1n00yONoGGpLM02py/QwOxuqzOKVCStXlstE3ZobM0uH3u3LmZWQZox16b6sP0EFMKCSzs0KyJCBTA6ITlOudMOntD/9frSDM3mLEDAAAA+Ag0KGqgItCgutaqBxo2mMv5M8bB3rvWhQY+9Xj12SeVW24UZqSHP2obaCiM8A69pttLT9atsEG3qXBCAYfdl/6dd1iq9HZ037nZF+ksDVUuSDE6N4AuN/ThpuqsvWOkwybp/Av2GDQDSOdrQTf2XaU+G8NCN82CiRYWafaGXjsKMtJwQ+f+0GGpOOcGAAAAMItAg6IGKgINqmutcqCRDphqYFb0r/0aXYO7XY7fj+Wz52td6AS/erynTp2aLnkit1wUSNjMDKtcUJGGGWnlziej14fCjHoIopBiXuAg3v3l2iZ6/aWXzZ2Y/PLly9V6/QK+9C/Kra1jpudy27Zt1ePQv22eW3xA565QEKD+u3HjxnTpk0NP2Xk2FG5Epdkkap8OQaWZJrZN63wrWs6sDQAAAIBAg6IGKwINqmutcqChX5jba0E0aGd/p0WoEYc9J+vCXn/1wc/c8nWkQWI7H8Abb7wxXVrOqmyjmpmhGRr2eDRzI/pJziN55ZVXqn7bt2/fzGwMm12l8K3kuV7aUjhz9uzZjcORqRRy6bwrOmQVAAAAsK4INAasH/mRH9n4QqL63Oc+516OWs0aS6Dxy7/8y5Mf+qEfmnzsYx/baKsGBdheh69VDjR0XH49Ns3IUJihX4rbL5HTX7nrV+WIwd4P1oUOWaPHazOITG75OtK5HtQX+vV4BKu0jWogXv1rv9LXoPaqHn6wb5rF8PGPf7zqt3rQZkGRQo+x0LagmVB2cnOVtgt9LyPYAAAAwDoi0Bi4jh8/XvUhg8PrV2MINBRmKLz46Ec/OvmZn/mZjWXf9V3fVbVZ/9avQy2vVjnQsOP+63A5Ci3qh71JT0qMGNbt+bCZB/fu3ZsueSK3fN28++67G4f2ifIetYrb6M2bN6v9sj02/To/nXUAn2ZQqb90fpeUDkOl5Qo8xkivO32XsHNtEGwAAABgHRFoDFz65bv60AaLo5XapjZ666jN1RgCDQsuvO3Tfhm4mTBOt6Hy1i2r1OaxbtOrHGjocVl5v3RPj9/PL+FjsOdjHWjAWI9Vg4ap3PJ1o8MfWbCjwdUoVnUb1YwD2x+oNCNGA9vIU59Z4FbvK9t203NsjI0OR3Xy5EmCDQAAAKwlAo2BK3KgoTapbQQay6nogcYXv/jFql36Jai3/vOf/3y1ftFAQjM9NPNjyEBj7Nv0qgYaCij0uFSaieFJA411pUFj/Rpbs1l03HT9q79LHUt/nZ6P27dvV49V74ep3PJ1Y4fd0q/fI80WWPVt9Pr16xvnU9BAtk5QjzybFa2B/5TOS6Hlzz///HTJeHnBxqlTpzh5OAAAAFYagcbA5QUa+sW7Bnq1XOfZ0MCxHV5A5zFIL/vzP//zG5fVFzX9bb+c13It8y6bDuim5/Kw29b17LJpDf1r+lWu6IGGtkO1K92G6mVtt7/tPBvpdqLtzi5n251uOz0nR1ps0/la1UAjDSvu3r07XTrLzrGhWkcKfdITwaal5SVmrdj9r4OrV69Wj/XIkSPTJU/klq8TDZ6qD3Ri5WiH3VqHbfTBgwfV9meP9dChQ2t/+LOct99+u+qjHTt2zAzwq7808K8QYFVOtq5gQ5979Lj0mHVILQVgAAAAwCoi0Bi4vEBDZb9+//Zv//ZqcFbLbPBWlV42/SW9DhGkX76n5zlIB3rtdtNlKn3pqbdD//cuS/VT0QMN2zabnn9ru7Y3/a1/9Xc9JMhtd95lVWzTfq1qoKETgetxacZBjl1G59hYNxpgy4UZVlo/9ECc3fc6ePnll6vHqhkxqdzydWFhhgZNI74vrdM2qnNE2CGVNGCvk0bjw+wHQpcuXZoueeLZZ5+tlr/22mvTJatBIY4OSWavBc1CUQgGAAAArBICjYFLA6vqw3qgYQOvGsBNlyvg0PJ0mUrL9CWtvrwegOQGdL12jH3wN3qtUqCRbjf6ux5S5LYl77LpOrbp2VrVQGP79u3V49IsDM97771XrVfVB6HWgQbL7fE31dCD6na/6+CZZ56pHuuVK1emS57ILV8HaZgRdfB8nbZR+fKXv1wd9ssetz6nP3r0aLoWcu7cuapvFGCktA1ruT6TrBodBk6POw28mK0BAACAVUKgMXB5g66qLoO0Ki3zBoa1TOvsF/Rdbjd3WaqfWqVAo76sr0CDbXq2VjHQuHXrVvWYVNeuXZsunXXx4sVqvYIPhRtGl9esDq3TDA6j5bt3795YnjuMVZ21g6K61qocpqYNDY5amKEB0shhjj0/60TPzyuvvDJzqCH9Sh9P6PBStu2m53vRIah0yCn126qGQHrsNhNFpXNrRDrnDQAAALAoAo2Byxt0VXUZpFVpWdPgr12+y+3mLkv1U9EDDTsPRX2WUFpaXz8EmpbVt8XctuRddt66dd6mVzHQsLBC5Z0HQgGGhRO6rNF5N3T4Ka3XicTt+vq/Xc7Ou5E70XidtYOiutTXfM3XTLeg1adD1dgJwDUgXOLcLV3Yc7SOFGLs2bOnevwapD9z5gyD11N79+6t+qUe9NiMq1WfvaDZGhZ46TMV51wBAADA2BFoDFzeoKuqyyCtyr6UpMtUNvjLDI14FT3QsJN56+Td3nrbPuqBh5bVt8XctuRddt66dd6mVzHQsDBC5Q2O2vp6KJHO1LDLKOBID0mlmRpans7eGCObhTKvms5Bsgx2v6vOzpOhWQmp3PJVpdennctFh6yJHmbIumyjOZppYOeTUuk94vbt29O168v65OzZs9MlT9hrWjMXVp1evzqRvx7vWF7PAAAAQA6BxsDlDbqqugzSqrSsPvirAV/9ej4dkLbb1Ze59LJ2suX0dnOXpfqp6IGGysKD+vamsvO5eNti/dwXn/vc56rl9e3Zu2y6jm16tlYx0LDZFyqbcSE6FJX+1vJ5MyxswL9+Oc3iaHP96DiHRln2q+36eSJyy1eRBn7H+IvuddlG57l69Wo1aK2+0MyaVTvxdVcKvtUXmm2U0r5Vy3UeknVw//79yaFDhza2C0INAAAAjBWBxsBlvxLTgG+6/POf/3y1PDdIq/Xpci1Lb0cDv7nL2kmVv/jFL1Z/a5BZg8q5y2rwWLenX+wTbvRXYwg09Jzb9mLbhrYFC9bq263Kgg67vP61YKS+/dhldT+6Xf1t67Q8vQ+26dUMNHReDB0aSgNMCjDsBOH6V3+3GWDR5VX1c2VoZoaWp4eqGiOdn8F+GZ8rrR/6PA5236vMjquvx6nBP5Nbvmru3LmzEdyoxnbMfWs3ngxep+dP0P91CLF1pPdK9cE6nkejTo//6NGjG/2xDgEtAAAAVg+BxoBl5yiwsoFbO9RPfbkN5qo0KKvL2W1pmQZpbRBXpf/XB3NVuj1d1i6jX63bALVuNx2k1v+1TOt0/xoETm+LWrzGEGioFBLoubftQKXgoT4zw0rbpW2H2s60ndvMCFUaIOiyti0q9GCbbq5VDDQ2S4GH+sQ73JKWqzTbY+z0OHOhhpaX+GWt3f8q0wmv9Rj3798/XfJEbvmq0MCuDr9joc22bdtCn/w7Zx220a4uXLhQDVyrXzRrQ7M31pFeu+qDdT2PRkqhhp3oX2EOoQYAAADGhkBjpKXnoX54Hip2jSXQKFVs0x8uAo0Ps5OK1w8rZUGHalXoV8Xp4acU4ujvoWdmmFXrX8+RI0eqx6iT6KZyy1eB3l/spMmq559/frSzUOwxYJbOo2ED+pRf63Aejbo01OBzBgAAAMaEQGOkpeeBwd9xFYFGc7FNf7gIND7MzrORngxc7PwZYz8huEePS1ValHYsiw7Ho4E9VTqgn1s+djq8lMILe1737NkzuXHjxnTtOK36NroZ+lW+Bu2tj6jZUmi5jizU0AnDV/lwegAAAFgtBBojLB0SSM+DDrXjradiFoFGvtim/SLQ+DA7qXj9sFKasaHlCjbETja+CvS4VKVFaceynD9/vnp8OtdAKrd8rHSCb32eU0Cjx6XDTOlwUzrs1Nit+jaKxelQU9o26icA1+wVLdfnj3WkoMtOFK6+Sc8xAgAAAERFoDGy0jkH0nMb6JwA3uWoeEWg4RfbdL4INGbpJOC2ndTpRONarkBDl9PhmeqzOMYq95iHFqUdy2KH5KmfOyK3fGz062v9GtvOk6FAQ5/rNFNjVaz6NorFaaaVtg2dHyalAXwt1+tiXalv7JxNOu8ZAAAAEB2BBkUNVAQaVNci0Jh17dq1qj+8w0opxLDZGzosVYmTZi+LvWeUFqUdy/DOO+9Uj00nTU5/oZxbPibvvvtu9V6yykGGWeVtFJunMEPbhwbwUzrcmpZr9tK60nudzdriMwcAAACiI9CgqIGKQIPqWgQaEHvPKC1KO5ZBh5PSY9NJ11O55dEpfLl8+fLkmWee2XjeVDpPwM2bN6eXWj32OAGPZu5p+9Dhp1KHDx+ulq9SEL4IHXpO/aBZaQAAAEBkBBoUNVARaFBdi0ADYu8ZpUVpR9/0+tLj0q+3Hz58OF2aXx6ZfmGuQUmd4NeeL7Vf7yU6V8Cqs8cMeJ577rlq+3jzzTenS56wfe3rr78+XfJhdp6metUPbai/65fR7MEcne9Jh0q0sMVKMxG1vOl8UDqX1Pbt22eu55VuS4dl1EzGJo8ePdp473jjjTemSwEAAIB4CDQoaqAi0KC6FoEGxN4zSovSjr7ZOTLOnTs3XfJEbnk0OnzOhQsXJgcPHtx4jlR79+6tlmuQcl3YYwc8Z86cqbYP/ZuyE/+fOnVqusRXDzV0GESPggi7jK6To/DDAgldTrenWSIXL17cOISi1jedD0qBh11WpevqNqwUZKShh9Y3UZChyynYePz48XQpAAAAEAuBBkUNVAQaVNci0IDYe0ZpUdrRJ/1SW49Jx9BPB+9yy6NQSKE2Hjp0aOO49yqdJ+Po0aOT69evTy+5XqwfAI8N1uv7TEon/PeWe9KZFLmgQaGB1uuyOelMDu9QVwoq0vvKhSeSBii520pDD+8yRoerszC3PpMFAAAAiIJAg6IGKgINqmsRaEDsPaO0KO3oiw4j9fGPf7x6TOnAZG55aTq599mzZ6sQw07wrVKgoWUafFyn2Rge6xPAYyGCQr+UHV6uvtyjMMC2s1xgYeGBDgnl0aGf7DYURuQoiLDZFfo3d/ipeYGGpAHKsWPHpkt9NmNF59wBhqTXhmYrpQGcSodN0/LcawoAAKyfTt/69u3bV32o0DTkr/u6r6Om9ZVf+ZWT3/f7fp+7bp1LfaK+8datY6XHNFd91Vd9lXu5dayv/dqvnfze3/t7J1/zNV/jrl/X+uqv/upqW/mxH/ux6bsw1pG9Z5QWpR190K+QFQLo8ehQTSa3vAQFKxqEfOGFFya7du3a6H8rte+1116rDjmFJ6xvAI8FFzpZfiq3PCc99FQ99LRwoSmoSK+fCymMDhlll83dZptAQwPBdhkNDjfRuXh0OQWn6x6SYjiahaTtTkGhbcd6fdiMJ1XT6woAAKyXTt/6vumbvqn6MPGN3/iNk2/+5m+mpvXRj3508pGPfMRdt86lPlHfeOvWsWwKv5UG8b3LrWP90T/6R6s++fqv/3p3/bqWQg31S9OJSrH67D2jtCjt6MPx48erx6Kg4P79+9Ol+eVD+PKXv1wNjmpmVn1/oVIorpmymolBiOGzvgI8ueDinXfecZfn5GZO6Nfl+rvpUFO6rG2n82ZKSBpE5G63TaAhdpl5gYbYOXk47BSGYrMyvMOrWQjYtH0DAID10ulbH4ec8ssGHr1161zqE/WNt24di0NO5UtfmNUnOpyKt35di0NOQew9o7Qo7dgszWrQ49i6devk5s2b06X55cugXz1rEFWHdnnuuefcGRj6dbQGWPW+uOz2rArrO8Cj15G2D804TylM9JY3SX81rlkUoqBAfzcdFic99FPbX5vb5VXejI42gYaW22U0ODzPuXPnqssq5AWWLQ3uvG3Ytl9v+wcAAOuJQKOHItDwi0Bjtgg08kWg4ReBBsTeM0qL0o7N0CCdnUT78uXL06X55ZulQ1jp3Be6zVOnTlXHpN+7d+9GX6a1Y8eOar3eBzV4E/Fk5NFZXwIeCy50jpxUbvk8FmCoLFSYF1Kk4UP9cFU56f14g71tAo02l0ldv369uuyzzz47XQIsT9vzygAAABgCjR6KQMMvAo3ZItDIF4GGXwQaEHvPKC1KOxahY8LrhL/2GDQzoml5FxoM1QCh3sdeeeWV6hfNhw8froILC0nqpVkgOnyMLvvGG29Mbt++Pb01bIb1L+DJBRd2zoiugUb6q3KVDpkz7xfk88IJz2YDDbXTDpFls0nmscNwNR0+C+hTup233U4BAMD6ItDooQg0/CLQmC0CjXwRaPhFoAGx94zSorSjLQ1S3rhxozqptg7fpLZv27atChBsuc71pOU639OP//iPV7Mp9HpT6RfKuqxCjpdffrm6/PPPP18dBkqDfBr8tD7Jle5X58PQYaX0/nblypXJnTt3pi1E36zfAY9mTGn7UNBYl1s+T5uTdqeWHWjoUFi6jErnIrBzDyjQ0Lq2LOTR4fCAISgM1L7VtmX9v+1rBAAArB8CjR6KQMMvAo3ZItDIF4GGXwQaEHvPKC1KO9pQEGHttVIY8aM/+qMfWr7Z0oCfTqCr2z9z5kx1En8FJgQXw7PnBMjJbSOLbjvpuTTSE4TnLDvQ8ErXX+TcA95tUVSX0thBF9pO05BQxWwNAADg6fTJnUDDLwINvwg0ZotAI18EGn4RaEDsPaO0KO1oQ4HGzp07q6BBh4GycMGW22P52q/92mqmhZUOE6UZGKpDhw5Vn3v0OtQMjQsXLmzM7tCgog5fo198I44xbaMYXt8zNHTcf4UYOtSUbXvzTri97EAjXZ+GLfq1e5dQw2ZoUNRmqmugYbQdp7M12p5vBlhHem/X+326r1Bp/6RlhIIAVhWBRg9FoOEXgcZsEWjki0DDLwINiL1nlBalHUAO2yia9H0OjWPHjlXXU7DRNqiwQ0Cp2h4CKr1tnQ+jrukcGum6LoNaN2/erK6jQWWgBA3SWlio10BK27Wt0/+N/m/ni5kXLgKrID1HkrZ5HWpQ+wHtX9KwHQBWEYFGD0Wg4ReBxmwRaOSLQMMvAg2IvWeUFqUdQA7bKJrkAo3c8iYaNNJ1bDBVoYZtf00hwCIBgw1W6V9Pepv1QCMdFFZ5gYhH5xDS5Z999tnpEmA5tF3nZmDY4afSQEP/t9edbdvazrXctn+b3cHMDqyyNMzwtnWbRaj1ALCKCDR6KAINvwg0ZotAI18EGn6tYqAxb1o0Psz6qLQo7QBy2EbRxGYd7Nu3b7rkCQs06stztB/TPkuDqfq/SYOF3OwLDUDZZdrMfkiDEs0I8TQFGqKBLlvfdj+rQ+zp8i+88MJ0CdA/275zsylsFpQFGJK+5izQ0PXTsM6CkPR6wKpJt/8c2z8AwCoi0OihCDT8ItCYLQKNfBFo+LVqgYa+bOrDt/0az76U6oO4HmdusGbd2XtGaVHaAeSwjaKJ9qXaPnSOnNQ777zjLs+xfZZmaaS0T7MBJu3n0oHXlF1GpQHdJgpG7LJeWCHzAg1J7zN3mZTOIaTL6vMZsCxp2Kbt2F4zel3Ydq3gz3staZldt/7rdPvRjPerdWAVpK+dtjPvAGDVEGj0UAQafhFozBaBRr4INPxapUDDpkWr6h+8Nbiix9n2eOLrxt4zSovSDiCHbRRNcoFGbrnH9le5mQ7pIFMupE8v0/TL2jQgaZpZ0SbQSO9z3iyNBw8eVCdI37Jly+TRo0fTpUD/LLjQNpmGbrad6nNhLhi016KuV2e3wUAvVpXNXvK2/zb02tBMJr3O7PWi72jaJ9Vfc9p/aJ1dTq9ZUahvh3dT6TXZ9rI/9mM/tvF/Kz2W9DWbts0qt48DsJ4INHooAg2/CDRmi0AjXwQafq1KoKEPxvbhVh900Y29Z5QWpR1ADtsomtig/tGjR6dLnrBAo768Lt2X1WdnpNKB2dzl0oGa3H7RZoLoPptmcrQJNKRNu+T111+vLnPkyJHpEiAe2+7r56KxoEOvG2BV2b5okdnttv9RwGD7Fr1u7Da9oD3d/+m1Z/vTtGz/0/ay6QxE7xCMalu6r2zavwFYTwQaPdSyA40f+qEf2ngjP378uHuZiEWgMVsEGvki0PBrVQIN+9K56K+I1p29Z5QWpR1ADtsomrzxxhvV9qHvM6krV664y1MaoEl/Xdo20NCgjvcrcd2e/cJWpQEk3aYGbDT4Y/eVDjh5dDvp/TUNbqWDSrl2yYEDB6rLcLgpRGavn3ogaJ85NRAKrCK979t7ubb3ruy69YAg3Ud4LFzQ/sr2TWqLhe/p7bW9bBqueOz1vMjjBLD6CDR6qCFmaPzIj/xI1fef//zn3fURi0Bjtgg08kWg4deqBBr2Kx0OKbUYe88oLUo7gBy2UTQ5c+ZMtX2cOnVquuSJ8+fPu8uNBv5tP2aVCwTScCGtXHigQR0N8NRDEA3W1gdq67x2qZp+PJD+2lVV/3X75cuXq+U7d+6cPH78eLoUiMe2/XrgZ9s4A6BYVdpv2Hv4ooGGFyCkt+vts+y1pX2MwokmbS+bhiheeG8ByLz7A7CeCDR6qCECDZul8cu//Mvu+ohFoDFbBBr5ItDwaxUCDf3i1Lb53IBOExvkafo17Kqz/istSjuAHLZRNHnuueeq7UOHVErZvra+fN28//77kz179tAXCE8Dn9pOFWrU2edG+wU4A6FYNZsNNJrY7drrJ9UlLOxyWQsn6z9802tXyxVqAICHQKOHGiLQ+PZv//bJvn373HVRi0Bjtgg08kWg4dcqBBr6IGvbfFf2hVW1zl9IF+2/vkVpB5DDNoom+kWqto/6QM3hw4fd5evm3LlzVT/s3bu3CjeAqOxX3Ro0rUtf5yoFHIv8oAaIStuztnHVKgQaNgujPmvEvkN6MzcAQAg0eqghAo2Pfexjk+/6ru9y10UtAo3ZItDIF4GGX6sQaNgHWu9LJ9qx94zSorQDyGEbRZNt27ZV28e9e/emS56wWQn15evk3XffnWzdurXqB51TBIhMh0rTtuoNlmpGr37xrdJAKYOhWEXa/lWLnBRc9EMxBYN6jeg7ms2SsBoy0EgDmvT1qjBy0ccHYD2ECzR0jgjNRND9fPSjH61Ogq3DLam8y0eoZQcaX/ziF6v++NznPjf5+Z//+Y3+OXjwYOhDUC0z0FCfKODRNqK+UEU/YfqQgUb6OlJFD8T6DDR+5md+pprRZI9d24heO95loxeBBsS25dKitAMxPXz4cPLSSy9Vv7DTwLH+1d9aPhS2UeQ8ePCg2ja2bNkyXfKEZiJ4y9eJXqMW6jz//PPTpQCAqOzQavVZDW0oyLDQT+GgwgubCa/bVA0ZaIjNrLLL2ywsrx0AYEIFGnbia4UXGqhXadBeyyKfDHvZgYYGY9UH6h8NSqtf1B9aFnkQf1mBhkIdDVJr0FrBhvpDA/b627t8lBoq0FD/6PYtBFT/qG/UZ/XLRqm+Ag17rdh7iPWFXjve5aPXKgQaNo1YH5o9+lVO/XAA+vCq61jVz5+hD7v2QT79oKz/2y+MVul4q9YPpUVpB+LRa3bXrl0b20haWj7UF1K7T6Du7bffrrYN/dgjdfv2bXf5OrFDbqkPHj16NF0KAIjKvl+pusxCsu9Y+h7lHc7XbtP73LbMQEPnz7B2ia6vAoAmYQIN/apat10foNfApJZrcDJdHqmWHWgoxPD6RssU+KTLItUyAg1tBxqY15eudLn6IfIsHtVQgYa9ZjSYb8v0+oq8rfQRaOTeQ7RM69JlY6lVCDTsFzYqffi2D8/68K0PuVquX+XUP1Tnph/rw619OLZQQ9fVcvvwbb/y0X2vAuuH0qK0A7Ho1925MMNK64eYqWH3B9TZ54wjR45Mlzxx9epVd/m6OHnyZPX4Navqzp0706UAgMgsmFA1hQb2XcvoEE76WzMz6tLbHDrQ0Hc5u2/77rgq3+MALE+YQMMOEVMPLjQIWx+8jlbLDjT0+DUDod436q91CzRsFs+8GTs2uB1pIHuoQMMeu83m8S4TrfoINHLvIWOuVQg0xAIGr/TB2vuFkEIMra/P7Egva4GGgpJ0hkfTsZXHyPqqtCjtQCw6rJRtG02lyy2b3RdQZwP3p06dmi554uWXXx5s+4zG+uSpp56qgh0AwHhYOKHvSun3IKNlNnPd2HXqsx/0/Sr9vjZ0oCHWNpXN1ACAJmECDd2uNzivX+NHPzfCMgMNDc6qb+p9YIfSidw3ywg0tI20OXSSBR/eulI1VKCh0nah+1AQFvlwbVZ9BBq6/pCHHVMfL/v+ViXQ0IdkhQ72oVqlD63eh2Wjw0zZ5Tz1X/Kk7EM0MzT6FaUdiKUpsExLl1s2uy+gbv/+/dW2cf369emSJ5555plq+bqdCDsNMy5fvjxdCgAYC30Xsu88+o5l58NQ6RBO6fcuY9+vVLquAgddTwGC1uVmuaffu3LfzUyXy6bStqn9ADBPiEDDflFeP2SQHQ8/+gl9lxlo2Lky6jMN7LBCkWYg1GsZgYYec+RZKU01ZKCh0rahvtJ9RT8c12YDjdx7yLJKQaPComXf36oEGouYN8tCH9a13vsFj5arvF8rpexyFEVR1HrXkCevL0knQSfMAIDVofDBgo20FE5YaJFScGCz3BV66Edndnjf9Pp2WKp0podV7kcqXS7r0XVVCkUAYJ6wgYZmINhgrE78bMv1f1uuwX5dTodk0t+lZissM9CwX9qnwYUGUzVLIR3Y14yE9NwSup7+VqX9N2SVCjT0mHU5257UX9aP+ld/2+GJhjyc2RCBhg4zVZ+RocdofRalL+o1ZKChyyiM0OX1r51rpN43dnkt1zILVtW/dn2redvkorXOgYb9Qig3i0MfzrXePmwbCzr0YXgeXY6iKIpa79I+fR08ePBg4wTgW7dundy4cWO6BgCA8vT9rcthqgCstxCBhsoG6DV4qMFJDbJq4FH3p2UasNeAogYaLdTQZWxQ1gYivdtedi0z0NDj1OPS49ffeuwaeE6DCvWX1tugrvpC/7eB2DaDvMuoZQQaes712G0QWn2gQfz0MWqZHrf6QH9b3+gy6jtdXpfJzX5ZVg0RaOjxqdJtQ/2lx6y/o/RFvfo45JQepx6Ttnv9rcei10/6mPR4dRlbpteKrqf/p32TBhRaprZZn6qsv+y+llXrHGjocatyv9Cx46zWp0Rb0KFfJK0K64vSorQDsXAODURnMxJ0voyUnT9D61fdO++8M/n4xz9ePd6dO3dmfywAAEAJ+k6nfZTNFgGAecIEGgorNLCospBCA4m2rD4or19TpYOOGqhM/x6ylhlo6LGrbzQIq77X33qs3kCqLqfL2GBtfWB/6FpGoKHHbTMKVOoX++W8lQ1Ap8tU6jf1n/Wd9Vf9csuqIQINvXZsW1HpdeJtL6X7ol59BBrpbC2VtpN026+/PlTetqLrqX/sb733qB/Ty1g/p8uWUesaaNgsi6Ypyjaduf6h16Zcr9Kve/R4VKVFaQdi0aF6du3atbF9eKX1QxzSx+4PSNn5M+r7Ujt/xqofdun111+fbNmypXqs2q/eu3dvugYAgPL0AzYdBkuHvwKAtsIEGl3KBurTQ+towLEeegxVyww0upQGYdNB1tKD1MsINNqUBpu9cEvbiNbZ3+qvIUOwIQKNtlW6L+rVR6AxrxRU1EMIvWfUXyMWItrfuk4acNiytP+WVesaaOhEcHrc6YfadKaGQgyt9w4rZceEtV+frsIxWPV4VKVFaQfi0estF2po+VC/Brf7BIyCNG0TOsSSzh9hHj9+vDHIf//+/enS1aLHdfTo0Y3XxQsvvDDTBwAAlKBzbehHaPbDNH3n036K2RkAuhhloFEfqNcvs/V3qZkIUQKNeqijAdySg9SlAg1vsNmbraKB6yFDsCiBRoS+qNcQgYZeC/XXg14zep3Y3zZjww4vZX+nAYdmtdT7b1lFoHGiCiT0bzrjwqYke4eVSs+9oVLAMe/k4NHp8ahKi9IOxKSB4/TwU3ot6u8hT7bMNoo6zU7QNnHkyJHpkieuXLlSLdfsjVWj0OLChQuTbdu2VY9Rwc0bb7wxXQsAQFn6jqb9k76n2Xe3+mGEAWCeUQYa9V+TW8ChgUYNZNcPr7PsihBoeIPUFnBomZ2DY8gqFWioH7RNWGmZbSN2mbS/7NwJtm5ZFSXQiNAX9Roi0ND7hl4Ten9Q6W8FOXY+FpXN2NB69YPeT+p9o9IyzRBT36WBSN+1roGGQgw7dJQ+5F67dm265gmdCFzrvMNK6bKauaFSELIKv/TRY1WVFqUdiK3kdsI2iroDBw5U20T9sFIKOLT83Llz0yWr4ebNmxuPWaWTgN+5c2e6FgCA8vRjM9tPKdSof9cDgDZGGWjUD5ejQUUNTGp5icHYCIGGDVKnYY4NxpYIeVQlZ2jY47ZlGryuH25If2u7GSrsiRJoROiLeg0RaOg1oCDU+l9BRBpmqOy9ROtt+7G+sXAsvR39W7+NPmudTwqOD9g2W1qUdiC2ktsJ2yhS7777brU97NixozrElHnw4MHkqaeeqmpVDjelx6HPDHpMesw68Te/dgUAAMCqGmWgEa0iBBoRq1SgEbWiBBoRa4hAY4xFoAGx94zSorQDsZXcTthGkbJDoGlfmjp//ny1/Nlnn50uGS8d0u3kyZMb5wNRoKHHO+Sh3gCgL+zHAQBtddpbEGj4RaDhF4HGbBFo5ItAwy8CDYi9Z5QWpR2IreR2wjYKo/NIaGaGtgcdhiml82Zouc6jMVYKLF5++eWN82SodBit+mMFgDGx9zMAAObptLcg0PCLQMMvAo3ZItDIF4GGXwQaEHvPKC1KOxBbye2EbRRG58zQtlA/6fc777xTLVfYodBjbL785S9PTp06NRNkPPPMMwQZAFaCva8BADBPp70FgYZfBBp+EWjMFoFGvgg0/CLQgNh7RmlR2oHYSm4nbKMQBRV79uyptoULFy5Mlz6hw0xpuQ5HNSY3btyoZmDYOTJUCjL4fABgldj7GwAA83TaWxBo+EWg4ReBxmwRaOSLQMMvAg2IvWeUFqUdiK3kdsI2Cjl37ly1HSjUSGdhaF+q5ZrdMIZzTOjk5Qpk9u7du7Ft61wZzz333OTtt9+eXgoAVoe91wEAME+nvcW3fdu3VTuYv/SX/lI18Eg9qa//+q+fbN++3V23zqU+Ud9469ax9LqxD2mqb/qmb3Ivt471vd/7vVWfHD161F2/rvUn/+SfrPrl537u56bvwlhH9p5RWpR2ILaS2wnbKBQC2OGYrl69Ol36hJ07Q4FHVI8ePap+5FGfjbFr167JK6+8Mrl///70kgCweuw9DwCAeTrtLWz6NkVRFDVcnT9/fvoujHVk20FpUdqB2EpuJ2yjOH78eLUNHDp0aLrkCZsJqu8yjx8/ni6NQe3RCcqff/75agaGbccKNA4fPlydD2SM5/sAgK7s/Q8AgHk67S0INCiKooYvAo31ZttBaVHagdhKbidso+tNh2FSCKB69913p0sn1eGlPv7xj1fbxqVLl6ZLy7p3797k9ddfr2ambt26dWPbVR04cKDa72u2CQCsE3sfBABgnk57CwINiqKo4YtAY73ZdlBalHYgtpLbCdvo+lJAsHPnzur51/mnjGY2aLaGlh88eHC6dHiahaETe+tk5Ok5Maz0HUuHlLpz5870GgCwfuw9EQCAeTrtLewcGjr27BtvvEFNS19MduzY4a5b51KfqG+8detYdpJKK32x9i63jvXZz3626pNPf/rT7vp1rU996lNVv3AOjfVm7xmlRWkHYiu5nbCNriedd2Lfvn3Vc6/wIj08kx2CSuegGPL8E5oVcv369cmpU6cmzzzzzMyhpFSalfHss89WJ/0mxACAJ+w9EgCAeTrtLb7ne76n2sF8+ctfni6B6IuKprJjlvpEfYMn9LqxD2kqvZ7wxJe+9KWqTzSIjw+8/PLLVb+of7C+7D2jtCjtQGwltxO20fWj8ELBgJ53/YhG4YZ57bXXquUKD27evDlduhy3b9+uDmelAMVOPl4vLVfAoX16tPN4AEAE9n45zz+6/R8oimpRwCrr9K2PQMNHoOEj0JhFoJFHoOEj0IDYe0ZpUdqB2EpuJ2yj60WzICzM0OGm0u8nmhWrc2lonU6q3Rcd2urq1avV7etznEKK+uwLlZbpM7ACDF1ebQUANLP30Hm8gVuKoj5cwCrr9K2PQMNHoOEj0JhFoJFHoOEj0IDYe0ZpUdqB2EpuJ2yj60OHc9LnTD3fOsSpTgguChx0om3bFrqeg0on4tZsjitXrlTXPXnyZHV7Tz/99GTbtm0bt1svzQ7R5XQdtSU97BUAoB17T53HG7ilKOrDBayyTt/6CDR8BBo+Ao1ZBBp5BBo+Ag2IvWeUFqUdiK3kdsI2urp0iCada+L111+vzkFmz7VmSChA0Am3//yf//OTj3zkI9Xyj370o5Mf//Efn7z11lvVPlT15ptvVtfXvlUn59bnsMOHD298jtehqex2c6XLaVaIrq/bU/jB4aMAoB/2XjuPN3BLUdSHC1hlnb71EWj4CDR8BBqzCDTyCDR8BBoQe88oLUo7EFvJ7YRtdHXpM6U9vyrNltBsiM9//vMzyzdbul2FJEeOHKlmZ+g+NFtDwUV6fg4AQP/svXgeb+CWoqgPF7DKOn3rI9DwEWj4CDRmEWjkEWj4CDQg9p5RWpR2ILaS2wnb6OrSIZ3ssE6aGWHhgj432MwKnTPj677u66rPn1YHDhyoPouqnnvuueqzl/atZ8+era6rsEL7WJ3Um/NcAEBZbffj3sAtRVEfLmCVdfrWR6DhI9DwEWjMItDII9DwEWhA7D2jtCjtQGwltxO2UQAAxqvtftwbuE3LbidqeW0eqrz2RCqvzUOV155I5bV5XvXFa0+kwnrq9MwTaPgINHwEGrMINPIINHwEGhB7zygtSjsQW8nthG0UAIDxarsf9wZu07LbiVpem4cqrz2RymvzUOW1J1J5bZ5XffHaE6mwnjo98wQaPgINH4HGLAKNPAINH4EGxN4zSovSDsRWcjthGwUAYLza7se9gdu07Ha8dSUrQrvom3ytYt/0xdoQTdR2YRidnnkCDR+Bho9AYxaBRh6Bho9AA2LvGaVFaQdiK7mdsI0CADBebffj3sBtWnY73rqSFaFd9E2+VrFv+mJtiCZquzCMTs88gYaPQMNHoDGLQCOPQMNHoAGx94zSorQDsZXcTthGAQAYr7b7cW/gNi27HW9dyYrQLvomX6vYN32xNkQTtV0YRqdnnkDDR6DhI9CYRaCRR6DhI9CA2HtGaVHagdhKbidsowAAjFfb/bg3cJuW3Y63rmRFaBd9k69V7Ju+WBuiidouDKPTM18q0Lh48eJk9+7d1X1v3759cvr06cl77703XVteqUAjer+UCDT0+NUP6g/1i/pH/RRByUDj7t27k2PHjm3c99NPPz156623pmvLKxVoRO8XAg2IbZ+lRWkHYiu5nbCNAgAwXm33497AbVp2O966khWhXfRNvlaxb/pibYgmarswjE7PfIlA49VXX63u89KlS9XfGmzU35/85CervyMoEWiMoV9KBBp6/Aozbt26Vf1t/aR/SysVaCjkUZ9osF7/V9kgfpTB+xKBxhj6hUADom1AVVqUdiC2ktsJ2ygAAOPVdj/uDdymZbfjrStZEdpF3+RrFfumL9aGaKK2C8Po9MwPHWjYgOOJEyemS57Q32pHlEHHoQONsfTL0IGGhToW8hjN0lB/qd9KKhVoWKij2QhG/9eyKAFYiUBjDP1CoAHRNqAqLUo7EFvJ7YRtFACA8Wq7H/cGbtOy2/HWlawI7aJv8rWKfdMXa0M0UduFYXR65ocONDQwrfurD1Bfu3atWq5DC0UwdKAxln4ZOtCwQCcdoBb1h5arf0oqFWgo0FHVaWaC2lE66JESgcYY+oVAA6JtQFValHYgtpLbCdsoAADj1XY/7g3cpmW3460rWRHaRd/kaxX7pi/WhmiitgvD6PTMDx1o2EB0fcaB/RI/yq+ohw40xtIvQwcaNhBdF+WwUyUCDQ3K6768bULLtK6+HZUwdKAxln4h0IBoG1CVFqUdiK3kdsI2CgDAeLXdj3sDt2nZ7XjrSlaEdtE3+VrFvumLtSGaqO3CMDo980MHGk0Di1ruDUaWMHSgMZZ+GTrQ0GNX1VnQs46Bhj12b5uwoCfCwP3QgcZY+oVAA6JtQFValHYgtpLbCdsoAADj1XY/7g3cpmW3460rWRHaRd/kaxX7pi/WhmiitgvD6PTME2j4CDR8BBqzCDTyCDR8BBoQbQOq0qK0A7GV3E7YRgEAGK+2+3Fv4DYtux1vXcmK0C76Jl+r2Dd9sTZEE7VdGEanZ55Aw0eg4SPQmEWgkUeg4SPQgGgbUJUWpR2IreR2wjYKAMB4td2PewO3adnteOtKVoR20Tf5WsW+6Yu1IZqo7cIwOj3zQwcax44dq+6vPrB469atavm6Bhpj6ZehA43t27dXj7/u4sWL1fJ1DDSatoncdlTC0IHGWPqFQAOibUBVWpR2ILaS2wnbKAAA49V2P+4N3KZlt+OtK1kR2kXf5GsV+6Yv1oZF6RymGo+z896q9H8t07pFbbZdGLdOz/zQgYb9UloD0ikNNGp56QFqM3SgMZZ+GTrQ0OC0Hr8Gq1PWX6UHqEsEGqL7UthTZ/0VwdCBhoyhXwg0INoGImyTUdqB2EpuJ2yjAACMV9v9uDdwm5bdjreuqa68/euT7//hz03++MFv3bgN1Vd/dFu1zLtOl1q0XX1W1zb8jZ/6h5Pv+K6/MPmDH/vDG9dV/ZF9f2xy5q//bfc6i1TXdi2jurbhp37hn0/+7F/8gaov7Loq9ZWWe9dZpLq2K62+WBsWocDCgowTJ05U43KXLl2a7N69u1qmdYuGGptpF8av0zM/dKBhv6LWL6ZTp0+frpbfvXt3uqSsoQONsfTL0IGGzcSoBz16g9SbZWmlAg2bcZAGPdphaJl2KBGUCDTG0C8EGhBtA6rSorQDsZXcTthGAQAYr7b7cW/gNi27HW9drj5/5ZeqgWiFFxqoV7ih5RrM1209823f+aHrdK1F2tV3dWmDBuXtsat/tEz/qo+03Jb1UV3atazq0gZtI+oHhRl/9W/9vWqZthkLNxSM1a+zaG2mb/pibViEhRn1H15r7MWOsuIdOaONzbQL49fpmR860BANLOo+bZBaaZ42eg3eRzF0oCFj6JehAw1LftUPNhvDQo5r165Vf5dUKtDQgL36RH2jsEv9pO1Hy6KEXyUCjTH0C4EGxN4zSovSDsRWcjthGwUAYLza7se9gdu07Ha8dV7ZIL2qPkivGQq6rT4GqLu2axnVtg0W5Ojf+jrNVlFf1ZdvpsbUNwozdDmFFxZ8WX3vSz9crYsS9vTF2tCVZmLYdTXeUmc/ylalPzRty66L9dTpmS8RaIiSPA0y6r71S/soh1QyJQINid4vQwcaYoPS9samweoIYYaUCjREOwc7lJJKsxMW2WEsS4lAQ6L3C4EGxLbP0qK0A7GV3E7YRgEAGK+2+3Fv4DYtux1vXb00IG0zDvo8hJJXbdr10//k/uQHf3Z2kLzPatMGG5TXjBVv/TJqLH1jAZdKh5zyLtN3tWlXrm/6Ym3oymZn5GZgaOzFbnuRH2cv2i6shk7PfKlAI7pSgUZ0JQKNyEoGGtGVCjSiI9CA2HtGaVHagdhKbidsowAAjFfb/Xh90LZedjveunoNOXjf1C4bkP6/vv6/VeVdpo+a1zdDBjxpjaFvVHZ+FW/myrJqM33TF2tDFzrqhV2v6cfXdhmFH13ZdbGeOj3zBBo+Ag0fgcYsAo08Ag0fgQbE3jNKi9IOxFZyO2EbBQBgvNrux+uDtvWy2/HW1csG7/s850GuvHbVB6RzA9N91by+UT9ofd+HlJpXY+gbHUbKLtPnIaXmldeutn3TF2tDFzpSil2vfp7blM3i6Hr7suj1sBo6PfMEGj4CDR+BxiwCjTwCDR+BBsTeM0qL0g7EVnI7YRsFAGC82u7H64O29bLb8dalpZM522UXGaDWbAY714S3vl5pu3ID0lb16/ZVaRu8spNadzkJug69pCDEzq1h96G/7YTZ8yptV9S+sZOkdwl7tI1opov6U7OA7D7Uz5od5F2nXmm7uvZNX6wNXWhWhl3PznHrSQ8B3vVcpnY9rKdOzzyBho9Aw0egMYtAI49Aw0egAbH3jNKitAOxldxO2EYBABivtvvx+qBtvex2vHVp2eGm2lw2LQ1S67o2eK+Be+9y9dJl/8c/8scbB6Tb1F/7wr92b79NzXu8tr7tYLvKrqNwR32jZXbibFWbUEOX66NvdH3v9tuUtddbp7LDTbV9vlV2HQUads4NhWcWHCkkqV+nXrpcH32jWpTaoOpikUCj6XIeux7WU6dnnkDDR6DhI9CYRaCRR6DhI9CA2HtGaVHagdhKbidsowAAjFfb/bg36JuW3Y63Lq1FBqg1UK9f2us6GqTucn1dNnKgkZ7wWv/3LuOVLu/1gc1eadM/ulz0QMPWdwl79Ni1vVjQY5XODkqXe6XLEGj47HpYT52eeQINH4GGj0BjFoFGHoGGj0ADYu8ZpUVpB2IruZ2wjQIAMF5t9+PeoG9adjveurQ02KzLtQ0kVBqkt8F+CwDaXj9t1yKHVVKQoXXRAo1c2QyYtoGGtWuRvtF1tC5aoJErCzTanIw+bdeih5yy9YuyNnRBoIFl6/TME2j4CDR8BBqzCDTyCDR8BBoQe88oLUo7EFvJ7YRtFACA8Wq7H68P2tbLbsdbl5bNIMidE0GHBtKAc+78GpsJNKxyA9TpZayWHWjokEi2PneSdPWZyltXLzvnRJvLe+3q0jdDBBp2Dozc+UU0e0eHkqrPxvDKwjRdx1uflteutn1jbP2irA1dEGhg2To98wQaPgINH4HGLAKNPAINH4EGxN4zSovSDsRWcjthGwUAYLza7sfrg7b1stvx1qWVnudBg+42EK2BfZtd0DRA3UegYVUfoPYus+xAQ2WD9gp50lkamlFg531oMwivPtNtqOzcEU3V1K42fTNEoGEBmCoNfBR42eHHmsIb9YOFHurntrNgmto1r2+MrV+UtaGLRQKNrha9HlZDp2eeQMNHoOEj0JhFoJFHoOEj0IDYe0ZpUdqB2EpuJ2yjAACMV9v9eH3Qtl52O966etkgvVcapG76tX2fgYaVDVB764YINNJzO9RL4USbE3yrbAZCbnZLvew+vHVWTX0zRKChQEJ9YJerV9OhqKw/VLoNBR9tgh6VXc9bZ5XrG1Mi0Lh48eLG9RRu5FigsX379umS9hZpF1ZHp2eeQMNHoOEj0JhFoJFHoOEj0IDYe0ZpUdqB2EpuJ2yjAACMV9v9eH3Qtl52O966eimw0OByOlCtIKPNr+eXEWg01RCBhiqdjaHSbAIN1jeFO2nZTIY2Mzms2rSrqYYINFTpbAxV13BCl9PsDtveFj3kVNsyJQINzcqw650+fXq69MMUZOgyCja6WqRdWB2dnvlPfOIT1cZy9OjRajCWelI7d+6cbN261V23zqU+Ud9469ax9LqxN1zVnj173MutYx0+fLjqk4MHD7rr17X2799f9ctP/uRPTt+FsY7sPaO0KO1AbCW3E7ZRAADGq+1+3Bu4Tctux1vXZ61qoLGZWiTMUG22XUMFGn2V+kf3pWBjXlC0mXaZEoGGWFjx9NNPT5fMunv37sZta0ZHV4u2C6uh0zOvAVjbYCiKoqhh6vz589N3Yawj2w5Ki9IOxFZyO2EbBQBgvNrux72B27Tsdrx1fRaBxmwtGmaoNtuusQUaKru/ebOBNtMuUyrQOHHixMZ1FV7UXbp0qVqn4OO9996bLm1v0XZhNXR65vWLYW0sHHJqFoec8nHIqVkcciqPQ075OOQUxN4zSovSDsRWcjthGwUAYLza7se9gdu07Ha8dX0WgcYHpcMo6XYXCTNUm20XgYZfplSgoRDDZmkcO3ZsuvQJBRi7d++u1jWdY6PJou3Cauj0zBNo+Ag0fAQaswg08gg0fAQaEHvPKC1KOxBbye2EbRQAgPFqux/3Bm7Tstvx1vVZFmjofBPe+npttl1RAw2dV0K3qVCjvs5OMl5fXq/NtitqoKGwywu8bNvRIafq6+q1mXaZUoGG2CwMlUINnVvj2rVr1WGotEyzOBa1mXZh/Do98wQaPgINH4HGLAKNPAINH4EGxN4zSovSDsRWcjthGwUAYLza7se9gdu07Ha8dX2VTu5sh1hSaeDeu1xam21X1EAjPYF4rrzrpdX2crmKHGjoNv/sX/yBjXNlKMywPlv2dmNKBhpy69atKriw2RoqhRsKNjZjs+3CuHV65gk0fAQaPgKNWQQaeQQaPgINiL1nlBalHYit5HbCNgoAwHi13Y97A7dp2e146zZb3/vSD2/cfq6866nmrZ9XEQMNm2nQVG0OyWWX9da1qaiBhg7B9cy3fefkD37sD2/cvmZlKAzTzBbvOvXaTLtM6UBjWaK2C8Po9MwTaPgINHwEGrMINPIINHwEGhB7zygtSjsQW8nthG0UAIDxarsf9wZu07Lb8daVrM22K+oMjT5qs+0a4zk02tZm2mUINLCKOj3zBBo+Ag0fgcYsAo08Ag0fgQbE3jNKi9IOxFZyO4m+jVr7xlD6/KZ/d+7cWX2e27NnT7Xs8OHDk+PHj0/Onj1bHRP57bffnjx8+HD6CAEAWJztg+bxBm7Tstvx1pWszbaLQCNfBBp+GQINrKJOzzyBho9Aw0egMYtAI49Aw0egAbH3jNKitAOxldxOIm+j1raxlAUabUuBx9GjRyfnzp2b3LhxY/Lo0aPpIwcAoB3bp8zjDdymZbfjrStZm20XgUa+CDT8MgQaWEWdnnkCDR+Bho9AYxaBRh6Bho9AA2LvGaVFaQdiK7mdRN5GI7etyf3796vPL7dv3672RVevXp1cuHBhcurUqcnzzz8/OXjw4GTbtm0bj89qy5Ytk0OHDlWXvXPnzvTWAADIs33IPN7AbVp2O966krXZdhFo5ItAwy9DoIFV1OmZJ9DwEWj4CDRmEWjkEWj4CDQg9p5RWpR2ILaS20nkbTRy2/qg0OLNN9+cnDx5cvL0009vPF6rvXv3Ts6fP8/hqQAAWbbPmMcbuE3LbsdbV7I22y4CjXwRaPhlCDSwijo98wQaPgINH4HGLAKNPAINH4EGxN4zSovSDsRWcjuJvI1GbtsyPHjwoNqn6zBUW7du3Xj8ms2h0INZGwCAurb7Sm/gNi27HW9dydpsuwg08kWg4Zch0MAq6vTME2j4CDR8BBqzCDTyCDR8BBoQe88oLUo7EFvJ7STyNhq5bcv2+PHjyeXLl6vDU1k/PPXUU5MjR45M3nrrremlAADrru2+0hu4Tctux1tXsjbbLgKNfBFo+GUINLCKOj3zBBo+Ag0fgcYsAo08Ag0fgQbE3jNKi9IOxFZyO4m8jUZu25Bu3rxZnXtD59iwPtEhqi5dujR5//33p5cCAKyjtvtKb+A2Lbsdb13J2my7CDTyRaDhlyHQwCrq9MwTaPgINHwEGrMINPIINHwEGhB7zygtSjsQW8ntJPI2GrltJehk42fOnJns3Llzo290no233357egkAwLppu6/0Bm7Tstvx1pWszbaLQCNfBBp+GQINrKJOz3ypQOPixYuT3bt3V/e9ffv2yenTpyfvvffedG15pQKN6P1SMtDQIQw++clPTl599dXpkvIiBBr6BaS2mWiHeCgVaNy9e3dy7NixjedEvxKN1DcEGhDbPkuL0g7EVnI7ibyNRm5bSToclfb9+/btq/pHh6J66aWXquUAgPXSdl/pDdymZbcTtbw2t6k+A42o5bW5TfUZaEQtr83zyvQVaEQtrKdOz3yJQEMD0rpPDcSKBhv1twaroygRaIyhX0oEGhZkqC9UBBpPWJBh902gManCPwWBCjH0f5WFG1H6h0ADYq/b0qK0A7GV3E4ib6OR2xaBDjelfZ4CDfUTszUAYP203Vd6A7dp2e30UTYQ7K1btLw2tykCjXwRaPhlbDtelNeeSIX11OmZHzrQsAHHEydOTJc8ob/VjiiDjkMHGmPpl6EDjWvXrlV9oF/d6//qCwKNJ+GXStuNZvFE2kZMiUDDQkFtL0b/17IowSCBBkTbgKq0KO1AbCW3k8jbaOS2RaJzbOzfv7/qK2ZrAMB6abuv9AZul1U2EOytG7r6CDT6rJ1f97Hq+frpL95y1w9ZfQQafVaUvjG2HUegcUL1zZA/lMdq6vTNauhAQ78q1/3ZLARjg9UanI1g6EBjLP1SYoaG0YC9+oJAY5YN4hNoTKoZK6o6zdhQWxQAlUagAdE2oCotSjsQW8ntJPI2Grlt0TBbAwDWU9t9pTdwu6yygWBv3dAVLdCIVNECjShlbDsGVkmnb1ZDBxq5X5PbYHWUX1EPHWiMpV8INGYRaOQNHWgorND9ea8VO2RZhD4i0IBoG1CVFqUdiK3kdhJ5G43ctqjqszXOnz8/XQMAWEVt95XewO2yygaCvXVDF4FGvgg0/DK2HQOrpNM3q6EDjaaBRS1f10BjLP1CoDGLQCNv6EDDtg/vtRKpjwg0INoGVKVFaQdiK7mdRN5GI7ctMs3WOHPmzEb/EWoAwOpqu6/0Bm6XVTYQ7K0buqIFGhxyKl8ccipP44Tqm6HGlbG6On2zItDwEWj4CDRmEWjkEWj4CDQg2gZUpUVpB2IruZ1E3kYjt20MFGRYHxJqAMBqaruv9AZul1U2EOytG7oINPJFoOGXse04AgIN9KXTNysCDR+Bho9AYxaBRh6Bho9AA6JtQFValHYgtpLbSeRtNHLbxuK1117bOK8GoQYArJ62+0pv4HZZZQPB3rqhK1qgEak45JRfxrZjYJV0+mY1dKBx7Nix6v7qA4u3bt2qlq9roDGWfiHQmEWgkTd0oNH0Wsm9vkog0IBoG1CVFqUdiK3kdhJ5G43ctjG5fPkyoQYArKi2+0pv4HZZZQPB3rqhi0AjXwQafhnbjoFV0umb1dCBhg2+Xrx4cbrkiWiD1UMHGmPpFwKNWQQaeUMHGqL72759+/SvDyjk0LoICDQg2gYibJNR2oHYSm4nkbfRyG0bG0INAFhNEfeVkQaCf+5//XdVW/RvBJGer1/5zd+u+uav/IPfmC4pK9q2HGk7jtY3GK9OW9HQgYb9ilq/mE6dPn26Wn737t3pkrKGDjTG0i8EGrMINPJKBBo2E0OvJ/Pee+9Vy06cODFdUhaBBkTbgKq0KO1AbCW3k8jbaOS2jVEaauhQVACA8Yu4r4w0EEygkUeg0SzSdhytbzBenbaioQMN0cCi7tNmI2ggVr+q1uB9FEMHGjKGfikZaKhf1D9RBqYlQqBhg/iXLl2aLomhRKChIEOvmaeffroKARVmaHvRsiihIIEGxN4zSovSDsRWcjuJvI1GbttYWaiheuedd6ZLAQBjFXFfGWkgOFqgEUm0QCOaSNsx0JdOe4sSgYboV+UaZNR97969O9Sv7qVEoCHR+6VEoKHDBakv7MOQ9Y2Wp7/EL6FUoKHHrcdv24qVBvK9c0iUUCLQEOsb6xMFPqW3kxSBBsS2z9KitAOxldxOIm+jkds2ZmfOnKn6VZ85Hz58OF0KABijiPvKSAPBBBp5BBrNIm3HQF867S1KBRrRlQo0ois5QyOiCDM0oioVaERHoAGx94zSorQDsZXcTiJvo5HbNmbvv//+5ODBg1XfHj16dLoUADBGEfeVkQaCowUakZ4vDjnVLNJ2HK1vMF6dtiICDR+Bho9AYxaBRh6Bho9AA2LvGaVFaQdiK7mdRN5GI7dt7O7duzfZtm1b1b9XrlyZLgUAjE3EfWWkgWACjTwCjWaRtuNofYPx6rQVEWj4CDR8BBqzCDTyCDR8BBoQe88oLUo7EFvJ7cQ+p0YuLIdODK7+1WfPx48fT5cCAMYk4r4y0kBwtEAjEg451SzSdgz0pdPegkDDR6DhI9CYRaCRR6DhI9CA2HtGaVHagdhKbyd2/1ELy6FDT+3bt6/qY51XAwAwPhH3lZEGggk08gg0mkXajoG+dNpbEGj4CDR8BBqzCDTyCDR8BBoQe88oLUo7EBvbiY9+WT77LLFly5bJ/fv3p0sBAGMRcV8ZaSA4WqAR6fnikFPNIm3H0foG49VpKyLQ8BFo+Ag0ZhFo5BFo+Ag0IPaeUVqUdiA2thMf/TKMI0eOVP186tSp6RIAwFhE3FdGGggm0Mgj0GgWaTuO1jcYr05bEYGGj0DDR6Axi0Ajj0DDR6ABsfeM0qK0A7Gxnfjol2G89dZbVT/rJOGcSwMAxiXivjLSQHC0QCMSDjnVLNJ2DPSl096CQMNHoOEj0JhFoJFHoOEj0IDYe0ZpUdqB2NhOfPTLcPTZU3194cKF6RIAwBhE3FdGGggm0Mgj0GgWaTsG+tJpb0Gg4SPQ8BFozCLQyCPQ8BFoQOw9o7Qo7UBsbCc++mU4V65cqfp6//790yUAgDGIuK+MNBAcLdCI9HxxyKlmkbbjaH2D8eq0FRFo+Ag0fAQaswg08gg0fAQaEHvPKC1KOxAb24mPfhnO+++/P9mxY0fV33fu3JkuBQBEF3FfGWkgmEAjj0CjWaTtOFrfYLw6bUXPPfdcteHp+LQanKWe1IEDBya7du1y161zqU/UN966dSw7rrPV0aNH3cutY126dKnqk3Pnzrnr17U+85nPVP3yhS98YfoujHVk7xmlRWkHYmM78dEvw3rhhReq/n7llVemSwAA0UXcV0YaCI4WaETCIaeaRdqOgb502lvs2bNnYydDURRFDVPnz5+fvgtjHdl2UFqUdiA2thPfUP2ye/fu6n6efvrp6ZJmdnmrpuvdunVrsn379pnL6/op+4FCU+k+jh07Vl32vffem16zX1evXq3ui8NOAcB42H4ikkgDwQQaeQQazSJtx0BfOu0tPvGJT1Q7GP2yXIfLoZ7Uzp07J1u3bnXXrXOpT9Q33rp1LL1u7EOaSgGhd7l1rMOHD1d9cvDgQXf9upYGYtQvP/mTPzl9F8Y6sveM0qK0A7GxnfiG6Jdr165t3I/q7t270zXNFC6k13v11Venaz5MAYSFILqeR8FHenuaoWqlEOPEiRMb6xSQqN19e/z4cfU5VPfx8OHD6VIAQGS2b4gk0kBwtEAj0vPFIaeaRdqOo/UNxqvTVqQBNm14OhQKPsA5NHycQ2OWXjf25q3S6wlPcA4NH+fQgNh7RmlR2oHY2E58Q/RLGhSoFB60UZ9VoZChKQyx+2m6/U9+8pMbt+fR7Wumhl1Gt9k3u332oQAwDk37jVIiDQQTaOQRaDSLtB1H6xuMV6etiEDDR6DhI9CYRaCRR6DhI9CA2HtGaVHagdjYTnzL7hfNnNDtKxiww0LlZlDU2Tm+0oCh6bqawaHL6Ho58wINUZvT++x7psbx48er2+WwjQAwDvP2GyVEGgiOFmhEwiGnmkXajoG+dNpbEGj4CDR8BBqzCDTyCDR8BBoQe88oLUo7EBvbiW/Z/WKzLBQKpDM12pyjwgINBRVpEJELLPoKNMTuW1U/H8dmKcjQ7eoE4QCA+NrsN4YWaSCYQCOPQKNZpO0Y6EunvQWBho9Aw0egMYtAI49Aw0egAbH3jNKitAOxsZ34lt0vmulggUB6Lo02sx7SQCM9/0UuYOgz0JBlzdK4ceNGdZt8FgWAcWi73xhSpIHgaIFGpOeLQ041i7QdR+sbjFenrYhAw0eg4SPQmEWgkUeg4SPQgNh7RmlR2oHY2E58y+wXCyFOnz5d/W2Hn1K1OTdFGmiIbseub8tSfQcadnsqewx9uHnzZnWb+/btmy4BAETWdr8xpEgDwU2Bxj+6/R8GL3u+vHVD10//k/tV3/zgz/66u37oitQ3KtuOvXVDV5S+wfh12lsQaPgINHwEGrMINPIINHwEGhB7zygtSjsQG9uJb5n9YgGEgg2jc2Bomc6nMU890FAgYufh8E4Q3negYfev0vX6Yp+7+IwOAOPQdr8xJBsIjiBaoBGpogUa0cq2Y2/duhbGr9PegkDDR6DhI9CYRaCRR6DhI9CA2HtGaVHagdjYTnzL7BeFDjpsU8rOqaFqCh6kHmhIev36CcLHEmg8fPhw43Yjlj7zqO7fvz9tMQCsN3t/jMQGgiMg0MgXgUZz2XbsrVvXwvh12lsQaPgINHwEGrMINPIINHwEGhB7zygtSjsQG9uJb1n9YufLuHjx4nTJE5pVYfc57zBOXqAhaSiRhhdjCTTEbjdiffrTn67+3bt37+TevXvTFgPA+rL3x0hsIDiCaIGGPV/euqGLQ041l23H3rqhK0rfYPw67S0INHwEGj4CjVkEGnkEGj4CDYi9Z5QWpR2Ije3Et6x+sUNL1Q8LJXay7dzJvU0u0MidIHxsMzS2bt06XRKLZmYozFAbd+7cObl9+/Z0DQCsJ9sXRGIDwREQaOSLQKO5bDv21g1dUfoG49dpb0Gg4SPQ8BFozCLQyCPQ8BFoQOw9o7Qo7UBsbCe+ZfSLzcKoHxLKWPCgSs+vUZcLNMQ7QfhYAg373BX5M/qDBw8mBw8erNpJqAFg3dm+IBIbCI4gWqARqTjkVHPZduytW9fC+HXaWxBo+Ag0fAQaswg08gg0fAQaEHvPKC1KOxAb24lvGf2iw0zZ7c6r+iGpUk2BhneC8GUGGidOnJgu3bybN29Wt6lZEJE9evSIUAMA/v9sXxCJDQRHQKCRLwKN5rLt2Fu3roXx67S3INDwEWj4CDRmEWjkEWj4CDQg9p5RWpR2IDa2E98y+kWHgdJtKhDIlYUR9ZOGp3Q5XcYLNCQ9QbgCh74DDbs9VVPw0tWNGzeq2xzDZ9E01NAhspr6FgBWle0LIrGB4AiiBRr2fHnrhi4OOdVcth1764auKH2D8eu0tyDQ8BFo+Ag0ZhFo5BFo+Ag0IPaeUVqUdiA2thNf3/1i57eYd4gmO8eGyjvPhswLNCQNKBRq6N++Ag0714cq18ZFXLhwobrNsXzeUqhx9OjRqs2EGgDWke0LIrGB4Aj6CDSsj6OW1+Y21Ueg4bUnUnltblu2HXvr2pTXnkjltXleYfw67S1KBRr6tZb9Ck2/NNPxfDUFPoqSgYa++OmL5bwvtCWUCDS0XWj7sF8karvp89d+mxEh0NCvLNUn0b4klwo09PpJB3s0qBKpbwg0ILZ9lhalHYiN7cTXd79YqDDvM47W233rM4CnTaCRniDcqo9AI73dPg83JS+++GJ1u+fPn58uie/9998n1ACwtmx/EIkNBEdAoJEvAo3msu3YW9emvPZEKq/N8wrj12lvUSLQsGno9iXMvnRFGsAvEWhYkGEvYAKNJ9QPCjPs5Je2/TR9SR9KyUDDggy772hfkEsEGnZccIUY+r/Kwo0o/UOgAbHXbWlR2oHY2E58ffaL7b90e/NmNKSBQe7k4fbZet5npfQE4aqmfWXbQMNmZ+jx9Dk7Qw4cOFDdtg49NSZpqLFly5bJ5cuXp2sAYLW12W8MzQaCI+gz0PDWlazNtqvPQMNbV7L6aJdtx966NrWKfYPx67S3GDrQsC9s9V9s2UB+lEHHoQMN9Yu+KOrx6//qCwKND76Q13+BqIF8bUfqq5JKBRoaoFDp8dtgRJTXjikRaFjYlQ6g6P9aFuX1RKAB0TagKi1KOxAb24mvz36x/Vfb27PLqrzQQJ+btG7eDAn7XG63tZlAQ7dlPyLQbV67dm26ph8KBTTDQbf/4MGD6dLxUPtthslTTz1FqAFgLTTtN0qxgeAICDTyRaDRXLYde+va1Cr2Dcav095i6EDDvmDVB6j1pUfLNTgbQYkZGin1BYHGB0FX/cu6DeL3/WW5q5IzNIwNghBoPAm6VHX2a9HSAZgQaEC0DahKi9IOxMZ24uurXzTjIg0V5n22sR97WHmhhQUL2ifO2/fZZ3NV7rNE/fBUupyVrq822GPQPtdm1fbJTgi+f//+6ZJxOnnyZPU4CDUArAPbb0RiA8EREGjki0CjuWw79ta1qVXsG4xfp73F0IFG7tfk+lvLowziE2j4hg40bCC6zgbx9W9JBBp5QwcaGrDR/XmvG/tVaYQ+ItCAaBtQlRalHYiN7cTXR7+kYUJauZkV9kOPeqVhvv6frlPQMC9gaNpP5tpopdvX9fUZf5k/NHnhhReq+ztz5sx0yXilocaYzgcCAF3ZviISGwiOgEAjXwQazWXbsbeuTa1i32D8Ou0thg40mr4wabk3GFkCgYZv6EBD/aCqswCMQINAw9g24b1uIvURgQZE24CqtCjtQGxsJz76ZVi7du2q+vvmzZvTJeN29uzZjW2IUAPAqoq4r7SB4AgINPJFoNFcth1769rUKvYNxq/T3oJAw0eg4SPQmEWgkUeg4SPQgGgbUJUWpR2Ije3ER78Mxw43pVBjlSjIsO2IUAPAKoq4r7SB4AgINPJFoNFcth1769rUKvYNxq/T3oJAw0eg4SPQmEWgkUeg4SPQgGgbUJUWpR2Ije3ER78M59lnn636WvvQVZOGGqdOnZouBYDVEHFfaQPBERBo5ItAo7lsO/bWtalV7BuMX6e9xdCBhp2ksD6waCcbJNB4IlJfpIYONOwEk3UXL16slhNoEGiYpveQ3PtOCQQaEG0DqtKitAOxsZ346JdhvPvuu1U/b9myZfLw4cPp0tWi85TofBp6nDq/xhjZ6+Erv/IrJ3/gD/yByR/6Q3+o+t6wd+/e6ruDlT4rHz9+vPo8pDBHnxOvX79efS7S5+pHjx5NbxHAKrD3hkhsIDgCAo18EWg0l23H3ro2tYp9g/HrtLcYOtCwwVcNSKfs19WlB6gNgYZv6EBDfaC+qJ/MMsogPoFG3tCBhuj+FILV2XYUAYEGRNtAhG0ySjsQG9uJj34Zhn1XGetAf1uXL18edahhr4c+atu2bZP9+/dXM3NefPHFyblz56rQ5+233548ePBgeo8AxsBe15HYQHAEBBr5ItBoLtuOvXVtahX7BuPXaW8xdKBhv6LWL6ZTp0+frpbfvXt3uqQsAg3f0IGGzcSoB2BPP/30ZPfu3dO/yiHQyCsRaNhMjDQAe++996plJ06cmC4pi0ADom1AVVqUdiA2thMf/bJ8mp2hQX7VnTt3pktXVxpq6DPl+++/P10Tn2ZW3L59e/KX//JfnnzDN3zDxuvjG7/xGyc/93M/V33u0blQ9LnwwoUL1echhRV6nIcOHZocPHiw+p6hmTh23Vzt2LGj+j6i6+u2dNsEHUBM9rqNxAaCIyDQyBeBRnPZduyta1Or2DcYv057i6EDDdHAou7TBqk1EKtfVSvUiKJkoGGhT4QB+7qhAw0NRiu80PZhA/YWcly7dq36u6QIgYYN4uuXa5GUCDT02tG2om1G4ai2H73faFmUsJRAA2LvGaVFaQdiYzvx0S/Lp0Fu9fE6nVtCnw+2bt1aPe6jR4+OKtRI6XOpTuKux7Fz584q7GhL4cTNmzcnV69enbz22muTM2fOVJ+x9R1Et2WvvXop6FA4ou3lypUrk/v3709vEUAp9vqMxAaCIyDQyBeBRnPZduyta1Or2DcYv057ixKBhuhX5Rpk1H1r4D7KoaZMiUBDgY4GYu0FrFIfaaZGlMHqoQMNsUFp6xP1UYQwQ0oFGhq413ZhryEr9U2UmT0lAg2xvrE+UeCTztgojUADYttnaVHagdjYTnz0y3K9+eabVf9qUHzdzqugH/GsQqihQEEBgx6Hgoi+AgadS0WHn1LYoVka+m6iMMNek2npu4v6UOfr0HUeP348vRUAQ7DXYiQ2EBxBiUDjb/zUP5x8x3f9hclXf3TbxnX/+MFvnXz/D3+uKi3//JVfcq/bpbq2q15DBxpD9YuqS7tyZduxt65NtW3Dlbd/vXr8f2TfH9u4zh/82B+u+uqv/q2/V/XRM9/2ne51F6m27fIqIo3lpuN2Xca+7UhGVtGOymI03qZxfWvnZsYkO+0tSgUa0ZUINMagRKARWYQZGlGVCjSiI9CA2HtGaVHagdjYTnz0y/Jo4NsGqKPNQB1KGmroXBJjDXUUxui7gx6HzouxzMehmR2a1aHPWocPH67OxWGvUysd0krrdKiqdTiMGVCavfYisYHgCIYONL73pR+uLqvBaQ1G15dbaRA7vd4iZbflrWtTQwYaQ/aLym7PW9e2bDv21rWpNm1QgGNBhvrip37hn1fL9a9CDbuNP/sXf+BD11202rQrV32yQ5erNvtZNL2trj/m14+57bpRAw1jP9An0CiMQMNHoDGLQCOPQMNHoAGx94zSorQDsdl2QvmFfmkA3H7Vr4H8daZziNghlnT4rbGGGppRsXfv3upxKEwYcsaJ+vD111+fHD9+vApU7HVrtWfPnmqWx/Xr15m9ASyBvdYisYHgCIYMNDTorMtpgNobmLfb0fr6ukWqbbtyNVSgMXS/qNq0a17Zduyta1Pz2qDQwmarnPnrf/tD69OwJw2BNlvz2tVUfVKIYW2pnwN6ETbY3zXQSMOQ6IGGzSgh0CiMQMNHoDGLQCOPQMNHoAGx94zSorQDsdX3ddRsoV+2n9ShpjjR86Q698QqhBqaDWGP4+TJk9Olw9PsHx3O7Pnnn//Q+Tg0I0bLdf4Nwg2gH/b6isQGgiMYKtDQ4ZTscvYr+3rZ+r5+bW+3561rU0MEGiX6RWW36a1rW7Yde+va1Lw26FBSWq9DS3nr00Cjr5krqnntaqo+KYBIDxWlYGEz7LDoi5xuwdoQPdDQY1M7CTQKI9DwEWjMItDII9DwEWhA7D2jtCjtAMaI10//Ll++PHnqqaeqiv6lbUj1UGOsJ7u2z4Z6frucJHyZ3nnnncnZs2er7zdql72udbiqF154YXLjxo3RnsMEiMBeU5HYQHAEQwUadnig3OC0BvPtdvr6tX2bdjXVEIFGiX5RzWtXm7Lt2FvXppraoBkZtj4X9KjPtL7PmSuqpnbNq77cvXu3asPFixc32rPZ8/gSaLRDoNEDAg0fgcYsAo08Ag0fgQbE3jNKi9IOYIx4/fTLwgz1qQaYMevevXsbh23Sv2MNNey7pw49FY1mBOlE4wqN7PWt0vlcdFiqKCEMMCb2OorEBoIjGCLQSGch5E5qrcF6u0yU80QsO9Ao1S8qu01vXduy7dhb16aa2mCzM5pO9q0gQ5fpc+aKqqld86ovOnSSZmdoVoYFESdOnJiuXQyBRjsEGj0g0PARaMwi0Mgj0PARaEDsPaO0KO0AxojXT3/SMKPk4YiiU4gx9lBDbbaTnWv2Q1QKkM6fP/+h827o/C7aXpm1AbRjr51IbCA4giECDTtHhM6H4K1XpeeR8NanpUF+zWzQIYe89Vbz2jWvlh1o9NEvCkJ0GQsA7PYUBORCEpVd1lvXtmw79ta1qVwbFNzYuu//4c99aH39MrmZK1quWRwWfKi03WhZUzhkl/XWzau+KMywAMNmaWhZGzr3hp0vw66nc3Ds3r27+jsXaCg80Tq7nEr/Vzvs71ygoRklulx6iCzdZ/3yalt6GWtL2matV6DTRLer27fbUSnEsNCGQKMwAg0fgcYsAo08Ag0fgQbE3jNKi9IOYIx4/fSDMKObeqgxxu9wr7zyStX+ffv2jSIY0MwMbZs6DJW97nWOFz2Osc6UAYZir5lIbCA4giECDRts17/eepWd/FmD8956lWY0pAP3+tu7nJVdzlvXppYdaGy2X9IZHjbwr4H6NCiZd14Ob13bsu3YW9emcm1IH1fuOdbjtct44YSdX0Nhht2G+qLNYarsdr1186oPOrSU7t8OMWWHn0qXeRRIWCigcMHOuXHr1q2ZgMMLNHQZCxoUoBjdXxpAeIGGhRS6D7VVdDm7ntan1K70vtRWBRBqlwUSqlzwYgFLen8WqNh1CTQKI9DwEWjMItDII9DwEWhA7D2jtCjtAMaI18/mEWYs5uHDhxuHRdK5NcZ2KCSdcFvfKdT+MX1O1AnZdUgqBTH2+t+yZUu17RJsAD57rURiA8ERDBFo2PrcwH16cmfv1/Y2EK0Beg3W2yD/2AMNW7dov9jAvzdTxc7NkZvFYrfrrWtbth1769pUrg3p4/aeYwUYtg3kggm7jfoslXRmR277sfXeunnVB8080IB/ymZNNM1c0DpdRtevS0MRLyiwwCMNM4wCCbtuPdDQ7aqtKgtQjF2v/ljEggutqwceNvPCu56FPeqP+v2J9ROBRmEEGj4CjVkEGnkEGj4CDYi9Z5QWpR3AGPH62RzCjM3R4PqYQ43XX3+9avuBAwemS8ZFh8s6cuTIxvsAwQbgs9dIJDYQHEHpQEMDzjb4rvJ+ba+BZwUZts5mNqxyoNGmX5rK+mgVAw0Lt7S+aUaPV2mgsYzZK5ulQXrddz24sLBCA/aeNLDQbAuPAgKtrwcaTcGD6PbstuuBhs2K0L919lhU9ZklFmh44YuFFqo6Cyy84EUsDCHQKIxAw0egMYtAI49Aw0egAbH3jNKitAMYI14/i9Ehhs6dO0eY0YN6qHHz5s3pmvg0S8POpfHuu+9Ol46P+pxgA8iz10YkNhAcwRCBhg0+1wfuNbisX9inA9i27sxf/9vZwepVCTT67pe0dH1dT5f31tdvd5Gy7dhb16ZybUgPJ1V/jvV41F/1wEZ9pmW5kMLK+lShiLdeZfftrZtXm2Xny6iHEgoSrF1eYJHOosixEKEeaFgo0RQC2G3XA415AYNdr36fubZI+ljtkFKShjb1dhjdntYPFmh867c+2RA/85nPVANt1JPSwL2Ok+qtW+dSn6hvvHXrWHrd2ItapRMHepdbx/ru7/7uqk8+9alPuevXtb7lW76l6pf61D6sF3vPKC1KO4Ax4vXTnX4Iol/kW9+99NJL0zVYlIKBo0ePVv2pgCD3JTOi48ePV+1ehVDLCzbOnj3LycOx9uw1EYkNBEcwRKChE1TbZWyAWv/aoH39fAgatNb/cyd7XpVAo+9+sdJt6HK6HW+9ym7XW9e2bDv21rWpXBs0O8XWqY/02FXqE4VA+n86Q0N/67HmHq/Wq890W7qenW8kV7l2tanNUkCQm4WRm2EhNpCfu67kQgRb7s2yMFqvqn/Gs+XzKnef3mNJA430/tLladCRsn4YLNDYs2fPRqMoiqKoYer8+fPTd2GsI9sOSovSDmCMeP10c+HChY1f5O/YsaM65BT6oUHzMYYab7/99sb2oGBmFdSDDZ1vQ48TWFf2WojEBoIjGCLQsAH2etmv5NMBbKvczALVqgQaffeLygb7dbgq/d+7jMpuz1vXtmw79ta1qaY22HOclh6X+kTr0zBIpTDDe7w2I8NK11vmdrMZ6aGdmkrnu6hrM5A/L9DwwgVj950LNLp+7ttsoJEzeKDxnd/5ZEPUr4V1CBTqSemX9pq67a1b51KfqG+8detY6dQy1eHDh93LrWNpwF598tnPftZdv65lM1euXr06fRfGOrL3jNKitAMYI14/7WhWhg5Xav2lgfcHDx5M16Iv9VBDnznGwE6wvWozV69fvz7zw0HNRnn48OF0LbA+7DUQiQ0ERzBEoKHSQLydE0L/1gfm9Ut7WzdvBsKqBBqqPvvFZiqkA/+5mteuNmXbsbeuTTW1QY8lDS0U8qSHk9Ljs37TuqbwRqX16r/0Ot7lVHaf3rp5tRl26Cd9HtHgfb3sPBqq+gwFG8hX5cwLNJpCALtttSOVWz7PZgON3P0NHmhwDg0f59DwcQ6NWZxDI09fpNUnnENjlg47pX4Zy0ADlsPeM0qL0g5gjHj9zKfPADpcqfqJWRnLp1BDh29Sf+scJWPob51PRe199tlnp0tWh2ad6HOfDj+lx7hr167Ogw7A2GnbV0ViA8ERDBVo9FmrFGj0VV3CDFUf7bLt2FvXpobqm7QUitj95rafzbRrUTqBtg4p1XTIqPQcEvVzVrQJNDSzQ+u7Bhrpyb3rnyFsuRdMNFlWoGGhD4FGYQQaPgKNWQQaeQQaPgINiL1nlBalHcAY8frJ0yxEZmWUM6ZQ4969e1VbNatkVc83cefOnY3Xg54TnVsDWBe2H4jEBoIjINDI11gCja5hhqqPdtl27K1rU0P0jVe2/ehwVN76zbRrUXbklXnBgIUSx44dmy55Ih3sv3bt2nTpB9JQon4f+tvW6XJ1uj1bXw8S1A4tbwoQvPNdLBJoiC1XcOGx/iHQKIxAw0egMYtAI49Aw0egAbH3jNKitAMYI14/sx49elSdJyM9zA6zMsoZU6ixd+/eqq2rfK4JhTX6DKjnQ49Vh6kl5MM6sP1BJDYQHAGBRr7GEmjYya7bhhmqPtpl27G3rk0N0TdeRQw0bIA/N/PA2OVU9aBAszu0vH6ODYUUWpY7qXg686MeFOi8Hna7qnr70rDDO3SnZpJoXb2tiwYadlguPZb6bWqdPUYCjcIINHwEGrMINPIINHwEGhB7zygtSjuAMeL184R+fa7Bczu0lEqhhs6lxTkDyrLDOan0fESl80uojeswc0Hn1lDQp8erQ1BxwnCsOnsPisQGgiMYc6Ax75wSm23XGAKN7//hz1W374UZOv+G+qq+XNVHu2w79ta1qWX2jcIKhTz1c2voby3P9ZlqM+1ahA36q7wB/pTNQFDVw4c0XFAIodvSZfR/hQ0WItRnd4gdqkmly+m6Cgh03fRk5fVDXYmFDOl1VbquAoZ60JHOFvHaYrNVVPXZJgoxLLTQv2q37kv9onbo/1qn+/Zmm7RBoNEDAg0fgcYsAo08Ag0fgQbE3jNKi9IOYIzW/fVz48aNyZEjRzZ+ca46dOjQ5MqVK9NLIAIFGfb8RA017MuzZi2sAx1mywZFdKiteb8IBcbM3n8isYHgCMYWaCjEsAFpzUxITxRdr822K3qgocdufZGrdQ407PHbNqJ/7UTjCnvq17HaTLu6SoMEK292QX2mhJUG8VMKANLQQ4GBrisWaKh0W3UWQmi9wgLdtoUCdj1V/T4lDUxUuh1drj6Lwnscaq9JwwyrenCj27BDXal0fQs+LNBQ6THYY++CQKMHBBo+Ao1ZBBp5BBo+Ag2IvWeUFqUdwBit2+tHJzhWWPHCCy9Mdu7cufH4dcJjLXv33Xenl0Q00UMNzeRR21b5PBp1epw6t4w9bj4XYlXZe08kNhAcwVgCDbuPXHmHD7J19eVtK3qgYYP2TbWMwypZ2XbsrWtTfbQhVzoc2Xd811+ozi1i96NSoLHMmT0YPwKNHhBo+Ag0ZhFo5BFo+Ag0IPaeUVqUdgBjtOqvH/2KXAHGmTNnql/OK7iwx6zSYaV0iCDOAzAO+tVdOpsmWn3sYx+r/l2nQzClocYYznUCLMJe45HYQHAEY5uh0aU2266xnENjkeqjXbYde+va1Cr2DcaPQKMHBBo+Ao1ZBBp5BBo+Ag2IvWeUFqUdwBiN9fWjmRb6/GKlw928+eabk1deeaX6HKPPeXaM/3odOHCguhyzMcZJhwnzntcI9af+1J+q/tV5P9aJQo0XX3yxeuwKNTj8FFaNvcYjsYHgCAg08kWg0Vy2HXvr2tQq9g3Gj0CjBwQaPgKNWQQaeQQaPgINiL1nlBalHcAY2etnLKXPb97yXOkk3zonxksvvVT9cvz+/fvTRw70T6Gatrvnn39+umS92InRdTg3XmtYJbZPicQGgiMg0MgXgUZz2XbsrWtTq9g3GD8CjR4QaPgINGYRaOQRaPgINCD2nlFalHYAY1T/DBC9LNDQoaP0ec5Ksy6ee+65yalTpyavvfba5Pr165M7d+5MHyUwDB1qStuntsd1pJka9hpVkLgu5xLB6rN9UCQ2EBwBgUa+CDSay7Zjb12bWsW+wfgRaPSAQMNHoDGLQCOPQMNHoAGx94zSorQDALDedC4W7Y80M2hdaWaGnXBfASOwCiJ+1rSB4AgINPJFoNFcth1769rUKvYNxo9AowcEGj4CjVkEGnkEGj4CDYi9Z5QWpR0AACjM0D5pnU80r5kqdvL2d955Z7oUGK+InzVtIDgCAo18EWg0l23H3ro2tYp9g/Ej0OgBgYaPQGMWgUYegYaPQANi7xmlRWkHAABPP/10tU/SoP46s8+K63r4LayWiJ81bSA4AgKNfBFoNJdtx966NrWKfYPxG0WgcfHixcnu3bur+96+ffvk9OnTk/fee2+6trySgcbdu3cnJ06cmHzyk5+cLomjZKDx1ltvVX3y6quvTpeUVzLQ0HZy7NixjfvWl0D1URSlA41Lly5V7zGR+kQINCD2ui0tSjsAANC5XLRP0gnC19mjR482Dj217n2B8Yv4WdMGgiMg0MgXgUZz2XbsrWtTq9g3GL/wgYYGpHWfGnAUDTjq70gD+CUCDQsy7AVMoPGEBRnWLwQakyr8UxCoEEP/V1m4EWUAv1SgYUGGPScEGojIts/SorQDAIAzZ85U+yT9u1n6bKzvDDbrw8p+HNX0Q7pbt25Vn7PT63ml29KP8vQdrm/6/Kz72LVr1+Tx48fTpeOlz+f6rlLvV/Wh+hury57rSGwgOAICjXwRaDSXbcfeuja1in2D8QsdaNhArAbuUzaQH2XwcehAQ/2iD3R6/Pq/+kJ/RzN0oHHt2rVq29AXBf1f/UKg8UEomH6B0v+1LMp2UyLQUL/Yl1R9wdT9E2ggIm0DqtKitAMAABvE3+znaQ2e28C5vkfoO4Q+D9aPEGA/rvPos2T6AxldV7dhpc+Z6eC81vfp/fffn+zfv7+67THP0rDvuHoc+oxu313U91qmPsRqs9dIJDYQHAGBRr4INJrLtmNvXZtaxb7B+IUONOzDS/0DpA1W68NhBCVmaKTUFwQas/TlQf1CoDGpvmCp6uxXaPryUFqpGRrGQh9tN5EQaEC0DahKi9IOAADse+LRo0enS7qz21B5nwH1GTmdtaHvoDn2WbLptpY5K/j8+fPV7R45cmS6ZFzSvq5/9xct16wNrDZ7fURiA8ER9BloRC2vzW2qz0Ajanltblu2HXvr2pTXnkjltXleYfxCBxq5X03rby2PMohPoOEj0JhVItDQl4Pc9mG/gOr7C9UiCDR8BBoQbQOq0qK0AwAA++y46HcNm62savq+oM/SNrtC/+pvz7xAQ9IApe/B+Xv37lW3u2XLluq8GmNj30vqR2bAerHXRyQ2EBwBgUa+CDSay7Zjb12b8toTqbw2zyuMX+hAo2nAVcujDOITaPgINGaVCDSsH7ztI9IgPoGGj0ADom1AVVqUdgAAsNlAww5hrMqFFMZ+ZKfKfbdoE2jo/A92mWV8dzt48GB122M77JR9X1Glh8jF+rHtIBIbCI6gj0Cjz7Lny1s3dPURaPRZkfpGZduxt27oitI3GD8CjR4QaPgINGYRaOQRaPgINCDaBlSlRWkHAAA3b96s9kn79u2bLmnPZjCr2syUSIMIHRbJ0ybQELvMMr67nTt3rrrt48ePT5eMg54DtZtDSsFeH5HYQHAE0QKNSBUt0IhWth1769a1MH4EGj0g0PARaMwi0Mgj0PARaEC0DahKi9IOAADsc/Ui38HSQz+1/a5gl1d5MzraBBr2uVy1jEMrXb9+vbrtMZ1HIw2X+j5Zet9spo4CLiyHbQuR2EBwBAQa+SLQaC7bjr1161oYv9CBhv1ao/6h0H4lQ6DxRKS+SBFozCoRaDS9VnKvrxIINHwEGhBtA6rSorQDAIDNBBpp+OCdgNqjz9J2He/zYptAo81lNuOdd96pbvvAgQPTJfGpH5bZJ32yk7pjeWxbiMQGgiOIFmjY8+WtG7o45FRz2XbsrRu6ovQNxi90oGEf+uq/1rAPPlofAYGGj0BjVolAQ3RfOolhnX0xi4BAw0egAdE2EOG1GqUdAAC8//771T7pqaeemi5pb1444dlsoKEfGdnJxfVL/2WwE4OX/F7aVdpvkWk8Qm2M+J17lUTcFmwgOAICjXwRaDSXbcfeuqErSt9g/DrtLYYONOzX5fXjadp0zygnDSPQ8BFozCoVaNhMjHR6tE3vXsZ090UQaPgINCDaBlSlRWkHAACy6H5p2YGGBr91GdW1a9c2TkCuQGPZh1WyNkSpeZ9hNxto6DuN+tdmT6iP9Xf9sGB6HnT+E11G/3qHDbN2pGMMeg7T575e6fcrbJ71ayQ2EBxBU6Cx7n7lN3+76pu/8g9+Y7oEqUjbMdCXTnuLoQMNsQ+A9uFPHyr0QWVZv2xZRMlAw0IffYiLpmSgYb+iiTJgL6UCDftFmD686wO6ffDXsiihYOlAw0KftocdGAqBBsTeM0qL0g4AACLP0PBK1/cG0ft0//59975L1rzPsOn5TLxwQH2m7zDeZ/T0O449JzZWoGVGz42FHDa2UL89+06t63rs+VcwguWxbSGSSAPBBBp5BBrNIm3HQF/CBxqiDyH6cKH71sC9/o6kRKChQEcf1Gynr1If6cNWlEHZEoGGHr/9QsdKf2u59yF5SKUCDdFjtw/iKg3gl+6PVIlAw/rE3lus9LrS8ggINCC2bZYWpR0AANjn6kW+g6WfiZcRaKTr7UdWKn3GXGaocfPmzY37GQv9uCrtH/uxlfpJ32n1OV1V/96iv21dvU/roUW63p7H+vdl/a3l9SNDGGtjlB+DrSrr50giDQRHCzQiPV/RAo1o23Kk7Tha32C8Om1FpQKN6ErO0Iis5AyNiEoGGtGVnqERFYEGxN4zSovSDgAANhNo2IC3qu0hoNJAw/tRUC7QkHTdMo8ycP369eo+nn322emScbDDSXulkMPr71wwIdbf3o8g7Ydv9efItgnvOrp/rYt4RIRVo35WRRJpIJhAI49Ao1mk7Tha32C8Om1FBBo+Ag0fgcYsAo08Ag0fgQbE3jNKi9IOAABsNsK+ffumS9pbJGCwGb3615PeZn2wXDME0hnk3gB9Hy5cuFDd/gsvvDBdMh7qv7SPFGR4YYVYwKDyZrzkwol0Nkid7k/Lvdk3NssmN3sD/ck9PyVFGgiOFmhEwiGnmkXajoG+EGj0gEDDR6Axi0Ajj0DDR6ABsfeM0qK0AwAA++y4yHeNdEC8zeGZ0oHw3KB2U6AhdkgjlWYXLMOhQ4eq23/zzTenS1aTBQy5frTZG/XZN/YceNfTcpXHApK2s3mwuKbnoZRIA8EEGnkEGs0ibcdAXwg0ekCg4SPQmEWgkUeg4SPQgNh7RmlR2gEAwGYCDUlnA8w7L4INoKu8sELmBRqS3mfuMot68OBBdYL0LVu2TB49ejRdupqsr+szMEQzNqyP6zNh7NBW9etZ0JELt+x56/s5w4fZcxdJpIHgaIFGpOeLQ041i7QdR+sbjFenrYhAw0eg4SPQmEWgkUeg4SPQgNh7RmlR2gEAgA1CHz16dLqkm3TGhH6Bn5MeLqppZkWbQGOZszRef/316naPHDkyXbK6mgINW+f1b+6wUvb85g4/pnUqLF/Evo40EEygkUeg0SzSdhytbzBenbYiAg0fgYaPQGMWgUYegYaPQANi7xmlRWkHAAD6zKh90mY+T9uhiVQKGzx2uCGdO6NpJkebQEPSWRrXrl2bLt28AwcOVLe56oebEpsxUw+iFD7ZuU6885RYv6fPj0IM2w7skFL183LY9VK57QWb4/V1aZEGgqMFGpFwyKlmkbZjoC8EGj0g0PARaMwi0Mgj0PARaEDsPaO0KO0AAODMmTPVPunUqVPTJd1p4FrnxLD9mwbIFTJowFsD1vaLfv3bFGakszhUTSePTmdpaPC9jxOEX758ubq9nTt3Th4/fjxdurosuFBZOKF/9TxpWS5ssOdI63UbCjP0fwuj9H89z7qdNPSwkETLdD1tJ7qM/o9+qZ9VkUQaCCbQyCPQaBZpOwb6QqDRAwINH4HGLAKNPAINH4EGxN4zSovSDgAAnnvuuWqfpEMtbZYGqjVInYYSGsRWMJEbHDcKJGzAOy3dVk46M0SVO9RRG++///5kz5491e2s0+doBQ9pGKX+1nPYFDzpebbnWM+BhRa6ji3XbdZDJm0Dtl7/eoe6Qj/s+Ywk0kBwtEAj0vPFIaeaRdqOo/UNxqvTVkSg4SPQ8BFozCLQyCPQ8BFoQOw9o7Qo7QAAwGZPpL+kX0fnzp2r+mH//v3TJcB4RfysGWkgmEAjj0CjWaTtOFrfYLw6bUUEGj4CDR+BxiwCjTwCDR+BBsTeM0qL0g5gjOz1M4bSZzf9q8PX6LOcfv2tZYcPH54cP358cvbs2eoXy2+//fbk4cOH00cIDGvbtm3Vdnrv3r3pkvXz7rvvTrZu3Vr1A58VsQpsPxRJpIHgaIFGJBxyqlmk7RjoS6e9xb59+6odzK5du6ovONST2rJly+Spp55y161zqU/UN966dSy9buxDmkpfQLzLrWNp0ER9smPHDnf9upZ9Wf+xH/ux6bsw1pG9Z5QWpR3A2NhrZyxlgUbbUuBx9OjR6pfiN27cmDx69Gj6yIHlePDgQbXt6XvGulKYaIeaUtAIrALbr0QSaSCYQCOPQKNZpO0Y6AuBRg9FoOEXgcZsEWjki0DDLwINiL1nlBalHcDYjPW1c//+/Wp26e3bt6tff1+9enVy4cKF6iTMzz///OTgwYMb+6m09Nnv0KFD1WXv3LkzvTWgP5odpG1N303XlWZMqQ8OHDhQnUcDWAW2H4kk0kBwtEAj0vPFIaeaRdqOo/UNxqvTVsQhp3wccsqnPuGQUx/gkFN5HHLKxyGnIPaeUVqUdgBjs+qvHYUWb7755uTkyZMb5zVIa+/evZPz589zeCr0Rtubtq0jR45Ml6wXvdb0+PWDoHU+5BZWj+03Iok0EEygkUeg0SzSdhytbzBenbYiAg0fgYaPQGMWgUYegYaPQANi7xmlRWkHMDbr9trR4YC0P9dhqOz4/irN5tBALLM2sFk2oK/ZQuvGHrtmwvP5EKvG9heRRBoIjhZoRMIhp5pF2o6BvhBo9IBAw0egMYtAI49Aw0egAbH3jNKitAMYm3V+7Tx+/Hhy+fLl6vBU1g8aiNUv6996663ppRCRPpPZcxatPvaxj1X/Xr9+fdra9ZCGGXpdAavGXuORRBoIJtDII9BoFmk7BvpCoNEDAg0fgcYsAo08Ag0fgQbE3jNKi9IOYGx47Txx8+bN6twbOseG9YkOUXXp0iXOARCMDZxHLg3qr8sJ6PX6sOdEs56uXLkyXQOsFnt9RxJpIDhaoBHp+eKQU80ibcfR+gbj1WkrItDwEWj4CDRmEWjkEWj4CDQg9p5RWpR2AGPDa2eWTjZ+5syZ6vj/1jc6z4ZO9IyyNHD+wgsvVM9J1FkAGsxX+9blO4YO4WYnAFeYwcwmrDLbJ0QSaSCYQCOPQKNZpO04Wt9gvDptRQQaPgINH4HGLAKNPAINH4EGxN4zSovSDmBseO34dDgq7ff37dtX9Y8G0F966aVqOYanMEPnPdFzoYHzGzduTNfEYjMV9Blp1Sm82LVrV/V4d+zYQZiBladtXRVJpIHgaIFGJBxyqlmk7RjoC4FGDwg0fAQaswg08gg0fAQaEHvPKC1KO4Cx4bXTTAPp2t8p0FA/MVtjeDp0k53nJPrA+f79+6t2rvpno7Nnz268JvTc3Lt3b7oGWF3a3lWRRBoIbgo0/tHt/7DW9dP/5H7VNz/4s7/url/3su3YW7euhfEj0OgBgYaPQGMWgUYegYaPQANi7xmlRWkHMDa8dtrROTZssJrZGsPRIcAOHDhQ9bsOA3b79u3pmngePnxYtVMzSFb1vCt37typvj/Z+8apU6dW9rECdbbdR2IDwRFECzTs+fLWDV3RAo1IfaOy7dhbN3RF6RuMH4FGDwg0fAQaswg08gg0fAQaEHvPKC1KO4Cx4bXTHrM1hqUwQ31sfR39O97rr79etfXIkSPTJatD4Z22fTtp/rZt2zj5N9aOtn1VJDYQHAGBRr4INJrLtmNv3dAVpW8wfgQaPSDQ8BFozCLQyCPQ8BFoQOw9o7Qo7QDGhtdOd/XZGufPn5+uQV80E8NOzK6+VrgRnc0kiXiy8s3Q5zwLllTPP//8KJ4PoG/2GojEBoIjiBZoRCoOOdVcth1769a1MH4EGj0g0PARaMwi0Mgj0PARaEDsPaO0KO0AxobXzmI0W+PMmTMb/Ueo0R/NerEwQ+dn0Dk0onv33Xer9uocH6tyKDIdXkrhhW3je/bsCXsydmAI9lqIxAaCIyDQyBeBRnPZduytW9fC+BFo9IBAw0egMYtAI49Aw0egAbH3jNKitAMYG147m6Mgw/qQUGPzdMJvnYNC/Xn06NFRhBmic6qozS+++OJ0yXjpBN/6HmCHVtNhpvSZj3PGYN3Ze30kNhAcQbRAw54vb93QxSGnmsu2Y2/d0BWlbzB+BBo9INDwEWjMItDII9DwEWhA7D2jtCjtAMaG187mvfbaaxuDv4Qai9OhmqwfNTNgLCebVjs1M0Pt1uHIxkqHkTp58uTGeTL0XOj7gGZqACDQmIdAI18EGs1l27G3buiK0jcYv9EEGnfv3p2cOHFi8slPfnK6JI5SgcbFixcnu3fvrp6T7du3T06fPj157733pmvLKxFo6PGrH9Qf6hf1j/opggiBxqVLl6o+0a/zIikVaOh95dixYxvPydNPPx2qbwg0ILZ9lhalHcDY8NrpRzoYT6jRnU6obf2nQfUx0XOvdutcH2Okw2VpZglBBtBMrw9VJDYQHEG0QCNSccip5rLt2Fu3roXxCx9oWJBhOzcCjSdeffXVqj80QC0ahI3WPyUCDT1+hRm3bt2q/rZ+0r+llQw0LMiw+ybQeBJ+aVtRiKH/qyzciNI/BBoQe92WFqUdwNjw2ukPocZi0sN2nT17drp0HDQ7Q+eWUNsvXLgwXRqf2q3tVd+FrO9VR44cGfUsE2CZ7HUSiQ0ER0CgkS8Cjeay7dhbt66F8QsdaGiAUQPUGlzU/3XfBBofDMQq6ElZ8BNlMHboQMNCHQt5jAby1V/qt5JKBRoKc1R6/Jq9EmkbMSUCDQu7FJoa/V/LorzPEGhAtA2oSovSDmBseO30Kw01dCgqNNNsDPWV+mxMgYA5d+5c1X6FGmM4RJbOj6HPb3bSddW2bduqGRq3b9+eXgqAx14zkdhAcAR9BBrWx1HLa3Ob6iPQ8NoTqbw2ty3bjr11bcprT6Ty2jyvMH6hA4063TeBxpNf26sv6gP3165dq5Zr0DqCoQMNC3TSAWqxQXz1T0klZ2gYG8Qn0HgSdKnqNGNDbSkdgAmBBkTbgKq0KO0AxobXTv8s1FC9884706VIafD/hRdeqLY99ZP6bGwePHhQhQF6DFevXp0ujUftVFh08ODBjde7au/evdXysZx4HSjNXjuR2EBwBAQa+SLQaC7bjr11bcprT6Ty2jyvMH4EGj0YOtDI/creZihE6aOhAw0biK6zQXz9WxKBRt7QgUbTjC8ti9JHBBoQbQOq0qK0AxgbXjvLcebMmapf9Xnz4cOH06UQhRlHjx6t+mfr1q2j/Rxx/Pjx6jEcOnRouiQOhRRvvvlm1TabMaTSeTLU99evX59eEkBb9jqKxAaCI+gz0PDWlazNtqvPQMNbV7L6aJdtx966NrWKfYPx67S3INDwDR1oNA24RuqjoQMNPXZVnQU9BBoEGsa2Ce+1EqmPCDQg2gZUpUVpBzA2vHaWQ4P29ot4DSDjCQ20W7/osEfRPvO19fbbb2/MwtFJtSNQO3QOEoUYdoJvldqoZQo4mI0BLM5eU5HYQHAEBBr5ItBoLtuOvXVtahX7BuPXaW9BoOEj0PARaMwi0Mgj0PARaEC0DahKi9IOYGx47SyPzldghyS6cuXKdOn6un///uTAgQNVfyjMGOs5G/S82jkodO6JUjTzR4f41aG7du3atfFatlJwpPO46JBTADbPXluR2EBwBAQa+SLQaC7bjr11bWoV+wbj12lvQaDhI9DwEWjMItDII9DwEWhAtA2oSovSDmBseO0slwaU1b/63Pn48ePp0vWjEEDnbFBf6F/9PUaa4bBv377qcWjWw5AnAtdndQUYClH279+/8dq1Usiiz++aiUGIAfTPXmuR2EBwBAQa+SLQaC7bjr11bWoV+wbj12lvQaDhGzrQOHbsWNUX9QHXW7duheqjoQON7du3V4+/7uLFi9VyAg0CDdP0Wsm9vkog0IBoG1CVpvdzawtFUd2rxH5/HWjA2wbAdV6NdaSZGDajQeeU00yNMdJz+eyzz1aPQ6HMMg/fpNvWCeXPnz8/ee6559wZGDqslPZ9OszUzZs3p9cEsCz22ovEBoIjINDIF4FGc9l27K1rU6vYNxg/Ao0eDB1o2KC0BupT9qvz0gP3ZuhAQ9uGHr8Gq1NRBvEJNPKGDjRE96cQrM62owgINCDaBqJsk9YWiqK6F4HG8tjnCA1Aj3Uwf1H6TGdhhg6BNNZzOOjwThZm6PH09X1TIYnOfXH58uXJqVOnJkeOHNmYyVKvHTt2VOsVYKhf13nGD1CCvRYjsYHgCAg08kWg0Vy2HXvr2tQq9g3Gj0CjB0MHGvbrcv2SPHX69Olq+d27d6dLyho60LCZGPWgR79U27179/Svcgg08koEGjYTIw3A3nvvvWrZiRMnpkvKItCAaBtQARgnXsPD0EC0+lmD1utCnw+2bt1aPW6dGH2sA/DXr1+vvjfocShU0AnBu9BnbH221aGgXnnllcnx48cnhw8froILnbDbXoNpqd/0HUGX1efPsZ5vBFgl9vqMxAaCIyDQyBeBRnPZduyta1Or2DcYv9EEGjaIH2Fgum7oQEM04Kr+sMF7fYjXr80VakQxdKChwWh9MVE/2IC9hRzXrl2r/i4pQqBhg/g6PnAkJQINvadoW9E2oxBQ249eV1oWJRQk0IDYewaAceI1PAx99lM/6yTh6/DLes04sMF6faYc8lwTm6Xn586dO5PXX3998s3f/M0br5Fv+IZvmHzhC1+oPveoFHTos6EOC6XPRDo59/PPP199v9DnNwtBmkqzdnQ+DB1WSjMvdPJ43TeAeOx1G4kNBEdQItD46o9u27iO6ju+6y+4l9tsdW1XvYYKND5/5Zc2Lmd15q//bfeyfZXdj7eubdl27K1rU/PaMNR2Uq957WoqjF/4QEMD9PrAahuqSgOOmqkRZVC2RKAh+rW9+kJ9oqAnyqGmzNCBhtigtG0r2nYihBlSKtDQwL1eL7atWKlvosx4KhFoiPWN9YkCn3TGRmkEGhDbPgGME6/h4ehzp/r6woUL0yWrSSdCtzDj5MmT06Xj0SaI6FI6/4UOt6WwQ+dRUVBy48YNggtgZOw1HYkNBEdQaobG9770wxvXW9bg/SLtSmvIGRpX3v71yTPf9p0bl/+pX/jn7uX6qrbtairbjr11bapNG4bYTurVpl25wviFDzTGoFSgEV2JQCOyCDM0oioVaERHoAGx9wwA48RreDj69b36Wr/IX1Xnzp3b2Kb0/zFKz2Hx+3//75987GMfq743qLRO3x9Uhw4dqj4vv/jii9VnIgVV+qyosEIzcvTZekwzUwA0s/eFSGwgOIJSgcbf+Kl/uHE9zVDwLrPZWqRdaQ19yCkbvNfMBG99n7XZvlHZduyta1Nt2jDEdlKvNu3KFcaPQKMHBBo+Ao1ZBBp5BBo+Ag2IvWcAGCdew8PR4LbOwaD+XsVf52s2hh6bZmdolgYADMn2Z8ua5W+3H4kNBEdQKtD4/h/+XHWdZQ7eL9KutIYONGyGhv711vdZm+0blW3H3ro21aYNQ2wn9dpM32B49aMvbRaBRg8INHwEGrMINPIINHwEGhB7zwAwTryGh6XzLKi/dXLoVaGgxr6HKczQ+TMAYGi2PyPQKKNUoDHE4P0i7Upr6EDDzhmhQXxvfZ+12b5R2XbsrWtTbdowZMhjtZm+6ZMOfW9tiXa+2mh0Wgnrq80i0OgBgYaPQGMWgUYegYaPQANi7xkAxonX8LCuXr1a9feqHHZKJ9A+evRo9Zi2bt3KZwIAxdj+jECjjFKBxh/82B+urrPMwftF2pXWkIGGzplhlx3i0Ept29VUth1769pUmzYMsZ3UazN90yeFGNYWnZcVeTrHsfXVZhFo9IBAw0egMYtAI49Aw0egAbH3DADjNMRrePfu3dV9aCp3G3Z5q6br3bp1a7J9+/aZy+v6qfSLXK50H/qSp8vql2zLogBAA/+6z4cPH06XjtOjR4+qk13rsezcubM6bwQAlGLv5wQaZZQINIYavO/arnoNGWjohNe63FCHVtps36hsO/bWtal5bRg65LGa166m6pM+46aflZf5OXfs9FnW+mmzCDR6QKDhI9CYRaCRR6DhI9CA2HsGgHFa9ms4/aWT6u7du9M1zRQupNd79dVXp2s+TF/MLATJ/fJMwUd6e/rCYqUQ48SJExvr9KVP7V4WO0bvmPef9+/f33gcCjNu3749XQMAZdh7OIFGGSUCDRu8T6+jZfZrfP37V//W35u5ziLVtV31GjLQ+I7v+gvV5f74wW+t/r7y9q9XJwm3w1BpeZ+D+m3b1VS2HXvr2tS8Ngy1ndRrXruaqi/63K02XLx4caM9y/yMO3YEGsEQaPgINGYRaOQRaPgINCD2ngFgnJb9Gk6DAlXbY/fWZ1UoZGgKQ+x+mm5fg1x2ex7dvg3Sq3Sby3D8+PHq9s+fPz9dMi737t2b7N27t3oM+ld/A0Bp9t5NoFFGiUDjz/7FH6gub4P3Nphfr7/xU//wQ9ftUnY73ro2NWSg8Uf2/bHqcgoxFGbY32kp3NA67/pdy27TW9e2bDv21rWpeW0Yajupl92ut25e9UXnhNBnaP34xz4HL+vz7Sog0AiGQMNHoDGLQCOPQMNHoAGx9wwA47TM17CdhFBfnGyqe9tj99oXijRgaLquZnDoMrpezrxAQ9Tm9D6X8Ss2BRm6bZ0gfGw0E0MzMtR+9ZNmagBABPa+TaBRRolAIx281yC1/rZB6fRX+VpXv26X6tqueg0VaCiksMtpxoH6QyfB1iGXtD4dyFf/1K+/SNnteevalm3H3ro2Na8NQ20n9ZrXrqbqiz5/W4BhszS0zKPZzOlhX+uzo9PP0SrvM7c+R+t66Wdpr+q3bddL71+3Uf+hUr2N9n6vtqSzu/V/3WaOfsSUfj9R6f7S29isTrdAoOEj0PARaMwi0Mgj0PARaEDsPQPAOC3zNWyzLBQK6EuD3VfTFwxjgYa+3KRfoHKBhS7XtF7aBBpi962qn4+jDzdu3Khue2yfQ9UvFmbo3Bk6hwYARGHv2wQaZQwdaKSD9zZIXZ91YIcUsl/mL1pd2uXVUIGGQgy7nPqkPkCfnktCg/vpukXLbs9b17ZsO/bWtammNgy5ndSrqV3zqg922Ff7cY4dfipdVqfP6HYZL3RIP8/XP3NrvQUZuq7+rl9HoYqul866tpBC4YLdZjpr2gKZlH2mVwCh7xu6vu4zva/cvsC+n6T3p3amh+VSbVanWyDQ8BFo+Ag0ZhFo5BFo+Ag0IPaeAWCclvka1hcRCwTsS5Uq9yUqpS8Yuqy+nKTnv8gFDH0GGmJfolRt2tvFzZs3q9vdt2/fdEl82tfbycyPHj1andwcACKx92wCjTKGDjT0C3u7fO4QShqg7nKbudrsbQwVaCiksMvlBufnre9adnveurZl27G3rk01tWHI7aRem7nNPmiwvz4bQ5+j1SYdiirHPi/XAw2xz+eq+mdu+yyuz9B19rlabaqzdfXbSwMYfRdI2X3p8dUDjzSYqF9Pt2mzMurrJA1ENqvTLXznd35ndadKW/Shm3pS+/fvr35N5a1b51KfqG+8detYllJaHT582L3cOpYdGuKzn/2su35d67u/+7urfrl69er0XRjryN4zAIzTsl7DFkLYFyb98snuy/ulVV0aaIhux67vfcGyLzZ9BRp2e6qmL32LsB+RjOUHR5cvX5489dRTVZv1g5f3339/ugYA4rD3bAKNMoYONNLB+9zhk2ygerOD913a5dVQgUY6MG+HmaqXrV+XGRpDbif1amrXvNos+9xd/wxrn6dzPxCSRQONpuvZ5+p6wGLjkLn2WNhRfxx2e7qeHmsq/c5Rb6MFFl6wImkYslmdbmHPnj0bd0xRFEUNU2M9qSn6YdsBgHFa1mvYvjClv36y49LWv8x46oGGvpzYL6r0bzpVXeyLTV+BRvqFre/BsYcPH1a3u23btumSuF577bWNMOPkyZPTpQAQz7Les43dfiQ2EBzB0IGGDULrcEHeepWdOyE3UK1f6+swRPPus0u7vBoq0LDL1A81ZZUefikNNBR+fP8Pf67qJ81isMvobx3GKr2NetllvXVty7Zjb12bamrDotuJ+koBiM5BYoekUumybcMgu463bl5tlg3M12chpJ9vvRkKsmigYcu969nndFVqXsBgbam/r9vt5d7v7b4UmKRshorXRkkf32Z1uoVv/dYnG+pnPvOZ6lAo1JPSr7/0hclbt86lPlHfeOvWsfS6sReuSrNXvMutY9lMhE996lPu+nWtb/mWb6n6pb6TwHqx9wwA47Ss17BCh/qU83Q2aP1LUJ19oUi/cKTXr3/xsS82TbdrX4pU86RfaHJfljajbTtKOnfu3EY79X8AGFo6CLaMyg1qeew6kdhAcARDBxp22T/7F3/AXa+yy2iwPl2uwWoNStvgfS7wsLLb8da1qSECjfTQSrkQIr3M56/80sZyW6YgxA7JlJ4suynUsMt469qWbcfeujbV1AZb13U7sSAkPam6+szCj6bbs7Lb9dbNq83SwH1u1oP9QCj3/mefl7316efj+mdum03hXc/ey+ufqdPP5k1Vv17u9oxdr94WW54bw0of32Z1ugXOoeHjHBo+zqExi3No5OnwSuoTzqExS6GG+kX9g/Vl7xkAxmkZr2E7X4Z+HZZKj4U77zBO9oWi/kUk/eKTfpGyLzb1L1ep9LrzpF9ocl+WFmUzNOycFBHr05/+dPWvZmdolgYAlGDv7cuq+j6miV0nEhsIjmDIQEMDy3bZ3GB7eoLs9PBLGqjXL+41YK3Baq1fhUBDg/F2GQsl6qVBeK2vz1bQMq8PbPZKU//YfXrr2pZtx966NpVrw2a2Ez1m9VO9L9PLp8u9ans5rzbDDvs6r+o/PDL2edl7f0w/H9c/c9vsbO92c2FH0301sX1D7jO61nm3a8tz3xfSx7dZnW6BQMNHoOEj0JhFoJFHoOEj0IDYewaAcVrGa9gOLVU/LJTYF5rcr8aMfaGofxFJv6Slt2FfbHJfUCRKoJGeQ8PuI1opjNLnZJ0/AwDGwN6/+n7PNnb7kdhAcARDBhptBu9zYYUG6TVTQf+3GQurEGjY49UMAm+9ymaktD1kkp1/YqyBxma2k1xZoNF0CCsru29v3bzaDDuMk2Yh6PNsvSx4UHmf1ZtCBl3frqv/p3R4WPucrzbYuS3sM7rW1c930XRfTew2c+/3Wufdbm65SR/fZnW6BQINH4GGj0BjFoFGHoGGj0ADYu8ZAMap79ewzcLIHQvXvoCocsfuFftC4X3hSL+I2Xq73fqXq5R9aVLNk36h6Xtw7ObNm9Xt7t27d7oEALBZy3rPNnb7kdhAcARDBho2CJ27bPrL/PTQSvVapUBj3uGzbHDfm3WQK5vRkTsnh2peu9qUbcfeujaVa0Nf20la6l9dPneC8bSa7nteLcrOOdf0w6F0xnR9NrU0hQzp52PvM7dmadv92+UUZOi26mGG2H11fd+2z/2569l91x9DbrmxWeaqzep0CwQaPgINH4HGLAKNPAINH4EGxN4zAIxT369hOwlhm/K+RJmmQMO+rGm9/tUXM/tis4xAQ78y69ONGzeq2+VzKAD0x96zuw6MtWW3H4kNBEcwZKChQfncZTVYb+c5mDfovCqBhg6VZOu9x6LBegUeqrYD9+pHu056KKZ6NbWrbdl27K1rU7k29LWd6PHrMrq8btNm+Myr3H23qUXZ+eZyA/bGZlJ4P0Cyz8ve59+m8+FZGND0g6U6+96gz/Ne4CHeLBL73N810LDHpsfvSX80tVmdboFAw0eg4SPQmEWgkUeg4SPQgNh7BoBx6vs1bL/I0pecXFkYkfsyIbqcLpP7QpZ+odIXrr4DDbs9VVPwsogLFy5Ut8tnLQDoj71nE2iUMVSgkQ7eq9LDJ+lwQG0HqVWrEmjosdp6lQ24a9Be67qGGSqbiTDvOnaf3rq2Zduxt65NeW3oazuxflCpDzVbpSngScuu562bV4uyz7pNn4cl/UxcDwzskFX6TJ+GDAoq0pkX9fuw2+wSaOi+7XuBF6DY94b6SbwXDTTS7w8KYFJaZ21RbVanWyDQ8BFo+Ag0ZhFo5BFo+Ag0IPaeAWCc+nwN2/kt5g0m2Tk2VN6vrmReoCHplzH78tVXoGG/XFPl2rioF198sbrd8+fPT5cAADbL3rPn7YMWZbcfiQ0ERzBUoGGzDXQIJVU64Kxfz3cZcF6VQEP9oMeugXodJsoG61X6vwbz2x5mSmUnA28TCjW1q23Zduyta1NeG/rcTlS6rG5Ht6nbWHbfLCKdJd30+VnSz7malZCyz+AqBRi6LX3O1v/ts76qHjKkn++90vV1X/WZGGnIYPenss/t9faJtV+Xr9+ePrfb7TVdV2U/ilLbtTw95FSXYMZDoNEDAg0fgcYsAo08Ag0fgQbE3jMAjFOfr2ELFebNaEi/cNW/DJk2gUb6pcqqj0AjvV3v12KbdeDAgeq2degpAEA/7H2bQKOMoQKNPmtVAo0+q0uYoeqjXbYde+va1FB9o1K/6L4UbMwLiTbTrq7SQyVZee+F+oyrEKB+2frnXQ3s2+U0a0HrLThIr5cGBrnbrpfXLn1+V6hgMyT0r/72PtengYRK92nhg/5NZ1modPmUHocej11O17fvG2mYo8p9T2mDQKMHBBo+Ao1ZBBp5BBo+Ag2IvWcAGKe+XsP6cmBfDObNaEgDA31Z8bQJNKT+Ba6PQMO+KOnx9D074/33359s3bq1uv0HDx5MlwIANsve3wk0yiDQyNdYAo2uYYaqj3bZduyta1ND9E1adn92aK9cbaZdY2Q/bLJwIWUhgvVJ35+vIyLQ6AGBho9AYxaBRh6Bho9AA2LvGQDGqa/XsIKHLrdll1V5X2ps+nn9F2N1aZCi2kygoduy6fK6zfqxdftgJwTfv3//dAkAoA/2/k6gUQaBRr7GEGjocEq6/S5hhqqPdtl27K1rU8vum3rZ/RFofMBmX8/73G590vR5fVV02lsQaPgINHwEGrMINPIINHwEGhB7zwAwTn28huvTu+cFAfXp3N6XHwsWNA1cQUOT9Ni7uS9I6awQu5yVrq822GPQDA3v12V9eOGFF6r7OHPmzHQJAKAP9v5OoFHGmAMNnWfCW2+12XZFDzR0vgndtkKN+jqdl6Ppfvtol23H3ro21Ucb6qWQywu6bJvRIafq6+q1mXaNjf1oaN7MauuTeZ/tVwGBRg8INHwEGrMINPIINHwEGhB7zwAwTpt9DadhQlq5X2hpuXd5BRemfvxdBQ3zAgb7IuUFGrk2Wun2dX0dvmoZszJSu3btqu7z5s2b0yUAgD7YezqBRhljCzR0kmc7xJJKA/fe5VSbbVf0QCM9iXiuvOup5q1vU7Yde+vaVB9tqJfCDN2mTrJu58pQmGF91bS9WG2mXWNjh4BtmqFhJ9zOHW521RBo9IBAw0egMYtAI49Aw0egAbH3DADjxGt4OHa4KYUaAIB+2f6MQKOMsQQa3/vSD2/cT67q18ktb1uRAw2bcdBUTYfksst469qWbcfeujbVRxvqpUNvPfNt3zn5gx/7wxu3r1kZCsE0o8W7Tr02066xSQ8Bq1ka6Q+RdGhZHZJK6zULeh1mZwiBRg8INHwEGrMINPIINHwEGhB7zwAwTryGh/Pss89Wfa39JwBgXCLuL20gOIKxzdDoUptt11hOCr5I9dEu2469dW1qFftmjBRUKLhQqGzhhspmQmvG9DoZTaChxElTa5b1a4DNKBVoaEO2QwZoA9YUpEhJXMlAQ4dD0LYy7/hyQyoZaOj1Y8fKVim19Q4ZUUrpQENv/HotReoTIdCA2OsWwDjxGh7Gu+++W/Xzli1bJg8fPpwuBQCMRcT9pQ0ER0CgkS8Cjeay7dhb16ZWsW8wfuEDDQsybEMl0HhCA/XqD0vgNBAbrX9KBBoWZNj2QqDxwdQ0m3qmsnAjygB+qUDDggx7Tgg0EJFtnwDGidfwMOx7ysmTJ6dLAABjEnF/aQPBERBo5ItAo7lsO/bWtalV7BuMX+hAQwOvGpzWIKP+r/sm0PhggLp+MhgLfqIMyg4daOgEOOoDhWB2MhwCjQ/CL/WL0f+1LMrrqUSgoX5R6fVkJ1gi0EBE2gZUAMaJ1/DyaXbGU089VdWdO3emSwEAYxJxf2kDwREQaOSLQKO5bDv21rWpVewbjF/oQKNO902g8eRX5eqL+vHRbBBfg7MRlJihYTQwrb4g0JhUMxBUdZqxoXZoQL+0UjM0jIU+BBqISNuACsA48RpevoMHD1Z9fOrUqekSAMDYRNxf2kBwBAQa+SLQaC7bjr11bWoV+wbjR6DRg6EDjdyvyW0QP0ofEWjMKhFoNM1s0jKtizCIT6DhI9CAaBtQARgnXsPL9eabb1b9u2vXrsmjR4+mSwEAYxNxf2kDwREQaOSLQKO5bDv21rWpVewbjB+BRg+GDjSaBqIj9RGBxqwSgYb1g7dNRBrEJ9DwEWhAtA2oAIwTr+HluX///mTHjh1V/9ZnLgMAxiXi/tIGgiMg0MgXgUZz2XbsrWtTq9g3GD8CjR4QaPgINGYRaOQRaPgINCB6Hy31Xgpg8/Q+rkK/3n///cmhQ4eqvn322WenSwEAYxVxf2kDwRH0GWhELa/NbarPQCNqeW1uW7Yde+valNeeSOW1eV5h/Ag0ekCg4SPQmEWgkUeg4SPQgNF2QFHUuAv9sn2kDjX14MGD6VIAwFhF3F/aQHAE0QIN6xtv3aLltblNRQs0IvWNytrjrWtTXnsWrSh9g/Ej0OjB0IHGsWPHqr6oD77eunUrVB8RaMwqEWg0bRO57agEAg0fgQaMtgOKosZd6M/ly5cnTz31VFXR9t0AgMVE3F/a4GsEfQQafZb1jbdu6Ooj0OizIvWNKlJ7orQF40eg0YOhAw0bfL148eJ0yRPRBvEJNGaVCDRE97V9+/bpXx/Qa0nrIiDQ8BFoAMD46X08yv52FViYoT49e/bsdCkAYOwi7i9t8DUCAo18EWg0V6T2RGkLxo9AowdDBxr2q3v9wj51+vTpavndu3enS8oi0JhVKtCwmRjabsx7771XLTtx4sR0SVkEGj4CDQAYP72Pq7B5aZhx8uTJ6VIAwCqIuL+0wdcICDTyRaDRXJHaE6UtGL/RBBo2iL979+7pkjiGDjREA9HqD5uloYFY/QpfoUYUJQMN9Yv6J8qAvZQKNPTa0bbx9NNPV2GXwgz1i5ZFCb9KBxoW+ly6dGm6JAYCDQAYP9vvY3MIMwBgtUXcX9rgawQEGvki0GiuSO2J0haMX/hAQwP0Goi1nZtKA7GaqRFl8LFEoCH6Vbn6Qn2ioCfSbAQpEWhou1BfpNuL/tbydIZCCaUCDdFjt0NMqTSAX7o/UiUCDesTew1Z6f1GyyMg0ACA8bP9CxZHmAEAqy/i/tIGXyMg0MgXgUZzRWpPlLZg/MIHGmNQKtCIruQMjYhKBhrRlZ6hERWBBgCMn+33sRjCDABYDxH3lzb4GkFToFFCpL75ld/87aotf+Uf/MZ0SVmR+kYitSda32C8CDR6QKDhI9CYRaCRR6DhI9AAgPGz/T66ef/99yfnzp0jzACANRFxfxlp8JVAI49Ao1mk9kTrG4wXgUYPCDR8BBqzCDTyCDR8BBoAMH6230d7+sx04MCBjb576aWXpmsAAKsq4v4y0uArgUYegUazSO2J1jcYLwKNHhBo+Ag0ZhFo5BFo+Ag0AGD8bL+Pdi5cuDDZunVr1Wc7duyoDjkFAFh9EfeXkQZfCTTyCDSaRWpPtL7BeBFo9IBAw0egMYtAI49Aw0egAQDjZ/t9NNPnJH1utP46evTo5MGDB9O1AIBVF3F/GWnwlUAjj0CjWaT2ROsbjBeBRg8INHwEGrMINPIINHwEGgAwfrbfR572/9u2bav6iVkZALCeIu4vIw2+EmjkEWg0i9SeaH2D8SLQ6AGBho9AYxaBRh6Bho9AAwDGz/b7+LCrV68yKwMAUIm4v4w0+EqgkUeg0SxSe6L1DcaLQKMHBBo+Ao1ZBBp5BBo+Ag0AGD/b7+OJR48eVefJ2LNnz0bfMCsDABBxfxlp8JVAI49Ao1mk9kTrG4wXgUYPCDR8BBqzCDTyCDR8BBoAMH623193d+7cmZw8eXLj0FIqhRrnz5+fPHz4cHopAMC6iri/jDT4SqCRR6DRLFJ7ovUNxotAowcEGj4CjVkEGnkEGj4CDQAYP9vvr6sbN25Mjhw5Mnnqqac2+uLQoUOTK1euTC8BAACBxjwEGnkEGs0itSda32C8Ou0tPvGJT1Q7GB3fVoOx1JPauXPnZOvWre66dS71ifrGW7eOpdeNfUhT6VeJ3uXWsQ4fPlz1ycGDB93161r79++v+uUnf/Inp+/CAICxsf3+unj8+HEVVrzwwgvV50B7/Fu2bKmWvfvuu9NLAgDwgYj7y0iDrwQaeQQazSK1J1rfYLw67S3SY91SFEVRw5QOxwEAGCd7L19V9+7dqwKMM2fOVD9QUHCR7sP0/eHs2bOc7BsA0Cji/jLS4CuBRh6BRrNI7YnWNxivTnuL5557rtrBvPXWW9Xhc6gndeDAgcmuXbvcdetc6hP1jbduHUuvG/uQptKMDe9y61iXLl2q+uTcuXPu+nWtz3zmM1W/fOELX5i+CwMAxsb2+2OjmRbpPkmfY958883JK6+8Us0i1GFFdTJve3xp6fOfLsdsDABAW7YPiSTS4CuBRh6BRrNI7YnWNxivTnsLfXnRDkZfavABzqHh4xwas/S6sQ9pKr2e8ATn0PBxDg0AGL903z+G0mc3b3mudJJvnRPjpZdemly+fHly//796SMHAKA9bx9Tumzw1Vs3dP1fvuP7qrboX2/90BWpb/7HP/LHq7Yceukn3PVDV6S+UUVqT6S2YNwINHpAoOEj0JhFoJFHoOEj0ACA8avv/6OXBRo6dJQ+y1lp1oVma586dWry2muvTa5fvz65c+fO9FECALA59f1RhIo0+EqgkS8CjeaK1J5IbcG4EWj0gEDDR6Axi0Ajj0DDR6ABAAAAAGXY4GsEHHIqj0NONYvUnmh9g/Ei0OgBgYaPQGMWgUYegYaPQAMAAAAAyog0+EqgkUeg0SxSe6L1DcaLQKMHBBo+Ao1ZBBp5BBo+Ag0AAAAAKCPS4CuBRh6BRrNI7YnWNxgvAo0eEGj4CDRmEWjkEWj4CDQAAAAAoIxIg68EGnkEGs0itSda32C8CDR6QKDhI9CYRaCRR6DhI9AAAAAAgDIiDb4SaOQRaDSL1J5ofYPxItDoAYGGj0BjFoFGHoGGj0ADAAAAAMqINPhKoJFHoNEsUnui9Q3Gi0CjBwQaPgKNWQQaeQQaPgINAAAAACgj0uArgUYegUazSO2J1jcYLwKNHhBo+Ag0ZhFo5BFo+Ag0AAAAAKCMSIOvBBp5BBrNIrUnWt9gvAg0ekCg4SPQmEWgkUeg4SPQAAAAAIAyIg2+EmjkEWg0i9SeaH2D8SLQ6AGBho9AYxaBRh6Bho9AAwAAAADKiDT4SqCRR6DRLFJ7ovUNxotAowcEGj4CjVkEGnkEGj4CDQAAAAAoI9LgK4FGHoFGs0jtidY3GK/RBBp3796dnDhxYvLJT35yuiSOkoFG5H4pEWi89957k9OnT0+2b99ebau7d++eXLx4cbq2rJKBhraTY8eObdz3008/PXnrrbema8srHWhcunSp2lYi9YkQaAAAAABAGZEGX6MEGv/+t39n8jd/8d5G3/zPX/o31bKSogQaEftGrD2lPP6d/zb5u//0tyan//7djbboby0HFhU+0LABexuIJdB4Ygz9UiLQUD8ozLh161b196uvvlr1j/4trVSgoZBHfaIQQ/9XWbgRZQC/VKBhQYY9JwQaAAAAAAApPRCcihBoaHD++Ju/utEvVv+3n/zVyb/7z+UG7iMEGlH7RqwtJfyX/+N3Jz/w9+7M9InVD13+dUINLCx0oKGBVw1Qa5BR/9d9E2iMp1+GDjTUH+oLDVKnNGCtAX31VUmlAg0LdRSCGf1fy6JsNyUCDfWLStuFZvXo/gk0AAAAAABiA68RRAg00tkH9dK6UiIEGlH7RqwdJfydf/ybM31Rr5/4f92fXhLoZlTn0Ig0AJsqMUMjFbVfhg40bMZKOnAvNlh97dq16ZIySgUaCnRUdZqxoXaUDnqk1AwNY6EPgQYAAAAAQGzQNQILNPSL/5N/918OXr/8r/6TOwPB6n/6mX85benwLND4nr/zK27bl113fuu/hu0bsXZ4bV92fd9P/9pMX9RLlwEWQaDRAwIN39CBhg3Q19lgtf4tqUSg0TSDR8u0LsIgPoGGj0ADAAAAAMqwQdcILNAoVf/Lrz0MH2iUKt3/GAKNEvV9P53vFxWBBhZFoNEDAg3f0IGG+kFVZ4eiWsdAwx67t31EGsQn0PARaAAAAABAGTboGoHORaBzMZQqnevgb3wx5mGVfud3/7vb5qFK9x+1b8Rr81D1t99qPuSUDkkFLIJAowcEGj4CjVkEGnkEGj4CDQAAAAAowwZd8YQGqD/9E7dnBqRVWva//6f/Y3qp9UTf+BTEaYZKvV9UWq71wCIINHpAoOEj0JhFoJFHoOEj0AAAAACAMmzgFR/QwH06G0GzD9Y9zDD0jU+hxc/8k/99cvrv393oG/1NmIHNINDoAYGGb+hAY/v27VVf1F28eLFavo6Bxq1bt6r78raPY8eOVesINAg0AAAAAACzbPAVH0bf5NE3efQN+kKg0QMCDd/QgYb6QH2hQfxUlMHqEoGG6L4U9tRZf0VAoOEj0AAAAACAMhh8zaNv8uibPPoGfSHQ6AGBhm/oQMNmYujf1NNPPz3ZvXv39K9ySgUaNhMjDXree++9atmJEyemS8oi0PARaAAAAABAGQy+5tE3efRNHn2Dvowm0LBD50QYmK4rGWhE7pehAw0N0iu80GwEG5i2kOPatWvV3yWVCjS0jahP1Dd3796t+klBhpbp7whKBxoW+ly6dGm6JAYCDQAAAAAog8HXPPomj77Jo2/Ql/CBxunTp6uBWN2vlQZiNSMhyuBjiUBjDP0ydKAhNlhvfaI+ihBmSKlAQxRq2CGmVBrAT2dslFYi0LA+0evG+kWlbSbKjCcCDQAAAAAog8HXPPomj77Jo2/Ql1EdciqqkjM0IisRaERWMtCIrvQMjagINAAAAACgDAZf8+ibPPomj75BXwg0ekCg4SPQmEWgkUeg4SPQAAAAAIAyGHzNo2/y6Js8+gZ9IdDoAYGGj0BjFoFGHoGGj0ADAAAAAMpg8DWPvsmjb/LoG/SFQKMHBBo+Ao1ZBBp5BBo+Ag0AAAAAKIPB1zz6Jo++yaNv0BcCjR4QaPgINGYRaOQRaPgINAAAAACgDAZf8+ibPPomj75BXwg0ekCg4SPQmEWgkUeg4SPQAAAAAIBh3Pmt/zr5ld/87Y2ywdd0mWodvf5L/3byV/7Bb2yU9U267K994V9PL71e6Js8+gbLQqDRAwINH4HGLAKNPAINH4EGAAAAAAzj1ev/n40B11z90OVfn156vbz59n23P9L63C+s58A0fZNH32BZCDR6QKDhI9CYRaCRR6DhI9AAAAAAgGF88Vf+gzvgmtbf/ae/Nb30enn333wwYyVXX/rVh9NLrxf6Jo++wbIQaPSAQMNHoDGLQCOPQMNHoAEAAAAAw/j3v/077oBrWr96/79ML71efve//ffJp3/ittsnVv/xv74/vfR6oW/y6BssC4FGDwg0fAQaswg08gg0fAQaAAAAADCc03//rjvoqjr+5q9WA7Tr6m/+4j23X1Qv//y/ml5qPdE3efQNlqFToLFnz56ZAVmKoihq+XX+/PnpuzAAAAAAYFku/7PfcgdeVf/zl/7N9FLr6R/f+Y9uv6iu/PMH00utJ/omj77BMnQKNL7pm76pGlw7cOBA9ct76klt27ZtsmXLFnfdOpf6RH3jrVvH0usmHaTeuXOne7l1rP3791d9snfvXnf9upZmOalfXn/99em7MAAAAABgWe781n91B15V/+9f/0/TS62n//z4dyd/7sd/xe2b33jv8fRS64m+yaNvsAwccqoHNvCIWRxyahaHnMrjkFM+DjkFAAAAAMP6v//Ur31o4FUDso9/579NL7G+/vLVL3+ob/6nn/mX07Xrjb7Jo2/QNwKNHhBo+Ag0ZhFo5BFo+Ag0AAAAAGBYr//Sv/3Q4OvZf/gb07Xr7f9568GH+ubv/OPfnK5db/RNHn2DvhFo9IBAw0egMYtAI49Aw0egAQAAAADD+me/8Z8/NPj6C//bv5+uXW//9uH/90N98y/uPZquXW/0TR59g74RaPSAQMNHoDGLQCOPQMNHoAEAAAAAw/qd3/3vk+/5O7PH/P93//l3pmvxA3/vzka/fPonblf9hSfomzz6Bn0i0OgBgYaPQGMWgUYegYaPQAMAAAAAhvfXvvCvNwZfP/v/+PXpUsibb9/f6JvP/cK/ni6F0Dd59A36RKDRAwINH4HGLAKNPAINH4EGAAAAAAzvS7/6cGPw9fI/+63pUsi7/+a3N/pG/YQP0Dd59A36RKDRAwINH4HGLAKNPAINH4EGAAAAAAzv3//272wMvv7q/f8yXQr53f/236tDBqlv/uN/fX+6FELf5NE36BOBRg8INHwEGrMINPIINHwEGgAAAABQxpkr/2py/M1fnf6F1N/8xXuTl3/+X03/Qoq+yaNv0BcCjR4QaPgINGYRaOQRaPgINACU9tZbb02OHTtW1Sp47733JpcuXZqcOHFi8vTTT8/sl3fv3j355Cc/Obl48eLk7t2702v0Z/v27TP3pzYskx6P7mMZj8Wj+1HfaVvRfaePVX2t5ep7PQcAAIzBz/2v/27yt/6Xfzv9C6l/fOc/Tq788wfTv5Cib/LoG/SFQKMHBBo+Ao1ZBBp5BBo+Ag0ApWjQWYP7eg/Sv9euXZuuGSc9nldfffVDoUJT6XHfunVregv9UBvs9jW4vywW3FiwcPr06ema/inIUHBij6tN6fIEGwCAZfD2O4vW//Dx//PkY9/0p9x1i1ZJXnsWrY9s3T7Z/n/a665btEry2rNo0Tf5WrW+QTkEGj0g0PARaMwi0Mgj0PARaAAoQYP4GvhXLXPQfSh6POmMAc0W0EwCLdcMFC1T0KCBeQU3GmxPgw+t64vdn6rvsCRHYYbuT4+77xBB20faVzYLQ31p4Y0esx6rlmu9XVbXG3tQBgCIx/YzfdVTH/kqd/miVZLXnkhVkteeSFWS155IhfVEoNEDAg0fgcYsAo08Ag0fgQaAoWkg2gaohxpwXyYNmNvjUaihwfVUGmikNPCfzjrQ//ugIEW3pzYNye5XoUZf0tkmms2ibSeVBhopbVc2+0e1CqEZACAO279EE6Fd9E0efZNH3yCiTs88gYaPQMNHoDGLQCOPQMNHoAFgaHZeCQ2Aj50Gzi3M0MwAb3ZCLtAwGmzXelUfh22yGQr6d2h23308jrRfcn2XCzRMGhgxUwMA0Bfbt0QToV30TR59k0ffIKJOz3zJQMOOz6tfdEVTMtCI3C8lAw19eVaf5L5klxAh0NAAhPcL1dJKBxpR+4VAA8CQbJBa74erwA4z1fQZaV6gIeng/Wb3E9amEoGRPjPa46jPpugivZ2mfpsXaIiFGgqeOKcGAKAPto+KJkK76Js8+iaPvkFEnZ75EoGGDdjbhkqg8cQY+qVEoKEvzeoL6xcCjSdswN7uO9rAfalAI3q/EGgAGJK9H+q9cexsMH3eQLne93W5eZ8XbHaD+mhRaRBQ6nBe9tlR/y7KPmfN++zZJtDQc2Pb3WbaBACA0T5FFU2EdtE3efRNHn2DiDo980MHGvqSoy9L+iKk/+u+Iw7cDx1ojKVfhg407ESeGjDQ/9UvBBpPBhRU2lbsxKDRBu5LBBpj6BcCDWD59LrXYLUdmkil/2u/qvcGvUesA9tvqro+ZvWh9r9pH6r/NAtBpeVDD+BbW+bNhFDbdbl5nxfSMGLRwyOlMz1MGqzr32Ufemkzz7PoebTrz3tO1ae63Lx9a9ovm3296bbqr2eVtsdSIRIAYFj23h9NhHbRN3n0TR59g4g6PfMlZmikdN8RB+5LzNBIRe2XEjM0TNsBiiGVnKFh2g4uDK3UDA0TtV8INIDlsjBTA6AasJb6DMih3hfsfWizteh+zx5z188T1m6deyMdjK8/niGDIRu016D2vPvt8nnB+kjbyyJse7M+TreztJa9zdn9LDITp/4Ymtg20ObxWKiz6KG49DyrTboN3a+9ni0s0bYAAFgPet9XRROhXfRNHn2TR98gok7PPIGGj0DDR6Axi0Ajj0DDR6ABLE/6i3tv0NsGWIdi70ObrUX3e/Z4NWDdlg1uK8zw+tDapPVDSoOqebp8XkiDkkXYCdd1Xwoz9Lftd9JZClq3TNaORe7HrtsmeOiyb+3ynNVp27N2eSHNorcLABgnve+roonQLvomj77Jo28QUadnnkDDR6DhI9CYRaCRR6DhI9AAlkcDsnp9qTx6X9Ag6TrQgLD1RdtfyNt+VmW/hq+z9V1Ckj7YL/XbPJYunxfSfso95pz0uhZm1EMgC5WW/ZlOg/u6n0W2b3sMbQ7f1GXfamGR+qAre76XHQQBAMbB9lXRRGgXfZNH3+TRN4io0zNPoOEj0PARaMwi0Mgj0PARaADLk/4iPtprf2i2z+zSFzb4nhtETmfApIeiGoINcLd5LPbY235esMfUdZtJ+zh3KCxrt2qZbJ+3yP10uV6XfWvaP12k1+saMgEAVtMi+5MhRGgXfZNH3+TRN4io0zNPoOEj0PARaMwi0Mgj0PARaADLowFlO3Gw/l3kfAKrIh0UbvM+mF4+90t9+8W9yhu8X6Y0GFhWdd1fpCFCbluzdi/7M13alq7sesusLmy2ySKHlFIYp+sOPYMIALBci+xPhhChXfRNHn2TR98gok7PPIGGj0DDR6Axi0Ajj0DDR6ABLJcG4y3UUGlQdB1/5Z0GFG3eB+18B03nkrDLlDhsV8RAw9rUdEglOw8EgUY76WG8FjmZuM0yGnoGEQBgubruT4YSoV30TR59k0ffIKJOzzyBho9Aw0egMYtAI49Aw0egASyfAox0ALzUbI10kHkztch+z/aZqjbvg9ZfTZ89LCgq8et3a1+bx2KPvW2/6bKqrsGXXa+pP+wyiwzOd5Fua111uV6Xfas9D13OoWHXaXsfAID1YPuGaCK0i77Jo2/y6BtE1OmZJ9DwEWj4CDRmEWjkEWj4CDSA4SjESGdrDD1TIx1k3kwtst/rOjBsl8199kgfS4lfv9vskDZ90eXzgrYJXbZpZopHM4Hm9Ud6iK5lb3vp89OVzSJps53Y/bS5rJ3TpsuhozbzOAAAqyvqviFCu+ibPPomj75BRJ2e+ZKBhn0Z7PLLraGUDDQi90vJQEO/blS/5E5WWkKEQMOONR3tWPGlA42o/UKgAQwrHXhOB7h1aBvtTzSQrbJBaVuuy2v5sn9Zvyx9BhrqQzuUj8o7f8ay+9PCgTaHu+oSaCwy6C72mUTl9YfYfqjep2qX9WfaRv1ffaTlXT/r6LrWnq4sLGoz88bup802Zc97l+d80cdh11HVH4dus+/+BgAMy97jo4nQLvomj77Jo28QUadnvkSgoS8a9mswK32h0Be+KIOPJQKNMfRLiUBDjz8dSFHpby3XIEtJpQINPW49fvsibqXtR8sjKBFojKFfCDSA/llokfsVvO1bbTBTA9Daj2iQ3H6hb/sU/atluoyWN91uZGn72wwo2/tm/b1St6P+8waa9dlEn12G6k9r47zrdwk0bNuwAKYtCytUHtsmVfq/UX9Yu+yzjfpGyy0ksDZ1+exn7dF1u7K2qj3z2HYwL9BIn2/9vy0LmFRpvxndlh5jvW+03PozXbes/gYADMv2DV3pvV37yPr3Q+0HvP1MV4u2q0+LtEH9oj6w66q0n9Syvn7Ms0i7+rZIG+gbnz4/6TOVfW6y0t96jXX9LJ3TtV1YLZ2e+ZIzNCIrOUMjspIzNCKKMEMjqtIzNKIi0AD6py8eel3lBiTtS2w6CGuDrDYAbx/GbbnYB/Z5g7dR2eNu88v7dIDeHq/+VR/oy0t9RoL1uX15GaI/bTBdXyib6PZ1ORvIzrHH0GYgv84Gx1V1esz2WOvbZNofdhuaHZAOquj50vJ57U/Z/anPF2Ff3Ofdpz0H855Dm53RdeaDbT8qPSYLr2yb0zat8gahrD/TdcvqbwDAsGzf0Jbe/9N9m+1PbN+vfUkfurZrGbq2wT4zqF9sP6n9oi3v6/H0eVuL6toG+san1499Bks/2+p7gJbpduZ9Pm8rQt+gnE7PPIGGj0DDR6Axi0Ajj0DDR6AB9M8GT+sfsvUFxAbqcwOr+iCu9Sr7smtyy8fC+kVfwuaxEKBe1m/qy/q6+mC9LLM/9cXSBqWbBp/bBBp6PPYFrGvAovbbY6nfjx6/fen1+sfosdj165ezAZim66eabqut9Plt6g891nmXURt0GfWvDQZ0YQGDV+pbtbXO+kD36emzvwEAw7P38Db0nt+0L9byRX8AUNelXcvSpQ22j/Y+G9rnm1UamO7SBvomz75TeD+Ssn5r+tzdRZd2YfV0euYJNHwEGj4CjVkEGnkEGj4CDaB/GlzVB2x9ybBBapX+ry+sTQOVNkBbDzxsUDw3QDoGTeGCR/1kgYH+rfebDTRrnW7bs+z+TAfec1+c7L5y69Mww/tiNo9dX7NWVDYgrlLf6LHP629roy5fZ7flDdx77IukapEAwdgsHD22ec+v2u9J25K7jTZ0P7YtqjS40PQ6tm09N9DQZ38DAIZn79Vt2H65/llkGbq0a1m6tMF+6JPbX2r5Ip+NPPRN3tj6xj435z5ba91mPvelurQLq6fTM0+g4SPQ8BFozCLQyCPQ8BFoALHYl976h3AbuO3rF3yl2KBwX8f8nWeI/kwHzXV/9YHoXKChwX5rh2qIgY4ca0f9i7G1vUvwY1/A+3g8uo20f+oBibW7HmgowLF2qJrCh2WwsK3+nJs++xsAMDzbv8xj7+uqNj/m2Ky27VqmLm2w/bz2e5v5EUQb9E3e2PrGvk/kwp4+RegblNPpmSfQ8BFo+Ag0ZhFo5BFo+Ag0gFjsF0f1L702MJ8bIB0L+9W998v0ZRiqPxVipL/g1+1rEF3L00BDX0gVrmgg29rWZzsWZYP/9YF/G3hv+4VR/WyPqa8ZBmpT2lf6gq8+1H1Z+9TH+luXTUMQXa+vX+h1YdtX7r776m8AQBm2n5nH3u/17xDatmuZurQhDXz0OWqZsxO7tGtZurSBvsmzz0sqfWZaZuDTpV1YPZ2eeQINH4GGj0BjFoFGHoGGj0ADiENfVPR69Ab77X1dX27Gzo4jvexB/KH7U1+m9JjSwfd5pS9hy/yC2lZfwY9dvq9DIBi1Kw0q2pQuv+xfNOZYG3L331d/AwDKsPf5JtoH2OUWnZlqnyvafl5p065l69oGhft2HZUec5v9tz4/ab+paqNru5ahaxu69I2W6/IKz9If2ehz97zPFXbZkrq2of4DlvqPRFL6vGWHZU0/p+vveT98sctiPXV65gk0fAQaPgKNWQQaeQQaPgINIA770lL/FZ8+hNv7umnzRS8qfQG1LxPLDGhK9ad9odQXLQtvrPQFU1+e9KWqPphdivWHnpM6+0Jsz1NTP+nLsi6rx7ys7dO+kNa/rNv9arn6vuTrwwvS0vb01d8AgHJs39NE7+V2ua6fd7QvS/dzbXW9/DIs0gb1T/p49f/cDz60H00Hs+cN1hu7fEmLtKFt3+jzpdbr85B9xkyv2/RjE7vtkhZpgz4T1gMK77OTrU8DIQUZdt2mUMOui/XU6Zkn0PARaPgINGYRaOQRaPgINIA47MtZ/YuZPnjb+7row/syB42HYKGGSl/al2Gd+nMzLPjRl8A69YvW6QuxfSn2vkTbOSPWuR9NPdDQ9pX2bR/9DQAoS+/VqiYW9M+7XErv/do/6P3f9q1drt/18suwaBv0+SHtM9uPGluvz47pj0bqn/NyFm1XnxZtw7y+EW036pv65zD73NF0v/PWD2HRNii80Q9a7PraNuq0vP4DJ7HXmPeZzNjtYj11euYJNHwEGj4CjVkEGnkEGj4CDSCOdDCzzr7E6AuM/r8Kg8b6AqIvEHpc+td73Juxbv25KPsyp36os1+v2eCB/eJP1GfpL0h1O+vcjynrU9u+Uov2NwAgDr2Pq5rYZ415l0spBFeZrtfvevll2Gwb9PjtNtLPcPqMoUFp2zda/3r7U89m29WHzbYh1zdNdLl59ztv/RA224Y01GjLPpN5IYjZbLswbp2eeQINH4GGj0BjFoFGHoGGj0ADQGn6oqUvId4vpxCbBuwZeAcArBv7vt0k/WW8N9tOA/T68YUul9PmflJdL78MbdqggXl9hvCoX+w2mgbtVzXQ6KNvUvqxhC6fu01p065la9MGfVfIhQ/2ONs+DvWl/YikaTZsl9vE6un0zH/bt31btbGcO3euGnikntTevXsnO3bscNetc6lP1DfeunUsvW7sDVd18OBB93LrWJ/97GerPvn0pz/trl/X+tSnPlX1y8/93M9N34UBAAAAADn2fbuJwn67nIILC/81kKoQYxmDqV0vvwxt2qBBaV3G+0GEHbpRfaO+ylnVQKOPvknZbOjo54lo0waFMrlgxmavNB0+StSHuqz6UJed96OcCH2Dcjo983v27NnYYCiKoqhh6vz589N3YQAAAABAjn2HmscOaeOVQo6mMEPssm11vfwytGmDBqV1GfVBOtNAg+52yNCmmSuyqoFGH31jrI80gN+kTbuWbV4b0oAwPfTYIgGhSv2s/pkXDNnlsZ46PfM/9mM/Vv2CWi8479fE61o/8AM/MPm+7/s+d906l/pEfeOtW8fS60avHyt9gPIut471oz/6o1WfaKflrV/X+pEf+ZGqX/7Fv/gX03dhAAAAAEBOl0FOff+0QWqVBqXbDkh3uR/pevllaNMGPX7NRLDZA1bqJy1vczglG6zXv23YfZTUpg199I3odnQ9XWceu4+S5rVBwYPGuxRmWLBjpb819jVvtoVR6GFhY9sQBOuJZx4AAAAAAACjN9QgZ9f7GapdTYZqw6oGGn3oEmbIOvVNSv2j+2w6TFWEvkE5PPMAAAAAAAAYvaEGObvez1DtajJUGwg0fF3DDFmXvqnTbJd591uiXYiDZx4AAAAAAACjN9QgZ9f7GapdTYZqA4HGh+nQSbr9LmGGrEPfeAg0MA/PPAAAAAAAAEZvqEFOu595Jy42Q7WryVBtsEBD50JoY9X7RtuIzrOhc0zU6dwSOldE7vwbq943ul0v+LJtyOszs8x2IT6eeQAAAAAAAIzesgc57QTIdj8aeG0Taiy7XW0M0QbNRLATQ2sQv+mkzmbV+8ZOct1U6xxoqHQ4LqP/K+RRNZ1MfJntQnw88wAAAAAAABi9ZQ1ypofAyVVuUFrsMiUtsw06ebPdvlfRT+68zDbYbTdVzrz1Q1hmGxQIattQeGH3oyBMIdC8oHCZ7UJ8PPMAAAAAAAAYvaiDnBHaRd/k0Td59A0i4pkHAAAAAADA6DH4mkff5NE3efQNIuKZBwAAAAAAwOgx+JpH3+TRN3n0DSLimQcAAAAAAMDoMfiaR9/k0Td59A0i4pkHAAAAAADA6DH4mkff/P/au19YOcq2D8CmoqIGV4FoQgUCUYFAIBAkICuaUIGoBIeoIISkooKgEBiSigoEoqKCkMoKREVFSRCIhiAQFSWpQFRU7JvfZu9+D/vNnDN7dnZn9pzrSp4cOjM7O/PMs/N+3++eP/30TT99wxw58gAAAAAcPOFrP33TT9/00zfMkSMPAAAAwMETvvbTN/30TT99wxw58gAAAAAcvAo559qm1LU9c2pT6tqeObUpdW3PnBpnkyMPAAAAwMHrCjzn1KbUtT1zalPq2p45tSl1bc+cGmeTIw8AAAAAAMyeggYAAMd69erV6r8Y28uXL1f/BQAAwFEUNAAA6HX//v3FBx98sPjuu+9WUxjbtWvXFlevXl08efJkNQUAAIAuChoAAPw/Dx48WFy5cmVx7ty5xY0bNxbPnj1bzTn9Pvnkk/88m/ett95azdmNx48fL4tG+a4UNp4+fbqac3r89NNPi3fffXfxww8/rKYc7c8//1x8/vnnO+/7ffrll18WX3311eKjjz76z/h64403ltMy77ffflstPZ59j+d8X9qvv/66mkLRNwAA21PQAADgP+7du7csZLz33nuLP/74YzX1bEngWAFwgvV9SBHp4sWLy3Za+j0BfQL06schgX2C/QreUwj5559/VnMOU/ah+mBIy7Ipfoxpn+M5215Fm/w99OM3Jn0DALA9BQ0AAF5L8Jlixptvvrl4/vz5aurZVAHw0LsKxvDo0aNl/1+6dOng74pJkJ/+S0A/pJCRcDd3ceQzKWocuuxPhdfVD9mvujo/0yrUzrTMawsfuZJ/zMC71ruv8Zzjn7tP0nZx58kh0zcAACenoAEAwFIefXThwoVloF6h61mVkLEC4H0Hjt9///3ye99+++3FixcvVlPHVfu2K7kSPetPQD80lK9ixj4LSLuSR2ZVcSKhddc+ZV4KGuu+/fbb5WcyP30yRlFjqvFc35v9SZ/wf/QNAMDJKGgAALCUl1MnYLt58+ZqytmVALrCxinUOzVS3NiFrDttFxLOViA/NDyvx0zlroRDlwJEFWfyt68PMr+roBH5TFvU2NaU47m+e4z9OG30DQDA5hQ0AABY/P3338s7MxKuPXnyZDX17Mp7BtIXUwXsd+7cWX5/7tLYhaw7bReq74a+qyEFkNqe03Cleu1/igdH3V2RZfoKGtEWNXLXxjamHs91t0oetcR/6RsAgM0oaAAAsLh169YyVLt8+fJqytlWIWPXo4L2Ie8vqQLTw4cPV1PHk/Wmje0kxYlNCyBz1r58+7jHtmWZowoaUVfwp21T7Jl6PLfvU+G/9A0AwGYUNACAg5DQJ1cX1xXL1RIIDn2sDd1evXq1fAl4+vPrr79eTR2ujk0dkxyj/DvT8yihKR5zs402lK9QOn8z1mr/tr1ifogPP/xw+X3Xr19fTRlP7d/Y6tFRQx+hkzsYalvy3o1N5Ditv0g735tpWVem7zvAr9/BkDshstxxBY2o/ct+ncQcxvM2x3lM2Y6Midr3aumDIcdiF+bSNwAAh0JBAwCYtYQ9FT4ldKurlOuq1kMLy/tUoLVtO4m//vrr9ec3uRsgx6YNcKuw1E5PO7Tnw9cLrdOixtp623UInOJSvufSpUurKeOpfRhbhe9D+6bt203kGOW3n5Z1ZMxFgvpaX9o+A+I2mK7CwVGy3JAQfdtz3VzGc53Hp7oTJ+enjM/1MTP147hi6r4BADgk4/9/MQAAI0nglDA8QU8CqHVTh1Bjyr6M0U4iRYz6/O+//76aerw6Nl0hXBssn/TK8qnUXQYJGTPuKgCN9r0GCUd3KS8Erz4c2y7W294JMLSQUGHyJkWvCuhzHLruzqpwOK1C631ot2uILDukoNEWSk5yN9pcxnNtx66/p0vtZ9eYqXPVVI/jiin7BgDg0ChoAACz5arV/bh79+6yn9Py7oYhcjX3UQFcW9DY51XyUeHgScdNFWpSLMv+rQegFcKn7dK9e/def0/uohnTLra/vRNgaPDe9vUQCfcrgO8qckadNzYpkoyhfhND9yXLDiloRPVT3z4fZS7juX0fyKaFpmxztr2rIHGcIWNmatv0DQDAWaOgAQDMUhuI12Om2I3bt2+/7ush2ivx+wLCTK9l9hnQtduWtmn4Ge3nux4dVMF13/yxtHfObPo99blt2ybafhmqlh/6uKMK34+6kj3zskwKW/tU+z90X7Ls0IJGFWmGrruVz1Wbcjxn3Sf9nrbosuldebV/R42ZqW3TNwAAZ42CBgAwSwmtThJesbnPPvts2ddD39VQAWGueu5Td0ns+yr5bQsabbDYd4dHGwDvUvtuk02vLK/Pbds2cZJ+qeXz2eO0V9r3PR4oy9Q6931nULv/u2pD+qk1p/G8TWi/TUHjuDFzlPreXRfHtukbAICzRkEDAJidNpSc8rnmQ1Rwf5I7Aebiyy+/XO7D+fPnV1OONuQxQbXMvq+SjzomfQHuUdpwt+/OoFp/2i49evTo9fc8ePBgNXUcu9j+kwTjtfyQoH7II63aZfb96J52/3fVhvRTa07jeZvQPsf7JI+cOslj0Fp1t8+ui2MKGgAAwyloAACzc0jhTgVe26r93badRPvy6X///Xc1tV8t2xeuJjisZfZ9lfy2hrx/oZbZ9d1DP//88+t+3ORl7UPUesfUhudD1fJDgvoh6687u/Z9Z1DU9g3Zl8iymz5yatM7deY0nqc4r59kTE7hkP43DwBgavP+v+wAgDPpUEKoepHr0FDyKLW/27aTuH///uvPH/fy6TZ46wtuKyBN2/dV8tuqx9P03VnS3j206xcMty9rf/HixWrqOGq9YzrJ77aWH1IEaMdVl3ZsTnFnUN0NMPR8sMmyVTjd9C6DOY3nKUL7GjND+3kqU/QNAMChmndKAACcSdsWNBLS5XFDFQIm1Mu/18P1hIN1RXffo0wqEGvDvgRONb2rneTRJlN6/Pjx623Pi6iP0gZvXSF0+qlC1L6rwhP81iOp2qAx0+uYZXrfI3J2ZcidJVXEyj6242kX+3Tr1q3l5y5cuLCaMp6sN21MUxY0cizS/zX2+o5fvqeOR/ud+e/67EkeVRZtcWD9XNMly7VjpU+9Fybbt4m5jecpQvsaM0P6uVXbmbZeDNrFGJqibwAADpWCBgAwOwnFK9zpKg5UeNl1RXGWT6iU+RUM5W9NK5mWfyeQq+/rCqEqoOrajgrL+sLCQ/Hs2bPX/f3jjz+upnZrQ9I2zIvMS9BXz+RvQ8T0bfopn0kRKccw07JcjkX+u96XUp/fNBTcVoW7tU3rss0VZNa2xq726dNPP11+5p133llNGU/WmzamHN9ab9fvpUuF5kMed1TFx67tTr/mONT8On7ZjhqH+Vtjto5jjlmm1/K1PV3nliFqG4d8Psu1v5E+NXbWg/XjzG08t9uTde9DbX/O413qnLU+Xtu+aY/lrsbQFH0DAHCoFDQAgNmpK5LTqugQCXoSEiWcSlsPofLvmrceClWw1YZMtUwFoevh3HFXRtc2bnKV8lx9/PHHy325evXqakq/9EeWTaBX+17HJaFehbo5dpF+zbws2x6XOiZZvj0uFYwPCXvHVNuT1hUA1/z1cbKLfXr58uXyzox85ptvvllNHU/Wmzam/P5qvUOLfOtj5Sht6FuhcsZU1pF+Xf/+Oh9UIaA9ThVG53i155EK6mv9m8q4yefzvevnoHVZ7rjxUOegtE3PM3Maz1F9m77Zl2xzvrP2s/YtfVnn/Yy9rmNVY6QdH7saQ1P0DQDAoVLQAABmqQKerpYAqg2QSsK1zG+Dt1LhVVfIVKHd+rwKw7pCu3x/5iXUOg3u3bu33J/z588f+2Lw6sv1Vv3eBs9pCem6jleOY+avB6q1/vXpu1YBZVoC3Aovs+0VvB+3TWPtU73X5Ny5c8s7aMaWdaeNrfowv98h2sC5K1RuZX7GUi1frQ2k1+d39XeWrfnr54qjziFD1Vg5Luw/bplsZ42nrvPWceY0nqNvXbtW39vV2n5p1RjpKzCMPYam6hsAgEOkoAEAzFZCszaUS+jTFxJVgSGtK6BKUJR5XcFgfcf6VcxHXWlboX0CsdPg1atXi4sXLy736bjHTkX6psLjBHht36X/K9TL365iRmR+2vqV5/XZ9PE+ZX+yXxljOa61f/mbf3dd5b5urH2qx01dv359NWVctZ1jq99MflNDHBUMd8lYqvA3xyW/zfb3nnVkes3rUndRdG1jbUvfmB0i21PnlL7APDI/46JLPlP7mb8nkT6Yy3jO52tdQ+/eGUv6Muf/2v+04/b/uDtQxhxDU/YNAMAhUtAAAE6FKjD0BVB9AVwbJq2rz3QFX1Ug2Xfovku3b99e7lPe2XDcXRrbqkCwK6zN9LRtQuUpjLVPT548WeROmSx/VOg6R+3vaejxq99SQuZ9SKEj35ewv1XHL8H3trLvFaAn9O4KqjOv63xVRZnMz1jqK4js2pi/0To/Dy10Ta0Kc31FsTHH0KH1DQDA1BQ0AIBToQKmrgAqgWDmpa0HcH1X4rbBbFegWFdgH1rgfJTcpVHv0rhx48Zq6m5UiLf+iJUKBNMOzRj7lELS5cuXl8umwHSIUpjo6oc++U1W/+R3t2u1fet3hNQ5pK8ouqmcN6oompZzRsZInTPa78q0fH+dV9KynVMVM2LM32jtV9Z5COq49d0xMeYYOrS+AQCYmoIGAHAqHFXQOCpk6rsSt64a73vcS+alnTYJ1N9///3lvt25c2c1dXz7CpX3adt9SkEpj5jKsl988cVq6uFJUaLuMKjw/jj1O9zHca9tWy+e5Lszvescso2Mh7ZQcVzLsnN49NBYv9Favu9cOkd1LPoKSmONoUPsGwCAqSloAACnQt/VxAmkKnzqejxKVwCVMLGmJ9QrbbiVeWmt9eDvUD1//nz52Kns37Vr1xZPnz5dzRlPBbzrx6QKSXU8prxCfVPb7NPDhw8XV65cWS63q/dm7FN+C9mX/PaGHMMsk1C37addqDuvsl3r6vhVEWbssZfzSgo3dW6plm3JtMzrOkdNZYzfaN3NkX2c074dJduZbc7+l3YfxxpDh9g3AABzoKABAJwKCY4SDKVVmJS/CUkzra/YUOFcFUJSGEmwWGFTpmfd+dsGrVlnBVc1P991VIB1SHK3wN27d5che97nMGaxpgLBtHXtHTNZLn16CIWibfbp5s2by/l53FcKG6dFFTUS8g4JbPPbqaJG+mwXaptSQFhX353fdNrQ7T6NxviNZlqdkw+pH9cLGvnfhHa8jDGGDrVvAADmQEEDADg1Eq7VY1IqkEqhIdP7ZF5dMZ3l22CupiekWn8ETJbL8vW5tthx2jx48GD5ouqxpC/Tb12BYI5H9WuOZULBQ7DNPt2/f3/U/p2TCnWz78f9FiNFjQrM87n29ziGNoxfl2NYIfOQbT3NthnP+WydO/P3EPuxHYPrY2WbMXQa+gYAYGoKGgAAwE6lMJHC4NAXHyfoTSCcQJnDkiLHIRUj90nfAABsT0EDAAAAAACYPQUNAAAAAABg9hQ0AAAAAACA2VPQAAAAAAAAZk9BAwAAAAAAmD0FDQAAAAAAYPYUNAAAAAAAgNlT0AAAAAAAAGZPQQMAAAAAAJg9BQ0AAAAAAGD2FDQAAAAAAIDZU9AAAAAAAABmT0EDAAAAAACYPQUNAAAAAABg9hQ0AAAAAACA2VPQAAAAAAAAZk9BAwAAAAAAmD0FDQAAAAAAYPYUNAAAAAAAgNlT0AAAAAAAAGZPQQMAAAAAAJg9BQ0AAAAAAGD2FDQAAAAAAIDZU9AAAAAAAABmT0EDAAAAAACYPQUNAAAAAABg5haL/wHz+DcZZXUZXQAAAABJRU5ErkJggg==)\n",
        "\n",
        "~~~\n",
        "2진수 a와 b의 합은 다음과 같다 : 1 1 0 1\n",
        "~~~"
      ],
      "id": "-zVb_5dMOmcj"
    },
    {
      "cell_type": "code",
      "metadata": {
        "colab": {
          "base_uri": "https://localhost:8080/"
        },
        "id": "6H59tBpiOckB",
        "outputId": "d9f2c79b-73c1-4bdc-82ef-8d1646173640"
      },
      "source": [
        "# 3.13-2 solution\n",
        "\n",
        "s3 = (a3 ^ b3) ^ 0\n",
        "c3 = (a3 & b3) | (0 & (a3 ^ b3))\n",
        "s2 = (a2 ^ b2) ^ c3\n",
        "c2 = (a2 & b2) | (c3 & (a2 ^ b2))\n",
        "s1 = (a1 ^ b1) ^ c2\n",
        "c1 = (a1 & b1) | (c2 & (a1 ^ b1))\n",
        "\n",
        "print('\\n2진수 a와 b의 합은 다음과 같다 :', c1, s1, s2, s3)"
      ],
      "id": "6H59tBpiOckB",
      "execution_count": null,
      "outputs": [
        {
          "output_type": "stream",
          "name": "stdout",
          "text": [
            "\n",
            "2진수 a와 b의 합은 다음과 같다 : 1 1 0 1\n"
          ]
        }
      ]
    },
    {
      "cell_type": "markdown",
      "metadata": {
        "id": "TYF6jbsvSPn5"
      },
      "source": [
        "**3) 마지막으로, 계산된 결과를 10진수로 변환해 출력하고 계산 결과가 맞는지 확인하시오.**\n",
        "\n",
        "![003.PNG](data:image/png;base64,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)\n",
        "\n",
        "~~~\n",
        "위 결과를 10진수로 변환하면 : 13\n",
        "~~~"
      ],
      "id": "TYF6jbsvSPn5"
    },
    {
      "cell_type": "code",
      "metadata": {
        "colab": {
          "base_uri": "https://localhost:8080/"
        },
        "id": "QhqRvOU3SP6n",
        "outputId": "c96060ff-3376-4e72-9ad7-2deabce97407"
      },
      "source": [
        "# 3.13-3 solution\n",
        "\n",
        "sum = c1*2**3 + s1*2**2 + s2*2**1 + s3*2**0\n",
        "\n",
        "print('\\n위 결과를 10진수로 변환하면 :',sum)"
      ],
      "id": "QhqRvOU3SP6n",
      "execution_count": null,
      "outputs": [
        {
          "output_type": "stream",
          "name": "stdout",
          "text": [
            "\n",
            "위 결과를 10진수로 변환하면 : 13\n"
          ]
        }
      ]
    }
  ]
}