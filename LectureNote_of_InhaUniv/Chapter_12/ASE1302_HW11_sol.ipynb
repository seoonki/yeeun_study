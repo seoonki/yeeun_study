{
  "nbformat": 4,
  "nbformat_minor": 0,
  "metadata": {
    "colab": {
      "name": "ASE1302_HW11_sol.ipynb",
      "provenance": []
    },
    "kernelspec": {
      "name": "python3",
      "display_name": "Python 3"
    },
    "language_info": {
      "name": "python"
    }
  },
  "cells": [
    {
      "cell_type": "markdown",
      "metadata": {
        "id": "59dEBDMCzdhA"
      },
      "source": [
        "# ASE1302 - Assignment \\#11"
      ]
    },
    {
      "cell_type": "markdown",
      "metadata": {
        "id": "wfe0BM9_ze1W"
      },
      "source": [
        "__<div style=\"text-align: right\"> ASE1302: Computer programming, Inha University. </div>__\n",
        "_<div style=\"text-align: right\"> Jong-Han Kim (jonghank@inha.ac.kr) </div>_\n",
        "_<div style=\"text-align: right\"> Gyubin Park (gyubin@inha.edu) </div>_\n",
        "_<div style=\"text-align: right\"> Jun-Hyon Cho (junhyoncho@inha.edu) </div>_"
      ]
    },
    {
      "cell_type": "markdown",
      "metadata": {
        "id": "NuUEthxbzrj-"
      },
      "source": [
        "<br>\n",
        "\n",
        "---\n",
        "**11.1 weather.csv 파일을 pandas를 이용하여 읽고, 데이터프레임을 만들어 다음과 같은 일을 처리해보자.**\n",
        "\n",
        "**1) 이 데이터의 앞 3개 행과 마지막 3개 행을 다음처럼 화면에 나타내어라(힌트: head(), tail() 메소드를 활용하라).**\n",
        "\n",
        "~~~\n",
        "            평균기온    최대풍속    평균풍속\n",
        "일시\n",
        "2010-08-01  28.7        8.3         3.4\n",
        "2010-08-02  25.2        8.7         3.8\n",
        "2010-08-03  22.1        6.3         2.9\n",
        "            평균기온    최대풍속    평균풍속\n",
        "일시\n",
        "2020-07-29  21.6        3.2         1.0\n",
        "2020-07-30  22.9        9.7         2.4\n",
        "2020-07-31  25.7        4.8         2.5\n",
        "~~~\n"
      ]
    },
    {
      "cell_type": "code",
      "metadata": {
        "colab": {
          "base_uri": "https://localhost:8080/"
        },
        "id": "FvJ8tjsAc2sM",
        "outputId": "7768c266-072b-4a04-aa6a-16002eb38e83"
      },
      "source": [
        "import os\n",
        "from google.colab import drive\n",
        "drive.mount('/content/drive')\n",
        "os.chdir('/content/drive/My Drive/Colab Notebooks')"
      ],
      "execution_count": null,
      "outputs": [
        {
          "output_type": "stream",
          "name": "stdout",
          "text": [
            "Drive already mounted at /content/drive; to attempt to forcibly remount, call drive.mount(\"/content/drive\", force_remount=True).\n"
          ]
        }
      ]
    },
    {
      "cell_type": "code",
      "metadata": {
        "id": "d6viZtGhwDUW",
        "colab": {
          "base_uri": "https://localhost:8080/"
        },
        "outputId": "368dafa5-e684-457b-962d-2d163b3e8a81"
      },
      "source": [
        "# your code here\n",
        "\n",
        "import pandas as pd\n",
        "\n",
        "df = pd.read_csv('weather.csv', delimiter=',', encoding='cp949')\n",
        "#df = pd.read_csv('https://jonghank.github.io/ase1302/files/weather.csv', delimiter=',', encoding='cp949')\n",
        "weather = df.set_index('일시')\n",
        "print(weather.head(3))\n",
        "print(weather.tail(3))"
      ],
      "execution_count": null,
      "outputs": [
        {
          "output_type": "stream",
          "name": "stdout",
          "text": [
            "            평균기온  최대풍속  평균풍속\n",
            "일시                          \n",
            "2010-08-01  28.7   8.3   3.4\n",
            "2010-08-02  25.2   8.7   3.8\n",
            "2010-08-03  22.1   6.3   2.9\n",
            "            평균기온  최대풍속  평균풍속\n",
            "일시                          \n",
            "2020-07-29  21.6   3.2   1.0\n",
            "2020-07-30  22.9   9.7   2.4\n",
            "2020-07-31  25.7   4.8   2.5\n"
          ]
        }
      ]
    },
    {
      "cell_type": "markdown",
      "metadata": {
        "id": "_V8-AS3yRZJd"
      },
      "source": [
        "**2) 2015년 6월 6일의 울릉도 평균 기온과 풍속 정보를 다음과 같이 확인해 보라.**\n",
        "\n",
        "~~~\n",
        "평균기온    16.6\n",
        "최대풍속     4.4\n",
        "평균풍속     1.9\n",
        "Name:  2015-06-06, dtype: float64\n",
        "~~~\n"
      ]
    },
    {
      "cell_type": "code",
      "metadata": {
        "colab": {
          "base_uri": "https://localhost:8080/"
        },
        "id": "FJ7JiEhVRym1",
        "outputId": "589e2451-fd70-4e60-ae8b-959b955c7f83"
      },
      "source": [
        "# your code here\n",
        "\n",
        "print(weather.loc['2015-06-06'])"
      ],
      "execution_count": null,
      "outputs": [
        {
          "output_type": "stream",
          "name": "stdout",
          "text": [
            "평균기온    16.6\n",
            "최대풍속     4.4\n",
            "평균풍속     1.9\n",
            "Name: 2015-06-06, dtype: float64\n"
          ]
        }
      ]
    },
    {
      "cell_type": "markdown",
      "metadata": {
        "id": "WmHxlqpERz4u"
      },
      "source": [
        "**3) 이 데이터에 기록된 날들 중에서 가장 무더웠던 날의 평균 기온은 얼마였는지 찾아 보라(힌트: weather['평균기온'].max()를 활용하라).**\n",
        "\n",
        "~~~\n",
        "31.3\n",
        "~~~"
      ]
    },
    {
      "cell_type": "code",
      "metadata": {
        "colab": {
          "base_uri": "https://localhost:8080/"
        },
        "id": "Pxx_yc_DSL38",
        "outputId": "5e9dfe34-5409-4d03-cec1-1d5da3599b5e"
      },
      "source": [
        "# your code here\n",
        "\n",
        "print(weather['평균기온'].max())"
      ],
      "execution_count": null,
      "outputs": [
        {
          "output_type": "stream",
          "name": "stdout",
          "text": [
            "31.3\n"
          ]
        }
      ]
    },
    {
      "cell_type": "markdown",
      "metadata": {
        "id": "_mZc1udfSMSN"
      },
      "source": [
        "**4) 가장 무더웠던 날이 언제이고, 이 날의 평균기온, 평균풍속, 최대풍속을 알아 보라(힌트: weather[weather['평균기온'] == weather['평균기온'].max()]로 데이터 접근하여라).**\n",
        "\n",
        "~~~\n",
        "            평균기온    최대풍속    평균풍속\n",
        "일시\n",
        "2013-08-08  31.3        7.8         4.6\n",
        "~~~"
      ]
    },
    {
      "cell_type": "code",
      "metadata": {
        "colab": {
          "base_uri": "https://localhost:8080/"
        },
        "id": "yKA57OErTIfv",
        "outputId": "4002accf-35ad-4e37-fc22-21fcb23727c3"
      },
      "source": [
        "# your code here\n",
        "\n",
        "print(weather[weather['평균기온'] == weather['평균기온'].max()])"
      ],
      "execution_count": null,
      "outputs": [
        {
          "output_type": "stream",
          "name": "stdout",
          "text": [
            "            평균기온  최대풍속  평균풍속\n",
            "일시                          \n",
            "2013-08-08  31.3   7.8   4.6\n"
          ]
        }
      ]
    },
    {
      "cell_type": "markdown",
      "metadata": {
        "id": "3vO9uharTIv2"
      },
      "source": [
        "**5) 울릉도의 평균기온 중 30도를 넘는 날들을 찾아, 이날의 기상 데이터를 나열해 보라.**\n",
        "\n",
        "~~~\n",
        "            평균기온    최대풍속    평균풍속\n",
        "일시\n",
        "2013-08-08  31.3        7.8         4.6\n",
        "2013-08-09  30.6        9.9         6.4\n",
        "2013-08-10  30.6        7.4         3.8\n",
        "2018-07-23  30.5        6.5         1.6\n",
        "2018-08-04  30.3        5.8         3.0\n",
        "~~~"
      ]
    },
    {
      "cell_type": "code",
      "metadata": {
        "colab": {
          "base_uri": "https://localhost:8080/"
        },
        "id": "fuIEyfDxTxbu",
        "outputId": "f21ed3af-6f02-4d3d-bd22-404fb8b88530"
      },
      "source": [
        "# your code here\n",
        "\n",
        "print(weather[weather['평균기온'] >= 30])"
      ],
      "execution_count": null,
      "outputs": [
        {
          "output_type": "stream",
          "name": "stdout",
          "text": [
            "            평균기온  최대풍속  평균풍속\n",
            "일시                          \n",
            "2013-08-08  31.3   7.8   4.6\n",
            "2013-08-09  30.6   9.9   6.4\n",
            "2013-08-10  30.6   7.4   3.8\n",
            "2018-07-23  30.5   6.5   1.6\n",
            "2018-08-04  30.3   5.8   3.0\n"
          ]
        }
      ]
    },
    {
      "cell_type": "markdown",
      "metadata": {
        "id": "L8VjaD_81Wyp"
      },
      "source": [
        "<br>\n",
        "\n",
        "---\n",
        "**11.2 다음은 P 자동차 회사의 차종별 마력, 총중량, 그리고 연비를 나타낸 표이다.**\n",
        "\n",
        "|      |  A   |  B   |  C   |  D   |  E   |  F   |  G   |\n",
        "| -    |  :-: |  :-: | : -: |  :-: |  :-: |  :-: | : -: |\n",
        "| 마력 | 130  | 250  | 190  | 300  | 210  | 220  | 170  |\n",
        "|총중량| 1900 | 2600 | 2200 | 2900 | 2400 | 2300 | 2200 |\n",
        "| 연비 | 16.3 | 10.2 | 11.1 | 7.1  | 12.1 | 13.2 | 14.2 |\n",
        "\n",
        "**이 표를 pandas 데이터프레임으로 만들려면 다음과 같은 딕셔너리 구조를 이용하여 생성하면 된다.**\n",
        "\n",
        "~~~\n",
        "df = pd.DataFrame({\n",
        "    'name' : ['A', 'B', 'C', 'D', 'E', 'F', 'G'],\n",
        "    'horse power' : [130, 250, 190, 300, 210, 220, 170],\n",
        "    'weight' : [1.9, 2.6, 2.2, 2.9, 2.4, 2.3, 2.2],\n",
        "    'efficiency' : [16.3, 10.2, 11.1, 7.1, 12.1, 13.2, 14.2] })\n",
        "print(df)\n",
        "~~~\n",
        "\n",
        "~~~\n",
        "  name  horse power  weight  efficiency\n",
        "0    A          130     1.9        16.3\n",
        "1    B          250     2.6        10.2\n",
        "2    C          190     2.2        11.1\n",
        "3    D          300     2.9         7.1\n",
        "4    E          210     2.4        12.1\n",
        "5    F          220     2.3        13.2\n",
        "6    G          170     2.2        14.2\n",
        "~~~\n",
        "\n",
        "**1) 이 데이터프레임의 name 열을 인덱스로 사용하고 싶다. set_index('name')을 데이터프레임에 적용하여 다음과 같은 결과가 나오게 만들어 보라.**\n",
        "\n",
        "~~~\n",
        "       horse power  weight  efficiency\n",
        "name\n",
        "A             130     1.9        16.3\n",
        "B             250     2.6        10.2\n",
        "C             190     2.2        11.1\n",
        "~~~"
      ]
    },
    {
      "cell_type": "code",
      "metadata": {
        "colab": {
          "base_uri": "https://localhost:8080/"
        },
        "id": "9_h6lE93k26K",
        "outputId": "be309c30-5d70-408a-d5c6-d14cd093d991"
      },
      "source": [
        "df = pd.DataFrame({\n",
        "    'name' : ['A', 'B', 'C', 'D', 'E', 'F', 'G'],\n",
        "    'horse power' : [130, 250, 190, 300, 210, 220, 170],\n",
        "    'weight' : [1.9, 2.6, 2.2, 2.9, 2.4, 2.3, 2.2],\n",
        "    'efficiency' : [16.3, 10.2, 11.1, 7.1, 12.1, 13.2, 14.2] })\n",
        "print(df)"
      ],
      "execution_count": null,
      "outputs": [
        {
          "output_type": "stream",
          "name": "stdout",
          "text": [
            "  name  horse power  weight  efficiency\n",
            "0    A          130     1.9        16.3\n",
            "1    B          250     2.6        10.2\n",
            "2    C          190     2.2        11.1\n",
            "3    D          300     2.9         7.1\n",
            "4    E          210     2.4        12.1\n",
            "5    F          220     2.3        13.2\n",
            "6    G          170     2.2        14.2\n"
          ]
        }
      ]
    },
    {
      "cell_type": "code",
      "metadata": {
        "colab": {
          "base_uri": "https://localhost:8080/"
        },
        "id": "Og7xjHoGXwRQ",
        "outputId": "344425f1-8692-4da3-9103-702018d875f0"
      },
      "source": [
        "# your code here\n",
        "\n",
        "df_1 = df.set_index('name')\n",
        "print(df_1.head(3))"
      ],
      "execution_count": null,
      "outputs": [
        {
          "output_type": "stream",
          "name": "stdout",
          "text": [
            "      horse power  weight  efficiency\n",
            "name                                 \n",
            "A             130     1.9        16.3\n",
            "B             250     2.6        10.2\n",
            "C             190     2.2        11.1\n"
          ]
        }
      ]
    },
    {
      "cell_type": "markdown",
      "metadata": {
        "id": "i0pKENIrXwlO"
      },
      "source": [
        "**2) 가장 높은 마력을 가진 차종을 찾아, 다음처럼 중량과 연비를 확인해 보자.**\n",
        "\n",
        "~~~\n",
        "       horse power  weight  efficiency\n",
        "name\n",
        "D             300     2.9         7.1\n",
        "~~~"
      ]
    },
    {
      "cell_type": "code",
      "metadata": {
        "colab": {
          "base_uri": "https://localhost:8080/"
        },
        "id": "u-ihQgh0YHRH",
        "outputId": "de2ab5ed-54d8-4db5-d579-4b9df1dced26"
      },
      "source": [
        "# your code here\n",
        "\n",
        "print(df_1[df_1['horse power'] == df_1['horse power'].max()])"
      ],
      "execution_count": null,
      "outputs": [
        {
          "output_type": "stream",
          "name": "stdout",
          "text": [
            "      horse power  weight  efficiency\n",
            "name                                 \n",
            "D             300     2.9         7.1\n"
          ]
        }
      ]
    },
    {
      "cell_type": "markdown",
      "metadata": {
        "id": "t1Q1CF5qYHo2"
      },
      "source": [
        "**3) 마력과 연비를 곱한 값이 가장 큰 차종을 다음과 같이 찾아 보라.**\n",
        "\n",
        "~~~\n",
        "       horse power  weight  efficiency  hp x mile\n",
        "name\n",
        "F             220     2.3        13.2     2904.0\n",
        "~~~"
      ]
    },
    {
      "cell_type": "code",
      "metadata": {
        "colab": {
          "base_uri": "https://localhost:8080/"
        },
        "id": "4910JHXtYfVg",
        "outputId": "258bec90-56cd-4dff-dfe8-45ffc903fafb"
      },
      "source": [
        "# your code here\n",
        "\n",
        "df_1['hp x mile'] = df_1['horse power']*df_1['efficiency']\n",
        "print(df_1[df_1['hp x mile'] == df_1['hp x mile'].max()])"
      ],
      "execution_count": null,
      "outputs": [
        {
          "output_type": "stream",
          "name": "stdout",
          "text": [
            "      horse power  weight  efficiency  hp x mile\n",
            "name                                            \n",
            "F             220     2.3        13.2     2904.0\n"
          ]
        }
      ]
    },
    {
      "cell_type": "markdown",
      "metadata": {
        "id": "2Oq9dgqYYvUn"
      },
      "source": [
        "<br>\n",
        "\n",
        "---\n",
        "**11.3 다음은 Q 자동차 회사의 차종별 마력, 총중량, 그리고 연비를 나타낸 표이다.**\n",
        "\n",
        "|      |  A   |  B   |  C   |  D   |\n",
        "| -    |  :-: |  :-: | : -: |  :-: |\n",
        "| 마력 | 120  | 220  | 120  | 200  |\n",
        "|총중량| 1900 | 2100 | 1500 | 2900 |\n",
        "| 연비 | 18.3 | 19.2 | 21.1 | 17.3 |\n",
        "\n",
        "**1) 이 표를 pandas 데이터프레임으로 만들어 출력해 보라.**\n",
        "\n",
        "~~~\n",
        "       horse power  weight  efficiency\n",
        "name\n",
        "A             120     1.9        18.3\n",
        "B             220     2.1        19.2\n",
        "C             120     1.5        21.1\n",
        "D             200     2.9        17.3\n",
        "~~~"
      ]
    },
    {
      "cell_type": "code",
      "metadata": {
        "colab": {
          "base_uri": "https://localhost:8080/"
        },
        "id": "x8ALNLXcZedj",
        "outputId": "00271aca-aa7b-4a85-b1d1-017ca70ab692"
      },
      "source": [
        "# your code here\n",
        "\n",
        "df_2 = pd.DataFrame({\n",
        "    'name' : ['A', 'B', 'C', 'D'],\n",
        "    'horse power' : [120, 220, 120, 200],\n",
        "    'weight' : [1.9, 2.1, 1.5, 2.9],\n",
        "    'efficiency' : [18.3, 19.2, 21.1, 17.3] })\n",
        "df_3 = df_2.set_index('name')\n",
        "print(df_3)"
      ],
      "execution_count": null,
      "outputs": [
        {
          "output_type": "stream",
          "name": "stdout",
          "text": [
            "      horse power  weight  efficiency\n",
            "name                                 \n",
            "A             120     1.9        18.3\n",
            "B             220     2.1        19.2\n",
            "C             120     1.5        21.1\n",
            "D             200     2.9        17.3\n"
          ]
        }
      ]
    },
    {
      "cell_type": "markdown",
      "metadata": {
        "id": "snzrUVKJZe4O"
      },
      "source": [
        "**2) Q 사의 데이터와 P 사의 데이터를 합쳐 다음과 같은 하나의 데이터프레임을 만들라.**\n",
        "\n",
        "~~~\n",
        "name  horse power  weight  efficiency\n",
        "A             130     1.9        16.3\n",
        "B             250     2.6        10.2\n",
        "C             190     2.2        11.1\n",
        "D             300     2.9         7.1\n",
        "E             210     2.4        12.1\n",
        "F             220     2.3        13.2\n",
        "G             170     2.2        14.2\n",
        "A             120     1.9        18.3\n",
        "B             220     2.1        19.2\n",
        "C             120     1.5        21.1\n",
        "D             200     2.9        17.3\n",
        "~~~"
      ]
    },
    {
      "cell_type": "code",
      "metadata": {
        "colab": {
          "base_uri": "https://localhost:8080/"
        },
        "id": "kqHETW_wZ1b6",
        "outputId": "a5358e2c-11d6-4534-b868-c5a5216986da"
      },
      "source": [
        "# your code here\n",
        "\n",
        "df_3 = df.append(df_2)\n",
        "df_4 = df_3.set_index('name')\n",
        "print(df_4)"
      ],
      "execution_count": null,
      "outputs": [
        {
          "output_type": "stream",
          "name": "stdout",
          "text": [
            "      horse power  weight  efficiency\n",
            "name                                 \n",
            "A             130     1.9        16.3\n",
            "B             250     2.6        10.2\n",
            "C             190     2.2        11.1\n",
            "D             300     2.9         7.1\n",
            "E             210     2.4        12.1\n",
            "F             220     2.3        13.2\n",
            "G             170     2.2        14.2\n",
            "A             120     1.9        18.3\n",
            "B             220     2.1        19.2\n",
            "C             120     1.5        21.1\n",
            "D             200     2.9        17.3\n"
          ]
        }
      ]
    },
    {
      "cell_type": "markdown",
      "metadata": {
        "id": "gwjL8b5pZ1wA"
      },
      "source": [
        "**3) 각 차량의 제조사를 알 수 있게 다음과 같이 데이터프레임을 다시 만들어 보라.**\n",
        "\n",
        "~~~\n",
        "name  horse power  weight  efficiency  com\n",
        "A             130     1.9        16.3    P\n",
        "B             250     2.6        10.2    P\n",
        "C             190     2.2        11.1    P\n",
        "D             300     2.9         7.1    P\n",
        "E             210     2.4        12.1    P\n",
        "F             220     2.3        13.2    P\n",
        "G             170     2.2        14.2    P\n",
        "A             120     1.9        18.3    Q\n",
        "B             220     2.1        19.2    Q\n",
        "C             120     1.5        21.1    Q\n",
        "D             200     2.9        17.3    Q\n",
        "~~~"
      ]
    },
    {
      "cell_type": "code",
      "metadata": {
        "colab": {
          "base_uri": "https://localhost:8080/"
        },
        "id": "SrX87z5Pagjy",
        "outputId": "78d03109-19ae-4e05-a230-f259478598a8"
      },
      "source": [
        "# your code here\n",
        "\n",
        "df_4['com'] = ['P', 'P', 'P', 'P', 'P', 'P', 'P', 'Q', 'Q', 'Q', 'Q']\n",
        "print(df_4)"
      ],
      "execution_count": null,
      "outputs": [
        {
          "output_type": "stream",
          "name": "stdout",
          "text": [
            "      horse power  weight  efficiency com\n",
            "name                                     \n",
            "A             130     1.9        16.3   P\n",
            "B             250     2.6        10.2   P\n",
            "C             190     2.2        11.1   P\n",
            "D             300     2.9         7.1   P\n",
            "E             210     2.4        12.1   P\n",
            "F             220     2.3        13.2   P\n",
            "G             170     2.2        14.2   P\n",
            "A             120     1.9        18.3   Q\n",
            "B             220     2.1        19.2   Q\n",
            "C             120     1.5        21.1   Q\n",
            "D             200     2.9        17.3   Q\n"
          ]
        }
      ]
    },
    {
      "cell_type": "markdown",
      "metadata": {
        "id": "wQGx-OKcag8c"
      },
      "source": [
        "**4) 각 회사에서 생산하는 차량들의 마력 x 연비의 평균값을 구해 회사별로 출력해 보라.**\n",
        "\n",
        "~~~\n",
        "com\n",
        "P    2395.285714\n",
        "Q    3103.000000\n",
        "~~~"
      ]
    },
    {
      "cell_type": "code",
      "metadata": {
        "colab": {
          "base_uri": "https://localhost:8080/"
        },
        "id": "R0LQzyJma0JX",
        "outputId": "1993bc7a-c9db-4480-f2c9-6224063313a9"
      },
      "source": [
        "# your code here\n",
        "\n",
        "df_4['hp x mile'] = df_4['horse power']*df_4['efficiency']\n",
        "\n",
        "df_5 = pd.DataFrame({\n",
        "    'com' : ['P', 'Q'],\n",
        "    '' : [df_4['hp x mile'][0 : 7].mean(), df_4['hp x mile'][7 :].mean()] })\n",
        "\n",
        "df_6 = df_5.set_index('com')\n",
        "print(df_6)\n"
      ],
      "execution_count": null,
      "outputs": [
        {
          "output_type": "stream",
          "name": "stdout",
          "text": [
            "                \n",
            "com             \n",
            "P    2395.285714\n",
            "Q    3103.000000\n"
          ]
        }
      ]
    },
    {
      "cell_type": "markdown",
      "metadata": {
        "id": "P7fApBh5kPtc"
      },
      "source": [
        "<br>\n",
        "\n",
        "**11.4 aircraftDatabase-2021-11.csv 파일을 pandas를 이용하여 읽고, 데이터프레임을 만들어 다음과 같은 일을 처리해보자.**"
      ]
    },
    {
      "cell_type": "code",
      "metadata": {
        "colab": {
          "base_uri": "https://localhost:8080/"
        },
        "id": "zDIdc6JikdBF",
        "outputId": "2e5191ef-43d9-452d-cf4c-30d368fee257"
      },
      "source": [
        "# your code here\n",
        "\n",
        "import pandas as pd\n",
        "\n",
        "#df = pd.read_csv('aircraftDatabase-2021-11.csv', delimiter=',')\n",
        "df = pd.read_csv('https://jonghank.github.io/ase1302/files/aircraftDatabase-2021-11.csv', delimiter=',')\n",
        "\n",
        "print(df.head(3))\n",
        "print(df.tail(3))"
      ],
      "execution_count": null,
      "outputs": [
        {
          "output_type": "stream",
          "name": "stderr",
          "text": [
            "/usr/local/lib/python3.7/dist-packages/IPython/core/interactiveshell.py:2718: DtypeWarning: Columns (14) have mixed types.Specify dtype option on import or set low_memory=False.\n",
            "  interactivity=interactivity, compiler=compiler, result=result)\n"
          ]
        },
        {
          "output_type": "stream",
          "name": "stdout",
          "text": [
            "   icao24 registration  ... notes                    categoryDescription\n",
            "0     NaN          NaN  ...   NaN                                    NaN\n",
            "1  aa3487        N757F  ...   NaN                                    NaN\n",
            "2  ae267b         6533  ...   NaN  No ADS-B Emitter Category Information\n",
            "\n",
            "[3 rows x 27 columns]\n",
            "        icao24 registration manufacturericao  ...  acars notes categoryDescription\n",
            "459997  a66152        N51YX              NaN  ...  False   NaN                 NaN\n",
            "459998  405eae       G-DTAR              NaN  ...  False   NaN                 NaN\n",
            "459999  c09b2d       C-IGTW              NaN  ...  False   NaN                 NaN\n",
            "\n",
            "[3 rows x 27 columns]\n"
          ]
        }
      ]
    },
    {
      "cell_type": "markdown",
      "metadata": {
        "id": "LNkkPw_SnioK"
      },
      "source": [
        "**1) 데이터프레임의 항공기별 데이터 리스트를 출력하라. 위의 문제와 다르게 데이터가 상당히 크기 때문에 몇 개를 출력하여 어떤 데이터가 있는지 살피기 보다는 리스트만을 살펴본 뒤 접근하는 방식이 훨씬 간편할 것이다.**"
      ]
    },
    {
      "cell_type": "code",
      "metadata": {
        "colab": {
          "base_uri": "https://localhost:8080/"
        },
        "id": "cFhPjq3bk8oO",
        "outputId": "94f5d41a-a77e-4f5e-cf0a-aa2a53c6cfee"
      },
      "source": [
        "list(df)"
      ],
      "execution_count": null,
      "outputs": [
        {
          "output_type": "execute_result",
          "data": {
            "text/plain": [
              "['icao24',\n",
              " 'registration',\n",
              " 'manufacturericao',\n",
              " 'manufacturername',\n",
              " 'model',\n",
              " 'typecode',\n",
              " 'serialnumber',\n",
              " 'linenumber',\n",
              " 'icaoaircrafttype',\n",
              " 'operator',\n",
              " 'operatorcallsign',\n",
              " 'operatoricao',\n",
              " 'operatoriata',\n",
              " 'owner',\n",
              " 'testreg',\n",
              " 'registered',\n",
              " 'reguntil',\n",
              " 'status',\n",
              " 'built',\n",
              " 'firstflightdate',\n",
              " 'seatconfiguration',\n",
              " 'engines',\n",
              " 'modes',\n",
              " 'adsb',\n",
              " 'acars',\n",
              " 'notes',\n",
              " 'categoryDescription']"
            ]
          },
          "metadata": {},
          "execution_count": 16
        }
      ]
    },
    {
      "cell_type": "markdown",
      "metadata": {
        "id": "xePYmRHUnwub"
      },
      "source": [
        "**2) 항공기 제조사(manufacturername) 중 항공기가가 가장 많은 순으로 10개의 제조사를 골라 파이 차트를 percentage가 나타나도록 출력하라. 단, 여기서 nan은 출력하지 않아야 한다.**"
      ]
    },
    {
      "cell_type": "code",
      "metadata": {
        "colab": {
          "base_uri": "https://localhost:8080/",
          "height": 792
        },
        "id": "ba-b2l7OoVXj",
        "outputId": "8d491fd5-acff-485b-d65d-6f1408e0f0f1"
      },
      "source": [
        "import numpy as np\n",
        "import matplotlib.pyplot as plt\n",
        "from collections import Counter\n",
        "\n",
        "Manufacturer = df['manufacturername']\n",
        "deque = Counter(list(Manufacturer.values)).most_common()\n",
        "N = len(deque)\n",
        "\n",
        "names = []\n",
        "numbers = []\n",
        "n = 0\n",
        "for i in range(N):\n",
        "  if type(deque[i][0])==str:\n",
        "    names.append( deque[i][0] )\n",
        "    numbers.append( deque[i][1] )\n",
        "    n += deque[i][1]\n",
        "  if len(names)==10:\n",
        "    break\n",
        "numbers = np.array(numbers) / n * 100\n",
        "\n",
        "plt.figure(1, figsize=(10, 10), dpi=100)\n",
        "plt.pie(numbers, labels=names, autopct='%.1f%%')\n",
        "plt.show()"
      ],
      "execution_count": null,
      "outputs": [
        {
          "output_type": "display_data",
          "data": {
            "image/png": "[encoded data removed]",
            "text/plain": [
              "<Figure size 1000x1000 with 1 Axes>"
            ]
          },
          "metadata": {}
        }
      ]
    },
    {
      "cell_type": "markdown",
      "metadata": {
        "id": "7O89T644tae5"
      },
      "source": [
        "**3) 대한민국의 항공기 등록기호는 \"HL\"이다. 등록된 항공기 중 등록부호(registration)의 앞 두글자가 \"HL\"인 것들을 고른 뒤, 항공기 보유사 또는 개인(private) 중 가장 많은 순으로 10개를 골라 막대그래프로 출력하라. 마찬가지로, nan은 출력되지 않아야 한다.**"
      ]
    },
    {
      "cell_type": "code",
      "metadata": {
        "colab": {
          "base_uri": "https://localhost:8080/",
          "height": 546
        },
        "id": "4K6bxqHjrMpA",
        "outputId": "b600b00c-3cca-416a-ba42-db5eb109c7cd"
      },
      "source": [
        "regi = df['registration'].values\n",
        "N = len(regi)\n",
        "\n",
        "Kplanes_idx = []\n",
        "for i in range(N):\n",
        "  if type(regi[i])==str:\n",
        "    if regi[i][:2]=='HL':\n",
        "      Kplanes_idx.append(i)\n",
        "\n",
        "Kowner = df['owner'][Kplanes_idx].values\n",
        "Kowner = Counter(list(Kowner)).most_common()\n",
        "inc = []\n",
        "num = []\n",
        "for i in range(len(Kowner)):\n",
        "  if type(Kowner[i][0])==str:\n",
        "    inc.append(Kowner[i][0])\n",
        "    num.append(Kowner[i][1])\n",
        "  if len(inc)==10:\n",
        "    break\n",
        "\n",
        "x = np.arange(10)\n",
        "plt.figure(1, figsize=(10, 3), dpi=100)\n",
        "plt.bar(x, num)\n",
        "plt.xticks(x, inc, rotation=90)\n",
        "plt.grid(alpha=0.3)\n",
        "plt.show()"
      ],
      "execution_count": null,
      "outputs": [
        {
          "output_type": "display_data",
          "data": {
            "image/png": "[encoded data removed]",
            "text/plain": [
              "<Figure size 1000x300 with 1 Axes>"
            ]
          },
          "metadata": {
            "needs_background": "light"
          }
        }
      ]
    },
    {
      "cell_type": "code",
      "metadata": {
        "id": "jKRIQDBEqRYr"
      },
      "source": [],
      "execution_count": null,
      "outputs": []
    }
  ]
}