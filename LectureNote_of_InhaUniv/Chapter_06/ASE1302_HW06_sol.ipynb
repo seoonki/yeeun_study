{
  "nbformat": 4,
  "nbformat_minor": 0,
  "metadata": {
    "colab": {
      "name": "ASE1302_HW06_sol.ipynb",
      "provenance": []
    },
    "kernelspec": {
      "name": "python3",
      "display_name": "Python 3"
    },
    "language_info": {
      "name": "python"
    }
  },
  "cells": [
    {
      "cell_type": "markdown",
      "metadata": {
        "id": "S9pcvX6j4h-v"
      },
      "source": [
        "# ASE1302 - Assignment \\#06\n",
        "$$\n",
        "\\newcommand{\\eg}{{\\it e.g.}}\n",
        "\\newcommand{\\ie}{{\\it i.e.}}\n",
        "\\newcommand{\\argmin}{\\operatornamewithlimits{argmin}}\n",
        "\\newcommand{\\mc}{\\mathcal}\n",
        "\\newcommand{\\mb}{\\mathbb}\n",
        "\\newcommand{\\mf}{\\mathbf}\n",
        "\\newcommand{\\minimize}{{\\text{minimize}}}\n",
        "\\newcommand{\\diag}{{\\text{diag}}}\n",
        "\\newcommand{\\cond}{{\\text{cond}}}\n",
        "\\newcommand{\\rank}{{\\text{rank }}}\n",
        "\\newcommand{\\range}{{\\mathcal{R}}}\n",
        "\\newcommand{\\null}{{\\mathcal{N}}}\n",
        "\\newcommand{\\tr}{{\\text{trace}}}\n",
        "\\newcommand{\\dom}{{\\text{dom}}}\n",
        "\\newcommand{\\dist}{{\\text{dist}}}\n",
        "\\newcommand{\\R}{\\mathbf{R}}\n",
        "\\newcommand{\\Z}{\\mathbf{Z}}\n",
        "\\newcommand{\\SM}{\\mathbf{S}}\n",
        "\\newcommand{\\ball}{\\mathcal{B}}\n",
        "\\newcommand{\\bmat}[1]{\\begin{bmatrix}#1\\end{bmatrix}}\n",
        "$$"
      ]
    },
    {
      "cell_type": "markdown",
      "metadata": {
        "id": "nOTYKE9v4ptV"
      },
      "source": [
        "__<div style=\"text-align: right\"> ASE1302: Computer programming, Inha University. </div>__\n",
        "_<div style=\"text-align: right\"> Jong-Han Kim (jonghank@inha.ac.kr) </div>_\n",
        "_<div style=\"text-align: right\"> Ho-Young Jeon (hy13776@inha.edu) </div>_\n"
      ]
    },
    {
      "cell_type": "markdown",
      "metadata": {
        "id": "Hd1MfEi548fZ"
      },
      "source": [
        "<br>\n",
        "\n",
        "---\n",
        "**6.1 n이라는 이름의 매개변수를 입력으로 받아서 이 값의 제곱 값을 반환하는 square(n) 함수를 정의하고 이 함수를 호출하여 3과 4의 제곱을 출력하고자 한다. 밑줄 친 부분에 들어갈 알맞은 코드를 채우고 전체 코드를 실행하시오.**"
      ]
    },
    {
      "cell_type": "code",
      "metadata": {
        "colab": {
          "base_uri": "https://localhost:8080/"
        },
        "id": "oOLCCoKc5VZ-",
        "outputId": "405bf85b-98b0-43e9-ce2e-c94e083f434c"
      },
      "source": [
        "def square(n):\n",
        "  return n**2\n",
        "\n",
        "\n",
        "\n",
        "##### Don't modify this cell #####\n",
        "print('3의 제곱은 : ', square(3))\n",
        "print('4의 제곱은 : ', square(4))"
      ],
      "execution_count": null,
      "outputs": [
        {
          "output_type": "stream",
          "name": "stdout",
          "text": [
            "3의 제곱은 :  9\n",
            "4의 제곱은 :  16\n"
          ]
        }
      ]
    },
    {
      "cell_type": "markdown",
      "metadata": {
        "id": "cyrNYPyz5tG9"
      },
      "source": [
        "<br>\n",
        "\n",
        "---\n",
        "**6.2 m과 n이라는 이름의 매개변수를 두 개 입력받아서 이 두 값 중에서 큰 값을 반환하는 max2(m, n) 함수와 작은 값을 반환하는 min2(m, n)함수를 구현하시오.  100과 200을 인자로 넣어서 호출하여 그 결과를 확인하시오. 이를 위하여 밑줄 친 부분에 들어갈 알맞은 코드를 채우고 전체 코드를 실행하시오.**"
      ]
    },
    {
      "cell_type": "code",
      "metadata": {
        "colab": {
          "base_uri": "https://localhost:8080/"
        },
        "id": "S55-osvs6ADn",
        "outputId": "f6e3cd65-ace0-414f-afe4-b6088efcdf56"
      },
      "source": [
        "def max2(m, n):\n",
        "  if m>n:\n",
        "    return m\n",
        "  else:\n",
        "    return n\n",
        "    \n",
        "def min2(m, n):\n",
        "  if m<n:\n",
        "    return m\n",
        "  else:\n",
        "    return n\n",
        "\n",
        "\n",
        "##### Don't modify this cell #####\n",
        "print(\"100과 200중 큰 수는: \", max2(100, 200))\n",
        "print(\"100과 200중 작은 수는 : \", min2(100, 200))"
      ],
      "execution_count": null,
      "outputs": [
        {
          "output_type": "stream",
          "name": "stdout",
          "text": [
            "100과 200중 큰 수는:  200\n",
            "100과 200중 작은 수는 :  100\n"
          ]
        }
      ]
    },
    {
      "cell_type": "markdown",
      "metadata": {
        "id": "a45CXoK2672i"
      },
      "source": [
        "<br>\n",
        "\n",
        "---\n",
        "**6.3 n1, n2, n3라는 이름의 매개변수를 3개 입력받아서 이 값 중에서 가장 큰 값을 반환하는 max3(n1, n2, n3)함수와 가장 작은 값을 반환하는 min3(n1, n2, n3) 함수를 구현하시오. 사용자로부터 임의의 정수 3개를 입력으로 받아서 이 함수를 호출하여 다음과 같은 출력을 내 보이도록 하여라.**"
      ]
    },
    {
      "cell_type": "code",
      "metadata": {
        "colab": {
          "base_uri": "https://localhost:8080/"
        },
        "id": "ODjiZAUg62s9",
        "outputId": "dfc2cefa-f43c-4c64-c00b-0b26da7de16b"
      },
      "source": [
        "def max3(n1, n2, n3):\n",
        "  return max(n1, n2, n3)\n",
        "\n",
        "def max2(n1, n2 ,n3):\n",
        "  return min(n1, n2 ,n3)\n",
        "\n",
        "\n",
        "##### Don't modify this cell #####\n",
        "input1, input2, input3 = input(\"3 수를 입력하시오 : \").split()\n",
        "print(\"가장 큰 수 : \", max3(input1, input2, input3))\n",
        "print(\"가장 작은 수 : \", min3(input1, input2, input3))"
      ],
      "execution_count": null,
      "outputs": [
        {
          "output_type": "stream",
          "name": "stdout",
          "text": [
            "3 수를 입력하시오 : 10 20 30\n",
            "가장 큰 수 :  30\n",
            "가장 작은 수 :  10\n"
          ]
        }
      ]
    },
    {
      "cell_type": "markdown",
      "metadata": {
        "id": "FAMU4E-C6Vvf"
      },
      "source": [
        "<br>\n",
        "\n",
        "---\n",
        "**6.4 섭씨온도(celsius)를 화씨온도(fahrenheit)로 변환하는 식은 다음과 같다. 이 식을 바탕으로 섭씨온도를 0도에서 50도까지 10도 단위로 증가시키면서 이에 해당하는 화씨온도를 출력하는 프로그램을 작성하시오. 이를 위하여 섭씨온도를 인자로 받아서 화씨온도를 반환하는 cel2fah() 함수를 만들도록 하여라.**\n",
        "\n",
        ">fahrenheit = (9/5)*celsius +32"
      ]
    },
    {
      "cell_type": "code",
      "metadata": {
        "colab": {
          "base_uri": "https://localhost:8080/"
        },
        "id": "wBiAonhO6XbG",
        "outputId": "f9063de6-847f-4141-babd-8da5833ae5fe"
      },
      "source": [
        "def cel2fah(cel):\n",
        "  fah = 9/5*cel + 32\n",
        "  return fah\n",
        "\n",
        "for i in range(6):\n",
        "  print(f\"cel : {10*i}, fah : {cel2fah(10*i)}\")"
      ],
      "execution_count": null,
      "outputs": [
        {
          "output_type": "stream",
          "name": "stdout",
          "text": [
            "cel : 0, fah : 32.0\n",
            "cel : 10, fah : 50.0\n",
            "cel : 20, fah : 68.0\n",
            "cel : 30, fah : 86.0\n",
            "cel : 40, fah : 104.0\n",
            "cel : 50, fah : 122.0\n"
          ]
        }
      ]
    },
    {
      "cell_type": "markdown",
      "metadata": {
        "id": "dX_wP_UP-17b"
      },
      "source": [
        "<br>\n",
        "\n",
        "---\n",
        "**6.5 임의의 수를 입력으로 받은 다음 이 수가 소수인지 아닌지를 판단하는 함수 is_prime(n)을 작성하여라. 만일 n이 소수이면 True, 그렇지 않으면 False를 반환하도록 하여라(힌트 : 소수는 1과 자기자신 이외에는 약수를 가지지 않는다. 따라서 어떤 수 n을 2에서 부터 n-1까지의 수로 나누어 보면 된다. 만일 중간에 n을 나눌 수 있는 수가 있다면 이 수는 소수가 아닐것이다.)**\n"
      ]
    },
    {
      "cell_type": "code",
      "metadata": {
        "colab": {
          "base_uri": "https://localhost:8080/"
        },
        "id": "5QoKRPGBALGM",
        "outputId": "fa377e5d-4196-46a0-9538-2fc60150a581"
      },
      "source": [
        "def is_prime(n):\n",
        "  k = 2\n",
        "  while 1:\n",
        "    if k==n:\n",
        "      return True\n",
        "      break\n",
        "    if n%k==0:\n",
        "      return False\n",
        "      break\n",
        "    k += 1\n",
        "\n",
        "\n",
        "\n",
        "##### Don't modify this cell #####\n",
        "print(f\"prime number (16) : {is_prime(16)}\")\n",
        "print(f\"prime number (25) : {is_prime(25)}\")\n",
        "print(f\"prime number (38) : {is_prime(38)}\")\n",
        "print(f\"prime number (56) : {is_prime(56)}\")\n",
        "print(f\"prime number (69) : {is_prime(69)}\\n\")\n",
        "\n",
        "\n",
        "print(f\"prime number (41) : {is_prime(41)}\")\n",
        "print(f\"prime number (73) : {is_prime(73)}\")\n",
        "print(f\"prime number (79) : {is_prime(79)}\")\n",
        "print(f\"prime number (89) : {is_prime(89)}\")\n",
        "print(f\"prime number (97) : {is_prime(97)}\")"
      ],
      "execution_count": null,
      "outputs": [
        {
          "output_type": "stream",
          "name": "stdout",
          "text": [
            "prime number (16) : False\n",
            "prime number (25) : False\n",
            "prime number (38) : False\n",
            "prime number (56) : False\n",
            "prime number (69) : False\n",
            "\n",
            "prime number (41) : True\n",
            "prime number (73) : True\n",
            "prime number (79) : True\n",
            "prime number (89) : True\n",
            "prime number (97) : True\n"
          ]
        }
      ]
    },
    {
      "cell_type": "markdown",
      "metadata": {
        "id": "qLudfg-aBbCE"
      },
      "source": [
        "<br>\n",
        "\n",
        "---\n",
        "**6.6 n!은 n(n-1)(n-2) $\\cdots$2 $\\cdot$1의 식으로 표현되는 값이다. 양의 정수 n을 매개변수로 받아서 팩토리얼 값을 반환하는 factorial(n) 함수를 구현하여라. 이 함수를 재귀 함수를 사용하지 말고 for문을 사용하여 작성하여라. 이 함수를 이용하여 factorial(5), factorial(7), factorial(10)의 값을 출력하는 출력문을 구현하여라.**\n"
      ]
    },
    {
      "cell_type": "code",
      "metadata": {
        "colab": {
          "base_uri": "https://localhost:8080/"
        },
        "id": "Fibz7ENBbGxF",
        "outputId": "7476c7d6-0e83-4b0b-8fc5-55550063ca49"
      },
      "source": [
        "def factorial(n):\n",
        "  result = 1\n",
        "  for i in range(n):\n",
        "    result *= i+1\n",
        "  return result\n",
        "\n",
        "\n",
        "\n",
        "##### Don't modify this cell #####\n",
        "print(f\"5! : {factorial(5)}\")\n",
        "print(f\"7! : {factorial(7)}\")\n",
        "print(f\"10! : {factorial(10)}\")"
      ],
      "execution_count": null,
      "outputs": [
        {
          "output_type": "stream",
          "name": "stdout",
          "text": [
            "5! : 120\n",
            "7! : 5040\n",
            "10! : 3628800\n"
          ]
        }
      ]
    },
    {
      "cell_type": "markdown",
      "metadata": {
        "id": "F7bgYRHZcBJ2"
      },
      "source": [
        "<br>\n",
        "\n",
        "---\n",
        "**6.7 사용자로 부터 $x_1, y_1, x_2, y_2$의 값을 받아들인 다음 $(x_1, y_1)$ 좌표에서 $(x_2, y_2)$ 좌표를 잇는 직선의 거리를 출력하고자 한다. distance($x_1, y_1, x_2, y_2$)를 구현하고 이 함수를 호출하여 다음과 같이 화면에 직선과 거리를 출력하도록 하여라.**\n"
      ]
    },
    {
      "cell_type": "code",
      "metadata": {
        "colab": {
          "base_uri": "https://localhost:8080/"
        },
        "id": "-mLmoR78cfNF",
        "outputId": "38c0a15a-18ea-4744-b27e-7e4f778e1b80"
      },
      "source": [
        "import math\n",
        "\n",
        "def distance(x1, y1, x2, y2):\n",
        "  return math.sqrt((x2 - x1)**2 + (y2 - y1)**2)\n",
        "\n",
        "\n",
        "\n",
        "##### Don't modify this cell #####\n",
        "print(f\"distance(1, 1, 2, 2) : {distance(1, 1, 2, 2)}\")\n",
        "print(f\"distance(1, 1, 4, 5) : {distance(1, 1, 4, 5)}\")\n",
        "print(f\"distance(2, 3, 4, 9) : {distance(2, 3, 4, 9)}\")\n",
        "print(f\"distance(4, 8, 5, 3) : {distance(4, 8, 5, 3)}\")"
      ],
      "execution_count": null,
      "outputs": [
        {
          "output_type": "stream",
          "name": "stdout",
          "text": [
            "distance(1, 1, 2, 2) : 1.4142135623730951\n",
            "distance(1, 1, 4, 5) : 5.0\n",
            "distance(2, 3, 4, 9) : 6.324555320336759\n",
            "distance(4, 8, 5, 3) : 5.0990195135927845\n"
          ]
        }
      ]
    },
    {
      "cell_type": "markdown",
      "metadata": {
        "id": "scNN7_FyfHGc"
      },
      "source": [
        "<br>\n",
        "\n",
        "---\n",
        "**6.8 Bisection method**\n",
        "\n",
        "**이분탐색은 근이 반드시 존재하는 폐구간 $[x_l, x_u]$을 이분한 후, 이 중 근이 존재하는 하위 폐구간을 선택하는 것을 반복하여서 근을 찾는 알고리즘이다.기본적인 방법은 $[x_l, x_u]$에서 연속인 함수 f에 대하여 $f(x_l)f(x_u)<0$ 인 폐구간 $[x_l, x_u]$에 대해서 계속해서 $\\frac{x_u+x_l}{2}$을 하여 나오는 또 다른 수를 하나의 폐구간 끝점으로 잡은 새로운 폐구간을 만든다. 이와 같은 방법으로 계속 n번을 시행하게 되면 점점 함수 f(x)=0를 만족하는 x에 다가가게 된다. 이때, 허용 오차를 $\\epsilon$, n번째 구간을 $[a_n, b_n]$이라고 할때, 다음 조건이 만족될때까지 반복한다.**\n",
        "\n",
        "$$\n",
        "\\left| a_n - b_n \\right| < \\epsilon\n",
        "$$\n"
      ]
    },
    {
      "cell_type": "markdown",
      "metadata": {
        "id": "HN6nOJczgbYY"
      },
      "source": [
        "<p align=\"center\">\n",
        "  <img src=\"https://user-images.githubusercontent.com/62292619/136201024-ee5290f7-1f27-49c6-97d8-d11503df5b4a.png\" alt=\"Sublime's custom image\"/>\n",
        "</p>\n"
      ]
    },
    {
      "cell_type": "markdown",
      "metadata": {
        "id": "rcc8l-Mt7fpj"
      },
      "source": [
        "**구간 $[x_l, \\ x_u] = [0 ,\\ 4]$ 에서 이분법을 사용하여 다음 함수의 근을 구하라. 이때, bisection_search 함수를 이용하여 다음 표와 값이 일치하는지 확인한다. 이때, 허용오차 $\\epsilon = 0.01$로 가정한다.**\n",
        "$$\n",
        "f(x) = x^2 - 2\\\\\n",
        "$$\n"
      ]
    },
    {
      "cell_type": "markdown",
      "metadata": {
        "id": "1pa-oGtnNVge"
      },
      "source": [
        "|i|$x_l$|f($x_l$)|$x_m$|f($x_m$)|$x_u$|f($x_u$)|$\\epsilon$|\n",
        "|:---:|:---:|:---:|:---:|:---:|:---:|:---:|:---:|\n",
        "|0|0|-2|2|2|4|14|4|\n",
        "|1|0|-2|1|-1|**2**|**2**|2|\n",
        "|2|**1**|**-1**|1.5|0.25|2|2|1|\n",
        "|3|1|-1|1.25|-0.4375|**1.5**|**0.25**|0.5000|\n",
        "|4|**1.25**|**-0.4375**|1.375|-0.1094|1.5|0.25|0.2500|\n",
        "|5|**1.375**|**-0.1094**|1.4375|0.0664|1.5|0.25|0.1250|\n",
        "|6|1.375|-0.1094|1.40625|-0.0225|**1.4375**|**0.0664**|0.0625|\n",
        "|7|**1.4062**|**-0.0225**|1.4219|0.0217|1.4375|0.0664|0.0313|\n",
        "|8|1.4062|-0.0225|1.414|-0.004|**1.4219**|**0.0217**|0.0156|\n",
        "|9|**1.414**|**-0.004**|||1.4219|0.0217|0.0078|\n"
      ]
    },
    {
      "cell_type": "code",
      "metadata": {
        "id": "rkkpVNmSfIa8",
        "colab": {
          "base_uri": "https://localhost:8080/"
        },
        "outputId": "0a58277e-2a76-4acf-e2c4-458a163eeb06"
      },
      "source": [
        "##### Don't modify this cell #####\n",
        "def my_fuc(x):\n",
        "  return (x**2-2)\n",
        "  \n",
        "xl = 0\n",
        "xu = 4\n",
        "epsilon = 1e-2\n",
        "\n",
        "\n",
        "\n",
        "def bisection_search(xl, xu):\n",
        "\n",
        "  xl_new, xu_new = xl, xu\n",
        "  xm = (xl+xu)/2\n",
        "\n",
        "  if my_fuc(xm)<0:\n",
        "    xl_new = xm\n",
        "  else:\n",
        "    xu_new = xm\n",
        "\n",
        "  return [xl_new, xu_new, my_fuc(xl), my_fuc(xu)]\n",
        "\n",
        "iter = 0\n",
        "while(1):\n",
        "    xl, xu, *_  = bisection_search(xl, xu)\n",
        "    print(f\"iteration {iter+1}\\nxl: {round(xl, 4)}, xu: {round(xu, 4)}, epsilon: {round(xu-xl,4)}\\n\")\n",
        "    if xu-xl<epsilon:\n",
        "      break\n",
        "    iter += 1\n",
        "print(\"last iter f(xl)`s value: \", my_fuc(xl))"
      ],
      "execution_count": null,
      "outputs": [
        {
          "output_type": "stream",
          "name": "stdout",
          "text": [
            "iteration 1\n",
            "xl: 0, xu: 2.0, epsilon: 2.0\n",
            "\n",
            "iteration 2\n",
            "xl: 1.0, xu: 2.0, epsilon: 1.0\n",
            "\n",
            "iteration 3\n",
            "xl: 1.0, xu: 1.5, epsilon: 0.5\n",
            "\n",
            "iteration 4\n",
            "xl: 1.25, xu: 1.5, epsilon: 0.25\n",
            "\n",
            "iteration 5\n",
            "xl: 1.375, xu: 1.5, epsilon: 0.125\n",
            "\n",
            "iteration 6\n",
            "xl: 1.375, xu: 1.4375, epsilon: 0.0625\n",
            "\n",
            "iteration 7\n",
            "xl: 1.4062, xu: 1.4375, epsilon: 0.0312\n",
            "\n",
            "iteration 8\n",
            "xl: 1.4062, xu: 1.4219, epsilon: 0.0156\n",
            "\n",
            "iteration 9\n",
            "xl: 1.4141, xu: 1.4219, epsilon: 0.0078\n",
            "\n",
            "last iter f(xl)`s value:  -0.00042724609375\n"
          ]
        }
      ]
    },
    {
      "cell_type": "code",
      "metadata": {
        "id": "imf66pQtzmoW"
      },
      "source": [],
      "execution_count": null,
      "outputs": []
    }
  ]
}