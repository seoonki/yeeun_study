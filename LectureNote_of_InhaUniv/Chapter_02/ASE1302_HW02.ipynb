{
  "nbformat": 4,
  "nbformat_minor": 5,
  "metadata": {
    "hide_input": false,
    "kernelspec": {
      "display_name": "Python 3",
      "language": "python",
      "name": "python3"
    },
    "language_info": {
      "codemirror_mode": {
        "name": "ipython",
        "version": 3
      },
      "file_extension": ".py",
      "mimetype": "text/x-python",
      "name": "python",
      "nbconvert_exporter": "python",
      "pygments_lexer": "ipython3",
      "version": "3.7.3"
    },
    "latex_envs": {
      "LaTeX_envs_menu_present": true,
      "autoclose": true,
      "autocomplete": true,
      "bibliofile": "biblio.bib",
      "cite_by": "apalike",
      "current_citInitial": 1,
      "eqLabelWithNumbers": true,
      "eqNumInitial": 1,
      "hotkeys": {
        "equation": "Ctrl-E",
        "itemize": "Ctrl-I"
      },
      "labels_anchors": false,
      "latex_user_defs": false,
      "report_style_numbering": false,
      "user_envs_cfg": false
    },
    "toc": {
      "base_numbering": 1,
      "nav_menu": {},
      "number_sections": true,
      "sideBar": true,
      "skip_h1_title": false,
      "title_cell": "Table of Contents",
      "title_sidebar": "Contents",
      "toc_cell": false,
      "toc_position": {},
      "toc_section_display": true,
      "toc_window_display": true
    },
    "varInspector": {
      "cols": {
        "lenName": 16,
        "lenType": 16,
        "lenVar": 40
      },
      "kernels_config": {
        "python": {
          "delete_cmd_postfix": "",
          "delete_cmd_prefix": "del ",
          "library": "var_list.py",
          "varRefreshCmd": "print(var_dic_list())"
        },
        "r": {
          "delete_cmd_postfix": ") ",
          "delete_cmd_prefix": "rm(",
          "library": "var_list.r",
          "varRefreshCmd": "cat(var_dic_list()) "
        }
      },
      "types_to_exclude": [
        "module",
        "function",
        "builtin_function_or_method",
        "instance",
        "_Feature"
      ],
      "window_display": false
    },
    "colab": {
      "name": "ASE1302_HW02.ipynb",
      "provenance": []
    }
  },
  "cells": [
    {
      "cell_type": "markdown",
      "metadata": {
        "id": "figured-terrorist"
      },
      "source": [
        "# ASE1302 - Assignment \\#02"
      ],
      "id": "figured-terrorist"
    },
    {
      "cell_type": "markdown",
      "metadata": {
        "id": "28spi2TbEnmZ"
      },
      "source": [
        "__<div style=\"text-align: right\"> ASE1302: Computer programming, Inha University. </div>__\n",
        "\n",
        "_<div style=\"text-align: right\"> Jong-Han Kim (jonghank@inha.ac.kr) </div>_\n",
        "_<div style=\"text-align: right\"> Ho-Young Jeon (hy13776@inha.edu) </div>_"
      ],
      "id": "28spi2TbEnmZ"
    },
    {
      "cell_type": "markdown",
      "metadata": {
        "id": "valued-holly"
      },
      "source": [
        "<br>\n",
        "\n",
        "---\n",
        "**2.1 연습문제의 첫 줄에는 100과 200의 합을 출력하기 위한 방법을 보여주고 있다.  print() 함수와 + 연산을 이용하여 200, 300, 400의 합을 결과와 같이 화면에 출력해보자. 이때 print() 함수 내부에 들어갈 알맞은 값을 적으시오.**"
      ],
      "id": "valued-holly"
    },
    {
      "cell_type": "code",
      "metadata": {
        "ExecuteTime": {
          "end_time": "2021-09-01T05:52:36.566046Z",
          "start_time": "2021-09-01T05:52:36.559106Z"
        },
        "colab": {
          "base_uri": "https://localhost:8080/"
        },
        "id": "senior-revision",
        "outputId": "1213c503-89c3-437f-ac71-780b8a033a2c"
      },
      "source": [
        "print( 100,'+', 200, '=', 100 + 200)"
      ],
      "id": "senior-revision",
      "execution_count": null,
      "outputs": [
        {
          "output_type": "stream",
          "name": "stdout",
          "text": [
            "100 + 200 = 300\n"
          ]
        }
      ]
    },
    {
      "cell_type": "code",
      "metadata": {
        "id": "B1xQviKlHi90"
      },
      "source": [
        "# your code here"
      ],
      "id": "B1xQviKlHi90",
      "execution_count": null,
      "outputs": []
    },
    {
      "cell_type": "markdown",
      "metadata": {
        "id": "blond-tourist"
      },
      "source": [
        "<br>\n",
        "\n",
        "---\n",
        "**2.2 width(너비) 변수에는 30, height(높이) 변수에는 60 값이 출력되도록 하시오.**  \n",
        " ~~~\n",
        " print(width)  \n",
        " print(height)\n",
        " ~~~"
      ],
      "id": "blond-tourist"
    },
    {
      "cell_type": "code",
      "metadata": {
        "id": "accessible-uganda"
      },
      "source": [
        "# your code here"
      ],
      "id": "accessible-uganda",
      "execution_count": null,
      "outputs": []
    },
    {
      "cell_type": "markdown",
      "metadata": {
        "id": "accessory-ordinary"
      },
      "source": [
        "<br>\n",
        "\n",
        "---\n",
        "**2.3 위의 코드에서 width와 height 변수를 두개의 줄에 걸쳐 선언하지 말고 한 줄에 할당하는 동시 할당문을 사용하여 width(너비) 변수에는 30, height(높이) 변수에는 60 값이 출력되도록 하시오.**"
      ],
      "id": "accessory-ordinary"
    },
    {
      "cell_type": "code",
      "metadata": {
        "id": "extensive-blast"
      },
      "source": [
        "# your code here"
      ],
      "id": "extensive-blast",
      "execution_count": null,
      "outputs": []
    },
    {
      "cell_type": "markdown",
      "metadata": {
        "id": "operating-interest"
      },
      "source": [
        "<br>\n",
        "\n",
        "---\n",
        "**2.4 width와 height라는 변수에 각각 40, 20 값을 할당한 후 이 두변수를 이용하여 곱셈 연산자를 적용한 후 다음과 같이 삼각형의 면적(area)을 구하는 프로그램을 작성하시오.**\n",
        "~~~\n",
        "삼각형의 면적 : 400.0  \n",
        "~~~"
      ],
      "id": "operating-interest"
    },
    {
      "cell_type": "code",
      "metadata": {
        "id": "distributed-travel"
      },
      "source": [
        "# your code here"
      ],
      "id": "distributed-travel",
      "execution_count": null,
      "outputs": []
    },
    {
      "cell_type": "markdown",
      "metadata": {
        "id": "graduate-surgeon"
      },
      "source": [
        "<br>\n",
        "\n",
        "---\n",
        "**2.5 정사각형의 면적을 구하기 위하여 사용자로부터 밑변의 길이를 정수로 입력받아서 다음과 같이 출력하시오(힌트 : 정수값 입력을 받기 위하여 int(input(\"정사각형의 밑변을 입력하시오 : \")) 를 사용함).**  \n",
        "~~~\n",
        "정사각형의 밑변을 입력하시오 : 40  \n",
        "정사각형의 면적 : 1600\n",
        "~~~"
      ],
      "id": "graduate-surgeon"
    },
    {
      "cell_type": "code",
      "metadata": {
        "id": "present-parker"
      },
      "source": [
        "# your code here"
      ],
      "id": "present-parker",
      "execution_count": null,
      "outputs": []
    },
    {
      "cell_type": "markdown",
      "metadata": {
        "id": "further-poverty"
      },
      "source": [
        "<br>\n",
        "\n",
        "---\n",
        "**2.6 섭씨(celsius)를 화씨온도(fahrenheit)로 변환하는 식은 다음과 같다.**\n",
        "> fahrenheit = (9/5) * celsius + 32  \n",
        "\n",
        "**이 식을 바탕으로 섭씨온도를 0도에서 50도까지 10도 단위로 증가시키면서 이에 해당하는 화씨온도를 다음과 같이 출력하는 코드를 작성하시오.**\n",
        "\n",
        "~~~\n",
        "섭씨 화씨\n",
        "0    32.0\n",
        "10   50.0\n",
        "20   68.0\n",
        "30   86.0\n",
        "40   104.0\n",
        "50   122.0\n",
        "~~~"
      ],
      "id": "further-poverty"
    },
    {
      "cell_type": "code",
      "metadata": {
        "id": "offensive-fields"
      },
      "source": [
        "# your code here"
      ],
      "id": "offensive-fields",
      "execution_count": null,
      "outputs": []
    },
    {
      "cell_type": "markdown",
      "metadata": {
        "id": "instructional-celebration"
      },
      "source": [
        "<br>\n",
        "\n",
        "---\n",
        "**2.7 앞서 다룬 섭씨온도를 화씨온도로 변환하는 식을 바탕으로 사용자로부터 섭씨온도를 입력받아서 다음과 같이 화씨온도로 출력하시오.**\n",
        ">섭씨온도를 입력하세요 : **30**  \n",
        "섭씨 **30** 도는 화씨 **86.0** 도 입니다.\n"
      ],
      "id": "instructional-celebration"
    },
    {
      "cell_type": "code",
      "metadata": {
        "id": "closing-drawing"
      },
      "source": [
        "# your code here"
      ],
      "id": "closing-drawing",
      "execution_count": null,
      "outputs": []
    },
    {
      "cell_type": "markdown",
      "metadata": {
        "id": "secondary-performer"
      },
      "source": [
        "<br>\n",
        "\n",
        "---\n",
        "**2.8 입력을 10으로 받아서 다음과 같이 10!의 값을 출력하는 코드를 작성하시오.**\n",
        "~~~\n",
        "input : 10  \n",
        "10! = 3628800\n",
        "~~~"
      ],
      "id": "secondary-performer"
    },
    {
      "cell_type": "code",
      "metadata": {
        "id": "graduate-camcorder"
      },
      "source": [
        "# your code here"
      ],
      "id": "graduate-camcorder",
      "execution_count": null,
      "outputs": []
    },
    {
      "cell_type": "markdown",
      "metadata": {
        "id": "elLdvG1ULr9F"
      },
      "source": [
        "<br>\n",
        "\n",
        "---\n",
        "**2.9 사용자로부터 반지름 값을 입력받아서, 이 반지름을 가진 원의 둘레와 면적을 다음과 같이 출력하라. 이 값을 구하기 위하여  $\\pi$ = 3.141592 라는 변수를 사용하시오.**\n",
        "\n",
        "> 원의 반지름을 입력하세요 : **11**\n",
        "원의 둘레 = **69.115024**, 원의 면적 = **380.13263200000006**"
      ],
      "id": "elLdvG1ULr9F"
    },
    {
      "cell_type": "code",
      "metadata": {
        "id": "pgsbReFMMTF1"
      },
      "source": [
        "# your code here"
      ],
      "id": "pgsbReFMMTF1",
      "execution_count": null,
      "outputs": []
    },
    {
      "cell_type": "markdown",
      "metadata": {
        "id": "rEBMbL-gMUh-"
      },
      "source": [
        "<br>\n",
        "\n",
        "---\n",
        "\n",
        "**2.10**\n",
        "> **f-문자열**  \n",
        "파이썬 3.6부터는 %를 사용하는 오래된 C스타일 형식화 문자열보다 더 표현력이 좋은 인터폴레이션(interpolation)을 통한 형식 문자열(짧게 f-문자열 이라고 부름)이 도입됐다. 이 새로운 언어 문법에서는 형식 문자열 앞에 f 문자를 붙여야한다. f-문자열은 형식화 식 안에서 현재 파이썬 영역에서 사용할 수 있는 모든 이름을 자유롭게 참조할 수 있도록 허용함으로써 이런 간결함을 제공한다.\n",
        "다음 코드는 f-문자열의 간단한 예를 보여준다  \n",
        "\n",
        "\n",
        "\n",
        "\n",
        "\n",
        "참고 : 똑똑하게 코딩하는법 파이썬 코딩의기술, 길벗\n",
        "\n"
      ],
      "id": "rEBMbL-gMUh-"
    },
    {
      "cell_type": "code",
      "metadata": {
        "id": "uuFSv3ZwRBY_",
        "colab": {
          "base_uri": "https://localhost:8080/"
        },
        "outputId": "ad420674-ea92-41c7-cf2d-a17ad911fb8c"
      },
      "source": [
        "apple = 4\n",
        "banana = 3\n",
        "cherry = 2\n",
        "\n",
        "print(f\"#1 apple의 개수: {apple}\")\n",
        "print(f\"#2 banana의 개수: {banana}\")\n",
        "print(f\"#3 cherry의 개수: {cherry}\")\n",
        "print(f\"#4 과일의 총 개수: {apple+banana+cherry}\")"
      ],
      "id": "uuFSv3ZwRBY_",
      "execution_count": null,
      "outputs": [
        {
          "output_type": "stream",
          "name": "stdout",
          "text": [
            "#1 apple의 개수: 4\n",
            "#2 banana의 개수: 3\n",
            "#3 cherry의 개수: 2\n",
            "#4 과일의 총 개수: 9\n"
          ]
        }
      ]
    },
    {
      "cell_type": "markdown",
      "metadata": {
        "id": "wbbAOWz7_9Jq"
      },
      "source": [
        "위의 예제를 참고하여 과제1의 1.8에서의 모든 변수를 선언 후, 고도를 입력받아서 공기밀도를 출력하는 코드를 작성하라.\n",
        "\n",
        "~~~\n",
        "Input1 : -\n",
        "input2 : -\n",
        "input3 : -\n",
        "\n",
        "1km : 답1\n",
        "2km : 답2\n",
        "3km : 답3\n",
        "~~~"
      ],
      "id": "wbbAOWz7_9Jq"
    },
    {
      "cell_type": "code",
      "metadata": {
        "id": "mihH2uNPVcoZ"
      },
      "source": [
        "# your code here"
      ],
      "id": "mihH2uNPVcoZ",
      "execution_count": null,
      "outputs": []
    },
    {
      "cell_type": "markdown",
      "metadata": {
        "id": "IA4mGNvgg4NB"
      },
      "source": [
        "<br>\n",
        "\n",
        "---\n",
        "**2.11**\n",
        ">인공 신경망은 수많은 머신 러닝 방법 중 하나이다. 그중 퍼셉트론(Perceptron)은 학습이 가능한 초창기 신경망 모델로 현대적 의미로 보면 아주 원시적인 신경망일 뿐이다. 하지만, 노드, 가중치, 층과 같은 새로운 개념이 도입되었으며, 주어진 데이터가 선형 분리할 수 있다면 미분을 활용한 학습 알고리즘은 반드시 100% 정확률로 수렴한다는 정리가 증명되었다. 퍼셉트론의 구조는 아래의 그림과 같이 아주 단순하며, 퍼셉트론이 동작하는 방식은 다음과 같다. 각 노드의 가중치와 입력치를 곱한 것을 모두 합한 값이 활성함수에 의해 판단되는데, 그 값이 임계치보다 크면 뉴런이 활성화되고 결괏값으로 1을 출력한다. 뉴련이 활성화되지 않으면 결과값으로 -1을 출력한다. 다음 예제는 OR 논리 게이트를 분류 문제로 간주하여 만든 데이터로 퍼셉트론의 동작을 이해한다.  \n",
        "\n",
        "\n",
        "<p align=\"center\">\n",
        "  <img src=\"https://user-images.githubusercontent.com/62292619/132087723-34ebaf9c-8529-44d0-8678-f92fdd43b2f4.png\" alt=\"Sublime's custom image\"/>\n",
        "</p>\n",
        "\n",
        "\n",
        "**2차원 특징 벡터로 표현되는 샘플을 4개 가진 훈련집합** $\\mathbb{X} = \\left\\{\\mathbf{x_1}, \\mathbf{x_2}. \\mathbf{x_3}. \\mathbf{x_4} \\right\\}, \\mathbb{Y} = \\left\\{\\mathbf{y_1}, \\mathbf{y_2}. \\mathbf{y_3}. \\mathbf{y_4} \\right\\}$ **를 생각하자. 다음 그림은 이 데이터를 보여준다.** \n",
        "\n",
        "$\\mathbf{x_1} = {x_{11} \\choose x_{12}} =  {0 \\choose 0}, \\mathbf{y_1} = -1,\\quad\\mathbf{x_2} =  {x_{21} \\choose x_{22}} = {1 \\choose 0}, \\mathbf{y_2} = 1$  \n",
        "\n",
        "$\\mathbf{x_3} = {x_{31} \\choose x_{32}} = {0 \\choose 1}, \\mathbf{y_3} = 1,\\quad\\mathbf{x_4} = {x_{41} \\choose x_{42}} = {1 \\choose 1}, \\mathbf{y_4} = 1$\n",
        "\n",
        "<p align=\"center\">\n",
        "  <img src=\"https://user-images.githubusercontent.com/62292619/132086436-2bc98eaa-3128-4661-8f6c-309c8e4a6340.png\" alt=\"Sublime's custom image\"/>\n",
        "</p>\n",
        "\n",
        "\n",
        "**다음 식은 위 그림을 식으로 표현 한 것이다.** \n",
        "\n",
        "\\begin{equation}\n",
        "\\tag{1}\n",
        "s = -0.5 + x_{n1} * 1.0 + x_{n2}*1.0,\\quad \\tau(s) = -1,1 \n",
        "\\end{equation}\n",
        "\n",
        "\n",
        "**2.11-(1)  위 샘플 4개** $x_1, x_2, x_3, x_4$ **를 하나씩 입력으로 받아서 제대로 분류하는지 확인해본다** \n",
        "\n",
        "**2.11-(2)** $\\mathbb{X}$ **를 100% 정확하게 분류하는 만족하는 식 (1)의 상수를 찾아서 변경한 후, 제대로 분류하는지 확인해본다.**\n",
        "\n",
        "\n",
        "\n",
        "참고 : 기계학습- 오일석 (한빛아카데미)\n"
      ],
      "id": "IA4mGNvgg4NB"
    },
    {
      "cell_type": "code",
      "metadata": {
        "id": "v2ccj6dYhqmf"
      },
      "source": [
        "# your code here"
      ],
      "id": "v2ccj6dYhqmf",
      "execution_count": null,
      "outputs": []
    }
  ]
}