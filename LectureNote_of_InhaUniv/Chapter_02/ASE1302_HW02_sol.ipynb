{
  "nbformat": 4,
  "nbformat_minor": 5,
  "metadata": {
    "hide_input": false,
    "kernelspec": {
      "display_name": "Python 3",
      "language": "python",
      "name": "python3"
    },
    "language_info": {
      "codemirror_mode": {
        "name": "ipython",
        "version": 3
      },
      "file_extension": ".py",
      "mimetype": "text/x-python",
      "name": "python",
      "nbconvert_exporter": "python",
      "pygments_lexer": "ipython3",
      "version": "3.7.3"
    },
    "latex_envs": {
      "LaTeX_envs_menu_present": true,
      "autoclose": true,
      "autocomplete": true,
      "bibliofile": "biblio.bib",
      "cite_by": "apalike",
      "current_citInitial": 1,
      "eqLabelWithNumbers": true,
      "eqNumInitial": 1,
      "hotkeys": {
        "equation": "Ctrl-E",
        "itemize": "Ctrl-I"
      },
      "labels_anchors": false,
      "latex_user_defs": false,
      "report_style_numbering": false,
      "user_envs_cfg": false
    },
    "toc": {
      "base_numbering": 1,
      "nav_menu": {},
      "number_sections": true,
      "sideBar": true,
      "skip_h1_title": false,
      "title_cell": "Table of Contents",
      "title_sidebar": "Contents",
      "toc_cell": false,
      "toc_position": {},
      "toc_section_display": true,
      "toc_window_display": true
    },
    "varInspector": {
      "cols": {
        "lenName": 16,
        "lenType": 16,
        "lenVar": 40
      },
      "kernels_config": {
        "python": {
          "delete_cmd_postfix": "",
          "delete_cmd_prefix": "del ",
          "library": "var_list.py",
          "varRefreshCmd": "print(var_dic_list())"
        },
        "r": {
          "delete_cmd_postfix": ") ",
          "delete_cmd_prefix": "rm(",
          "library": "var_list.r",
          "varRefreshCmd": "cat(var_dic_list()) "
        }
      },
      "types_to_exclude": [
        "module",
        "function",
        "builtin_function_or_method",
        "instance",
        "_Feature"
      ],
      "window_display": false
    },
    "colab": {
      "name": "ASE1302_HW02_sol.ipynb",
      "provenance": []
    }
  },
  "cells": [
    {
      "cell_type": "markdown",
      "metadata": {
        "id": "figured-terrorist"
      },
      "source": [
        "# ASE1302 - Assignment \\#02"
      ],
      "id": "figured-terrorist"
    },
    {
      "cell_type": "markdown",
      "metadata": {
        "id": "28spi2TbEnmZ"
      },
      "source": [
        "__<div style=\"text-align: right\"> ASE1302: Computer programming, Inha University. </div>__\n",
        "_<div style=\"text-align: right\"> Jong-Han Kim (jonghank@inha.ac.kr) </div>_\n",
        "_<div style=\"text-align: right\"> Ho-Young Jeon (hy13776@inha.edu) </div>_\n",
        "\n"
      ],
      "id": "28spi2TbEnmZ"
    },
    {
      "cell_type": "markdown",
      "metadata": {
        "id": "valued-holly"
      },
      "source": [
        "<br>\n",
        "\n",
        "---\n",
        "**2.1 연습문제의 첫 줄에는 100과 200의 합을 출력하기 위한 방법을 보여주고 있다.  print() 함수와 + 연산을 이용하여 200, 300, 400의 합을 결과와 같이 화면에 출력해보자. 이때 print() 함수 내부에 들어갈 알맞은 값을 적으시오.**"
      ],
      "id": "valued-holly"
    },
    {
      "cell_type": "code",
      "metadata": {
        "ExecuteTime": {
          "end_time": "2021-09-01T05:52:36.566046Z",
          "start_time": "2021-09-01T05:52:36.559106Z"
        },
        "colab": {
          "base_uri": "https://localhost:8080/"
        },
        "id": "senior-revision",
        "outputId": "1213c503-89c3-437f-ac71-780b8a033a2c"
      },
      "source": [
        "print( 100,'+', 200, '=', 100 + 200)"
      ],
      "id": "senior-revision",
      "execution_count": null,
      "outputs": [
        {
          "output_type": "stream",
          "name": "stdout",
          "text": [
            "100 + 200 = 300\n"
          ]
        }
      ]
    },
    {
      "cell_type": "code",
      "metadata": {
        "id": "B1xQviKlHi90",
        "colab": {
          "base_uri": "https://localhost:8080/"
        },
        "outputId": "bde873be-9f2e-4468-db9c-3e1f3741a5d7"
      },
      "source": [
        "# 2.1 solution\n",
        "print(200, '+', 300, '+', 400, '=', 200 + 300 + 400)"
      ],
      "id": "B1xQviKlHi90",
      "execution_count": null,
      "outputs": [
        {
          "output_type": "stream",
          "name": "stdout",
          "text": [
            "200 + 300 + 400 = 900\n"
          ]
        }
      ]
    },
    {
      "cell_type": "markdown",
      "metadata": {
        "id": "blond-tourist"
      },
      "source": [
        "<br>\n",
        "\n",
        "---\n",
        "**2.2 width(너비) 변수에는 30, height(높이) 변수에는 60 값이 출력되도록 하시오.**  \n",
        " ~~~\n",
        " print(width)  \n",
        " print(height)\n",
        " ~~~"
      ],
      "id": "blond-tourist"
    },
    {
      "cell_type": "code",
      "metadata": {
        "id": "accessible-uganda",
        "colab": {
          "base_uri": "https://localhost:8080/"
        },
        "outputId": "f643fbb5-6e6d-4f96-c294-5cff75f7f9ac"
      },
      "source": [
        "# 2.2 solution\n",
        "width = 30\n",
        "height = 60\n",
        "print(f\"width : {width}\\nheight: {height}\")"
      ],
      "id": "accessible-uganda",
      "execution_count": null,
      "outputs": [
        {
          "output_type": "stream",
          "name": "stdout",
          "text": [
            "width : 30\n",
            "height: 60\n"
          ]
        }
      ]
    },
    {
      "cell_type": "markdown",
      "metadata": {
        "id": "accessory-ordinary"
      },
      "source": [
        "<br>\n",
        "\n",
        "---\n",
        "**2.3 위의 코드에서 width와 height 변수를 두개의 줄에 걸쳐 선언하지 말고 한 줄에 할당하는 동시 할당문을 사용하여 width(너비) 변수에는 30, height(높이) 변수에는 60 값이 출력되도록 하시오.**"
      ],
      "id": "accessory-ordinary"
    },
    {
      "cell_type": "code",
      "metadata": {
        "id": "extensive-blast",
        "colab": {
          "base_uri": "https://localhost:8080/"
        },
        "outputId": "4ea47faf-7869-4641-b2a2-4014dfaeee0d"
      },
      "source": [
        "# 2.3 solution\n",
        "width, height = 30, 60\n",
        "print(f\"width : {width}\\nheight: {height}\")"
      ],
      "id": "extensive-blast",
      "execution_count": null,
      "outputs": [
        {
          "output_type": "stream",
          "name": "stdout",
          "text": [
            "width : 30\n",
            "height: 60\n"
          ]
        }
      ]
    },
    {
      "cell_type": "markdown",
      "metadata": {
        "id": "operating-interest"
      },
      "source": [
        "<br>\n",
        "\n",
        "---\n",
        "**2.4 width와 height라는 변수에 각각 40, 20 값을 할당한 후 이 두변수를 이용하여 곱셈 연산자를 적용한 후 다음과 같이 삼각형의 면적(area)을 구하는 프로그램을 작성하시오.**\n",
        "~~~\n",
        "삼각형의 면적 : 400.0  \n",
        "~~~"
      ],
      "id": "operating-interest"
    },
    {
      "cell_type": "code",
      "metadata": {
        "id": "distributed-travel",
        "colab": {
          "base_uri": "https://localhost:8080/"
        },
        "outputId": "a7968609-8020-4372-f535-11e878a64e3c"
      },
      "source": [
        "# 2.4 solution\n",
        "\n",
        "width, height = 40, 20\n",
        "area = width*height/2\n",
        "print(f\"area : {area}\")"
      ],
      "id": "distributed-travel",
      "execution_count": null,
      "outputs": [
        {
          "output_type": "stream",
          "name": "stdout",
          "text": [
            "area : 400.0\n"
          ]
        }
      ]
    },
    {
      "cell_type": "markdown",
      "metadata": {
        "id": "graduate-surgeon"
      },
      "source": [
        "<br>\n",
        "\n",
        "---\n",
        "**2.5 정사각형의 면적을 구하기 위하여 사용자로부터 밑변의 길이를 정수로 입력받아서 다음과 같이 출력하시오(힌트 : 정수값 입력을 받기 위하여 int(input(\"정사각형의 밑변을 입력하시오 : \")) 를 사용함).**  \n",
        "~~~\n",
        "정사각형의 밑변을 입력하시오 : 40  \n",
        "정사각형의 면적 : 1600\n",
        "~~~"
      ],
      "id": "graduate-surgeon"
    },
    {
      "cell_type": "code",
      "metadata": {
        "id": "present-parker",
        "colab": {
          "base_uri": "https://localhost:8080/"
        },
        "outputId": "acf237da-dcc5-4288-fd1e-e51b708b2521"
      },
      "source": [
        "# 2.5 solution\n",
        "base = int(input(\"정사각형의 밑변을 입력하시오 : \"))\n",
        "print(f\"정사각형의 면적 : {base**2}\")"
      ],
      "id": "present-parker",
      "execution_count": null,
      "outputs": [
        {
          "output_type": "stream",
          "name": "stdout",
          "text": [
            "정사각형의 밑변을 입력하시오 : 30\n",
            "정사각형의 면적 : 900\n"
          ]
        }
      ]
    },
    {
      "cell_type": "markdown",
      "metadata": {
        "id": "further-poverty"
      },
      "source": [
        "<br>\n",
        "\n",
        "---\n",
        "**2.6 섭씨(celsius)를 화씨온도(fahrenheit)로 변환하는 식은 다음과 같다.**\n",
        "> fahrenheit = (9/5) * celsius + 32  \n",
        "\n",
        "**이 식을 바탕으로 섭씨온도를 0도에서 50도까지 10도 단위로 증가시키면서 이에 해당하는 화씨온도를 다음과 같이 출력하는 코드를 작성하시오.**\n",
        "\n",
        "~~~\n",
        "섭씨 화씨\n",
        "0    32.0\n",
        "10   50.0\n",
        "20   68.0\n",
        "30   86.0\n",
        "40   104.0\n",
        "50   122.0\n",
        "~~~"
      ],
      "id": "further-poverty"
    },
    {
      "cell_type": "code",
      "metadata": {
        "id": "offensive-fields",
        "colab": {
          "base_uri": "https://localhost:8080/"
        },
        "outputId": "8d850b6d-b35d-4765-f8da-f57045da41fc"
      },
      "source": [
        "# 2.6 solution\n",
        "# 학생들은 for문을 안쓰고 작성해도 상관없음.\n",
        "print(\"섭씨 화씨\")\n",
        "cel = 0\n",
        "for i in range(6):\n",
        "  fah = 9/5*cel + 32\n",
        "  cel += 10\n",
        "  print(cel,\" \",fah)"
      ],
      "id": "offensive-fields",
      "execution_count": null,
      "outputs": [
        {
          "output_type": "stream",
          "name": "stdout",
          "text": [
            "섭씨 화씨\n",
            "10   32.0\n",
            "20   50.0\n",
            "30   68.0\n",
            "40   86.0\n",
            "50   104.0\n",
            "60   122.0\n"
          ]
        }
      ]
    },
    {
      "cell_type": "markdown",
      "metadata": {
        "id": "instructional-celebration"
      },
      "source": [
        "<br>\n",
        "\n",
        "---\n",
        "**2.7 앞서 다룬 섭씨온도를 화씨온도로 변환하는 식을 바탕으로 사용자로부터 섭씨온도를 입력받아서 다음과 같이 화씨온도로 출력하시오.**\n",
        ">섭씨온도를 입력하세요 : **30**  \n",
        "섭씨 **30** 도는 화씨 **86.0** 도 입니다.\n"
      ],
      "id": "instructional-celebration"
    },
    {
      "cell_type": "code",
      "metadata": {
        "id": "closing-drawing",
        "colab": {
          "base_uri": "https://localhost:8080/"
        },
        "outputId": "9f2ccee2-5635-4bc2-a030-56ef2e48ee1f"
      },
      "source": [
        "# 2.7 solution\n",
        "cel = int(input(\"섭씨온도를 입력하세요 : \"))\n",
        "fah = fah = 9/5*cel + 32\n",
        "print(f\"섭씨 {cel}도는 화씨 {fah}도 입니다.\")"
      ],
      "id": "closing-drawing",
      "execution_count": null,
      "outputs": [
        {
          "output_type": "stream",
          "name": "stdout",
          "text": [
            "섭씨온도를 입력하세요 : 30\n",
            "섭씨 30도는 화씨 86.0도 입니다.\n"
          ]
        }
      ]
    },
    {
      "cell_type": "markdown",
      "metadata": {
        "id": "secondary-performer"
      },
      "source": [
        "<br>\n",
        "\n",
        "---\n",
        "**2.8 입력을 10으로 받아서 다음과 같이 10!의 값을 출력하는 코드를 작성하시오.**\n",
        "~~~\n",
        "input : 10  \n",
        "10! = 3628800\n",
        "~~~"
      ],
      "id": "secondary-performer"
    },
    {
      "cell_type": "code",
      "metadata": {
        "colab": {
          "base_uri": "https://localhost:8080/"
        },
        "id": "spcqZrreiczP",
        "outputId": "ced02bd1-6a34-4e7c-df4a-cc2329e6f157"
      },
      "source": [
        "# 2.8 solution\n",
        "# 학생들은 직접 10! 값을 모두 작성해도 상관없음.\n",
        "import math\n",
        "num = int(input(\"input : \"))\n",
        "print(f\"10! = {math.factorial(num)}\")"
      ],
      "id": "spcqZrreiczP",
      "execution_count": null,
      "outputs": [
        {
          "output_type": "stream",
          "name": "stdout",
          "text": [
            "input : 10\n",
            "10! = 3628800\n"
          ]
        }
      ]
    },
    {
      "cell_type": "markdown",
      "metadata": {
        "id": "elLdvG1ULr9F"
      },
      "source": [
        "<br>\n",
        "\n",
        "---\n",
        "**2.9 사용자로부터 반지름 값을 입력받아서, 이 반지름을 가진 원의 둘레와 면적을 다음과 같이 출력하라. 이 값을 구하기 위하여  $\\pi$ = 3.141592 라는 변수를 사용하시오.**\n",
        "\n",
        "> 원의 반지름을 입력하세요 : **11**\n",
        "원의 둘레 = **69.115024**, 원의 면적 = **380.13263200000006**"
      ],
      "id": "elLdvG1ULr9F"
    },
    {
      "cell_type": "code",
      "metadata": {
        "id": "pgsbReFMMTF1",
        "colab": {
          "base_uri": "https://localhost:8080/"
        },
        "outputId": "cd802ade-e3a7-4857-d20e-0e923d0c6338"
      },
      "source": [
        "# 2.9 solution\n",
        "# 학생들은 pi 값을 직접 작성해도 상관없음\n",
        "import math\n",
        "radias = int(input(\"원의 반지름을 입력하세요 : \"))\n",
        "print(f\"원의 둘레 = {2*math.pi*radias}, 원의 면적 = {math.pi*radias**2}\")"
      ],
      "id": "pgsbReFMMTF1",
      "execution_count": null,
      "outputs": [
        {
          "output_type": "stream",
          "name": "stdout",
          "text": [
            "원의 반지름을 입력하세요 : 30\n",
            "원의 둘레 = 188.49555921538757, 원의 면적 = 2827.4333882308138\n"
          ]
        }
      ]
    },
    {
      "cell_type": "markdown",
      "metadata": {
        "id": "rEBMbL-gMUh-"
      },
      "source": [
        "<br>\n",
        "\n",
        "---\n",
        "\n",
        "**2.10**\n",
        "> **f-문자열**  \n",
        "파이썬 3.6부터는 %를 사용하는 오래된 C스타일 형식화 문자열보다 더 표현력이 좋은 인터폴레이션(interpolation)을 통한 형식 문자열(짧게 f-문자열 이라고 부름)이 도입됐다. 이 새로운 언어 문법에서는 형식 문자열 앞에 f 문자를 붙여야한다. f-문자열은 형식화 식 안에서 현재 파이썬 영역에서 사용할 수 있는 모든 이름을 자유롭게 참조할 수 있도록 허용함으로써 이런 간결함을 제공한다.\n",
        "다음 코드는 f-문자열의 간단한 예를 보여준다  \n",
        "\n",
        "\n",
        "\n",
        "\n",
        "\n",
        "참고 : 똑똑하게 코딩하는법 파이썬 코딩의기술, 길벗\n",
        "\n"
      ],
      "id": "rEBMbL-gMUh-"
    },
    {
      "cell_type": "code",
      "metadata": {
        "id": "uuFSv3ZwRBY_",
        "colab": {
          "base_uri": "https://localhost:8080/"
        },
        "outputId": "ad420674-ea92-41c7-cf2d-a17ad911fb8c"
      },
      "source": [
        "apple = 4\n",
        "banana = 3\n",
        "cherry = 2\n",
        "\n",
        "print(f\"#1 apple의 개수: {apple}\")\n",
        "print(f\"#2 banana의 개수: {banana}\")\n",
        "print(f\"#3 cherry의 개수: {cherry}\")\n",
        "print(f\"#4 과일의 총 개수: {apple+banana+cherry}\")"
      ],
      "id": "uuFSv3ZwRBY_",
      "execution_count": null,
      "outputs": [
        {
          "output_type": "stream",
          "name": "stdout",
          "text": [
            "#1 apple의 개수: 4\n",
            "#2 banana의 개수: 3\n",
            "#3 cherry의 개수: 2\n",
            "#4 과일의 총 개수: 9\n"
          ]
        }
      ]
    },
    {
      "cell_type": "markdown",
      "metadata": {
        "id": "wbbAOWz7_9Jq"
      },
      "source": [
        "위의 예제를 참고하여 과제1의 1.8에서의 모든 변수를 선언 후, 고도를 입력받아서 공기밀도를 출력하는 코드를 작성하라.\n",
        "\n",
        "~~~\n",
        "Input1 : -\n",
        "input2 : -\n",
        "input3 : -\n",
        "\n",
        "1km : 답1\n",
        "2km : 답2\n",
        "3km : 답3\n",
        "~~~"
      ],
      "id": "wbbAOWz7_9Jq"
    },
    {
      "cell_type": "markdown",
      "metadata": {
        "id": "856yCo0BmlCu"
      },
      "source": [],
      "id": "856yCo0BmlCu"
    },
    {
      "cell_type": "code",
      "metadata": {
        "id": "mihH2uNPVcoZ",
        "colab": {
          "base_uri": "https://localhost:8080/"
        },
        "outputId": "1cd9be86-c0f4-4382-907b-52fd3924451e"
      },
      "source": [
        "# 2.10 solution\n",
        "# 학생들은 함수를 사용하지 않아도 상관없음.\n",
        "def cal_rho(alt):\n",
        "  p_0 = 101325 \n",
        "  T_0 = 288.15\n",
        "  g = 9.80665\n",
        "  L = 0.0065\n",
        "  R = 8.31446\n",
        "  M = 0.0289652\n",
        "  return p_0*M/(R*T_0)*(1-L*alt/T_0)**(g*M/(R*L)-1)\n",
        "\n",
        "alt1 = int(input(\"Input1 : \"))\n",
        "alt2 = int(input(\"Input2 : \"))\n",
        "alt3 = int(input(\"input3 : \"))\n",
        "rho1 = cal_rho(alt1)\n",
        "rho2 = cal_rho(alt2)\n",
        "rho3 = cal_rho(alt3)\n",
        "\n",
        "print(f\"1km : {rho1} \\n2km : {rho2}\\n3km : {rho3}\")"
      ],
      "id": "mihH2uNPVcoZ",
      "execution_count": null,
      "outputs": [
        {
          "output_type": "stream",
          "name": "stdout",
          "text": [
            "Input1 : 1\n",
            "Input2 : 2\n",
            "input3 : 3\n",
            "1km : 1.2248947614192756 \n",
            "2km : 1.2247771682439537\n",
            "3km : 1.2246595837054925\n"
          ]
        }
      ]
    },
    {
      "cell_type": "markdown",
      "metadata": {
        "id": "IA4mGNvgg4NB"
      },
      "source": [
        "<br>\n",
        "\n",
        "---\n",
        "**2.11**\n",
        ">인공 신경망은 수많은 머신 러닝 방법 중 하나이다. 그중 퍼셉트론(Perceptron)은 학습이 가능한 초창기 신경망 모델로 현대적 의미로 보면 아주 원시적인 신경망일 뿐이다. 하지만, 노드, 가중치, 층과 같은 새로운 개념이 도입되었으며, 주어진 데이터가 선형 분리할 수 있다면 미분을 활용한 학습 알고리즘은 반드시 100% 정확률로 수렴한다는 정리가 증명되었다. 퍼셉트론의 구조는 아래의 그림과 같이 아주 단순하며, 퍼셉트론이 동작하는 방식은 다음과 같다. 각 노드의 가중치와 입력치를 곱한 것을 모두 합한 값이 활성함수에 의해 판단되는데, 그 값이 임계치보다 크면 뉴런이 활성화되고 결괏값으로 1을 출력한다. 뉴련이 활성화되지 않으면 결과값으로 -1을 출력한다. 다음 예제는 OR 논리 게이트를 분류 문제로 간주하여 만든 데이터로 퍼셉트론의 동작을 이해한다.  \n",
        "\n",
        "\n",
        "<p align=\"center\">\n",
        "  <img src=\"https://user-images.githubusercontent.com/62292619/132087723-34ebaf9c-8529-44d0-8678-f92fdd43b2f4.png\" alt=\"Sublime's custom image\"/>\n",
        "</p>\n",
        "\n",
        "\n",
        "**2차원 특징 벡터로 표현되는 샘플을 4개 가진 훈련집합** $\\mathbb{X} = \\left\\{\\mathbf{x_1}, \\mathbf{x_2}. \\mathbf{x_3}. \\mathbf{x_4} \\right\\}, \\mathbb{Y} = \\left\\{\\mathbf{y_1}, \\mathbf{y_2}. \\mathbf{y_3}. \\mathbf{y_4} \\right\\}$ **를 생각하자. 다음 그림은 이 데이터를 보여준다.** \n",
        "\n",
        "$\\mathbf{x_1} = {x_{11} \\choose x_{12}} =  {0 \\choose 0}, \\mathbf{y_1} = -1,\\quad\\mathbf{x_2} =  {x_{21} \\choose x_{22}} = {1 \\choose 0}, \\mathbf{y_2} = 1$  \n",
        "\n",
        "$\\mathbf{x_3} = {x_{31} \\choose x_{32}} = {0 \\choose 1}, \\mathbf{y_3} = 1,\\quad\\mathbf{x_4} = {x_{41} \\choose x_{42}} = {1 \\choose 1}, \\mathbf{y_4} = 1$\n",
        "\n",
        "<p align=\"center\">\n",
        "  <img src=\"https://user-images.githubusercontent.com/62292619/132086436-2bc98eaa-3128-4661-8f6c-309c8e4a6340.png\" alt=\"Sublime's custom image\"/>\n",
        "</p>\n",
        "\n",
        "\n",
        "**다음 식은 위 그림을 식으로 표현 한 것이다.** \n",
        "\n",
        "\\begin{equation}\n",
        "\\tag{1}\n",
        "s = -0.5 + x_{n1} * 1.0 + x_{n2}*1.0,\\quad \\tau(s) = -1,1 \n",
        "\\end{equation}\n",
        "\n",
        "\n",
        "**2.11-(1)  위 샘플 4개** $x_1, x_2, x_3, x_4$ **를 하나씩 입력으로 받아서 제대로 분류하는지 확인해본다** \n",
        "\n",
        "**2.11-(2)** $\\mathbb{X}$ **를 100% 정확하게 분류하는 만족하는 식 (1)의 상수를 찾아서 변경한 후, 제대로 분류하는지 확인해본다.**\n",
        "\n",
        "\n",
        "\n",
        "참고 : 기계학습- 오일석 (한빛아카데미)\n"
      ],
      "id": "IA4mGNvgg4NB"
    },
    {
      "cell_type": "code",
      "metadata": {
        "id": "v2ccj6dYhqmf",
        "colab": {
          "base_uri": "https://localhost:8080/"
        },
        "outputId": "c95e800d-8ac4-4922-e794-dca38ee5fa0d"
      },
      "source": [
        "# 2.10 solution\n",
        "# 활성함수는 생략함.\n",
        "# 학생들은 함수를 사용하지않아도 상관없음.\n",
        "def or_gate(x1, x2):\n",
        "  s = -0.5 + x1*1 + x2*1\n",
        "  return s\n",
        "def or_gate2(x1, x2):\n",
        "  s = -0.2 + x1*0.5 + x2*1\n",
        "  return s\n",
        "\n",
        "x_11 ,x_12 = 0, 0\n",
        "x_21, x_22 = 1, 0\n",
        "x_31, x_32 = 0, 1\n",
        "x_41, x_42 = 1, 1\n",
        "\n",
        "s1 = or_gate(x_11,x_12)\n",
        "s2 = or_gate(x_21, x_22)\n",
        "s3 = or_gate(x_31, x_32)\n",
        "s4 = or_gate(x_41, x_42)\n",
        "\n",
        "print(\"2.11-(1) : \", s1, s2, s3, s4)\n",
        "\n",
        "s1_2 = or_gate2(x_11,x_12)\n",
        "s2_2 = or_gate2(x_21, x_22)\n",
        "s3_2 = or_gate2(x_31, x_32)\n",
        "s4_2 = or_gate2(x_41, x_42)\n",
        "\n",
        "print(\"2.11-(2) : \", s1_2, s2_2, s3_2, s4_2)"
      ],
      "id": "v2ccj6dYhqmf",
      "execution_count": null,
      "outputs": [
        {
          "output_type": "stream",
          "name": "stdout",
          "text": [
            "2.11-(1) :  -0.5 0.5 0.5 1.5\n",
            "2.11-(2) :  -0.2 0.3 0.8 1.3\n"
          ]
        }
      ]
    },
    {
      "cell_type": "code",
      "metadata": {
        "id": "En3mzMmw3fnl"
      },
      "source": [],
      "id": "En3mzMmw3fnl",
      "execution_count": null,
      "outputs": []
    }
  ]
}